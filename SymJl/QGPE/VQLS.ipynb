{
 "cells": [
  {
   "cell_type": "code",
   "execution_count": 1,
   "metadata": {},
   "outputs": [],
   "source": [
    "using Symbolics"
   ]
  },
  {
   "cell_type": "code",
   "execution_count": 2,
   "metadata": {},
   "outputs": [
    {
     "data": {
      "text/plain": [
       "pauli_z (generic function with 1 method)"
      ]
     },
     "execution_count": 2,
     "metadata": {},
     "output_type": "execute_result"
    }
   ],
   "source": [
    "function pauli_x(_tmp)\n",
    "    _00 = Symbol(\"X_00_\", \"$_tmp\")\n",
    "    _01 = Symbol(\"X_01_\", \"$_tmp\")\n",
    "    _10 = Symbol(\"X_10_\", \"$_tmp\")\n",
    "    _11 = Symbol(\"X_11_\", \"$_tmp\")\n",
    "    \n",
    "    #transpose(reshape((Symbolics.@variables $_00::Complex $_01::Complex $_10::Complex $_11::Complex ),2,2))\n",
    "    _00 = @variables $_00::Complex\n",
    "    _01 = @variables $_01::Complex\n",
    "    _10 = @variables $_10::Complex\n",
    "    _11 = @variables $_11::Complex\n",
    "    return [_00 _01;_10 _11]\n",
    "    \n",
    "    #Symbolics.@variables X_\"00__tmp\"replace(\"_tmp\", _tmp)::Complex X_01_tmp::Complex X_10_tmp::Complex X_11_tmp::Complex\n",
    "    #return [X_00_tmp X_01_tmp; X_10_tmp X_11_tmp]\n",
    "end\n",
    "function pauli_y()\n",
    "    _00 = Symbol(\"Y_00_\", \"$_tmp\")\n",
    "    _01 = Symbol(\"Y_01_\", \"$_tmp\")\n",
    "    _10 = Symbol(\"Y_10_\", \"$_tmp\")\n",
    "    _11 = Symbol(\"Y_11_\", \"$_tmp\")\n",
    "    \n",
    "    #transpose(reshape((Symbolics.@variables $_00::Complex $_01::Complex $_10::Complex $_11::Complex ),2,2))\n",
    "    _00 = @variables $_00::Complex\n",
    "    _01 = @variables $_01::Complex\n",
    "    _10 = @variables $_10::Complex\n",
    "    _11 = @variables $_11::Complex\n",
    "    return [_00 _01;_10 _11]\n",
    "end\n",
    "function pauli_z()\n",
    "    _00 = Symbol(\"Z_00_\", \"$_tmp\")\n",
    "    _01 = Symbol(\"Z_01_\", \"$_tmp\")\n",
    "    _10 = Symbol(\"Z_10_\", \"$_tmp\")\n",
    "    _11 = Symbol(\"Z_11_\", \"$_tmp\")\n",
    "    \n",
    "    #transpose(reshape((Symbolics.@variables $_00::Complex $_01::Complex $_10::Complex $_11::Complex ),2,2))\n",
    "    _00 = @variables $_00::Complex\n",
    "    _01 = @variables $_01::Complex\n",
    "    _10 = @variables $_10::Complex\n",
    "    _11 = @variables $_11::Complex\n",
    "    return [_00 _01;_10 _11]\n",
    "end"
   ]
  },
  {
   "cell_type": "code",
   "execution_count": 3,
   "metadata": {},
   "outputs": [
    {
     "data": {
      "text/latex": [
       "$$ \\begin{equation}\n",
       "\\left[\n",
       "\\begin{array}{c}\n",
       "\\mathrm{real}\\left( \\mathtt{phi_{1}} \\right) + \\mathrm{imag}\\left( \\mathtt{phi_{1}} \\right) \\mathit{i} \\\\\n",
       "\\mathrm{real}\\left( \\mathtt{phi_{2}} \\right) + \\mathrm{imag}\\left( \\mathtt{phi_{2}} \\right) \\mathit{i} \\\\\n",
       "\\end{array}\n",
       "\\right]\n",
       "\\end{equation}\n",
       " $$"
      ],
      "text/plain": [
       "2-element Vector{Complex{Num}}:\n",
       " phi_1\n",
       " phi_2"
      ]
     },
     "execution_count": 3,
     "metadata": {},
     "output_type": "execute_result"
    }
   ],
   "source": [
    "phi = @variables phi_1::Complex phi_2::Complex\n",
    "phi = [phi_1; phi_2]"
   ]
  },
  {
   "cell_type": "code",
   "execution_count": 4,
   "metadata": {},
   "outputs": [
    {
     "data": {
      "text/latex": [
       "$$ \\begin{equation}\n",
       "\\left[\n",
       "\\begin{array}{c}\n",
       " - \\mathrm{imag}\\left( \\mathtt{phi_{1}} \\right) \\mathrm{imag}\\left( \\mathtt{X_{00\\_A}} \\right) + \\mathrm{real}\\left( \\mathtt{X_{01\\_A}} \\right) \\mathrm{real}\\left( \\mathtt{phi_{2}} \\right) + \\mathrm{real}\\left( \\mathtt{X_{00\\_A}} \\right) \\mathrm{real}\\left( \\mathtt{phi_{1}} \\right) - \\mathrm{imag}\\left( \\mathtt{X_{01\\_A}} \\right) \\mathrm{imag}\\left( \\mathtt{phi_{2}} \\right) + \\left( \\mathrm{imag}\\left( \\mathtt{phi_{1}} \\right) \\mathrm{real}\\left( \\mathtt{X_{00\\_A}} \\right) + \\mathrm{real}\\left( \\mathtt{X_{01\\_A}} \\right) \\mathrm{imag}\\left( \\mathtt{phi_{2}} \\right) + \\mathrm{real}\\left( \\mathtt{phi_{2}} \\right) \\mathrm{imag}\\left( \\mathtt{X_{01\\_A}} \\right) + \\mathrm{real}\\left( \\mathtt{phi_{1}} \\right) \\mathrm{imag}\\left( \\mathtt{X_{00\\_A}} \\right) \\right) \\mathit{i} \\\\\n",
       " - \\mathrm{imag}\\left( \\mathtt{phi_{1}} \\right) \\mathrm{imag}\\left( \\mathtt{X_{10\\_A}} \\right) + \\mathrm{real}\\left( \\mathtt{phi_{2}} \\right) \\mathrm{real}\\left( \\mathtt{X_{11\\_A}} \\right) + \\mathrm{real}\\left( \\mathtt{phi_{1}} \\right) \\mathrm{real}\\left( \\mathtt{X_{10\\_A}} \\right) - \\mathrm{imag}\\left( \\mathtt{X_{11\\_A}} \\right) \\mathrm{imag}\\left( \\mathtt{phi_{2}} \\right) + \\left( \\mathrm{imag}\\left( \\mathtt{phi_{1}} \\right) \\mathrm{real}\\left( \\mathtt{X_{10\\_A}} \\right) + \\mathrm{real}\\left( \\mathtt{phi_{2}} \\right) \\mathrm{imag}\\left( \\mathtt{X_{11\\_A}} \\right) + \\mathrm{real}\\left( \\mathtt{phi_{1}} \\right) \\mathrm{imag}\\left( \\mathtt{X_{10\\_A}} \\right) + \\mathrm{real}\\left( \\mathtt{X_{11\\_A}} \\right) \\mathrm{imag}\\left( \\mathtt{phi_{2}} \\right) \\right) \\mathit{i} \\\\\n",
       "\\end{array}\n",
       "\\right]\n",
       "\\end{equation}\n",
       " $$"
      ],
      "text/plain": [
       "2-element Vector{Complex{Num}}:\n",
       " -imag(phi_1)*imag(X_00_A) + real(X_01_A)*real(phi_2) + real(X_00_A)*real(phi_1) - imag(X_01_A)*imag(phi_2) + im*(imag(phi_1)*real(X_00_A) + real(X_01_A)*imag(phi_2) + real(phi_2)*imag(X_01_A) + real(phi_1)*imag(X_00_A))\n",
       " -imag(phi_1)*imag(X_10_A) + real(phi_2)*real(X_11_A) + real(phi_1)*real(X_10_A) - imag(X_11_A)*imag(phi_2) + im*(imag(phi_1)*real(X_10_A) + real(phi_2)*imag(X_11_A) + real(phi_1)*imag(X_10_A) + real(X_11_A)*imag(phi_2))"
      ]
     },
     "execution_count": 4,
     "metadata": {},
     "output_type": "execute_result"
    }
   ],
   "source": [
    "theta = pauli_x(:A)*phi"
   ]
  },
  {
   "cell_type": "code",
   "execution_count": 7,
   "metadata": {},
   "outputs": [
    {
     "data": {
      "text/latex": [
       "$$ \\begin{equation}\n",
       "\\left[\n",
       "\\begin{array}{c}\n",
       "\\mathrm{real}\\left( \\mathtt{phi_{1}} \\right) + \\mathrm{imag}\\left( \\mathtt{phi_{1}} \\right) \\mathit{i} \\\\\n",
       "\\mathrm{real}\\left( \\mathtt{phi_{2}} \\right) + \\mathrm{imag}\\left( \\mathtt{phi_{2}} \\right) \\mathit{i} \\\\\n",
       "\\end{array}\n",
       "\\right]\n",
       "\\end{equation}\n",
       " $$"
      ],
      "text/plain": [
       "2-element Vector{Complex{Num}}:\n",
       " phi_1\n",
       " phi_2"
      ]
     },
     "execution_count": 7,
     "metadata": {},
     "output_type": "execute_result"
    }
   ],
   "source": [
    "substitute(phi, Dict([phi[1] => 0, phi_2 => 1]))"
   ]
  },
  {
   "cell_type": "code",
   "execution_count": 8,
   "metadata": {},
   "outputs": [
    {
     "data": {
      "text/latex": [
       "$$ \\begin{equation}\n",
       "\\left[\n",
       "\\begin{array}{c}\n",
       "\\mathrm{real}\\left( \\mathtt{phi_{1}} \\right) + \\mathrm{imag}\\left( \\mathtt{phi_{1}} \\right) \\mathit{i} \\\\\n",
       "\\mathrm{real}\\left( \\mathtt{phi_{2}} \\right) + \\mathrm{imag}\\left( \\mathtt{phi_{2}} \\right) \\mathit{i} \\\\\n",
       "\\end{array}\n",
       "\\right]\n",
       "\\end{equation}\n",
       " $$"
      ],
      "text/plain": [
       "2-element Vector{Complex{Num}}:\n",
       " phi_1\n",
       " phi_2"
      ]
     },
     "execution_count": 8,
     "metadata": {},
     "output_type": "execute_result"
    }
   ],
   "source": [
    "substitute(phi, phi_1.re=>0)"
   ]
  },
  {
   "cell_type": "code",
   "execution_count": 9,
   "metadata": {},
   "outputs": [
    {
     "ename": "LoadError",
     "evalue": "UndefVarError: `fixpoint_sub` not defined in `Main`\nSuggestion: check for spelling errors or missing imports.",
     "output_type": "error",
     "traceback": [
      "UndefVarError: `fixpoint_sub` not defined in `Main`\nSuggestion: check for spelling errors or missing imports.",
      "",
      "Stacktrace:",
      " [1] top-level scope",
      "   @ In[9]:1"
     ]
    }
   ],
   "source": [
    "fixpoint_sub(phi, phi_1.re=>0)"
   ]
  },
  {
   "cell_type": "code",
   "execution_count": 10,
   "metadata": {},
   "outputs": [
    {
     "data": {
      "text/latex": [
       "$$ \\begin{equation}\n",
       "\\mathrm{real}\\left( \\mathtt{X_{01\\_A}} \\right) \\mathrm{real}\\left( \\mathtt{phi_{2}} \\right) - \\mathrm{imag}\\left( \\mathtt{X_{01\\_A}} \\right) \\mathrm{imag}\\left( \\mathtt{phi_{2}} \\right) + \\left( \\mathrm{real}\\left( \\mathtt{X_{01\\_A}} \\right) \\mathrm{imag}\\left( \\mathtt{phi_{2}} \\right) + \\mathrm{real}\\left( \\mathtt{phi_{2}} \\right) \\mathrm{imag}\\left( \\mathtt{X_{01\\_A}} \\right) \\right) \\mathit{i}\n",
       "\\end{equation}\n",
       " $$"
      ],
      "text/plain": [
       "real(X_01_A)*real(phi_2) - imag(X_01_A)*imag(phi_2) + im*(real(X_01_A)*imag(phi_2) + real(phi_2)*imag(X_01_A))"
      ]
     },
     "execution_count": 10,
     "metadata": {},
     "output_type": "execute_result"
    }
   ],
   "source": [
    "substitute(theta[1], Dict([phi_1.im => 0, phi_1.re => 0]))"
   ]
  },
  {
   "cell_type": "code",
   "execution_count": 13,
   "metadata": {},
   "outputs": [
    {
     "data": {
      "text/plain": [
       "SymbolicUtils.BasicSymbolic[]"
      ]
     },
     "execution_count": 13,
     "metadata": {},
     "output_type": "execute_result"
    }
   ],
   "source": [
    "Symbolics.get_variables(phi[1])"
   ]
  },
  {
   "cell_type": "code",
   "execution_count": null,
   "metadata": {},
   "outputs": [],
   "source": []
  }
 ],
 "metadata": {
  "kernelspec": {
   "display_name": "Julia 1.11.2",
   "language": "julia",
   "name": "julia-1.11"
  },
  "language_info": {
   "file_extension": ".jl",
   "mimetype": "application/julia",
   "name": "julia",
   "version": "1.11.2"
  }
 },
 "nbformat": 4,
 "nbformat_minor": 2
}
