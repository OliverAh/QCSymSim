{
 "cells": [
  {
   "cell_type": "code",
   "execution_count": 2,
   "metadata": {},
   "outputs": [],
   "source": [
    "import Symbolics\n",
    "#import SymbolicUtils\n",
    "import LinearAlgebra"
   ]
  },
  {
   "cell_type": "code",
   "execution_count": 3,
   "metadata": {},
   "outputs": [
    {
     "data": {
      "text/plain": [
       "pauli_z (generic function with 1 method)"
      ]
     },
     "execution_count": 3,
     "metadata": {},
     "output_type": "execute_result"
    }
   ],
   "source": [
    "function pauli_x(_tmp)\n",
    "    _00 = Symbol(\"X_00_\", \"$_tmp\")\n",
    "    _01 = Symbol(\"X_01_\", \"$_tmp\")\n",
    "    _10 = Symbol(\"X_10_\", \"$_tmp\")\n",
    "    _11 = Symbol(\"X_11_\", \"$_tmp\")\n",
    "    \n",
    "    #transpose(reshape((Symbolics.@variables $_00::Complex $_01::Complex $_10::Complex $_11::Complex ),2,2))\n",
    "    _00 = Symbolics.@variables $_00::Complex\n",
    "    _01 = Symbolics.@variables $_01::Complex\n",
    "    _10 = Symbolics.@variables $_10::Complex\n",
    "    _11 = Symbolics.@variables $_11::Complex\n",
    "    return [_00 _01;_10 _11]\n",
    "    \n",
    "    #Symbolics.@variables X_\"00__tmp\"replace(\"_tmp\", _tmp)::Complex X_01_tmp::Complex X_10_tmp::Complex X_11_tmp::Complex\n",
    "    #return [X_00_tmp X_01_tmp; X_10_tmp X_11_tmp]\n",
    "end\n",
    "function pauli_y()\n",
    "    return Symbolics.variable(:Y, 1,2, T=ComplexF64)::ComplexF64\n",
    "end\n",
    "function pauli_z()\n",
    "    return Symbolics.variables(:Z, 1:2, 1:2)\n",
    "end"
   ]
  },
  {
   "cell_type": "code",
   "execution_count": 4,
   "metadata": {},
   "outputs": [
    {
     "data": {
      "text/latex": [
       "$$ \\begin{equation}\n",
       "\\left[\n",
       "\\begin{array}{cc}\n",
       "\\mathrm{real}\\left( \\mathtt{X_{00\\_a}} \\right) + \\mathrm{imag}\\left( \\mathtt{X_{00\\_a}} \\right) \\mathit{i} & \\mathrm{real}\\left( \\mathtt{X_{01\\_a}} \\right) + \\mathrm{imag}\\left( \\mathtt{X_{01\\_a}} \\right) \\mathit{i} \\\\\n",
       "\\mathrm{real}\\left( \\mathtt{X_{10\\_a}} \\right) + \\mathrm{imag}\\left( \\mathtt{X_{10\\_a}} \\right) \\mathit{i} & \\mathrm{real}\\left( \\mathtt{X_{11\\_a}} \\right) + \\mathrm{imag}\\left( \\mathtt{X_{11\\_a}} \\right) \\mathit{i} \\\\\n",
       "\\end{array}\n",
       "\\right]\n",
       "\\end{equation}\n",
       " $$"
      ],
      "text/plain": [
       "2×2 Matrix{Complex{Symbolics.Num}}:\n",
       " X_00_a  X_01_a\n",
       " X_10_a  X_11_a"
      ]
     },
     "execution_count": 4,
     "metadata": {},
     "output_type": "execute_result"
    }
   ],
   "source": [
    "bb = pauli_x(:a)\n",
    "bb\n"
   ]
  },
  {
   "cell_type": "code",
   "execution_count": 6,
   "metadata": {},
   "outputs": [
    {
     "data": {
      "text/plain": [
       "Matrix{Complex{Num}}\u001b[90m (alias for \u001b[39m\u001b[90mArray{Complex{Symbolics.Num}, 2}\u001b[39m\u001b[90m)\u001b[39m"
      ]
     },
     "execution_count": 6,
     "metadata": {},
     "output_type": "execute_result"
    }
   ],
   "source": [
    "typeof(bb)"
   ]
  },
  {
   "cell_type": "code",
   "execution_count": 7,
   "metadata": {},
   "outputs": [
    {
     "data": {
      "text/latex": [
       "$$ \\begin{equation}\n",
       "\\left[\n",
       "\\begin{array}{c}\n",
       "\\mathtt{b\\_1} \\\\\n",
       "\\mathtt{b\\_2} \\\\\n",
       "\\end{array}\n",
       "\\right]\n",
       "\\end{equation}\n",
       " $$"
      ],
      "text/plain": [
       "2-element Vector{Symbolics.Num}:\n",
       " b_1\n",
       " b_2"
      ]
     },
     "execution_count": 7,
     "metadata": {},
     "output_type": "execute_result"
    }
   ],
   "source": [
    "b = Symbolics.@variables b_1 b_2"
   ]
  },
  {
   "cell_type": "code",
   "execution_count": 8,
   "metadata": {},
   "outputs": [
    {
     "data": {
      "text/plain": [
       "Vector{Num}\u001b[90m (alias for \u001b[39m\u001b[90mArray{Symbolics.Num, 1}\u001b[39m\u001b[90m)\u001b[39m"
      ]
     },
     "execution_count": 8,
     "metadata": {},
     "output_type": "execute_result"
    }
   ],
   "source": [
    "typeof(b)"
   ]
  },
  {
   "cell_type": "code",
   "execution_count": 9,
   "metadata": {},
   "outputs": [
    {
     "data": {
      "text/latex": [
       "$$ \\begin{equation}\n",
       "\\left[\n",
       "\\begin{array}{c}\n",
       "\\mathtt{b_{1}} \\mathrm{real}\\left( \\mathtt{X_{00\\_a}} \\right) + \\mathtt{b_{2}} \\mathrm{real}\\left( \\mathtt{X_{01\\_a}} \\right) + \\left( \\mathtt{b_{1}} \\mathrm{imag}\\left( \\mathtt{X_{00\\_a}} \\right) + \\mathtt{b_{2}} \\mathrm{imag}\\left( \\mathtt{X_{01\\_a}} \\right) \\right) \\mathit{i} \\\\\n",
       "\\mathtt{b_{1}} \\mathrm{real}\\left( \\mathtt{X_{10\\_a}} \\right) + \\mathtt{b_{2}} \\mathrm{real}\\left( \\mathtt{X_{11\\_a}} \\right) + \\left( \\mathtt{b_{1}} \\mathrm{imag}\\left( \\mathtt{X_{10\\_a}} \\right) + \\mathtt{b_{2}} \\mathrm{imag}\\left( \\mathtt{X_{11\\_a}} \\right) \\right) \\mathit{i} \\\\\n",
       "\\end{array}\n",
       "\\right]\n",
       "\\end{equation}\n",
       " $$"
      ],
      "text/plain": [
       "2-element Vector{Complex{Symbolics.Num}}:\n",
       " b_1*real(X_00_a) + b_2*real(X_01_a) + (b_1*imag(X_00_a) + b_2*imag(X_01_a))*im\n",
       " b_1*real(X_10_a) + b_2*real(X_11_a) + (b_1*imag(X_10_a) + b_2*imag(X_11_a))*im"
      ]
     },
     "execution_count": 9,
     "metadata": {},
     "output_type": "execute_result"
    }
   ],
   "source": [
    "bb*b"
   ]
  }
 ],
 "metadata": {
  "kernelspec": {
   "display_name": "Julia 1.11.2",
   "language": "julia",
   "name": "julia-1.11"
  },
  "language_info": {
   "file_extension": ".jl",
   "mimetype": "application/julia",
   "name": "julia",
   "version": "1.11.2"
  }
 },
 "nbformat": 4,
 "nbformat_minor": 2
}
