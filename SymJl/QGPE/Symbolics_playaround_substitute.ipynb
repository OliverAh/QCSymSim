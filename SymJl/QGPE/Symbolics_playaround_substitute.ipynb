{
 "cells": [
  {
   "cell_type": "code",
   "execution_count": 1,
   "metadata": {},
   "outputs": [],
   "source": [
    "import Symbolics\n",
    "import LinearAlgebra"
   ]
  },
  {
   "cell_type": "code",
   "execution_count": 2,
   "metadata": {},
   "outputs": [
    {
     "data": {
      "text/plain": [
       "pauli_z (generic function with 1 method)"
      ]
     },
     "execution_count": 2,
     "metadata": {},
     "output_type": "execute_result"
    }
   ],
   "source": [
    "function pauli_x(_tmp)\n",
    "    _00 = Symbol(\"X_00_\", \"$_tmp\")\n",
    "    _01 = Symbol(\"X_01_\", \"$_tmp\")\n",
    "    _10 = Symbol(\"X_10_\", \"$_tmp\")\n",
    "    _11 = Symbol(\"X_11_\", \"$_tmp\")\n",
    "    \n",
    "    #transpose(reshape((Symbolics.@variables $_00::Complex $_01::Complex $_10::Complex $_11::Complex ),2,2))\n",
    "    _00 = Symbolics.@variables $_00::Complex\n",
    "    _01 = Symbolics.@variables $_01::Complex\n",
    "    _10 = Symbolics.@variables $_10::Complex\n",
    "    _11 = Symbolics.@variables $_11::Complex\n",
    "    return [_00 _01;_10 _11]\n",
    "    \n",
    "    #Symbolics.@variables X_\"00__tmp\"replace(\"_tmp\", _tmp)::Complex X_01_tmp::Complex X_10_tmp::Complex X_11_tmp::Complex\n",
    "    #return [X_00_tmp X_01_tmp; X_10_tmp X_11_tmp]\n",
    "end\n",
    "function pauli_y()\n",
    "    _00 = Symbol(\"Y_00_\", \"$_tmp\")\n",
    "    _01 = Symbol(\"Y_01_\", \"$_tmp\")\n",
    "    _10 = Symbol(\"Y_10_\", \"$_tmp\")\n",
    "    _11 = Symbol(\"Y_11_\", \"$_tmp\")\n",
    "    \n",
    "    #transpose(reshape((Symbolics.@variables $_00::Complex $_01::Complex $_10::Complex $_11::Complex ),2,2))\n",
    "    _00 = Symbolics.@variables $_00::Complex\n",
    "    _01 = Symbolics.@variables $_01::Complex\n",
    "    _10 = Symbolics.@variables $_10::Complex\n",
    "    _11 = Symbolics.@variables $_11::Complex\n",
    "    return [_00 _01;_10 _11]\n",
    "end\n",
    "function pauli_z()\n",
    "    _00 = Symbol(\"Z_00_\", \"$_tmp\")\n",
    "    _01 = Symbol(\"Z_01_\", \"$_tmp\")\n",
    "    _10 = Symbol(\"Z_10_\", \"$_tmp\")\n",
    "    _11 = Symbol(\"Z_11_\", \"$_tmp\")\n",
    "    \n",
    "    #transpose(reshape((Symbolics.@variables $_00::Complex $_01::Complex $_10::Complex $_11::Complex ),2,2))\n",
    "    _00 = Symbolics.@variables $_00::Complex\n",
    "    _01 = Symbolics.@variables $_01::Complex\n",
    "    _10 = Symbolics.@variables $_10::Complex\n",
    "    _11 = Symbolics.@variables $_11::Complex\n",
    "    return [_00 _01;_10 _11]\n",
    "end"
   ]
  },
  {
   "cell_type": "code",
   "execution_count": 3,
   "metadata": {},
   "outputs": [
    {
     "data": {
      "text/latex": [
       "$$ \\begin{equation}\n",
       "\\left[\n",
       "\\begin{array}{c}\n",
       "\\mathrm{real}\\left( \\mathtt{phi_{1}} \\right) + \\mathrm{imag}\\left( \\mathtt{phi_{1}} \\right) \\mathit{i} \\\\\n",
       "\\mathrm{real}\\left( \\mathtt{phi_{2}} \\right) + \\mathrm{imag}\\left( \\mathtt{phi_{2}} \\right) \\mathit{i} \\\\\n",
       "\\end{array}\n",
       "\\right]\n",
       "\\end{equation}\n",
       " $$"
      ],
      "text/plain": [
       "2-element Vector{Complex{Symbolics.Num}}:\n",
       " phi_1\n",
       " phi_2"
      ]
     },
     "execution_count": 3,
     "metadata": {},
     "output_type": "execute_result"
    }
   ],
   "source": [
    "phi = Symbolics.@variables phi_1::Complex phi_2::Complex\n",
    "phi = [phi_1; phi_2]"
   ]
  },
  {
   "cell_type": "code",
   "execution_count": 4,
   "metadata": {},
   "outputs": [
    {
     "data": {
      "text/latex": [
       "$$ \\begin{equation}\n",
       "\\left[\n",
       "\\begin{array}{c}\n",
       " - \\mathrm{imag}\\left( \\mathtt{phi_{1}} \\right) \\mathrm{imag}\\left( \\mathtt{X_{00\\_A}} \\right) + \\mathrm{real}\\left( \\mathtt{X_{01\\_A}} \\right) \\mathrm{real}\\left( \\mathtt{phi_{2}} \\right) + \\mathrm{real}\\left( \\mathtt{X_{00\\_A}} \\right) \\mathrm{real}\\left( \\mathtt{phi_{1}} \\right) - \\mathrm{imag}\\left( \\mathtt{X_{01\\_A}} \\right) \\mathrm{imag}\\left( \\mathtt{phi_{2}} \\right) + \\left( \\mathrm{imag}\\left( \\mathtt{phi_{1}} \\right) \\mathrm{real}\\left( \\mathtt{X_{00\\_A}} \\right) + \\mathrm{real}\\left( \\mathtt{X_{01\\_A}} \\right) \\mathrm{imag}\\left( \\mathtt{phi_{2}} \\right) + \\mathrm{real}\\left( \\mathtt{phi_{2}} \\right) \\mathrm{imag}\\left( \\mathtt{X_{01\\_A}} \\right) + \\mathrm{real}\\left( \\mathtt{phi_{1}} \\right) \\mathrm{imag}\\left( \\mathtt{X_{00\\_A}} \\right) \\right) \\mathit{i} \\\\\n",
       " - \\mathrm{imag}\\left( \\mathtt{phi_{1}} \\right) \\mathrm{imag}\\left( \\mathtt{X_{10\\_A}} \\right) + \\mathrm{real}\\left( \\mathtt{phi_{2}} \\right) \\mathrm{real}\\left( \\mathtt{X_{11\\_A}} \\right) + \\mathrm{real}\\left( \\mathtt{phi_{1}} \\right) \\mathrm{real}\\left( \\mathtt{X_{10\\_A}} \\right) - \\mathrm{imag}\\left( \\mathtt{X_{11\\_A}} \\right) \\mathrm{imag}\\left( \\mathtt{phi_{2}} \\right) + \\left( \\mathrm{imag}\\left( \\mathtt{phi_{1}} \\right) \\mathrm{real}\\left( \\mathtt{X_{10\\_A}} \\right) + \\mathrm{real}\\left( \\mathtt{phi_{2}} \\right) \\mathrm{imag}\\left( \\mathtt{X_{11\\_A}} \\right) + \\mathrm{real}\\left( \\mathtt{phi_{1}} \\right) \\mathrm{imag}\\left( \\mathtt{X_{10\\_A}} \\right) + \\mathrm{real}\\left( \\mathtt{X_{11\\_A}} \\right) \\mathrm{imag}\\left( \\mathtt{phi_{2}} \\right) \\right) \\mathit{i} \\\\\n",
       "\\end{array}\n",
       "\\right]\n",
       "\\end{equation}\n",
       " $$"
      ],
      "text/plain": [
       "2-element Vector{Complex{Symbolics.Num}}:\n",
       " -imag(phi_1)*imag(X_00_A) + real(X_01_A)*real(phi_2) + real(X_00_A)*real(phi_1) - imag(X_01_A)*imag(phi_2) + im*(imag(phi_1)*real(X_00_A) + real(X_01_A)*imag(phi_2) + real(phi_2)*imag(X_01_A) + real(phi_1)*imag(X_00_A))\n",
       " -imag(phi_1)*imag(X_10_A) + real(phi_2)*real(X_11_A) + real(phi_1)*real(X_10_A) - imag(X_11_A)*imag(phi_2) + im*(imag(phi_1)*real(X_10_A) + real(phi_2)*imag(X_11_A) + real(phi_1)*imag(X_10_A) + real(X_11_A)*imag(phi_2))"
      ]
     },
     "execution_count": 4,
     "metadata": {},
     "output_type": "execute_result"
    }
   ],
   "source": [
    "theta = pauli_x(:A)*phi"
   ]
  },
  {
   "cell_type": "code",
   "execution_count": 5,
   "metadata": {},
   "outputs": [
    {
     "data": {
      "text/latex": [
       "$$ \\begin{equation}\n",
       "\\left[\n",
       "\\begin{array}{c}\n",
       "\\mathrm{real}\\left( \\mathtt{phi_{1}} \\right) + \\mathrm{imag}\\left( \\mathtt{phi_{1}} \\right) \\mathit{i} \\\\\n",
       "\\mathrm{real}\\left( \\mathtt{phi_{2}} \\right) + \\mathrm{imag}\\left( \\mathtt{phi_{2}} \\right) \\mathit{i} \\\\\n",
       "\\end{array}\n",
       "\\right]\n",
       "\\end{equation}\n",
       " $$"
      ],
      "text/plain": [
       "2-element Vector{Complex{Symbolics.Num}}:\n",
       " phi_1\n",
       " phi_2"
      ]
     },
     "execution_count": 5,
     "metadata": {},
     "output_type": "execute_result"
    }
   ],
   "source": [
    "Symbolics.substitute(phi, Dict([phi[1] => 0, phi_2 => 1]))"
   ]
  },
  {
   "cell_type": "code",
   "execution_count": 6,
   "metadata": {},
   "outputs": [
    {
     "data": {
      "text/latex": [
       "$$ \\begin{equation}\n",
       "\\left[\n",
       "\\begin{array}{c}\n",
       "\\mathrm{real}\\left( \\mathtt{phi_{1}} \\right) + \\mathrm{imag}\\left( \\mathtt{phi_{1}} \\right) \\mathit{i} \\\\\n",
       "\\mathrm{real}\\left( \\mathtt{phi_{2}} \\right) + \\mathrm{imag}\\left( \\mathtt{phi_{2}} \\right) \\mathit{i} \\\\\n",
       "\\end{array}\n",
       "\\right]\n",
       "\\end{equation}\n",
       " $$"
      ],
      "text/plain": [
       "2-element Vector{Complex{Symbolics.Num}}:\n",
       " phi_1\n",
       " phi_2"
      ]
     },
     "execution_count": 6,
     "metadata": {},
     "output_type": "execute_result"
    }
   ],
   "source": [
    "Symbolics.substitute(phi, phi_1.re=>0)"
   ]
  },
  {
   "cell_type": "code",
   "execution_count": 7,
   "metadata": {},
   "outputs": [
    {
     "data": {
      "text/latex": [
       "$$ \\begin{equation}\n",
       "\\left[\n",
       "\\begin{array}{c}\n",
       "\\mathrm{real}\\left( \\mathtt{phi_{1}} \\right) + \\mathrm{imag}\\left( \\mathtt{phi_{1}} \\right) \\mathit{i} \\\\\n",
       "\\mathrm{real}\\left( \\mathtt{phi_{2}} \\right) + \\mathrm{imag}\\left( \\mathtt{phi_{2}} \\right) \\mathit{i} \\\\\n",
       "\\end{array}\n",
       "\\right]\n",
       "\\end{equation}\n",
       " $$"
      ],
      "text/plain": [
       "2-element Vector{Complex{Symbolics.Num}}:\n",
       " phi_1\n",
       " phi_2"
      ]
     },
     "execution_count": 7,
     "metadata": {},
     "output_type": "execute_result"
    }
   ],
   "source": [
    "Symbolics.fixpoint_sub(phi, phi_1.re=>0)"
   ]
  },
  {
   "cell_type": "code",
   "execution_count": 8,
   "metadata": {},
   "outputs": [
    {
     "data": {
      "text/latex": [
       "$$ \\begin{equation}\n",
       "\\mathrm{real}\\left( \\mathtt{X_{01\\_A}} \\right) \\mathrm{real}\\left( \\mathtt{phi_{2}} \\right) - \\mathrm{imag}\\left( \\mathtt{X_{01\\_A}} \\right) \\mathrm{imag}\\left( \\mathtt{phi_{2}} \\right) + \\left( \\mathrm{real}\\left( \\mathtt{X_{01\\_A}} \\right) \\mathrm{imag}\\left( \\mathtt{phi_{2}} \\right) + \\mathrm{real}\\left( \\mathtt{phi_{2}} \\right) \\mathrm{imag}\\left( \\mathtt{X_{01\\_A}} \\right) \\right) \\mathit{i}\n",
       "\\end{equation}\n",
       " $$"
      ],
      "text/plain": [
       "real(X_01_A)*real(phi_2) - imag(X_01_A)*imag(phi_2) + im*(real(X_01_A)*imag(phi_2) + real(phi_2)*imag(X_01_A))"
      ]
     },
     "execution_count": 8,
     "metadata": {},
     "output_type": "execute_result"
    }
   ],
   "source": [
    "Symbolics.substitute(theta[1], Dict([phi_1.im => 0, phi_1.re => 0]))"
   ]
  },
  {
   "cell_type": "code",
   "execution_count": 41,
   "metadata": {},
   "outputs": [
    {
     "ename": "LoadError",
     "evalue": "UndefVarError: `X_01_A` not defined in `Main`\nSuggestion: check for spelling errors or missing imports.",
     "output_type": "error",
     "traceback": [
      "UndefVarError: `X_01_A` not defined in `Main`\nSuggestion: check for spelling errors or missing imports.",
      "",
      "Stacktrace:",
      " [1] top-level scope",
      "   @ In[41]:1"
     ]
    }
   ],
   "source": [
    "Symbolics.substitute(theta[1], Dict([X_01_A.re => 0]))"
   ]
  },
  {
   "cell_type": "code",
   "execution_count": 33,
   "metadata": {},
   "outputs": [
    {
     "data": {
      "text/plain": [
       "SymbolicUtils.BasicSymbolic[]"
      ]
     },
     "execution_count": 33,
     "metadata": {},
     "output_type": "execute_result"
    }
   ],
   "source": [
    "Symbolics.get_variables(theta[1])"
   ]
  },
  {
   "cell_type": "code",
   "execution_count": 36,
   "metadata": {},
   "outputs": [
    {
     "data": {
      "text/plain": [
       "Complex{Symbolics.Num}"
      ]
     },
     "execution_count": 36,
     "metadata": {},
     "output_type": "execute_result"
    }
   ],
   "source": [
    "typeof(theta[1])"
   ]
  },
  {
   "cell_type": "code",
   "execution_count": 16,
   "metadata": {},
   "outputs": [
    {
     "ename": "LoadError",
     "evalue": "MethodError: no method matching varinfo(::String; all::Bool, imported::Bool)\nThe function `varinfo` exists, but no method is defined for this combination of argument types.\n\n\u001b[0mClosest candidates are:\n\u001b[0m  varinfo(\u001b[91m::Regex\u001b[39m; kwargs...)\n\u001b[0m\u001b[90m   @\u001b[39m \u001b[35mInteractiveUtils\u001b[39m \u001b[90mC:\\Users\\oahre\\.julia\\juliaup\\julia-1.11.2+0.x64.w64.mingw32\\share\\julia\\stdlib\\v1.11\\InteractiveUtils\\src\\\u001b[39m\u001b[90m\u001b[4mInteractiveUtils.jl:86\u001b[24m\u001b[39m\n\u001b[0m  varinfo(\u001b[91m::Module\u001b[39m, \u001b[91m::Regex\u001b[39m; all, imported, recursive, sortby, minsize)\n\u001b[0m\u001b[90m   @\u001b[39m \u001b[35mInteractiveUtils\u001b[39m \u001b[90mC:\\Users\\oahre\\.julia\\juliaup\\julia-1.11.2+0.x64.w64.mingw32\\share\\julia\\stdlib\\v1.11\\InteractiveUtils\\src\\\u001b[39m\u001b[90m\u001b[4mInteractiveUtils.jl:45\u001b[24m\u001b[39m\n\u001b[0m  varinfo(\u001b[91m::Module\u001b[39m; ...)\n\u001b[0m\u001b[90m   @\u001b[39m \u001b[35mInteractiveUtils\u001b[39m \u001b[90mC:\\Users\\oahre\\.julia\\juliaup\\julia-1.11.2+0.x64.w64.mingw32\\share\\julia\\stdlib\\v1.11\\InteractiveUtils\\src\\\u001b[39m\u001b[90m\u001b[4mInteractiveUtils.jl:45\u001b[24m\u001b[39m\n\u001b[0m  ...\n",
     "output_type": "error",
     "traceback": [
      "MethodError: no method matching varinfo(::String; all::Bool, imported::Bool)\nThe function `varinfo` exists, but no method is defined for this combination of argument types.\n\n\u001b[0mClosest candidates are:\n\u001b[0m  varinfo(\u001b[91m::Regex\u001b[39m; kwargs...)\n\u001b[0m\u001b[90m   @\u001b[39m \u001b[35mInteractiveUtils\u001b[39m \u001b[90mC:\\Users\\oahre\\.julia\\juliaup\\julia-1.11.2+0.x64.w64.mingw32\\share\\julia\\stdlib\\v1.11\\InteractiveUtils\\src\\\u001b[39m\u001b[90m\u001b[4mInteractiveUtils.jl:86\u001b[24m\u001b[39m\n\u001b[0m  varinfo(\u001b[91m::Module\u001b[39m, \u001b[91m::Regex\u001b[39m; all, imported, recursive, sortby, minsize)\n\u001b[0m\u001b[90m   @\u001b[39m \u001b[35mInteractiveUtils\u001b[39m \u001b[90mC:\\Users\\oahre\\.julia\\juliaup\\julia-1.11.2+0.x64.w64.mingw32\\share\\julia\\stdlib\\v1.11\\InteractiveUtils\\src\\\u001b[39m\u001b[90m\u001b[4mInteractiveUtils.jl:45\u001b[24m\u001b[39m\n\u001b[0m  varinfo(\u001b[91m::Module\u001b[39m; ...)\n\u001b[0m\u001b[90m   @\u001b[39m \u001b[35mInteractiveUtils\u001b[39m \u001b[90mC:\\Users\\oahre\\.julia\\juliaup\\julia-1.11.2+0.x64.w64.mingw32\\share\\julia\\stdlib\\v1.11\\InteractiveUtils\\src\\\u001b[39m\u001b[90m\u001b[4mInteractiveUtils.jl:45\u001b[24m\u001b[39m\n\u001b[0m  ...\n",
      "",
      "Stacktrace:",
      " [1] top-level scope",
      "   @ In[16]:1"
     ]
    }
   ],
   "source": [
    "println(Main.varinfo(@; all=true, imported=true))"
   ]
  },
  {
   "cell_type": "code",
   "execution_count": 43,
   "metadata": {},
   "outputs": [
    {
     "data": {
      "text/plain": [
       "26-element Vector{Symbol}:\n",
       " Symbol(\"##meta#59\")\n",
       " Symbol(\"#eval\")\n",
       " Symbol(\"#include\")\n",
       " Symbol(\"#pauli_x\")\n",
       " Symbol(\"#pauli_y\")\n",
       " Symbol(\"#pauli_z\")\n",
       " :Base\n",
       " :Core\n",
       " :IJulia\n",
       " :In\n",
       " :LinearAlgebra\n",
       " :Main\n",
       " :Out\n",
       " :Symbolics\n",
       " :ans\n",
       " :clear_history\n",
       " :docs\n",
       " :eval\n",
       " :include\n",
       " :pauli_x\n",
       " :pauli_y\n",
       " :pauli_z\n",
       " :phi\n",
       " :phi_1\n",
       " :phi_2\n",
       " :theta"
      ]
     },
     "execution_count": 43,
     "metadata": {},
     "output_type": "execute_result"
    }
   ],
   "source": [
    "Base.names(Main; all=true, imported=true)"
   ]
  },
  {
   "cell_type": "code",
   "execution_count": null,
   "metadata": {},
   "outputs": [],
   "source": []
  }
 ],
 "metadata": {
  "kernelspec": {
   "display_name": "Julia 1.11.2",
   "language": "julia",
   "name": "julia-1.11"
  },
  "language_info": {
   "file_extension": ".jl",
   "mimetype": "application/julia",
   "name": "julia",
   "version": "1.11.2"
  }
 },
 "nbformat": 4,
 "nbformat_minor": 2
}
