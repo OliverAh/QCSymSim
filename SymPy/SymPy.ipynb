{
 "cells": [
  {
   "cell_type": "code",
   "execution_count": 34,
   "metadata": {},
   "outputs": [],
   "source": [
    "import sympy as sp\n",
    "import itertools\n",
    "import numpy as np\n",
    "import sympy.physics\n",
    "import sympy.physics.quantum\n",
    "\n",
    "import QSymPy as qp"
   ]
  },
  {
   "cell_type": "code",
   "execution_count": 36,
   "metadata": {},
   "outputs": [
    {
     "name": "stdout",
     "output_type": "stream",
     "text": [
      "[1, 0]\n",
      "[1, 0]\n"
     ]
    }
   ],
   "source": [
    "qc = qp.QuantumCircuit(2, 2)\n",
    "print(qc.qubits)\n",
    "print(qc.clbits)"
   ]
  },
  {
   "cell_type": "code",
   "execution_count": null,
   "metadata": {},
   "outputs": [],
   "source": [
    "qc.add_gate(name='I', qubits_t=[0], step=1)\n",
    "qc.add_gate(name='X', qubits_t=[1], step=1)"
   ]
  },
  {
   "cell_type": "code",
   "execution_count": null,
   "metadata": {},
   "outputs": [],
   "source": [
    "qc.assemble_symbolic_unitary()\n",
    "qc.unitary"
   ]
  },
  {
   "cell_type": "code",
   "execution_count": null,
   "metadata": {},
   "outputs": [],
   "source": [
    "qc.create_numeric_unitary_from_symbolic()\n",
    "qc.unitary_numeric"
   ]
  },
  {
   "cell_type": "code",
   "execution_count": null,
   "metadata": {},
   "outputs": [],
   "source": [
    "s = qp.QuantumState(num_qubits=2)\n",
    "s.set_state({0: 1, 1: 1})"
   ]
  },
  {
   "cell_type": "code",
   "execution_count": null,
   "metadata": {},
   "outputs": [],
   "source": [
    "s.state"
   ]
  },
  {
   "cell_type": "code",
   "execution_count": null,
   "metadata": {},
   "outputs": [],
   "source": [
    "qc.unitary @ s.state"
   ]
  },
  {
   "cell_type": "code",
   "execution_count": null,
   "metadata": {},
   "outputs": [],
   "source": [
    "qc = qp.QuantumCircuit(4, 2)\n",
    "print(qc.qubits)\n",
    "print(qc.clbits)"
   ]
  },
  {
   "cell_type": "code",
   "execution_count": null,
   "metadata": {},
   "outputs": [],
   "source": [
    "qc.add_gate(name='CX', qubits_t=[1], qubits_c=[0], step=1)"
   ]
  },
  {
   "cell_type": "code",
   "execution_count": null,
   "metadata": {},
   "outputs": [],
   "source": [
    "qc.gate_collection.collections['CX'][0].atomics"
   ]
  },
  {
   "cell_type": "code",
   "execution_count": null,
   "metadata": {},
   "outputs": [],
   "source": [
    "qc.gate_collection.collections['CX'][0].matrix"
   ]
  },
  {
   "cell_type": "code",
   "execution_count": null,
   "metadata": {},
   "outputs": [],
   "source": [
    "qc.assemble_symbolic_unitary()\n",
    "qc.unitary"
   ]
  },
  {
   "cell_type": "code",
   "execution_count": null,
   "metadata": {},
   "outputs": [],
   "source": [
    "qc.create_numeric_unitary_from_symbolic()\n",
    "qc.unitary_numeric"
   ]
  },
  {
   "cell_type": "code",
   "execution_count": null,
   "metadata": {},
   "outputs": [],
   "source": [
    "sp.matrices.dense.matrix2numpy(qc.unitary_numeric, dtype=int)"
   ]
  },
  {
   "cell_type": "code",
   "execution_count": null,
   "metadata": {},
   "outputs": [],
   "source": [
    "eye = np.eye(2, dtype=int)\n",
    "x = np.array([[0, 1], [1, 0]])\n",
    "ones = np.array([[0, 0], [0, 1]])\n",
    "zeros = np.array([[1, 0], [0, 0]])\n",
    "\n",
    "((np.kron(np.kron(np.kron(eye, eye), x), ones) + np.kron(np.kron(np.kron(eye, eye), eye), zeros)) == sp.matrices.dense.matrix2numpy(qc.unitary_numeric, dtype=int)).all()"
   ]
  },
  {
   "cell_type": "code",
   "execution_count": null,
   "metadata": {},
   "outputs": [],
   "source": [
    "qc.gate_collection.collections['CX'][0].matrix_numeric"
   ]
  },
  {
   "cell_type": "code",
   "execution_count": null,
   "metadata": {},
   "outputs": [],
   "source": [
    "qc.gate_collection.collections"
   ]
  },
  {
   "cell_type": "code",
   "execution_count": null,
   "metadata": {},
   "outputs": [],
   "source": [
    "qc.gate_collection.collections['CX'][0].matrix22_t[1][0].flat()"
   ]
  },
  {
   "cell_type": "code",
   "execution_count": null,
   "metadata": {},
   "outputs": [],
   "source": [
    "import QSymPy as qp\n",
    "qc = qp.QuantumCircuit(3, 2)\n",
    "qc.add_gate(name='H', qubits_t=[0], step=1)\n",
    "qc.add_gate(name='H', qubits_t=[1], step=1)\n",
    "qc.add_gate(name='H', qubits_t=[2], step=1)\n",
    "#qc.add_gate(name='H', qubits_t=[3], step=1)\n",
    "#qc.add_gate(name='CX', qubits_t=[1], qubits_c=[3], step=2)\n",
    "qc.add_gate(name='X', qubits_t=[0], step=3)\n",
    "qc.add_gate(name='X', qubits_t=[2], step=3)\n",
    "qc.add_gate(name='CX', qubits_t=[2], qubits_c=[1], step=4)\n",
    "qc.add_gate(name='CX', qubits_t=[0], qubits_c=[1], step=5)\n",
    "\n",
    "qc.assemble_symbolic_unitary()\n",
    "#qc.unitary"
   ]
  },
  {
   "cell_type": "code",
   "execution_count": null,
   "metadata": {},
   "outputs": [],
   "source": [
    "qc.create_numeric_unitary_from_symbolic()\n",
    "qc.unitary_numeric"
   ]
  },
  {
   "cell_type": "code",
   "execution_count": null,
   "metadata": {},
   "outputs": [],
   "source": [
    "qs = qp.QuantumState(num_qubits=3)\n",
    "#qs.set_state({0: 0, 1: 0, 2: 0, 3: 0})"
   ]
  },
  {
   "cell_type": "code",
   "execution_count": null,
   "metadata": {},
   "outputs": [],
   "source": [
    "#qc.unitary_numeric @ qs.state"
   ]
  },
  {
   "cell_type": "code",
   "execution_count": null,
   "metadata": {},
   "outputs": [],
   "source": [
    "qs2 = qc.unitary @ qs.state\n",
    "display(qs2)"
   ]
  },
  {
   "cell_type": "code",
   "execution_count": null,
   "metadata": {},
   "outputs": [],
   "source": [
    "sp.diff(qs2, qs.state[0])"
   ]
  },
  {
   "cell_type": "code",
   "execution_count": null,
   "metadata": {},
   "outputs": [],
   "source": [
    "sp.diff(qs2, qc.gate_collection.collections['CX'][0].matrix[1, 1])"
   ]
  },
  {
   "cell_type": "code",
   "execution_count": null,
   "metadata": {},
   "outputs": [],
   "source": [
    "sp.Symbol('phi0')"
   ]
  },
  {
   "cell_type": "code",
   "execution_count": null,
   "metadata": {},
   "outputs": [],
   "source": [
    "qc.gate_collection.collections['CX'][0].matrix"
   ]
  },
  {
   "cell_type": "code",
   "execution_count": null,
   "metadata": {},
   "outputs": [],
   "source": [
    "qc.subs_symbolic_zeros_in_symbolic_unitary()\n",
    "qs3 = qc.unitary @ qs.state\n",
    "display(qs3)\n"
   ]
  }
 ],
 "metadata": {
  "kernelspec": {
   "display_name": "Python 3",
   "language": "python",
   "name": "python3"
  },
  "language_info": {
   "codemirror_mode": {
    "name": "ipython",
    "version": 3
   },
   "file_extension": ".py",
   "mimetype": "text/x-python",
   "name": "python",
   "nbconvert_exporter": "python",
   "pygments_lexer": "ipython3",
   "version": "3.13.2"
  }
 },
 "nbformat": 4,
 "nbformat_minor": 2
}
