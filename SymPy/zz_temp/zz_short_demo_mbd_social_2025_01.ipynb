{
 "cells": [
  {
   "cell_type": "code",
   "execution_count": 1,
   "metadata": {},
   "outputs": [],
   "source": [
    "import sympy as sp\n",
    "import itertools\n",
    "import numpy as np\n",
    "import sympy.physics\n",
    "import sympy.physics.quantum\n",
    "\n",
    "import QSymPy as qp"
   ]
  },
  {
   "cell_type": "code",
   "execution_count": 2,
   "metadata": {},
   "outputs": [
    {
     "data": {
      "text/latex": [
       "$\\displaystyle \\left[\\begin{matrix}\\phi_{0}\\\\\\phi_{1}\\\\\\phi_{2}\\\\\\phi_{3}\\\\\\phi_{4}\\\\\\phi_{5}\\\\\\phi_{6}\\\\\\phi_{7}\\end{matrix}\\right]$"
      ],
      "text/plain": [
       "Matrix([\n",
       "[phi0],\n",
       "[phi1],\n",
       "[phi2],\n",
       "[phi3],\n",
       "[phi4],\n",
       "[phi5],\n",
       "[phi6],\n",
       "[phi7]])"
      ]
     },
     "execution_count": 2,
     "metadata": {},
     "output_type": "execute_result"
    }
   ],
   "source": [
    "qc = qp.QuantumCircuit(3)\n",
    "qc.add_gate(name='H', qubits_t=[0], step=1)\n",
    "qc.add_gate(name='CNOT', qubits_t=[1], qubits_c=[0], step=2)\n",
    "qc.add_gate(name='CNOT', qubits_t=[2], qubits_c=[0], step=2)\n",
    "qc.assemble_unitary()\n",
    "\n",
    "qs = qp.QuantumState(num_qubits=3)\n",
    "qs.state"
   ]
  },
  {
   "cell_type": "code",
   "execution_count": 3,
   "metadata": {},
   "outputs": [
    {
     "data": {
      "text/latex": [
       "$\\displaystyle \\left[\\begin{matrix}CNOT_{I qt1 qc0 s2 p00} CNOT_{I qt2 qc0 s2 p00} H_{qt0 qcs1 p00} \\phi_{0} + CNOT_{I qt1 qc0 s2 p00} CNOT_{I qt2 qc0 s2 p00} H_{qt0 qcs1 p01} \\phi_{1} + CNOT_{I qt1 qc0 s2 p00} CNOT_{I qt2 qc0 s2 p01} H_{qt0 qcs1 p00} \\phi_{4} + CNOT_{I qt1 qc0 s2 p00} CNOT_{I qt2 qc0 s2 p01} H_{qt0 qcs1 p01} \\phi_{5} + CNOT_{I qt1 qc0 s2 p01} CNOT_{I qt2 qc0 s2 p00} H_{qt0 qcs1 p00} \\phi_{2} + CNOT_{I qt1 qc0 s2 p01} CNOT_{I qt2 qc0 s2 p00} H_{qt0 qcs1 p01} \\phi_{3} + CNOT_{I qt1 qc0 s2 p01} CNOT_{I qt2 qc0 s2 p01} H_{qt0 qcs1 p00} \\phi_{6} + CNOT_{I qt1 qc0 s2 p01} CNOT_{I qt2 qc0 s2 p01} H_{qt0 qcs1 p01} \\phi_{7}\\\\CNOT_{X qt1 qc0 s2 p00} CNOT_{X qt2 qc0 s2 p00} H_{qt0 qcs1 p10} \\phi_{0} + CNOT_{X qt1 qc0 s2 p00} CNOT_{X qt2 qc0 s2 p00} H_{qt0 qcs1 p11} \\phi_{1} + CNOT_{X qt1 qc0 s2 p00} CNOT_{X qt2 qc0 s2 p01} H_{qt0 qcs1 p10} \\phi_{4} + CNOT_{X qt1 qc0 s2 p00} CNOT_{X qt2 qc0 s2 p01} H_{qt0 qcs1 p11} \\phi_{5} + CNOT_{X qt1 qc0 s2 p01} CNOT_{X qt2 qc0 s2 p00} H_{qt0 qcs1 p10} \\phi_{2} + CNOT_{X qt1 qc0 s2 p01} CNOT_{X qt2 qc0 s2 p00} H_{qt0 qcs1 p11} \\phi_{3} + CNOT_{X qt1 qc0 s2 p01} CNOT_{X qt2 qc0 s2 p01} H_{qt0 qcs1 p10} \\phi_{6} + CNOT_{X qt1 qc0 s2 p01} CNOT_{X qt2 qc0 s2 p01} H_{qt0 qcs1 p11} \\phi_{7}\\\\CNOT_{I qt1 qc0 s2 p10} CNOT_{I qt2 qc0 s2 p00} H_{qt0 qcs1 p00} \\phi_{0} + CNOT_{I qt1 qc0 s2 p10} CNOT_{I qt2 qc0 s2 p00} H_{qt0 qcs1 p01} \\phi_{1} + CNOT_{I qt1 qc0 s2 p10} CNOT_{I qt2 qc0 s2 p01} H_{qt0 qcs1 p00} \\phi_{4} + CNOT_{I qt1 qc0 s2 p10} CNOT_{I qt2 qc0 s2 p01} H_{qt0 qcs1 p01} \\phi_{5} + CNOT_{I qt1 qc0 s2 p11} CNOT_{I qt2 qc0 s2 p00} H_{qt0 qcs1 p00} \\phi_{2} + CNOT_{I qt1 qc0 s2 p11} CNOT_{I qt2 qc0 s2 p00} H_{qt0 qcs1 p01} \\phi_{3} + CNOT_{I qt1 qc0 s2 p11} CNOT_{I qt2 qc0 s2 p01} H_{qt0 qcs1 p00} \\phi_{6} + CNOT_{I qt1 qc0 s2 p11} CNOT_{I qt2 qc0 s2 p01} H_{qt0 qcs1 p01} \\phi_{7}\\\\CNOT_{X qt1 qc0 s2 p10} CNOT_{X qt2 qc0 s2 p00} H_{qt0 qcs1 p10} \\phi_{0} + CNOT_{X qt1 qc0 s2 p10} CNOT_{X qt2 qc0 s2 p00} H_{qt0 qcs1 p11} \\phi_{1} + CNOT_{X qt1 qc0 s2 p10} CNOT_{X qt2 qc0 s2 p01} H_{qt0 qcs1 p10} \\phi_{4} + CNOT_{X qt1 qc0 s2 p10} CNOT_{X qt2 qc0 s2 p01} H_{qt0 qcs1 p11} \\phi_{5} + CNOT_{X qt1 qc0 s2 p11} CNOT_{X qt2 qc0 s2 p00} H_{qt0 qcs1 p10} \\phi_{2} + CNOT_{X qt1 qc0 s2 p11} CNOT_{X qt2 qc0 s2 p00} H_{qt0 qcs1 p11} \\phi_{3} + CNOT_{X qt1 qc0 s2 p11} CNOT_{X qt2 qc0 s2 p01} H_{qt0 qcs1 p10} \\phi_{6} + CNOT_{X qt1 qc0 s2 p11} CNOT_{X qt2 qc0 s2 p01} H_{qt0 qcs1 p11} \\phi_{7}\\\\CNOT_{I qt1 qc0 s2 p00} CNOT_{I qt2 qc0 s2 p10} H_{qt0 qcs1 p00} \\phi_{0} + CNOT_{I qt1 qc0 s2 p00} CNOT_{I qt2 qc0 s2 p10} H_{qt0 qcs1 p01} \\phi_{1} + CNOT_{I qt1 qc0 s2 p00} CNOT_{I qt2 qc0 s2 p11} H_{qt0 qcs1 p00} \\phi_{4} + CNOT_{I qt1 qc0 s2 p00} CNOT_{I qt2 qc0 s2 p11} H_{qt0 qcs1 p01} \\phi_{5} + CNOT_{I qt1 qc0 s2 p01} CNOT_{I qt2 qc0 s2 p10} H_{qt0 qcs1 p00} \\phi_{2} + CNOT_{I qt1 qc0 s2 p01} CNOT_{I qt2 qc0 s2 p10} H_{qt0 qcs1 p01} \\phi_{3} + CNOT_{I qt1 qc0 s2 p01} CNOT_{I qt2 qc0 s2 p11} H_{qt0 qcs1 p00} \\phi_{6} + CNOT_{I qt1 qc0 s2 p01} CNOT_{I qt2 qc0 s2 p11} H_{qt0 qcs1 p01} \\phi_{7}\\\\CNOT_{X qt1 qc0 s2 p00} CNOT_{X qt2 qc0 s2 p10} H_{qt0 qcs1 p10} \\phi_{0} + CNOT_{X qt1 qc0 s2 p00} CNOT_{X qt2 qc0 s2 p10} H_{qt0 qcs1 p11} \\phi_{1} + CNOT_{X qt1 qc0 s2 p00} CNOT_{X qt2 qc0 s2 p11} H_{qt0 qcs1 p10} \\phi_{4} + CNOT_{X qt1 qc0 s2 p00} CNOT_{X qt2 qc0 s2 p11} H_{qt0 qcs1 p11} \\phi_{5} + CNOT_{X qt1 qc0 s2 p01} CNOT_{X qt2 qc0 s2 p10} H_{qt0 qcs1 p10} \\phi_{2} + CNOT_{X qt1 qc0 s2 p01} CNOT_{X qt2 qc0 s2 p10} H_{qt0 qcs1 p11} \\phi_{3} + CNOT_{X qt1 qc0 s2 p01} CNOT_{X qt2 qc0 s2 p11} H_{qt0 qcs1 p10} \\phi_{6} + CNOT_{X qt1 qc0 s2 p01} CNOT_{X qt2 qc0 s2 p11} H_{qt0 qcs1 p11} \\phi_{7}\\\\CNOT_{I qt1 qc0 s2 p10} CNOT_{I qt2 qc0 s2 p10} H_{qt0 qcs1 p00} \\phi_{0} + CNOT_{I qt1 qc0 s2 p10} CNOT_{I qt2 qc0 s2 p10} H_{qt0 qcs1 p01} \\phi_{1} + CNOT_{I qt1 qc0 s2 p10} CNOT_{I qt2 qc0 s2 p11} H_{qt0 qcs1 p00} \\phi_{4} + CNOT_{I qt1 qc0 s2 p10} CNOT_{I qt2 qc0 s2 p11} H_{qt0 qcs1 p01} \\phi_{5} + CNOT_{I qt1 qc0 s2 p11} CNOT_{I qt2 qc0 s2 p10} H_{qt0 qcs1 p00} \\phi_{2} + CNOT_{I qt1 qc0 s2 p11} CNOT_{I qt2 qc0 s2 p10} H_{qt0 qcs1 p01} \\phi_{3} + CNOT_{I qt1 qc0 s2 p11} CNOT_{I qt2 qc0 s2 p11} H_{qt0 qcs1 p00} \\phi_{6} + CNOT_{I qt1 qc0 s2 p11} CNOT_{I qt2 qc0 s2 p11} H_{qt0 qcs1 p01} \\phi_{7}\\\\CNOT_{X qt1 qc0 s2 p10} CNOT_{X qt2 qc0 s2 p10} H_{qt0 qcs1 p10} \\phi_{0} + CNOT_{X qt1 qc0 s2 p10} CNOT_{X qt2 qc0 s2 p10} H_{qt0 qcs1 p11} \\phi_{1} + CNOT_{X qt1 qc0 s2 p10} CNOT_{X qt2 qc0 s2 p11} H_{qt0 qcs1 p10} \\phi_{4} + CNOT_{X qt1 qc0 s2 p10} CNOT_{X qt2 qc0 s2 p11} H_{qt0 qcs1 p11} \\phi_{5} + CNOT_{X qt1 qc0 s2 p11} CNOT_{X qt2 qc0 s2 p10} H_{qt0 qcs1 p10} \\phi_{2} + CNOT_{X qt1 qc0 s2 p11} CNOT_{X qt2 qc0 s2 p10} H_{qt0 qcs1 p11} \\phi_{3} + CNOT_{X qt1 qc0 s2 p11} CNOT_{X qt2 qc0 s2 p11} H_{qt0 qcs1 p10} \\phi_{6} + CNOT_{X qt1 qc0 s2 p11} CNOT_{X qt2 qc0 s2 p11} H_{qt0 qcs1 p11} \\phi_{7}\\end{matrix}\\right]$"
      ],
      "text/plain": [
       "Matrix([\n",
       "[CNOT_I_qt1_qc0_s2_p00*CNOT_I_qt2_qc0_s2_p00*H_qt0_qcs1_p00*phi0 + CNOT_I_qt1_qc0_s2_p00*CNOT_I_qt2_qc0_s2_p00*H_qt0_qcs1_p01*phi1 + CNOT_I_qt1_qc0_s2_p00*CNOT_I_qt2_qc0_s2_p01*H_qt0_qcs1_p00*phi4 + CNOT_I_qt1_qc0_s2_p00*CNOT_I_qt2_qc0_s2_p01*H_qt0_qcs1_p01*phi5 + CNOT_I_qt1_qc0_s2_p01*CNOT_I_qt2_qc0_s2_p00*H_qt0_qcs1_p00*phi2 + CNOT_I_qt1_qc0_s2_p01*CNOT_I_qt2_qc0_s2_p00*H_qt0_qcs1_p01*phi3 + CNOT_I_qt1_qc0_s2_p01*CNOT_I_qt2_qc0_s2_p01*H_qt0_qcs1_p00*phi6 + CNOT_I_qt1_qc0_s2_p01*CNOT_I_qt2_qc0_s2_p01*H_qt0_qcs1_p01*phi7],\n",
       "[CNOT_X_qt1_qc0_s2_p00*CNOT_X_qt2_qc0_s2_p00*H_qt0_qcs1_p10*phi0 + CNOT_X_qt1_qc0_s2_p00*CNOT_X_qt2_qc0_s2_p00*H_qt0_qcs1_p11*phi1 + CNOT_X_qt1_qc0_s2_p00*CNOT_X_qt2_qc0_s2_p01*H_qt0_qcs1_p10*phi4 + CNOT_X_qt1_qc0_s2_p00*CNOT_X_qt2_qc0_s2_p01*H_qt0_qcs1_p11*phi5 + CNOT_X_qt1_qc0_s2_p01*CNOT_X_qt2_qc0_s2_p00*H_qt0_qcs1_p10*phi2 + CNOT_X_qt1_qc0_s2_p01*CNOT_X_qt2_qc0_s2_p00*H_qt0_qcs1_p11*phi3 + CNOT_X_qt1_qc0_s2_p01*CNOT_X_qt2_qc0_s2_p01*H_qt0_qcs1_p10*phi6 + CNOT_X_qt1_qc0_s2_p01*CNOT_X_qt2_qc0_s2_p01*H_qt0_qcs1_p11*phi7],\n",
       "[CNOT_I_qt1_qc0_s2_p10*CNOT_I_qt2_qc0_s2_p00*H_qt0_qcs1_p00*phi0 + CNOT_I_qt1_qc0_s2_p10*CNOT_I_qt2_qc0_s2_p00*H_qt0_qcs1_p01*phi1 + CNOT_I_qt1_qc0_s2_p10*CNOT_I_qt2_qc0_s2_p01*H_qt0_qcs1_p00*phi4 + CNOT_I_qt1_qc0_s2_p10*CNOT_I_qt2_qc0_s2_p01*H_qt0_qcs1_p01*phi5 + CNOT_I_qt1_qc0_s2_p11*CNOT_I_qt2_qc0_s2_p00*H_qt0_qcs1_p00*phi2 + CNOT_I_qt1_qc0_s2_p11*CNOT_I_qt2_qc0_s2_p00*H_qt0_qcs1_p01*phi3 + CNOT_I_qt1_qc0_s2_p11*CNOT_I_qt2_qc0_s2_p01*H_qt0_qcs1_p00*phi6 + CNOT_I_qt1_qc0_s2_p11*CNOT_I_qt2_qc0_s2_p01*H_qt0_qcs1_p01*phi7],\n",
       "[CNOT_X_qt1_qc0_s2_p10*CNOT_X_qt2_qc0_s2_p00*H_qt0_qcs1_p10*phi0 + CNOT_X_qt1_qc0_s2_p10*CNOT_X_qt2_qc0_s2_p00*H_qt0_qcs1_p11*phi1 + CNOT_X_qt1_qc0_s2_p10*CNOT_X_qt2_qc0_s2_p01*H_qt0_qcs1_p10*phi4 + CNOT_X_qt1_qc0_s2_p10*CNOT_X_qt2_qc0_s2_p01*H_qt0_qcs1_p11*phi5 + CNOT_X_qt1_qc0_s2_p11*CNOT_X_qt2_qc0_s2_p00*H_qt0_qcs1_p10*phi2 + CNOT_X_qt1_qc0_s2_p11*CNOT_X_qt2_qc0_s2_p00*H_qt0_qcs1_p11*phi3 + CNOT_X_qt1_qc0_s2_p11*CNOT_X_qt2_qc0_s2_p01*H_qt0_qcs1_p10*phi6 + CNOT_X_qt1_qc0_s2_p11*CNOT_X_qt2_qc0_s2_p01*H_qt0_qcs1_p11*phi7],\n",
       "[CNOT_I_qt1_qc0_s2_p00*CNOT_I_qt2_qc0_s2_p10*H_qt0_qcs1_p00*phi0 + CNOT_I_qt1_qc0_s2_p00*CNOT_I_qt2_qc0_s2_p10*H_qt0_qcs1_p01*phi1 + CNOT_I_qt1_qc0_s2_p00*CNOT_I_qt2_qc0_s2_p11*H_qt0_qcs1_p00*phi4 + CNOT_I_qt1_qc0_s2_p00*CNOT_I_qt2_qc0_s2_p11*H_qt0_qcs1_p01*phi5 + CNOT_I_qt1_qc0_s2_p01*CNOT_I_qt2_qc0_s2_p10*H_qt0_qcs1_p00*phi2 + CNOT_I_qt1_qc0_s2_p01*CNOT_I_qt2_qc0_s2_p10*H_qt0_qcs1_p01*phi3 + CNOT_I_qt1_qc0_s2_p01*CNOT_I_qt2_qc0_s2_p11*H_qt0_qcs1_p00*phi6 + CNOT_I_qt1_qc0_s2_p01*CNOT_I_qt2_qc0_s2_p11*H_qt0_qcs1_p01*phi7],\n",
       "[CNOT_X_qt1_qc0_s2_p00*CNOT_X_qt2_qc0_s2_p10*H_qt0_qcs1_p10*phi0 + CNOT_X_qt1_qc0_s2_p00*CNOT_X_qt2_qc0_s2_p10*H_qt0_qcs1_p11*phi1 + CNOT_X_qt1_qc0_s2_p00*CNOT_X_qt2_qc0_s2_p11*H_qt0_qcs1_p10*phi4 + CNOT_X_qt1_qc0_s2_p00*CNOT_X_qt2_qc0_s2_p11*H_qt0_qcs1_p11*phi5 + CNOT_X_qt1_qc0_s2_p01*CNOT_X_qt2_qc0_s2_p10*H_qt0_qcs1_p10*phi2 + CNOT_X_qt1_qc0_s2_p01*CNOT_X_qt2_qc0_s2_p10*H_qt0_qcs1_p11*phi3 + CNOT_X_qt1_qc0_s2_p01*CNOT_X_qt2_qc0_s2_p11*H_qt0_qcs1_p10*phi6 + CNOT_X_qt1_qc0_s2_p01*CNOT_X_qt2_qc0_s2_p11*H_qt0_qcs1_p11*phi7],\n",
       "[CNOT_I_qt1_qc0_s2_p10*CNOT_I_qt2_qc0_s2_p10*H_qt0_qcs1_p00*phi0 + CNOT_I_qt1_qc0_s2_p10*CNOT_I_qt2_qc0_s2_p10*H_qt0_qcs1_p01*phi1 + CNOT_I_qt1_qc0_s2_p10*CNOT_I_qt2_qc0_s2_p11*H_qt0_qcs1_p00*phi4 + CNOT_I_qt1_qc0_s2_p10*CNOT_I_qt2_qc0_s2_p11*H_qt0_qcs1_p01*phi5 + CNOT_I_qt1_qc0_s2_p11*CNOT_I_qt2_qc0_s2_p10*H_qt0_qcs1_p00*phi2 + CNOT_I_qt1_qc0_s2_p11*CNOT_I_qt2_qc0_s2_p10*H_qt0_qcs1_p01*phi3 + CNOT_I_qt1_qc0_s2_p11*CNOT_I_qt2_qc0_s2_p11*H_qt0_qcs1_p00*phi6 + CNOT_I_qt1_qc0_s2_p11*CNOT_I_qt2_qc0_s2_p11*H_qt0_qcs1_p01*phi7],\n",
       "[CNOT_X_qt1_qc0_s2_p10*CNOT_X_qt2_qc0_s2_p10*H_qt0_qcs1_p10*phi0 + CNOT_X_qt1_qc0_s2_p10*CNOT_X_qt2_qc0_s2_p10*H_qt0_qcs1_p11*phi1 + CNOT_X_qt1_qc0_s2_p10*CNOT_X_qt2_qc0_s2_p11*H_qt0_qcs1_p10*phi4 + CNOT_X_qt1_qc0_s2_p10*CNOT_X_qt2_qc0_s2_p11*H_qt0_qcs1_p11*phi5 + CNOT_X_qt1_qc0_s2_p11*CNOT_X_qt2_qc0_s2_p10*H_qt0_qcs1_p10*phi2 + CNOT_X_qt1_qc0_s2_p11*CNOT_X_qt2_qc0_s2_p10*H_qt0_qcs1_p11*phi3 + CNOT_X_qt1_qc0_s2_p11*CNOT_X_qt2_qc0_s2_p11*H_qt0_qcs1_p10*phi6 + CNOT_X_qt1_qc0_s2_p11*CNOT_X_qt2_qc0_s2_p11*H_qt0_qcs1_p11*phi7]])"
      ]
     },
     "execution_count": 3,
     "metadata": {},
     "output_type": "execute_result"
    }
   ],
   "source": [
    "qs2 = qc.unitary @ qs.state\n",
    "qs2"
   ]
  },
  {
   "cell_type": "code",
   "execution_count": 5,
   "metadata": {},
   "outputs": [
    {
     "data": {
      "text/latex": [
       "$\\displaystyle \\left[\\begin{matrix}\\left[\\begin{matrix}0\\\\CNOT_{X qt2 qc0 s2 p00} H_{qt0 qcs1 p10} \\phi_{0} + CNOT_{X qt2 qc0 s2 p00} H_{qt0 qcs1 p11} \\phi_{1} + CNOT_{X qt2 qc0 s2 p01} H_{qt0 qcs1 p10} \\phi_{4} + CNOT_{X qt2 qc0 s2 p01} H_{qt0 qcs1 p11} \\phi_{5}\\\\0\\\\0\\\\0\\\\CNOT_{X qt2 qc0 s2 p10} H_{qt0 qcs1 p10} \\phi_{0} + CNOT_{X qt2 qc0 s2 p10} H_{qt0 qcs1 p11} \\phi_{1} + CNOT_{X qt2 qc0 s2 p11} H_{qt0 qcs1 p10} \\phi_{4} + CNOT_{X qt2 qc0 s2 p11} H_{qt0 qcs1 p11} \\phi_{5}\\\\0\\\\0\\end{matrix}\\right] & \\left[\\begin{matrix}0\\\\CNOT_{X qt2 qc0 s2 p00} H_{qt0 qcs1 p10} \\phi_{2} + CNOT_{X qt2 qc0 s2 p00} H_{qt0 qcs1 p11} \\phi_{3} + CNOT_{X qt2 qc0 s2 p01} H_{qt0 qcs1 p10} \\phi_{6} + CNOT_{X qt2 qc0 s2 p01} H_{qt0 qcs1 p11} \\phi_{7}\\\\0\\\\0\\\\0\\\\CNOT_{X qt2 qc0 s2 p10} H_{qt0 qcs1 p10} \\phi_{2} + CNOT_{X qt2 qc0 s2 p10} H_{qt0 qcs1 p11} \\phi_{3} + CNOT_{X qt2 qc0 s2 p11} H_{qt0 qcs1 p10} \\phi_{6} + CNOT_{X qt2 qc0 s2 p11} H_{qt0 qcs1 p11} \\phi_{7}\\\\0\\\\0\\end{matrix}\\right]\\\\\\left[\\begin{matrix}0\\\\0\\\\0\\\\CNOT_{X qt2 qc0 s2 p00} H_{qt0 qcs1 p10} \\phi_{0} + CNOT_{X qt2 qc0 s2 p00} H_{qt0 qcs1 p11} \\phi_{1} + CNOT_{X qt2 qc0 s2 p01} H_{qt0 qcs1 p10} \\phi_{4} + CNOT_{X qt2 qc0 s2 p01} H_{qt0 qcs1 p11} \\phi_{5}\\\\0\\\\0\\\\0\\\\CNOT_{X qt2 qc0 s2 p10} H_{qt0 qcs1 p10} \\phi_{0} + CNOT_{X qt2 qc0 s2 p10} H_{qt0 qcs1 p11} \\phi_{1} + CNOT_{X qt2 qc0 s2 p11} H_{qt0 qcs1 p10} \\phi_{4} + CNOT_{X qt2 qc0 s2 p11} H_{qt0 qcs1 p11} \\phi_{5}\\end{matrix}\\right] & \\left[\\begin{matrix}0\\\\0\\\\0\\\\CNOT_{X qt2 qc0 s2 p00} H_{qt0 qcs1 p10} \\phi_{2} + CNOT_{X qt2 qc0 s2 p00} H_{qt0 qcs1 p11} \\phi_{3} + CNOT_{X qt2 qc0 s2 p01} H_{qt0 qcs1 p10} \\phi_{6} + CNOT_{X qt2 qc0 s2 p01} H_{qt0 qcs1 p11} \\phi_{7}\\\\0\\\\0\\\\0\\\\CNOT_{X qt2 qc0 s2 p10} H_{qt0 qcs1 p10} \\phi_{2} + CNOT_{X qt2 qc0 s2 p10} H_{qt0 qcs1 p11} \\phi_{3} + CNOT_{X qt2 qc0 s2 p11} H_{qt0 qcs1 p10} \\phi_{6} + CNOT_{X qt2 qc0 s2 p11} H_{qt0 qcs1 p11} \\phi_{7}\\end{matrix}\\right]\\end{matrix}\\right]$"
      ],
      "text/plain": [
       "[[[[0], [CNOT_X_qt2_qc0_s2_p00*H_qt0_qcs1_p10*phi0 + CNOT_X_qt2_qc0_s2_p00*H_qt0_qcs1_p11*phi1 + CNOT_X_qt2_qc0_s2_p01*H_qt0_qcs1_p10*phi4 + CNOT_X_qt2_qc0_s2_p01*H_qt0_qcs1_p11*phi5], [0], [0], [0], [CNOT_X_qt2_qc0_s2_p10*H_qt0_qcs1_p10*phi0 + CNOT_X_qt2_qc0_s2_p10*H_qt0_qcs1_p11*phi1 + CNOT_X_qt2_qc0_s2_p11*H_qt0_qcs1_p10*phi4 + CNOT_X_qt2_qc0_s2_p11*H_qt0_qcs1_p11*phi5], [0], [0]], [[0], [CNOT_X_qt2_qc0_s2_p00*H_qt0_qcs1_p10*phi2 + CNOT_X_qt2_qc0_s2_p00*H_qt0_qcs1_p11*phi3 + CNOT_X_qt2_qc0_s2_p01*H_qt0_qcs1_p10*phi6 + CNOT_X_qt2_qc0_s2_p01*H_qt0_qcs1_p11*phi7], [0], [0], [0], [CNOT_X_qt2_qc0_s2_p10*H_qt0_qcs1_p10*phi2 + CNOT_X_qt2_qc0_s2_p10*H_qt0_qcs1_p11*phi3 + CNOT_X_qt2_qc0_s2_p11*H_qt0_qcs1_p10*phi6 + CNOT_X_qt2_qc0_s2_p11*H_qt0_qcs1_p11*phi7], [0], [0]]], [[[0], [0], [0], [CNOT_X_qt2_qc0_s2_p00*H_qt0_qcs1_p10*phi0 + CNOT_X_qt2_qc0_s2_p00*H_qt0_qcs1_p11*phi1 + CNOT_X_qt2_qc0_s2_p01*H_qt0_qcs1_p10*phi4 + CNOT_X_qt2_qc0_s2_p01*H_qt0_qcs1_p11*phi5], [0], [0], [0], [CNOT_X_qt2_qc0_s2_p10*H_qt0_qcs1_p10*phi0 + CNOT_X_qt2_qc0_s2_p10*H_qt0_qcs1_p11*phi1 + CNOT_X_qt2_qc0_s2_p11*H_qt0_qcs1_p10*phi4 + CNOT_X_qt2_qc0_s2_p11*H_qt0_qcs1_p11*phi5]], [[0], [0], [0], [CNOT_X_qt2_qc0_s2_p00*H_qt0_qcs1_p10*phi2 + CNOT_X_qt2_qc0_s2_p00*H_qt0_qcs1_p11*phi3 + CNOT_X_qt2_qc0_s2_p01*H_qt0_qcs1_p10*phi6 + CNOT_X_qt2_qc0_s2_p01*H_qt0_qcs1_p11*phi7], [0], [0], [0], [CNOT_X_qt2_qc0_s2_p10*H_qt0_qcs1_p10*phi2 + CNOT_X_qt2_qc0_s2_p10*H_qt0_qcs1_p11*phi3 + CNOT_X_qt2_qc0_s2_p11*H_qt0_qcs1_p10*phi6 + CNOT_X_qt2_qc0_s2_p11*H_qt0_qcs1_p11*phi7]]]]"
      ]
     },
     "execution_count": 5,
     "metadata": {},
     "output_type": "execute_result"
    }
   ],
   "source": [
    "sp.diff(qs2, qc.gate_collection.collections['CNOT'][0].matrix22_t[1][0])"
   ]
  },
  {
   "cell_type": "code",
   "execution_count": null,
   "metadata": {},
   "outputs": [],
   "source": []
  }
 ],
 "metadata": {
  "kernelspec": {
   "display_name": "Python 3",
   "language": "python",
   "name": "python3"
  },
  "language_info": {
   "codemirror_mode": {
    "name": "ipython",
    "version": 3
   },
   "file_extension": ".py",
   "mimetype": "text/x-python",
   "name": "python",
   "nbconvert_exporter": "python",
   "pygments_lexer": "ipython3",
   "version": "3.12.8"
  }
 },
 "nbformat": 4,
 "nbformat_minor": 2
}
