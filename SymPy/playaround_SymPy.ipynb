{
 "cells": [
  {
   "cell_type": "code",
   "execution_count": 1,
   "metadata": {},
   "outputs": [],
   "source": [
    "import sympy as sp"
   ]
  },
  {
   "cell_type": "code",
   "execution_count": 2,
   "metadata": {},
   "outputs": [
    {
     "data": {
      "text/latex": [
       "$\\displaystyle \\phi$"
      ],
      "text/plain": [
       "phi"
      ]
     },
     "execution_count": 2,
     "metadata": {},
     "output_type": "execute_result"
    }
   ],
   "source": [
    "phi = sp.symbols('phi', complex=True, extended_real=False)\n",
    "phi"
   ]
  },
  {
   "cell_type": "code",
   "execution_count": 3,
   "metadata": {},
   "outputs": [
    {
     "data": {
      "text/latex": [
       "$\\displaystyle \\overline{\\phi}$"
      ],
      "text/plain": [
       "conjugate(phi)"
      ]
     },
     "execution_count": 3,
     "metadata": {},
     "output_type": "execute_result"
    }
   ],
   "source": [
    "b = phi.conjugate()\n",
    "b"
   ]
  },
  {
   "cell_type": "code",
   "execution_count": 4,
   "metadata": {},
   "outputs": [
    {
     "data": {
      "text/plain": [
       "{'complex': True,\n",
       " 'infinite': False,\n",
       " 'commutative': True,\n",
       " 'finite': True,\n",
       " 'extended_real': False,\n",
       " 'positive': False,\n",
       " 'zero': False,\n",
       " 'extended_nonzero': False,\n",
       " 'extended_negative': False,\n",
       " 'real': False,\n",
       " 'odd': False,\n",
       " 'noninteger': False,\n",
       " 'even': False,\n",
       " 'composite': False,\n",
       " 'negative': False,\n",
       " 'prime': False,\n",
       " 'rational': False,\n",
       " 'extended_positive': False,\n",
       " 'nonzero': False,\n",
       " 'nonnegative': False,\n",
       " 'extended_nonnegative': False,\n",
       " 'irrational': False,\n",
       " 'extended_nonpositive': False,\n",
       " 'integer': False,\n",
       " 'nonpositive': False}"
      ]
     },
     "execution_count": 4,
     "metadata": {},
     "output_type": "execute_result"
    }
   ],
   "source": [
    "phi.assumptions0"
   ]
  },
  {
   "cell_type": "code",
   "execution_count": 5,
   "metadata": {},
   "outputs": [
    {
     "data": {
      "text/plain": [
       "(theta0, theta1)"
      ]
     },
     "execution_count": 5,
     "metadata": {},
     "output_type": "execute_result"
    }
   ],
   "source": [
    "theta = sp.symbols('theta:2', complex=True, extended_real=False)\n",
    "theta"
   ]
  },
  {
   "cell_type": "code",
   "execution_count": 6,
   "metadata": {},
   "outputs": [
    {
     "data": {
      "text/plain": [
       "{'complex': True,\n",
       " 'infinite': False,\n",
       " 'commutative': True,\n",
       " 'finite': True,\n",
       " 'extended_real': False,\n",
       " 'positive': False,\n",
       " 'zero': False,\n",
       " 'extended_nonzero': False,\n",
       " 'extended_negative': False,\n",
       " 'real': False,\n",
       " 'odd': False,\n",
       " 'noninteger': False,\n",
       " 'even': False,\n",
       " 'composite': False,\n",
       " 'negative': False,\n",
       " 'prime': False,\n",
       " 'rational': False,\n",
       " 'extended_positive': False,\n",
       " 'nonzero': False,\n",
       " 'nonnegative': False,\n",
       " 'extended_nonnegative': False,\n",
       " 'irrational': False,\n",
       " 'extended_nonpositive': False,\n",
       " 'integer': False,\n",
       " 'nonpositive': False}"
      ]
     },
     "execution_count": 6,
     "metadata": {},
     "output_type": "execute_result"
    }
   ],
   "source": [
    "#theta.assumptions0\n",
    "theta[0].assumptions0"
   ]
  },
  {
   "cell_type": "code",
   "execution_count": 7,
   "metadata": {},
   "outputs": [
    {
     "data": {
      "text/latex": [
       "$\\displaystyle \\left[\\begin{matrix}\\gamma_{0}\\\\\\gamma_{1}\\end{matrix}\\right]$"
      ],
      "text/plain": [
       "[[gamma0], [gamma1]]"
      ]
     },
     "execution_count": 7,
     "metadata": {},
     "output_type": "execute_result"
    }
   ],
   "source": [
    "gamma = sp.Array(sp.symbols('gamma:2'), shape=(2,1))\n",
    "gamma"
   ]
  },
  {
   "cell_type": "code",
   "execution_count": 8,
   "metadata": {},
   "outputs": [
    {
     "name": "stdout",
     "output_type": "stream",
     "text": [
      "{}\n",
      "{}\n"
     ]
    }
   ],
   "source": [
    "print(gamma.assumptions0)\n",
    "print(gamma[0].assumptions0)"
   ]
  },
  {
   "cell_type": "code",
   "execution_count": 9,
   "metadata": {},
   "outputs": [
    {
     "data": {
      "text/latex": [
       "$\\displaystyle \\left[\\begin{matrix}\\overline{\\gamma_{0}}\\\\\\overline{\\gamma_{1}}\\end{matrix}\\right]$"
      ],
      "text/plain": [
       "[[conjugate(gamma0)], [conjugate(gamma1)]]"
      ]
     },
     "execution_count": 9,
     "metadata": {},
     "output_type": "execute_result"
    }
   ],
   "source": [
    "gamma_conj = gamma.conjugate()\n",
    "gamma_conj"
   ]
  },
  {
   "cell_type": "code",
   "execution_count": 10,
   "metadata": {},
   "outputs": [
    {
     "data": {
      "text/latex": [
       "$\\displaystyle \\left( 2, \\  1\\right)$"
      ],
      "text/plain": [
       "(2, 1)"
      ]
     },
     "execution_count": 10,
     "metadata": {},
     "output_type": "execute_result"
    }
   ],
   "source": [
    "gamma.shape"
   ]
  },
  {
   "cell_type": "code",
   "execution_count": 11,
   "metadata": {},
   "outputs": [
    {
     "data": {
      "text/latex": [
       "$\\displaystyle \\left( 2, \\  1\\right)$"
      ],
      "text/plain": [
       "(2, 1)"
      ]
     },
     "execution_count": 11,
     "metadata": {},
     "output_type": "execute_result"
    }
   ],
   "source": [
    "gamma_conj.shape"
   ]
  },
  {
   "cell_type": "code",
   "execution_count": 12,
   "metadata": {},
   "outputs": [
    {
     "data": {
      "text/latex": [
       "$\\displaystyle \\left[\\begin{matrix}\\gamma_{0} & \\gamma_{1}\\\\\\delta_{0} & \\delta_{1}\\end{matrix}\\right]$"
      ],
      "text/plain": [
       "Matrix([\n",
       "[gamma0, gamma1],\n",
       "[delta0, delta1]])"
      ]
     },
     "execution_count": 12,
     "metadata": {},
     "output_type": "execute_result"
    }
   ],
   "source": [
    "g = sp.symbols('gamma:2', complex=True, extended_real=False)\n",
    "gg = sp.symbols('delta:2', complex=True, extended_real=False)\n",
    "M = sp.Matrix([g, gg])\n",
    "M"
   ]
  },
  {
   "cell_type": "code",
   "execution_count": 13,
   "metadata": {},
   "outputs": [
    {
     "data": {
      "text/plain": [
       "{'complex': True,\n",
       " 'infinite': False,\n",
       " 'commutative': True,\n",
       " 'finite': True,\n",
       " 'extended_real': False,\n",
       " 'positive': False,\n",
       " 'zero': False,\n",
       " 'extended_nonzero': False,\n",
       " 'extended_negative': False,\n",
       " 'real': False,\n",
       " 'odd': False,\n",
       " 'noninteger': False,\n",
       " 'even': False,\n",
       " 'composite': False,\n",
       " 'negative': False,\n",
       " 'prime': False,\n",
       " 'rational': False,\n",
       " 'extended_positive': False,\n",
       " 'nonzero': False,\n",
       " 'nonnegative': False,\n",
       " 'extended_nonnegative': False,\n",
       " 'irrational': False,\n",
       " 'extended_nonpositive': False,\n",
       " 'integer': False,\n",
       " 'nonpositive': False}"
      ]
     },
     "execution_count": 13,
     "metadata": {},
     "output_type": "execute_result"
    }
   ],
   "source": [
    "#M.assumptions0\n",
    "M.shape\n",
    "M[0].assumptions0\n"
   ]
  },
  {
   "cell_type": "code",
   "execution_count": 14,
   "metadata": {},
   "outputs": [
    {
     "data": {
      "text/latex": [
       "$\\displaystyle \\left[\\begin{matrix}\\overline{\\gamma_{0}} & \\overline{\\delta_{0}}\\\\\\overline{\\gamma_{1}} & \\overline{\\delta_{1}}\\end{matrix}\\right]$"
      ],
      "text/plain": [
       "Matrix([\n",
       "[conjugate(gamma0), conjugate(delta0)],\n",
       "[conjugate(gamma1), conjugate(delta1)]])"
      ]
     },
     "execution_count": 14,
     "metadata": {},
     "output_type": "execute_result"
    }
   ],
   "source": [
    "M.adjoint()"
   ]
  },
  {
   "cell_type": "code",
   "execution_count": 15,
   "metadata": {},
   "outputs": [
    {
     "name": "stdout",
     "output_type": "stream",
     "text": [
      "Matrix([[tau0], [tau1]])\n"
     ]
    },
    {
     "data": {
      "text/latex": [
       "$\\displaystyle \\left[\\begin{matrix}\\gamma_{0} \\tau_{0} + \\gamma_{1} \\tau_{1}\\\\\\delta_{0} \\tau_{0} + \\delta_{1} \\tau_{1}\\end{matrix}\\right]$"
      ],
      "text/plain": [
       "Matrix([\n",
       "[gamma0*tau0 + gamma1*tau1],\n",
       "[delta0*tau0 + delta1*tau1]])"
      ]
     },
     "execution_count": 15,
     "metadata": {},
     "output_type": "execute_result"
    }
   ],
   "source": [
    "#M*gamma\n",
    "#M.dot(gamma)\n",
    "tau = sp.symbols('tau:2', complex=True, extended_real=False)\n",
    "tau = sp.Matrix(tau, shape=(2,1))\n",
    "print(tau)\n",
    "#M.dot(tau)\n",
    "tau = M @ tau\n",
    "tau"
   ]
  },
  {
   "cell_type": "code",
   "execution_count": 16,
   "metadata": {},
   "outputs": [
    {
     "name": "stdout",
     "output_type": "stream",
     "text": [
      "gamma1\n"
     ]
    },
    {
     "data": {
      "text/latex": [
       "$\\displaystyle \\left[\\begin{matrix}\\gamma_{0} \\tau_{0} + \\tau_{1}\\\\\\delta_{0} \\tau_{0} + \\delta_{1} \\tau_{1}\\end{matrix}\\right]$"
      ],
      "text/plain": [
       "Matrix([\n",
       "[       gamma0*tau0 + tau1],\n",
       "[delta0*tau0 + delta1*tau1]])"
      ]
     },
     "execution_count": 16,
     "metadata": {},
     "output_type": "execute_result"
    }
   ],
   "source": [
    "print(list(tau.atoms())[3])\n",
    "tau.replace(list(tau.atoms())[3], 1)"
   ]
  },
  {
   "cell_type": "code",
   "execution_count": 17,
   "metadata": {},
   "outputs": [
    {
     "name": "stdout",
     "output_type": "stream",
     "text": [
      "gamma0 <class 'sympy.core.symbol.Symbol'>\n"
     ]
    },
    {
     "data": {
      "text/latex": [
       "$\\displaystyle \\left[\\begin{matrix}\\gamma_{1} \\tau_{1} + \\tau_{0}\\\\\\delta_{0} \\tau_{0} + \\delta_{1} \\tau_{1}\\end{matrix}\\right]$"
      ],
      "text/plain": [
       "Matrix([\n",
       "[       gamma1*tau1 + tau0],\n",
       "[delta0*tau0 + delta1*tau1]])"
      ]
     },
     "execution_count": 17,
     "metadata": {},
     "output_type": "execute_result"
    }
   ],
   "source": [
    "print(g[0], type(g[0]))\n",
    "tau.replace(g[0], 1)"
   ]
  },
  {
   "cell_type": "code",
   "execution_count": 18,
   "metadata": {},
   "outputs": [
    {
     "data": {
      "text/latex": [
       "$\\displaystyle \\left[\\begin{matrix}\\gamma_{0} \\tau_{0} + \\gamma_{1} \\tau_{1}\\\\\\delta_{0} \\tau_{0} + \\delta_{1} \\tau_{1}\\end{matrix}\\right]$"
      ],
      "text/plain": [
       "Matrix([\n",
       "[gamma0*tau0 + gamma1*tau1],\n",
       "[delta0*tau0 + delta1*tau1]])"
      ]
     },
     "execution_count": 18,
     "metadata": {},
     "output_type": "execute_result"
    }
   ],
   "source": [
    "tau.replace(sp.Symbol('gamma_0'), sp.pi)"
   ]
  },
  {
   "cell_type": "code",
   "execution_count": 19,
   "metadata": {},
   "outputs": [
    {
     "data": {
      "text/latex": [
       "$\\displaystyle \\gamma_{0}$"
      ],
      "text/plain": [
       "gamma_0"
      ]
     },
     "execution_count": 19,
     "metadata": {},
     "output_type": "execute_result"
    }
   ],
   "source": [
    "sp.symbols('gamma_0')"
   ]
  },
  {
   "cell_type": "code",
   "execution_count": 24,
   "metadata": {},
   "outputs": [
    {
     "data": {
      "text/latex": [
       "$\\displaystyle \\left[\\begin{matrix}M_{1} & M_{2}\\\\M_{3} & M_{4}\\end{matrix}\\right]$"
      ],
      "text/plain": [
       "Matrix([\n",
       "[M1, M2],\n",
       "[M3, M4]])"
      ]
     },
     "execution_count": 24,
     "metadata": {},
     "output_type": "execute_result"
    }
   ],
   "source": [
    "M = sp.Matrix([[\"M1\", \"M2\"], [\"M3\", \"M4\"]])\n",
    "M\n"
   ]
  },
  {
   "cell_type": "code",
   "execution_count": 25,
   "metadata": {},
   "outputs": [
    {
     "data": {
      "text/latex": [
       "$\\displaystyle \\left[\\begin{matrix}M_{1}^{2} & M_{1} M_{2} & M_{1} M_{2} & M_{2}^{2}\\\\M_{1} M_{3} & M_{1} M_{4} & M_{2} M_{3} & M_{2} M_{4}\\\\M_{1} M_{3} & M_{2} M_{3} & M_{1} M_{4} & M_{2} M_{4}\\\\M_{3}^{2} & M_{3} M_{4} & M_{3} M_{4} & M_{4}^{2}\\end{matrix}\\right]$"
      ],
      "text/plain": [
       "Matrix([\n",
       "[M1**2, M1*M2, M1*M2, M2**2],\n",
       "[M1*M3, M1*M4, M2*M3, M2*M4],\n",
       "[M1*M3, M2*M3, M1*M4, M2*M4],\n",
       "[M3**2, M3*M4, M3*M4, M4**2]])"
      ]
     },
     "execution_count": 25,
     "metadata": {},
     "output_type": "execute_result"
    }
   ],
   "source": [
    "sp.kronecker_product(M, M)"
   ]
  },
  {
   "cell_type": "code",
   "execution_count": 26,
   "metadata": {},
   "outputs": [
    {
     "data": {
      "text/latex": [
       "$\\displaystyle \\left[\\begin{matrix}\\left[\\begin{matrix}M_{1}^{2} & M_{1} M_{2}\\\\M_{1} M_{3} & M_{1} M_{4}\\end{matrix}\\right] & \\left[\\begin{matrix}M_{1} M_{2} & M_{2}^{2}\\\\M_{2} M_{3} & M_{2} M_{4}\\end{matrix}\\right]\\\\\\left[\\begin{matrix}M_{1} M_{3} & M_{2} M_{3}\\\\M_{3}^{2} & M_{3} M_{4}\\end{matrix}\\right] & \\left[\\begin{matrix}M_{1} M_{4} & M_{2} M_{4}\\\\M_{3} M_{4} & M_{4}^{2}\\end{matrix}\\right]\\end{matrix}\\right]$"
      ],
      "text/plain": [
       "[[[[M1**2, M1*M2], [M1*M3, M1*M4]], [[M1*M2, M2**2], [M2*M3, M2*M4]]], [[[M1*M3, M2*M3], [M3**2, M3*M4]], [[M1*M4, M2*M4], [M3*M4, M4**2]]]]"
      ]
     },
     "execution_count": 26,
     "metadata": {},
     "output_type": "execute_result"
    }
   ],
   "source": [
    "sp.tensorproduct(M, M)"
   ]
  },
  {
   "cell_type": "code",
   "execution_count": 28,
   "metadata": {},
   "outputs": [
    {
     "data": {
      "text/plain": [
       "array([[M1**2, M1*M2, M1*M2, M2**2],\n",
       "       [M1*M3, M1*M4, M2*M3, M2*M4],\n",
       "       [M1*M3, M2*M3, M1*M4, M2*M4],\n",
       "       [M3**2, M3*M4, M3*M4, M4**2]], dtype=object)"
      ]
     },
     "execution_count": 28,
     "metadata": {},
     "output_type": "execute_result"
    }
   ],
   "source": [
    "import numpy as np\n",
    "np.kron(M, M)"
   ]
  },
  {
   "cell_type": "code",
   "execution_count": 32,
   "metadata": {},
   "outputs": [
    {
     "data": {
      "text/latex": [
       "$\\displaystyle \\left[\\begin{matrix}M_{1}^{2} & M_{1} M_{2} & M_{1} M_{2} & M_{2}^{2}\\\\M_{1} M_{3} & M_{1} M_{4} & M_{2} M_{3} & M_{2} M_{4}\\\\M_{1} M_{3} & M_{2} M_{3} & M_{1} M_{4} & M_{2} M_{4}\\\\M_{3}^{2} & M_{3} M_{4} & M_{3} M_{4} & M_{4}^{2}\\end{matrix}\\right]$"
      ],
      "text/plain": [
       "Matrix([\n",
       "[M1**2, M1*M2, M1*M2, M2**2],\n",
       "[M1*M3, M1*M4, M2*M3, M2*M4],\n",
       "[M1*M3, M2*M3, M1*M4, M2*M4],\n",
       "[M3**2, M3*M4, M3*M4, M4**2]])"
      ]
     },
     "execution_count": 32,
     "metadata": {},
     "output_type": "execute_result"
    }
   ],
   "source": [
    "import sympy.physics.quantum\n",
    "sp.physics.quantum.TensorProduct(M, M)"
   ]
  },
  {
   "cell_type": "code",
   "execution_count": null,
   "metadata": {},
   "outputs": [],
   "source": []
  }
 ],
 "metadata": {
  "kernelspec": {
   "display_name": "Python 3",
   "language": "python",
   "name": "python3"
  },
  "language_info": {
   "codemirror_mode": {
    "name": "ipython",
    "version": 3
   },
   "file_extension": ".py",
   "mimetype": "text/x-python",
   "name": "python",
   "nbconvert_exporter": "python",
   "pygments_lexer": "ipython3",
   "version": "3.12.8"
  }
 },
 "nbformat": 4,
 "nbformat_minor": 2
}
