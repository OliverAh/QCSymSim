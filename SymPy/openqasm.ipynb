{
 "cells": [
  {
   "cell_type": "code",
   "execution_count": null,
   "metadata": {},
   "outputs": [],
   "source": [
    "import qiskit\n",
    "import qiskit.qasm3\n",
    "import openqasm3"
   ]
  },
  {
   "cell_type": "code",
   "execution_count": null,
   "metadata": {},
   "outputs": [],
   "source": [
    "qc = qiskit.QuantumCircuit(2)\n",
    "qc.h(0)\n",
    "qc.barrier()\n",
    "qc.cx(0, 1)\n",
    "qc.barrier()\n",
    "qc.measure_all()"
   ]
  },
  {
   "cell_type": "code",
   "execution_count": null,
   "metadata": {},
   "outputs": [],
   "source": [
    "with open('test.qasm', 'w') as f:\n",
    "    qiskit.qasm3.dump(qc, f)"
   ]
  },
  {
   "cell_type": "code",
   "execution_count": null,
   "metadata": {},
   "outputs": [],
   "source": [
    "#with open ('test.qasm', 'r') as f:\n",
    "with open ('HHL_circuit_Qiskit_2x2.qasm3', 'r') as f:\n",
    "    qasm = f.read()\n",
    "\n",
    "print(qasm)"
   ]
  },
  {
   "cell_type": "code",
   "execution_count": null,
   "metadata": {},
   "outputs": [],
   "source": [
    "qasm_ast_program = openqasm3.ast.Program(qasm)\n",
    "#openqasm3.parse(qasm)"
   ]
  },
  {
   "cell_type": "code",
   "execution_count": null,
   "metadata": {},
   "outputs": [],
   "source": [
    "qasm_ast_program.span"
   ]
  },
  {
   "cell_type": "code",
   "execution_count": null,
   "metadata": {},
   "outputs": [],
   "source": [
    "qasm_parsed_file= openqasm3.parse(qasm)"
   ]
  },
  {
   "cell_type": "code",
   "execution_count": null,
   "metadata": {},
   "outputs": [],
   "source": [
    "qasm_parsed_file.span"
   ]
  },
  {
   "cell_type": "code",
   "execution_count": null,
   "metadata": {},
   "outputs": [],
   "source": [
    "for s in qasm_parsed_file.statements:\n",
    "    print(s)"
   ]
  },
  {
   "cell_type": "code",
   "execution_count": null,
   "metadata": {},
   "outputs": [],
   "source": [
    "qasm_parsed_file.version"
   ]
  },
  {
   "cell_type": "code",
   "execution_count": null,
   "metadata": {},
   "outputs": [],
   "source": [
    "state = openqasm3.visitor.QASMVisitor().visit(node=qasm_parsed_file)"
   ]
  },
  {
   "cell_type": "code",
   "execution_count": null,
   "metadata": {},
   "outputs": [],
   "source": [
    "state"
   ]
  },
  {
   "cell_type": "code",
   "execution_count": null,
   "metadata": {},
   "outputs": [],
   "source": [
    "qasm_parsed_file.statements"
   ]
  },
  {
   "cell_type": "code",
   "execution_count": null,
   "metadata": {},
   "outputs": [],
   "source": [
    "for statement in qasm_parsed_file.statements:\n",
    "    print(statement)"
   ]
  },
  {
   "cell_type": "code",
   "execution_count": null,
   "metadata": {},
   "outputs": [],
   "source": [
    "for statement in qasm_parsed_file.statements:\n",
    "    if isinstance(statement, openqasm3.ast.Include):\n",
    "        print('Included filenames:', statement.filename)\n",
    "    elif isinstance(statement, openqasm3.ast.ClassicalDeclaration):\n",
    "        if isinstance(statement.type, openqasm3.ast.BitType):\n",
    "            cbit_type = 'bit'\n",
    "        else:\n",
    "            raise ValueError('Unknown type', 'statement.type:', statement.type)\n",
    "        cbit_name = statement.identifier.name\n",
    "        cbit_length = statement.type.size.value\n",
    "        print('Classical bit name:', cbit_name)\n",
    "        print('Classical bit type:', cbit_type)\n",
    "        print('Classical bit length:', cbit_length)\n",
    "    elif isinstance(statement, openqasm3.ast.QubitDeclaration):\n",
    "        qbit_name = statement.qubit.name\n",
    "        qbit_length = statement.size.value\n",
    "        print('Quantum bit name:', qbit_name)\n",
    "        print('Quantum bit length:', qbit_length)\n",
    "    elif isinstance(statement, openqasm3.ast.QuantumGate):\n",
    "        qgate_name = statement.name.name\n",
    "        qgate_qbit_names = [statement.qubits[i].name.name for i in range(len(statement.qubits))]\n",
    "        qgate_qbit_indices = [statement.qubits[i].indices[0][0].value for i in range(len(statement.qubits))] # why is there doubly nested list in indices?\n",
    "        print('Quantum gate name:', qgate_name)\n",
    "        print('Quantum gate qubits names:', qgate_qbit_names)\n",
    "        print('Quantum gate qubits indices:', qgate_qbit_indices)\n",
    "    elif isinstance(statement, openqasm3.ast.QuantumBarrier):\n",
    "        #print(statement)\n",
    "        qbarrier_name = 'barrier' # name is not stored in statement \n",
    "        qbarrier_qbit_names = [statement.qubits[i].name.name for i in range(len(statement.qubits))]\n",
    "        qbarrier_qbit_indices = [statement.qubits[i].indices[0][0].value for i in range(len(statement.qubits))] # why is there doubly nested list in indices?\n",
    "        print('Quantum gate name:', qbarrier_name)\n",
    "        print('Quantum gate qubits names:', qbarrier_qbit_names)\n",
    "        print('Quantum gate qubits indices:', qbarrier_qbit_indices)\n",
    "    elif isinstance(statement, openqasm3.ast.QuantumMeasurementStatement):\n",
    "        #print(statement)\n",
    "        qmeasurement_name = 'measurement' # name is not stored in statement \n",
    "        qmeasurement_qbit_name = statement.measure.qubit.name.name\n",
    "        qmeasurement_qbit_index = statement.measure.qubit.indices[0][0].value\n",
    "        qmeasurement_cbit_name = statement.target.name.name\n",
    "        qmeasurement_cbit_index = statement.target.indices[0][0].value\n",
    "        print('Quantum measurement name:', qmeasurement_name)\n",
    "        print('Quantum measurement qubit name:', qmeasurement_qbit_name)\n",
    "        print('Quantum measurement qubit index:', qmeasurement_qbit_index)\n",
    "        print('Quantum measurement cbit name:', qmeasurement_cbit_name)\n",
    "        print('Quantum measurement cbit index:', qmeasurement_cbit_index)\n",
    "\n",
    "######\n",
    "#\n",
    "# the statements are ordered in some logical timeseries manner. A gate can be interpreted as a definite border between two time steps.\n",
    "#\n",
    "######"
   ]
  },
  {
   "cell_type": "code",
   "execution_count": null,
   "metadata": {},
   "outputs": [],
   "source": [
    "import QSymPy"
   ]
  },
  {
   "cell_type": "code",
   "execution_count": null,
   "metadata": {},
   "outputs": [],
   "source": [
    "qcs = QSymPy.QuantumCircuit(num_qubits=2, num_clbits=2)\n",
    "qcs.add_gate('H', qubits_t=[0], step=0)\n",
    "qcs.add_barrier(step=0)\n",
    "qcs.add_gate('CX', qubits_c=[0], qubits_t=[1], step=1)\n",
    "qcs.add_barrier(step=1)\n",
    "\n",
    "qcs.assemble_symbolic_unitary()\n",
    "qcs.unitary\n"
   ]
  },
  {
   "cell_type": "code",
   "execution_count": null,
   "metadata": {},
   "outputs": [],
   "source": [
    "for e in qcs.unitary[0,0].free_symbols: break\n",
    "e.name"
   ]
  },
  {
   "cell_type": "code",
   "execution_count": null,
   "metadata": {},
   "outputs": [],
   "source": [
    "qcs.barrier_collection"
   ]
  },
  {
   "cell_type": "code",
   "execution_count": null,
   "metadata": {},
   "outputs": [],
   "source": [
    "qcs2 = QSymPy.QuantumCircuit(num_qubits=2, num_clbits=2)\n",
    "qcs2.add_gate(name='U', qubits_t=[0], step=0, parameters={'theta': 0.5, 'phi': 0.5, 'lambda': 0.5})\n",
    "qcs2.add_gate(name='X', qubits_t=[1], step=0)\n",
    "qcs2.assemble_symbolic_unitary()\n",
    "qcs2.unitary"
   ]
  },
  {
   "cell_type": "code",
   "execution_count": null,
   "metadata": {},
   "outputs": [],
   "source": [
    "qcs2.gate_collection.collections['U'][0].matrix_alt"
   ]
  },
  {
   "cell_type": "code",
   "execution_count": null,
   "metadata": {},
   "outputs": [],
   "source": [
    "#subs_symbolic_alternatives_in_symbolic_unitary\n",
    "qcs2.unitary"
   ]
  },
  {
   "cell_type": "code",
   "execution_count": null,
   "metadata": {},
   "outputs": [],
   "source": [
    "#qcs2.subs_symbolic_alternatives_in_symbolic_unitary({'steps': (0,0), 'names': ('U','U'), 'qubits_t': (0,1)})\n",
    "qcs2.subs_symbolic_alternatives_in_symbolic_unitary()\n",
    "qcs2.unitary"
   ]
  },
  {
   "cell_type": "code",
   "execution_count": null,
   "metadata": {},
   "outputs": [],
   "source": [
    "qcs3 = QSymPy.QuantumCircuit(num_qubits=2, num_clbits=2)\n",
    "qcs3.add_gate(name='GP', qubits_t=[0], step=0, parameters={'gamma': 0.5})\n",
    "qcs3.assemble_symbolic_unitary()\n",
    "qcs3.unitary"
   ]
  },
  {
   "cell_type": "code",
   "execution_count": null,
   "metadata": {},
   "outputs": [],
   "source": [
    "qcs3.subs_symbolic_alternatives_in_symbolic_unitary()\n",
    "qcs3.unitary"
   ]
  },
  {
   "cell_type": "code",
   "execution_count": null,
   "metadata": {},
   "outputs": [],
   "source": [
    "qcs4 = QSymPy.QuantumCircuit(num_qubits=2, num_clbits=2)\n",
    "qcs4.add_gate(name='P', qubits_t=[0], step=0, parameters={'lambda': 0.5})\n",
    "qcs4.assemble_symbolic_unitary()\n",
    "qcs4.unitary"
   ]
  },
  {
   "cell_type": "code",
   "execution_count": null,
   "metadata": {},
   "outputs": [],
   "source": [
    "qcs4.subs_symbolic_alternatives_in_symbolic_unitary()\n",
    "qcs4.unitary"
   ]
  },
  {
   "cell_type": "code",
   "execution_count": null,
   "metadata": {},
   "outputs": [],
   "source": [
    "import numpy as np\n",
    "qcs2.gate_collection.collections['U'][0].matrix_numeric\n"
   ]
  },
  {
   "cell_type": "code",
   "execution_count": null,
   "metadata": {},
   "outputs": [],
   "source": [
    "np.array(qcs2.gate_collection.collections['U'][0].matrix_numeric)"
   ]
  },
  {
   "cell_type": "code",
   "execution_count": null,
   "metadata": {},
   "outputs": [],
   "source": [
    "qcs2.gate_collection.collections['U'][0].atomics"
   ]
  },
  {
   "cell_type": "code",
   "execution_count": null,
   "metadata": {},
   "outputs": [],
   "source": [
    "qcs2.subs_symbolic_zerosones_in_symbolic_unitary()\n",
    "qcs2.unitary"
   ]
  },
  {
   "cell_type": "code",
   "execution_count": null,
   "metadata": {},
   "outputs": [],
   "source": [
    "qcs2.create_numeric_unitary_from_symbolic()\n",
    "qcs2.unitary_numeric"
   ]
  },
  {
   "cell_type": "code",
   "execution_count": null,
   "metadata": {},
   "outputs": [],
   "source": [
    "qc_imported = QSymPy.openqasm3_to_qc('test.qasm')\n",
    "#qc_imported = QSymPy.openqasm3_to_qc('HHL_circuit_Qiskit_2x2.qasm3')"
   ]
  },
  {
   "cell_type": "code",
   "execution_count": null,
   "metadata": {},
   "outputs": [],
   "source": [
    "qc_imported.assemble_symbolic_unitary()\n",
    "qc_imported.unitary"
   ]
  },
  {
   "cell_type": "code",
   "execution_count": null,
   "metadata": {},
   "outputs": [],
   "source": [
    "qcs4 = QSymPy.QuantumCircuit(num_qubits=3, num_clbits=2)\n",
    "qcs4.add_gate(name='CX', qubits_t=[0], qubits_c=[1], step=0)\n",
    "qcs4.assemble_symbolic_unitary()\n",
    "qcs4.unitary"
   ]
  },
  {
   "cell_type": "code",
   "execution_count": null,
   "metadata": {},
   "outputs": [],
   "source": [
    "qcs4.gate_collection.collections['CX'][0].matrix"
   ]
  },
  {
   "cell_type": "code",
   "execution_count": null,
   "metadata": {},
   "outputs": [],
   "source": [
    "qcs4.gate_collection.collections['CX'][0].atomics"
   ]
  },
  {
   "cell_type": "code",
   "execution_count": null,
   "metadata": {},
   "outputs": [],
   "source": [
    "qcs4.assemble_symbolic_unitary()\n",
    "qcs4.unitary"
   ]
  },
  {
   "cell_type": "code",
   "execution_count": null,
   "metadata": {},
   "outputs": [],
   "source": [
    "qcs4.subs_symbolic_zerosones_in_symbolic_unitary()\n",
    "qcs4.unitary"
   ]
  },
  {
   "cell_type": "code",
   "execution_count": null,
   "metadata": {},
   "outputs": [],
   "source": [
    "qcs4.unitary.atoms()"
   ]
  },
  {
   "cell_type": "code",
   "execution_count": null,
   "metadata": {},
   "outputs": [],
   "source": [
    "qcs4.unitary.subs({'CX_X_qt0_qc1_s0_p01': -1})"
   ]
  },
  {
   "cell_type": "code",
   "execution_count": null,
   "metadata": {},
   "outputs": [],
   "source": [
    "qcs4.create_numeric_unitary_from_symbolic()\n",
    "qcs4.unitary_numeric"
   ]
  },
  {
   "cell_type": "code",
   "execution_count": null,
   "metadata": {},
   "outputs": [],
   "source": [
    "qcs5 = QSymPy.QuantumCircuit(num_qubits=3, num_clbits=2)\n",
    "qcs5.add_gate(name='CCX', qubits_t=[0], qubits_c=[1, 2], step=0)\n",
    "qcs5.assemble_symbolic_unitary()\n",
    "qcs5.unitary"
   ]
  },
  {
   "cell_type": "code",
   "execution_count": null,
   "metadata": {},
   "outputs": [],
   "source": [
    "qcs5.create_numeric_unitary_from_symbolic()\n",
    "qcs5.unitary_numeric"
   ]
  },
  {
   "cell_type": "code",
   "execution_count": null,
   "metadata": {},
   "outputs": [],
   "source": [
    "qcs5.gate_collection.collections['CCX'][0].matrix"
   ]
  },
  {
   "cell_type": "code",
   "execution_count": null,
   "metadata": {},
   "outputs": [],
   "source": [
    "qcs6 = QSymPy.QuantumCircuit(num_qubits=4, num_clbits=2)\n",
    "qcs6.add_gate(name='CCXX', qubits_t=[0,1], qubits_c=[2, 3], step=0)\n",
    "qcs6.assemble_symbolic_unitary()\n",
    "qcs6.unitary"
   ]
  },
  {
   "cell_type": "code",
   "execution_count": null,
   "metadata": {},
   "outputs": [],
   "source": [
    "qcs6.create_numeric_unitary_from_symbolic()\n",
    "qcs6.unitary_numeric"
   ]
  },
  {
   "cell_type": "code",
   "execution_count": null,
   "metadata": {},
   "outputs": [],
   "source": [
    "qcs7 = QSymPy.QuantumCircuit(num_qubits=2, num_clbits=2)\n",
    "qcs7.add_gate(name='CU', qubits_t=[0], qubits_c=[1], step=0, parameters={'theta': 0.5, 'phi': 0.5, 'lambda': 0.5})\n",
    "qcs7.assemble_symbolic_unitary()\n",
    "qcs7.unitary"
   ]
  },
  {
   "cell_type": "code",
   "execution_count": null,
   "metadata": {},
   "outputs": [],
   "source": [
    "qcs7.subs_symbolic_alternatives_in_symbolic_unitary()\n",
    "qcs7.unitary"
   ]
  },
  {
   "cell_type": "code",
   "execution_count": null,
   "metadata": {},
   "outputs": [],
   "source": [
    "qcs8 = QSymPy.QuantumCircuit(num_qubits=3, num_clbits=2)\n",
    "qcs8.add_gate(name='CUU', qubits_t=[0,1], qubits_c=[2], step=0, parameters=[{'theta': 0.5, 'phi': 0.5, 'lambda': 0.5}, {'theta': 0.5, 'phi': 0.5, 'lambda': 0.5}])\n",
    "qcs8.assemble_symbolic_unitary()\n",
    "qcs8.unitary"
   ]
  },
  {
   "cell_type": "code",
   "execution_count": null,
   "metadata": {},
   "outputs": [],
   "source": [
    "qcs8.subs_symbolic_alternatives_in_symbolic_unitary()\n",
    "qcs8.unitary"
   ]
  },
  {
   "cell_type": "code",
   "execution_count": null,
   "metadata": {},
   "outputs": [],
   "source": [
    "qcs8.subs_symbolic_zerosones_in_symbolic_unitary(zeros=True, ones=True)\n",
    "qcs8.unitary"
   ]
  }
 ],
 "metadata": {
  "kernelspec": {
   "display_name": "Python 3",
   "language": "python",
   "name": "python3"
  },
  "language_info": {
   "codemirror_mode": {
    "name": "ipython",
    "version": 3
   },
   "file_extension": ".py",
   "mimetype": "text/x-python",
   "name": "python",
   "nbconvert_exporter": "python",
   "pygments_lexer": "ipython3",
   "version": "3.13.7"
  }
 },
 "nbformat": 4,
 "nbformat_minor": 2
}
