{
 "cells": [
  {
   "cell_type": "code",
   "execution_count": 1,
   "metadata": {},
   "outputs": [],
   "source": [
    "import qiskit\n",
    "import qiskit.qasm3\n",
    "import openqasm3"
   ]
  },
  {
   "cell_type": "code",
   "execution_count": 2,
   "metadata": {},
   "outputs": [],
   "source": [
    "qc = qiskit.QuantumCircuit(2)\n",
    "qc.h(0)\n",
    "qc.barrier()\n",
    "qc.cx(0, 1)\n",
    "qc.barrier()\n",
    "qc.measure_all()"
   ]
  },
  {
   "cell_type": "code",
   "execution_count": 3,
   "metadata": {},
   "outputs": [],
   "source": [
    "with open('test.qasm', 'w') as f:\n",
    "    qiskit.qasm3.dump(qc, f)"
   ]
  },
  {
   "cell_type": "code",
   "execution_count": 4,
   "metadata": {},
   "outputs": [
    {
     "name": "stdout",
     "output_type": "stream",
     "text": [
      "OPENQASM 3.0;\n",
      "include \"stdgates.inc\";\n",
      "bit[2] meas;\n",
      "qubit[2] q;\n",
      "h q[0];\n",
      "barrier q[0], q[1];\n",
      "cx q[0], q[1];\n",
      "barrier q[0], q[1];\n",
      "barrier q[0], q[1];\n",
      "meas[0] = measure q[0];\n",
      "meas[1] = measure q[1];\n",
      "\n"
     ]
    }
   ],
   "source": [
    "with open ('test.qasm', 'r') as f:\n",
    "    qasm = f.read()\n",
    "\n",
    "print(qasm)"
   ]
  },
  {
   "cell_type": "code",
   "execution_count": 5,
   "metadata": {},
   "outputs": [],
   "source": [
    "qasm_ast_program = openqasm3.ast.Program(qasm)\n",
    "#openqasm3.parse(qasm)"
   ]
  },
  {
   "cell_type": "code",
   "execution_count": 6,
   "metadata": {},
   "outputs": [],
   "source": [
    "qasm_ast_program.span"
   ]
  },
  {
   "cell_type": "code",
   "execution_count": 7,
   "metadata": {},
   "outputs": [],
   "source": [
    " qasm_parsed_file= openqasm3.parse(qasm)"
   ]
  },
  {
   "cell_type": "code",
   "execution_count": 8,
   "metadata": {},
   "outputs": [
    {
     "data": {
      "text/plain": [
       "Span(start_line=1, start_column=0, end_line=11, end_column=22)"
      ]
     },
     "execution_count": 8,
     "metadata": {},
     "output_type": "execute_result"
    }
   ],
   "source": [
    "qasm_parsed_file.span"
   ]
  },
  {
   "cell_type": "code",
   "execution_count": 9,
   "metadata": {},
   "outputs": [
    {
     "data": {
      "text/plain": [
       "[Include(span=Span(start_line=2, start_column=0, end_line=2, end_column=22), annotations=[], filename='stdgates.inc'),\n",
       " ClassicalDeclaration(span=Span(start_line=3, start_column=0, end_line=3, end_column=11), annotations=[], type=BitType(span=Span(start_line=3, start_column=0, end_line=3, end_column=5), size=IntegerLiteral(span=Span(start_line=3, start_column=3, end_line=3, end_column=5), value=2)), identifier=Identifier(span=Span(start_line=3, start_column=45, end_line=3, end_column=48), name='meas'), init_expression=None),\n",
       " QubitDeclaration(span=Span(start_line=4, start_column=0, end_line=4, end_column=10), annotations=[], qubit=Identifier(span=Span(start_line=4, start_column=60, end_line=4, end_column=60), name='q'), size=IntegerLiteral(span=Span(start_line=4, start_column=5, end_line=4, end_column=7), value=2)),\n",
       " QuantumGate(span=Span(start_line=5, start_column=0, end_line=5, end_column=6), annotations=[], modifiers=[], name=Identifier(span=Span(start_line=5, start_column=63, end_line=5, end_column=63), name='h'), arguments=[], qubits=[IndexedIdentifier(span=Span(start_line=5, start_column=2, end_line=5, end_column=5), name=Identifier(span=Span(start_line=5, start_column=65, end_line=5, end_column=65), name='q'), indices=[[IntegerLiteral(span=Span(start_line=5, start_column=4, end_line=5, end_column=4), value=0)]])], duration=None),\n",
       " QuantumBarrier(span=Span(start_line=6, start_column=0, end_line=6, end_column=18), annotations=[], qubits=[IndexedIdentifier(span=Span(start_line=6, start_column=8, end_line=6, end_column=11), name=Identifier(span=Span(start_line=6, start_column=79, end_line=6, end_column=79), name='q'), indices=[[IntegerLiteral(span=Span(start_line=6, start_column=10, end_line=6, end_column=10), value=0)]]), IndexedIdentifier(span=Span(start_line=6, start_column=14, end_line=6, end_column=17), name=Identifier(span=Span(start_line=6, start_column=85, end_line=6, end_column=85), name='q'), indices=[[IntegerLiteral(span=Span(start_line=6, start_column=16, end_line=6, end_column=16), value=1)]])]),\n",
       " QuantumGate(span=Span(start_line=7, start_column=0, end_line=7, end_column=13), annotations=[], modifiers=[], name=Identifier(span=Span(start_line=7, start_column=91, end_line=7, end_column=92), name='cx'), arguments=[], qubits=[IndexedIdentifier(span=Span(start_line=7, start_column=3, end_line=7, end_column=6), name=Identifier(span=Span(start_line=7, start_column=94, end_line=7, end_column=94), name='q'), indices=[[IntegerLiteral(span=Span(start_line=7, start_column=5, end_line=7, end_column=5), value=0)]]), IndexedIdentifier(span=Span(start_line=7, start_column=9, end_line=7, end_column=12), name=Identifier(span=Span(start_line=7, start_column=100, end_line=7, end_column=100), name='q'), indices=[[IntegerLiteral(span=Span(start_line=7, start_column=11, end_line=7, end_column=11), value=1)]])], duration=None),\n",
       " QuantumBarrier(span=Span(start_line=8, start_column=0, end_line=8, end_column=18), annotations=[], qubits=[IndexedIdentifier(span=Span(start_line=8, start_column=8, end_line=8, end_column=11), name=Identifier(span=Span(start_line=8, start_column=114, end_line=8, end_column=114), name='q'), indices=[[IntegerLiteral(span=Span(start_line=8, start_column=10, end_line=8, end_column=10), value=0)]]), IndexedIdentifier(span=Span(start_line=8, start_column=14, end_line=8, end_column=17), name=Identifier(span=Span(start_line=8, start_column=120, end_line=8, end_column=120), name='q'), indices=[[IntegerLiteral(span=Span(start_line=8, start_column=16, end_line=8, end_column=16), value=1)]])]),\n",
       " QuantumBarrier(span=Span(start_line=9, start_column=0, end_line=9, end_column=18), annotations=[], qubits=[IndexedIdentifier(span=Span(start_line=9, start_column=8, end_line=9, end_column=11), name=Identifier(span=Span(start_line=9, start_column=134, end_line=9, end_column=134), name='q'), indices=[[IntegerLiteral(span=Span(start_line=9, start_column=10, end_line=9, end_column=10), value=0)]]), IndexedIdentifier(span=Span(start_line=9, start_column=14, end_line=9, end_column=17), name=Identifier(span=Span(start_line=9, start_column=140, end_line=9, end_column=140), name='q'), indices=[[IntegerLiteral(span=Span(start_line=9, start_column=16, end_line=9, end_column=16), value=1)]])]),\n",
       " QuantumMeasurementStatement(span=Span(start_line=10, start_column=0, end_line=10, end_column=22), annotations=[], measure=QuantumMeasurement(span=Span(start_line=10, start_column=10, end_line=10, end_column=21), qubit=IndexedIdentifier(span=Span(start_line=10, start_column=18, end_line=10, end_column=21), name=Identifier(span=Span(start_line=10, start_column=164, end_line=10, end_column=164), name='q'), indices=[[IntegerLiteral(span=Span(start_line=10, start_column=20, end_line=10, end_column=20), value=0)]])), target=IndexedIdentifier(span=Span(start_line=10, start_column=0, end_line=10, end_column=6), name=Identifier(span=Span(start_line=10, start_column=146, end_line=10, end_column=149), name='meas'), indices=[[IntegerLiteral(span=Span(start_line=10, start_column=5, end_line=10, end_column=5), value=0)]])),\n",
       " QuantumMeasurementStatement(span=Span(start_line=11, start_column=0, end_line=11, end_column=22), annotations=[], measure=QuantumMeasurement(span=Span(start_line=11, start_column=10, end_line=11, end_column=21), qubit=IndexedIdentifier(span=Span(start_line=11, start_column=18, end_line=11, end_column=21), name=Identifier(span=Span(start_line=11, start_column=188, end_line=11, end_column=188), name='q'), indices=[[IntegerLiteral(span=Span(start_line=11, start_column=20, end_line=11, end_column=20), value=1)]])), target=IndexedIdentifier(span=Span(start_line=11, start_column=0, end_line=11, end_column=6), name=Identifier(span=Span(start_line=11, start_column=170, end_line=11, end_column=173), name='meas'), indices=[[IntegerLiteral(span=Span(start_line=11, start_column=5, end_line=11, end_column=5), value=1)]]))]"
      ]
     },
     "execution_count": 9,
     "metadata": {},
     "output_type": "execute_result"
    }
   ],
   "source": [
    "qasm_parsed_file.statements"
   ]
  },
  {
   "cell_type": "code",
   "execution_count": 10,
   "metadata": {},
   "outputs": [
    {
     "data": {
      "text/plain": [
       "'3.0'"
      ]
     },
     "execution_count": 10,
     "metadata": {},
     "output_type": "execute_result"
    }
   ],
   "source": [
    "qasm_parsed_file.version"
   ]
  },
  {
   "cell_type": "code",
   "execution_count": 11,
   "metadata": {},
   "outputs": [],
   "source": [
    "state = openqasm3.visitor.QASMVisitor().visit(node=qasm_parsed_file)"
   ]
  },
  {
   "cell_type": "code",
   "execution_count": 12,
   "metadata": {},
   "outputs": [],
   "source": [
    "state"
   ]
  },
  {
   "cell_type": "code",
   "execution_count": 13,
   "metadata": {},
   "outputs": [
    {
     "data": {
      "text/plain": [
       "[Include(span=Span(start_line=2, start_column=0, end_line=2, end_column=22), annotations=[], filename='stdgates.inc'),\n",
       " ClassicalDeclaration(span=Span(start_line=3, start_column=0, end_line=3, end_column=11), annotations=[], type=BitType(span=Span(start_line=3, start_column=0, end_line=3, end_column=5), size=IntegerLiteral(span=Span(start_line=3, start_column=3, end_line=3, end_column=5), value=2)), identifier=Identifier(span=Span(start_line=3, start_column=45, end_line=3, end_column=48), name='meas'), init_expression=None),\n",
       " QubitDeclaration(span=Span(start_line=4, start_column=0, end_line=4, end_column=10), annotations=[], qubit=Identifier(span=Span(start_line=4, start_column=60, end_line=4, end_column=60), name='q'), size=IntegerLiteral(span=Span(start_line=4, start_column=5, end_line=4, end_column=7), value=2)),\n",
       " QuantumGate(span=Span(start_line=5, start_column=0, end_line=5, end_column=6), annotations=[], modifiers=[], name=Identifier(span=Span(start_line=5, start_column=63, end_line=5, end_column=63), name='h'), arguments=[], qubits=[IndexedIdentifier(span=Span(start_line=5, start_column=2, end_line=5, end_column=5), name=Identifier(span=Span(start_line=5, start_column=65, end_line=5, end_column=65), name='q'), indices=[[IntegerLiteral(span=Span(start_line=5, start_column=4, end_line=5, end_column=4), value=0)]])], duration=None),\n",
       " QuantumBarrier(span=Span(start_line=6, start_column=0, end_line=6, end_column=18), annotations=[], qubits=[IndexedIdentifier(span=Span(start_line=6, start_column=8, end_line=6, end_column=11), name=Identifier(span=Span(start_line=6, start_column=79, end_line=6, end_column=79), name='q'), indices=[[IntegerLiteral(span=Span(start_line=6, start_column=10, end_line=6, end_column=10), value=0)]]), IndexedIdentifier(span=Span(start_line=6, start_column=14, end_line=6, end_column=17), name=Identifier(span=Span(start_line=6, start_column=85, end_line=6, end_column=85), name='q'), indices=[[IntegerLiteral(span=Span(start_line=6, start_column=16, end_line=6, end_column=16), value=1)]])]),\n",
       " QuantumGate(span=Span(start_line=7, start_column=0, end_line=7, end_column=13), annotations=[], modifiers=[], name=Identifier(span=Span(start_line=7, start_column=91, end_line=7, end_column=92), name='cx'), arguments=[], qubits=[IndexedIdentifier(span=Span(start_line=7, start_column=3, end_line=7, end_column=6), name=Identifier(span=Span(start_line=7, start_column=94, end_line=7, end_column=94), name='q'), indices=[[IntegerLiteral(span=Span(start_line=7, start_column=5, end_line=7, end_column=5), value=0)]]), IndexedIdentifier(span=Span(start_line=7, start_column=9, end_line=7, end_column=12), name=Identifier(span=Span(start_line=7, start_column=100, end_line=7, end_column=100), name='q'), indices=[[IntegerLiteral(span=Span(start_line=7, start_column=11, end_line=7, end_column=11), value=1)]])], duration=None),\n",
       " QuantumBarrier(span=Span(start_line=8, start_column=0, end_line=8, end_column=18), annotations=[], qubits=[IndexedIdentifier(span=Span(start_line=8, start_column=8, end_line=8, end_column=11), name=Identifier(span=Span(start_line=8, start_column=114, end_line=8, end_column=114), name='q'), indices=[[IntegerLiteral(span=Span(start_line=8, start_column=10, end_line=8, end_column=10), value=0)]]), IndexedIdentifier(span=Span(start_line=8, start_column=14, end_line=8, end_column=17), name=Identifier(span=Span(start_line=8, start_column=120, end_line=8, end_column=120), name='q'), indices=[[IntegerLiteral(span=Span(start_line=8, start_column=16, end_line=8, end_column=16), value=1)]])]),\n",
       " QuantumBarrier(span=Span(start_line=9, start_column=0, end_line=9, end_column=18), annotations=[], qubits=[IndexedIdentifier(span=Span(start_line=9, start_column=8, end_line=9, end_column=11), name=Identifier(span=Span(start_line=9, start_column=134, end_line=9, end_column=134), name='q'), indices=[[IntegerLiteral(span=Span(start_line=9, start_column=10, end_line=9, end_column=10), value=0)]]), IndexedIdentifier(span=Span(start_line=9, start_column=14, end_line=9, end_column=17), name=Identifier(span=Span(start_line=9, start_column=140, end_line=9, end_column=140), name='q'), indices=[[IntegerLiteral(span=Span(start_line=9, start_column=16, end_line=9, end_column=16), value=1)]])]),\n",
       " QuantumMeasurementStatement(span=Span(start_line=10, start_column=0, end_line=10, end_column=22), annotations=[], measure=QuantumMeasurement(span=Span(start_line=10, start_column=10, end_line=10, end_column=21), qubit=IndexedIdentifier(span=Span(start_line=10, start_column=18, end_line=10, end_column=21), name=Identifier(span=Span(start_line=10, start_column=164, end_line=10, end_column=164), name='q'), indices=[[IntegerLiteral(span=Span(start_line=10, start_column=20, end_line=10, end_column=20), value=0)]])), target=IndexedIdentifier(span=Span(start_line=10, start_column=0, end_line=10, end_column=6), name=Identifier(span=Span(start_line=10, start_column=146, end_line=10, end_column=149), name='meas'), indices=[[IntegerLiteral(span=Span(start_line=10, start_column=5, end_line=10, end_column=5), value=0)]])),\n",
       " QuantumMeasurementStatement(span=Span(start_line=11, start_column=0, end_line=11, end_column=22), annotations=[], measure=QuantumMeasurement(span=Span(start_line=11, start_column=10, end_line=11, end_column=21), qubit=IndexedIdentifier(span=Span(start_line=11, start_column=18, end_line=11, end_column=21), name=Identifier(span=Span(start_line=11, start_column=188, end_line=11, end_column=188), name='q'), indices=[[IntegerLiteral(span=Span(start_line=11, start_column=20, end_line=11, end_column=20), value=1)]])), target=IndexedIdentifier(span=Span(start_line=11, start_column=0, end_line=11, end_column=6), name=Identifier(span=Span(start_line=11, start_column=170, end_line=11, end_column=173), name='meas'), indices=[[IntegerLiteral(span=Span(start_line=11, start_column=5, end_line=11, end_column=5), value=1)]]))]"
      ]
     },
     "execution_count": 13,
     "metadata": {},
     "output_type": "execute_result"
    }
   ],
   "source": [
    "qasm_parsed_file.statements"
   ]
  },
  {
   "cell_type": "code",
   "execution_count": 14,
   "metadata": {},
   "outputs": [
    {
     "name": "stdout",
     "output_type": "stream",
     "text": [
      "Include(span=Span(start_line=2, start_column=0, end_line=2, end_column=22), annotations=[], filename='stdgates.inc')\n",
      "ClassicalDeclaration(span=Span(start_line=3, start_column=0, end_line=3, end_column=11), annotations=[], type=BitType(span=Span(start_line=3, start_column=0, end_line=3, end_column=5), size=IntegerLiteral(span=Span(start_line=3, start_column=3, end_line=3, end_column=5), value=2)), identifier=Identifier(span=Span(start_line=3, start_column=45, end_line=3, end_column=48), name='meas'), init_expression=None)\n",
      "QubitDeclaration(span=Span(start_line=4, start_column=0, end_line=4, end_column=10), annotations=[], qubit=Identifier(span=Span(start_line=4, start_column=60, end_line=4, end_column=60), name='q'), size=IntegerLiteral(span=Span(start_line=4, start_column=5, end_line=4, end_column=7), value=2))\n",
      "QuantumGate(span=Span(start_line=5, start_column=0, end_line=5, end_column=6), annotations=[], modifiers=[], name=Identifier(span=Span(start_line=5, start_column=63, end_line=5, end_column=63), name='h'), arguments=[], qubits=[IndexedIdentifier(span=Span(start_line=5, start_column=2, end_line=5, end_column=5), name=Identifier(span=Span(start_line=5, start_column=65, end_line=5, end_column=65), name='q'), indices=[[IntegerLiteral(span=Span(start_line=5, start_column=4, end_line=5, end_column=4), value=0)]])], duration=None)\n",
      "QuantumBarrier(span=Span(start_line=6, start_column=0, end_line=6, end_column=18), annotations=[], qubits=[IndexedIdentifier(span=Span(start_line=6, start_column=8, end_line=6, end_column=11), name=Identifier(span=Span(start_line=6, start_column=79, end_line=6, end_column=79), name='q'), indices=[[IntegerLiteral(span=Span(start_line=6, start_column=10, end_line=6, end_column=10), value=0)]]), IndexedIdentifier(span=Span(start_line=6, start_column=14, end_line=6, end_column=17), name=Identifier(span=Span(start_line=6, start_column=85, end_line=6, end_column=85), name='q'), indices=[[IntegerLiteral(span=Span(start_line=6, start_column=16, end_line=6, end_column=16), value=1)]])])\n",
      "QuantumGate(span=Span(start_line=7, start_column=0, end_line=7, end_column=13), annotations=[], modifiers=[], name=Identifier(span=Span(start_line=7, start_column=91, end_line=7, end_column=92), name='cx'), arguments=[], qubits=[IndexedIdentifier(span=Span(start_line=7, start_column=3, end_line=7, end_column=6), name=Identifier(span=Span(start_line=7, start_column=94, end_line=7, end_column=94), name='q'), indices=[[IntegerLiteral(span=Span(start_line=7, start_column=5, end_line=7, end_column=5), value=0)]]), IndexedIdentifier(span=Span(start_line=7, start_column=9, end_line=7, end_column=12), name=Identifier(span=Span(start_line=7, start_column=100, end_line=7, end_column=100), name='q'), indices=[[IntegerLiteral(span=Span(start_line=7, start_column=11, end_line=7, end_column=11), value=1)]])], duration=None)\n",
      "QuantumBarrier(span=Span(start_line=8, start_column=0, end_line=8, end_column=18), annotations=[], qubits=[IndexedIdentifier(span=Span(start_line=8, start_column=8, end_line=8, end_column=11), name=Identifier(span=Span(start_line=8, start_column=114, end_line=8, end_column=114), name='q'), indices=[[IntegerLiteral(span=Span(start_line=8, start_column=10, end_line=8, end_column=10), value=0)]]), IndexedIdentifier(span=Span(start_line=8, start_column=14, end_line=8, end_column=17), name=Identifier(span=Span(start_line=8, start_column=120, end_line=8, end_column=120), name='q'), indices=[[IntegerLiteral(span=Span(start_line=8, start_column=16, end_line=8, end_column=16), value=1)]])])\n",
      "QuantumBarrier(span=Span(start_line=9, start_column=0, end_line=9, end_column=18), annotations=[], qubits=[IndexedIdentifier(span=Span(start_line=9, start_column=8, end_line=9, end_column=11), name=Identifier(span=Span(start_line=9, start_column=134, end_line=9, end_column=134), name='q'), indices=[[IntegerLiteral(span=Span(start_line=9, start_column=10, end_line=9, end_column=10), value=0)]]), IndexedIdentifier(span=Span(start_line=9, start_column=14, end_line=9, end_column=17), name=Identifier(span=Span(start_line=9, start_column=140, end_line=9, end_column=140), name='q'), indices=[[IntegerLiteral(span=Span(start_line=9, start_column=16, end_line=9, end_column=16), value=1)]])])\n",
      "QuantumMeasurementStatement(span=Span(start_line=10, start_column=0, end_line=10, end_column=22), annotations=[], measure=QuantumMeasurement(span=Span(start_line=10, start_column=10, end_line=10, end_column=21), qubit=IndexedIdentifier(span=Span(start_line=10, start_column=18, end_line=10, end_column=21), name=Identifier(span=Span(start_line=10, start_column=164, end_line=10, end_column=164), name='q'), indices=[[IntegerLiteral(span=Span(start_line=10, start_column=20, end_line=10, end_column=20), value=0)]])), target=IndexedIdentifier(span=Span(start_line=10, start_column=0, end_line=10, end_column=6), name=Identifier(span=Span(start_line=10, start_column=146, end_line=10, end_column=149), name='meas'), indices=[[IntegerLiteral(span=Span(start_line=10, start_column=5, end_line=10, end_column=5), value=0)]]))\n",
      "QuantumMeasurementStatement(span=Span(start_line=11, start_column=0, end_line=11, end_column=22), annotations=[], measure=QuantumMeasurement(span=Span(start_line=11, start_column=10, end_line=11, end_column=21), qubit=IndexedIdentifier(span=Span(start_line=11, start_column=18, end_line=11, end_column=21), name=Identifier(span=Span(start_line=11, start_column=188, end_line=11, end_column=188), name='q'), indices=[[IntegerLiteral(span=Span(start_line=11, start_column=20, end_line=11, end_column=20), value=1)]])), target=IndexedIdentifier(span=Span(start_line=11, start_column=0, end_line=11, end_column=6), name=Identifier(span=Span(start_line=11, start_column=170, end_line=11, end_column=173), name='meas'), indices=[[IntegerLiteral(span=Span(start_line=11, start_column=5, end_line=11, end_column=5), value=1)]]))\n"
     ]
    }
   ],
   "source": [
    "for statement in qasm_parsed_file.statements:\n",
    "    print(statement)"
   ]
  },
  {
   "cell_type": "code",
   "execution_count": 15,
   "metadata": {},
   "outputs": [
    {
     "name": "stdout",
     "output_type": "stream",
     "text": [
      "Included filenames: stdgates.inc\n",
      "Classical bit name: meas\n",
      "Classical bit type: bit\n",
      "Classical bit length: 2\n",
      "Quantum bit name: q\n",
      "Quantum bit length: 2\n",
      "Quantum gate name: h\n",
      "Quantum gate qubits names: ['q']\n",
      "Quantum gate qubits indices: [0]\n",
      "Quantum gate name: barrier\n",
      "Quantum gate qubits names: ['q', 'q']\n",
      "Quantum gate qubits indices: [0, 1]\n",
      "Quantum gate name: cx\n",
      "Quantum gate qubits names: ['q', 'q']\n",
      "Quantum gate qubits indices: [0, 1]\n",
      "Quantum gate name: barrier\n",
      "Quantum gate qubits names: ['q', 'q']\n",
      "Quantum gate qubits indices: [0, 1]\n",
      "Quantum gate name: barrier\n",
      "Quantum gate qubits names: ['q', 'q']\n",
      "Quantum gate qubits indices: [0, 1]\n",
      "Quantum measurement name: measurement\n",
      "Quantum measurement qubit name: q\n",
      "Quantum measurement qubit index: 0\n",
      "Quantum measurement cbit name: meas\n",
      "Quantum measurement cbit index: 0\n",
      "Quantum measurement name: measurement\n",
      "Quantum measurement qubit name: q\n",
      "Quantum measurement qubit index: 1\n",
      "Quantum measurement cbit name: meas\n",
      "Quantum measurement cbit index: 1\n"
     ]
    }
   ],
   "source": [
    "for statement in qasm_parsed_file.statements:\n",
    "    if isinstance(statement, openqasm3.ast.Include):\n",
    "        print('Included filenames:', statement.filename)\n",
    "    elif isinstance(statement, openqasm3.ast.ClassicalDeclaration):\n",
    "        if isinstance(statement.type, openqasm3.ast.BitType):\n",
    "            cbit_type = 'bit'\n",
    "        else:\n",
    "            raise ValueError('Unknown type', 'statement.type:', statement.type)\n",
    "        cbit_name = statement.identifier.name\n",
    "        cbit_length = statement.type.size.value\n",
    "        print('Classical bit name:', cbit_name)\n",
    "        print('Classical bit type:', cbit_type)\n",
    "        print('Classical bit length:', cbit_length)\n",
    "    elif isinstance(statement, openqasm3.ast.QubitDeclaration):\n",
    "        qbit_name = statement.qubit.name\n",
    "        qbit_length = statement.size.value\n",
    "        print('Quantum bit name:', qbit_name)\n",
    "        print('Quantum bit length:', qbit_length)\n",
    "    elif isinstance(statement, openqasm3.ast.QuantumGate):\n",
    "        qgate_name = statement.name.name\n",
    "        qgate_qbit_names = [statement.qubits[i].name.name for i in range(len(statement.qubits))]\n",
    "        qgate_qbit_indices = [statement.qubits[i].indices[0][0].value for i in range(len(statement.qubits))] # why is there doubly nested list in indices?\n",
    "        print('Quantum gate name:', qgate_name)\n",
    "        print('Quantum gate qubits names:', qgate_qbit_names)\n",
    "        print('Quantum gate qubits indices:', qgate_qbit_indices)\n",
    "    elif isinstance(statement, openqasm3.ast.QuantumBarrier):\n",
    "        #print(statement)\n",
    "        qbarrier_name = 'barrier' # name is not stored in statement \n",
    "        qbarrier_qbit_names = [statement.qubits[i].name.name for i in range(len(statement.qubits))]\n",
    "        qbarrier_qbit_indices = [statement.qubits[i].indices[0][0].value for i in range(len(statement.qubits))] # why is there doubly nested list in indices?\n",
    "        print('Quantum gate name:', qbarrier_name)\n",
    "        print('Quantum gate qubits names:', qbarrier_qbit_names)\n",
    "        print('Quantum gate qubits indices:', qbarrier_qbit_indices)\n",
    "    elif isinstance(statement, openqasm3.ast.QuantumMeasurementStatement):\n",
    "        #print(statement)\n",
    "        qmeasurement_name = 'measurement' # name is not stored in statement \n",
    "        qmeasurement_qbit_name = statement.measure.qubit.name.name\n",
    "        qmeasurement_qbit_index = statement.measure.qubit.indices[0][0].value\n",
    "        qmeasurement_cbit_name = statement.target.name.name\n",
    "        qmeasurement_cbit_index = statement.target.indices[0][0].value\n",
    "        print('Quantum measurement name:', qmeasurement_name)\n",
    "        print('Quantum measurement qubit name:', qmeasurement_qbit_name)\n",
    "        print('Quantum measurement qubit index:', qmeasurement_qbit_index)\n",
    "        print('Quantum measurement cbit name:', qmeasurement_cbit_name)\n",
    "        print('Quantum measurement cbit index:', qmeasurement_cbit_index)\n",
    "\n",
    "######\n",
    "#\n",
    "# the statements are ordered in some logical timeseries manner. A gate can be interpreted as a definite border between two time steps.\n",
    "#\n",
    "######"
   ]
  },
  {
   "cell_type": "code",
   "execution_count": 16,
   "metadata": {},
   "outputs": [],
   "source": [
    "import QSymPy"
   ]
  },
  {
   "cell_type": "code",
   "execution_count": 17,
   "metadata": {},
   "outputs": [],
   "source": [
    "qcs = QSymPy.QuantumCircuit(num_qubits=2, num_clbits=2)"
   ]
  },
  {
   "cell_type": "code",
   "execution_count": null,
   "metadata": {},
   "outputs": [
    {
     "data": {
      "text/latex": [
       "$\\displaystyle \\left[\\begin{matrix}CNOT_{I qt1 qc0 s2 p00} H_{qt0 qcs1 p00} & CNOT_{I qt1 qc0 s2 p00} H_{qt0 qcs1 p01} & CNOT_{I qt1 qc0 s2 p01} H_{qt0 qcs1 p00} & CNOT_{I qt1 qc0 s2 p01} H_{qt0 qcs1 p01}\\\\CNOT_{X qt1 qc0 s2 p00} H_{qt0 qcs1 p10} & CNOT_{X qt1 qc0 s2 p00} H_{qt0 qcs1 p11} & CNOT_{X qt1 qc0 s2 p01} H_{qt0 qcs1 p10} & CNOT_{X qt1 qc0 s2 p01} H_{qt0 qcs1 p11}\\\\CNOT_{I qt1 qc0 s2 p10} H_{qt0 qcs1 p00} & CNOT_{I qt1 qc0 s2 p10} H_{qt0 qcs1 p01} & CNOT_{I qt1 qc0 s2 p11} H_{qt0 qcs1 p00} & CNOT_{I qt1 qc0 s2 p11} H_{qt0 qcs1 p01}\\\\CNOT_{X qt1 qc0 s2 p10} H_{qt0 qcs1 p10} & CNOT_{X qt1 qc0 s2 p10} H_{qt0 qcs1 p11} & CNOT_{X qt1 qc0 s2 p11} H_{qt0 qcs1 p10} & CNOT_{X qt1 qc0 s2 p11} H_{qt0 qcs1 p11}\\end{matrix}\\right]$"
      ],
      "text/plain": [
       "Matrix([\n",
       "[CNOT_I_qt1_qc0_s2_p00*H_qt0_qcs1_p00, CNOT_I_qt1_qc0_s2_p00*H_qt0_qcs1_p01, CNOT_I_qt1_qc0_s2_p01*H_qt0_qcs1_p00, CNOT_I_qt1_qc0_s2_p01*H_qt0_qcs1_p01],\n",
       "[CNOT_X_qt1_qc0_s2_p00*H_qt0_qcs1_p10, CNOT_X_qt1_qc0_s2_p00*H_qt0_qcs1_p11, CNOT_X_qt1_qc0_s2_p01*H_qt0_qcs1_p10, CNOT_X_qt1_qc0_s2_p01*H_qt0_qcs1_p11],\n",
       "[CNOT_I_qt1_qc0_s2_p10*H_qt0_qcs1_p00, CNOT_I_qt1_qc0_s2_p10*H_qt0_qcs1_p01, CNOT_I_qt1_qc0_s2_p11*H_qt0_qcs1_p00, CNOT_I_qt1_qc0_s2_p11*H_qt0_qcs1_p01],\n",
       "[CNOT_X_qt1_qc0_s2_p10*H_qt0_qcs1_p10, CNOT_X_qt1_qc0_s2_p10*H_qt0_qcs1_p11, CNOT_X_qt1_qc0_s2_p11*H_qt0_qcs1_p10, CNOT_X_qt1_qc0_s2_p11*H_qt0_qcs1_p11]])"
      ]
     },
     "execution_count": 18,
     "metadata": {},
     "output_type": "execute_result"
    }
   ],
   "source": [
    "qcs.add_gate('H', qubits_t=[0], step=0)\n",
    "qcs.add_barrier(step=0)\n",
    "qcs.add_gate('CNOT', qubits_c=[0], qubits_t=[1], step=1)\n",
    "qcs.add_barrier(step=1)\n",
    "\n",
    "qcs.assemble_unitary()\n",
    "qcs.unitary\n"
   ]
  },
  {
   "cell_type": "code",
   "execution_count": 19,
   "metadata": {},
   "outputs": [
    {
     "data": {
      "text/plain": [
       "[Barrier at step 1, Barrier at step 2]"
      ]
     },
     "execution_count": 19,
     "metadata": {},
     "output_type": "execute_result"
    }
   ],
   "source": [
    "qcs.barrier_collection"
   ]
  },
  {
   "cell_type": "code",
   "execution_count": 20,
   "metadata": {},
   "outputs": [
    {
     "name": "stdout",
     "output_type": "stream",
     "text": [
      "Included filenames: stdgates.inc\n",
      "Classical bit name: meas\n",
      "Classical bit type: bit\n",
      "Classical bit length: 2\n",
      "Quantum bit name: q\n",
      "Quantum bit length: 2\n",
      "Quantum gate name: h\n",
      "Quantum gate qubits names: ['q']\n",
      "Quantum gate qubits indices: [0]\n",
      "Quantum gate name: barrier\n",
      "Quantum gate qubits names: ['q', 'q']\n",
      "Quantum gate qubits indices: [0, 1]\n",
      "Quantum gate name: cx\n",
      "Quantum gate qubits names: ['q', 'q']\n",
      "Quantum gate qubits indices: [0, 1]\n",
      "Quantum gate name: barrier\n",
      "Quantum gate qubits names: ['q', 'q']\n",
      "Quantum gate qubits indices: [0, 1]\n",
      "Quantum gate name: barrier\n",
      "Quantum gate qubits names: ['q', 'q']\n",
      "Quantum gate qubits indices: [0, 1]\n",
      "Quantum measurement name: measurement\n",
      "Quantum measurement qubit name: q\n",
      "Quantum measurement qubit index: 0\n",
      "Quantum measurement cbit name: meas\n",
      "Quantum measurement cbit index: 0\n",
      "Quantum measurement name: measurement\n",
      "Quantum measurement qubit name: q\n",
      "Quantum measurement qubit index: 1\n",
      "Quantum measurement cbit name: meas\n",
      "Quantum measurement cbit index: 1\n"
     ]
    }
   ],
   "source": [
    "qc_imported = QSymPy.openqasm3_to_qc('test.qasm')"
   ]
  },
  {
   "cell_type": "code",
   "execution_count": 21,
   "metadata": {},
   "outputs": [
    {
     "data": {
      "text/latex": [
       "$\\displaystyle \\left[\\begin{matrix}CNOT_{I qt1 qc0 s1 p00} H_{qt0 qcs0 p00} & CNOT_{I qt1 qc0 s1 p00} H_{qt0 qcs0 p01} & CNOT_{I qt1 qc0 s1 p01} H_{qt0 qcs0 p00} & CNOT_{I qt1 qc0 s1 p01} H_{qt0 qcs0 p01}\\\\CNOT_{X qt1 qc0 s1 p00} H_{qt0 qcs0 p10} & CNOT_{X qt1 qc0 s1 p00} H_{qt0 qcs0 p11} & CNOT_{X qt1 qc0 s1 p01} H_{qt0 qcs0 p10} & CNOT_{X qt1 qc0 s1 p01} H_{qt0 qcs0 p11}\\\\CNOT_{I qt1 qc0 s1 p10} H_{qt0 qcs0 p00} & CNOT_{I qt1 qc0 s1 p10} H_{qt0 qcs0 p01} & CNOT_{I qt1 qc0 s1 p11} H_{qt0 qcs0 p00} & CNOT_{I qt1 qc0 s1 p11} H_{qt0 qcs0 p01}\\\\CNOT_{X qt1 qc0 s1 p10} H_{qt0 qcs0 p10} & CNOT_{X qt1 qc0 s1 p10} H_{qt0 qcs0 p11} & CNOT_{X qt1 qc0 s1 p11} H_{qt0 qcs0 p10} & CNOT_{X qt1 qc0 s1 p11} H_{qt0 qcs0 p11}\\end{matrix}\\right]$"
      ],
      "text/plain": [
       "Matrix([\n",
       "[CNOT_I_qt1_qc0_s1_p00*H_qt0_qcs0_p00, CNOT_I_qt1_qc0_s1_p00*H_qt0_qcs0_p01, CNOT_I_qt1_qc0_s1_p01*H_qt0_qcs0_p00, CNOT_I_qt1_qc0_s1_p01*H_qt0_qcs0_p01],\n",
       "[CNOT_X_qt1_qc0_s1_p00*H_qt0_qcs0_p10, CNOT_X_qt1_qc0_s1_p00*H_qt0_qcs0_p11, CNOT_X_qt1_qc0_s1_p01*H_qt0_qcs0_p10, CNOT_X_qt1_qc0_s1_p01*H_qt0_qcs0_p11],\n",
       "[CNOT_I_qt1_qc0_s1_p10*H_qt0_qcs0_p00, CNOT_I_qt1_qc0_s1_p10*H_qt0_qcs0_p01, CNOT_I_qt1_qc0_s1_p11*H_qt0_qcs0_p00, CNOT_I_qt1_qc0_s1_p11*H_qt0_qcs0_p01],\n",
       "[CNOT_X_qt1_qc0_s1_p10*H_qt0_qcs0_p10, CNOT_X_qt1_qc0_s1_p10*H_qt0_qcs0_p11, CNOT_X_qt1_qc0_s1_p11*H_qt0_qcs0_p10, CNOT_X_qt1_qc0_s1_p11*H_qt0_qcs0_p11]])"
      ]
     },
     "execution_count": 21,
     "metadata": {},
     "output_type": "execute_result"
    }
   ],
   "source": [
    "qc_imported.assemble_unitary()\n",
    "qc_imported.unitary"
   ]
  },
  {
   "cell_type": "code",
   "execution_count": null,
   "metadata": {},
   "outputs": [],
   "source": []
  }
 ],
 "metadata": {
  "kernelspec": {
   "display_name": "Python 3",
   "language": "python",
   "name": "python3"
  },
  "language_info": {
   "codemirror_mode": {
    "name": "ipython",
    "version": 3
   },
   "file_extension": ".py",
   "mimetype": "text/x-python",
   "name": "python",
   "nbconvert_exporter": "python",
   "pygments_lexer": "ipython3",
   "version": "3.13.1"
  }
 },
 "nbformat": 4,
 "nbformat_minor": 2
}
