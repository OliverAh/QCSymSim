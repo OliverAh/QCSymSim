{
 "cells": [
  {
   "cell_type": "code",
   "execution_count": 2,
   "metadata": {},
   "outputs": [],
   "source": [
    "import qiskit\n",
    "import qiskit.qasm3\n",
    "import openqasm3"
   ]
  },
  {
   "cell_type": "code",
   "execution_count": 3,
   "metadata": {},
   "outputs": [],
   "source": [
    "qc = qiskit.QuantumCircuit(2)\n",
    "qc.h(0)\n",
    "qc.barrier()\n",
    "qc.cx(0, 1)\n",
    "qc.barrier()\n",
    "qc.measure_all()"
   ]
  },
  {
   "cell_type": "code",
   "execution_count": 4,
   "metadata": {},
   "outputs": [],
   "source": [
    "with open('test.qasm', 'w') as f:\n",
    "    qiskit.qasm3.dump(qc, f)"
   ]
  },
  {
   "cell_type": "code",
   "execution_count": 5,
   "metadata": {},
   "outputs": [
    {
     "name": "stdout",
     "output_type": "stream",
     "text": [
      "OPENQASM 3.0;\n",
      "include \"stdgates.inc\";\n",
      "bit[6] cregb;\n",
      "qubit[1] anc;\n",
      "qubit[4] c_reg;\n",
      "qubit[1] b_reg;\n",
      "x b_reg[0];\n",
      "barrier anc[0], c_reg[0], c_reg[1], c_reg[2], c_reg[3], b_reg[0];\n",
      "h c_reg[0];\n",
      "h c_reg[1];\n",
      "h c_reg[2];\n",
      "h c_reg[3];\n",
      "barrier anc[0], c_reg[0], c_reg[1], c_reg[2], c_reg[3], b_reg[0];\n",
      "cu(pi/2, 3*pi/2, pi/2, 0) c_reg[0], b_reg[0];\n",
      "p(3*pi/4) c_reg[0];\n",
      "cu(pi, 2.2142974355881804, 5.355890089177974, 0) c_reg[1], b_reg[0];\n",
      "p(0.9272952180016123) c_reg[1];\n",
      "cu(0, -1.190289949682532, 1.1902899496825319, 0) c_reg[2], b_reg[0];\n",
      "p(0) c_reg[2];\n",
      "cu(0, -1.190289949682532, 1.190289949682532, 0) c_reg[3], b_reg[0];\n",
      "p(0) c_reg[3];\n",
      "barrier anc[0], c_reg[0], c_reg[1], c_reg[2], c_reg[3], b_reg[0];\n",
      "swap c_reg[0], c_reg[3];\n",
      "h c_reg[0];\n",
      "swap c_reg[1], c_reg[2];\n",
      "cp(-pi/2) c_reg[1], c_reg[0];\n",
      "h c_reg[1];\n",
      "cp(-pi/4) c_reg[2], c_reg[0];\n",
      "cp(-pi/2) c_reg[2], c_reg[1];\n",
      "h c_reg[2];\n",
      "cp(-pi/8) c_reg[3], c_reg[0];\n",
      "cp(-pi/4) c_reg[3], c_reg[1];\n",
      "cp(-pi/2) c_reg[3], c_reg[2];\n",
      "h c_reg[3];\n",
      "barrier anc[0], c_reg[0], c_reg[1], c_reg[2], c_reg[3], b_reg[0];\n",
      "swap c_reg[2], c_reg[1];\n",
      "swap c_reg[3], c_reg[0];\n",
      "barrier anc[0], c_reg[0], c_reg[1], c_reg[2], c_reg[3], b_reg[0];\n",
      "cry(pi) c_reg[0], anc[0];\n",
      "cry(pi/3) c_reg[1], anc[0];\n",
      "cry(0.5053605102841573) c_reg[2], anc[0];\n",
      "cry(0.2506556623361308) c_reg[3], anc[0];\n",
      "barrier anc[0], c_reg[0], c_reg[1], c_reg[2], c_reg[3], b_reg[0];\n",
      "swap c_reg[2], c_reg[1];\n",
      "swap c_reg[3], c_reg[0];\n",
      "barrier anc[0], c_reg[0], c_reg[1], c_reg[2], c_reg[3], b_reg[0];\n",
      "h c_reg[3];\n",
      "cp(pi/2) c_reg[3], c_reg[2];\n",
      "h c_reg[2];\n",
      "cp(pi/4) c_reg[3], c_reg[1];\n",
      "cp(pi/2) c_reg[2], c_reg[1];\n",
      "h c_reg[1];\n",
      "cp(pi/8) c_reg[3], c_reg[0];\n",
      "cp(pi/4) c_reg[2], c_reg[0];\n",
      "cp(pi/2) c_reg[1], c_reg[0];\n",
      "h c_reg[0];\n",
      "swap c_reg[0], c_reg[3];\n",
      "swap c_reg[1], c_reg[2];\n",
      "barrier anc[0], c_reg[0], c_reg[1], c_reg[2], c_reg[3], b_reg[0];\n",
      "cu(0, 1.190289949682532, -1.190289949682532, 0) c_reg[3], b_reg[0];\n",
      "cu(0, 1.190289949682532, -1.1902899496825319, 0) c_reg[2], b_reg[0];\n",
      "cu(pi, -2.2142974355881804, -5.355890089177974, 0) c_reg[1], b_reg[0];\n",
      "cu(pi/2, -3*pi/2, -pi/2, 0) c_reg[0], b_reg[0];\n",
      "p(5*pi/4) c_reg[0];\n",
      "p(5.355890089177974) c_reg[1];\n",
      "p(2*pi) c_reg[2];\n",
      "p(2*pi) c_reg[3];\n",
      "barrier anc[0], c_reg[0], c_reg[1], c_reg[2], c_reg[3], b_reg[0];\n",
      "h c_reg[0];\n",
      "h c_reg[1];\n",
      "h c_reg[2];\n",
      "h c_reg[3];\n",
      "barrier anc[0], c_reg[0], c_reg[1], c_reg[2], c_reg[3], b_reg[0];\n",
      "cregb[0] = measure anc[0];\n",
      "cregb[1] = measure c_reg[0];\n",
      "cregb[2] = measure c_reg[1];\n",
      "cregb[3] = measure c_reg[2];\n",
      "cregb[4] = measure c_reg[3];\n",
      "cregb[5] = measure b_reg[0];\n",
      "\n"
     ]
    }
   ],
   "source": [
    "#with open ('test.qasm', 'r') as f:\n",
    "with open ('HHL_circuit_Qiskit_2x2.qasm3', 'r') as f:\n",
    "    qasm = f.read()\n",
    "\n",
    "print(qasm)"
   ]
  },
  {
   "cell_type": "code",
   "execution_count": 6,
   "metadata": {},
   "outputs": [],
   "source": [
    "qasm_ast_program = openqasm3.ast.Program(qasm)\n",
    "#openqasm3.parse(qasm)"
   ]
  },
  {
   "cell_type": "code",
   "execution_count": 7,
   "metadata": {},
   "outputs": [],
   "source": [
    "qasm_ast_program.span"
   ]
  },
  {
   "cell_type": "code",
   "execution_count": 8,
   "metadata": {},
   "outputs": [],
   "source": [
    "qasm_parsed_file= openqasm3.parse(qasm)"
   ]
  },
  {
   "cell_type": "code",
   "execution_count": 9,
   "metadata": {},
   "outputs": [
    {
     "data": {
      "text/plain": [
       "Span(start_line=1, start_column=0, end_line=79, end_column=27)"
      ]
     },
     "execution_count": 9,
     "metadata": {},
     "output_type": "execute_result"
    }
   ],
   "source": [
    "qasm_parsed_file.span"
   ]
  },
  {
   "cell_type": "code",
   "execution_count": 10,
   "metadata": {},
   "outputs": [
    {
     "name": "stdout",
     "output_type": "stream",
     "text": [
      "Include(span=Span(start_line=2, start_column=0, end_line=2, end_column=22), annotations=[], filename='stdgates.inc')\n",
      "ClassicalDeclaration(span=Span(start_line=3, start_column=0, end_line=3, end_column=12), annotations=[], type=BitType(span=Span(start_line=3, start_column=0, end_line=3, end_column=5), size=IntegerLiteral(span=Span(start_line=3, start_column=3, end_line=3, end_column=5), value=6)), identifier=Identifier(span=Span(start_line=3, start_column=45, end_line=3, end_column=49), name='cregb'), init_expression=None)\n",
      "QubitDeclaration(span=Span(start_line=4, start_column=0, end_line=4, end_column=12), annotations=[], qubit=Identifier(span=Span(start_line=4, start_column=61, end_line=4, end_column=63), name='anc'), size=IntegerLiteral(span=Span(start_line=4, start_column=5, end_line=4, end_column=7), value=1))\n",
      "QubitDeclaration(span=Span(start_line=5, start_column=0, end_line=5, end_column=14), annotations=[], qubit=Identifier(span=Span(start_line=5, start_column=75, end_line=5, end_column=79), name='c_reg'), size=IntegerLiteral(span=Span(start_line=5, start_column=5, end_line=5, end_column=7), value=4))\n",
      "QubitDeclaration(span=Span(start_line=6, start_column=0, end_line=6, end_column=14), annotations=[], qubit=Identifier(span=Span(start_line=6, start_column=91, end_line=6, end_column=95), name='b_reg'), size=IntegerLiteral(span=Span(start_line=6, start_column=5, end_line=6, end_column=7), value=1))\n",
      "QuantumGate(span=Span(start_line=7, start_column=0, end_line=7, end_column=10), annotations=[], modifiers=[], name=Identifier(span=Span(start_line=7, start_column=98, end_line=7, end_column=98), name='x'), arguments=[], qubits=[IndexedIdentifier(span=Span(start_line=7, start_column=2, end_line=7, end_column=9), name=Identifier(span=Span(start_line=7, start_column=100, end_line=7, end_column=104), name='b_reg'), indices=[[IntegerLiteral(span=Span(start_line=7, start_column=8, end_line=7, end_column=8), value=0)]])], duration=None)\n",
      "QuantumBarrier(span=Span(start_line=8, start_column=0, end_line=8, end_column=64), annotations=[], qubits=[IndexedIdentifier(span=Span(start_line=8, start_column=8, end_line=8, end_column=13), name=Identifier(span=Span(start_line=8, start_column=118, end_line=8, end_column=120), name='anc'), indices=[[IntegerLiteral(span=Span(start_line=8, start_column=12, end_line=8, end_column=12), value=0)]]), IndexedIdentifier(span=Span(start_line=8, start_column=16, end_line=8, end_column=23), name=Identifier(span=Span(start_line=8, start_column=126, end_line=8, end_column=130), name='c_reg'), indices=[[IntegerLiteral(span=Span(start_line=8, start_column=22, end_line=8, end_column=22), value=0)]]), IndexedIdentifier(span=Span(start_line=8, start_column=26, end_line=8, end_column=33), name=Identifier(span=Span(start_line=8, start_column=136, end_line=8, end_column=140), name='c_reg'), indices=[[IntegerLiteral(span=Span(start_line=8, start_column=32, end_line=8, end_column=32), value=1)]]), IndexedIdentifier(span=Span(start_line=8, start_column=36, end_line=8, end_column=43), name=Identifier(span=Span(start_line=8, start_column=146, end_line=8, end_column=150), name='c_reg'), indices=[[IntegerLiteral(span=Span(start_line=8, start_column=42, end_line=8, end_column=42), value=2)]]), IndexedIdentifier(span=Span(start_line=8, start_column=46, end_line=8, end_column=53), name=Identifier(span=Span(start_line=8, start_column=156, end_line=8, end_column=160), name='c_reg'), indices=[[IntegerLiteral(span=Span(start_line=8, start_column=52, end_line=8, end_column=52), value=3)]]), IndexedIdentifier(span=Span(start_line=8, start_column=56, end_line=8, end_column=63), name=Identifier(span=Span(start_line=8, start_column=166, end_line=8, end_column=170), name='b_reg'), indices=[[IntegerLiteral(span=Span(start_line=8, start_column=62, end_line=8, end_column=62), value=0)]])])\n",
      "QuantumGate(span=Span(start_line=9, start_column=0, end_line=9, end_column=10), annotations=[], modifiers=[], name=Identifier(span=Span(start_line=9, start_column=176, end_line=9, end_column=176), name='h'), arguments=[], qubits=[IndexedIdentifier(span=Span(start_line=9, start_column=2, end_line=9, end_column=9), name=Identifier(span=Span(start_line=9, start_column=178, end_line=9, end_column=182), name='c_reg'), indices=[[IntegerLiteral(span=Span(start_line=9, start_column=8, end_line=9, end_column=8), value=0)]])], duration=None)\n",
      "QuantumGate(span=Span(start_line=10, start_column=0, end_line=10, end_column=10), annotations=[], modifiers=[], name=Identifier(span=Span(start_line=10, start_column=188, end_line=10, end_column=188), name='h'), arguments=[], qubits=[IndexedIdentifier(span=Span(start_line=10, start_column=2, end_line=10, end_column=9), name=Identifier(span=Span(start_line=10, start_column=190, end_line=10, end_column=194), name='c_reg'), indices=[[IntegerLiteral(span=Span(start_line=10, start_column=8, end_line=10, end_column=8), value=1)]])], duration=None)\n",
      "QuantumGate(span=Span(start_line=11, start_column=0, end_line=11, end_column=10), annotations=[], modifiers=[], name=Identifier(span=Span(start_line=11, start_column=200, end_line=11, end_column=200), name='h'), arguments=[], qubits=[IndexedIdentifier(span=Span(start_line=11, start_column=2, end_line=11, end_column=9), name=Identifier(span=Span(start_line=11, start_column=202, end_line=11, end_column=206), name='c_reg'), indices=[[IntegerLiteral(span=Span(start_line=11, start_column=8, end_line=11, end_column=8), value=2)]])], duration=None)\n",
      "QuantumGate(span=Span(start_line=12, start_column=0, end_line=12, end_column=10), annotations=[], modifiers=[], name=Identifier(span=Span(start_line=12, start_column=212, end_line=12, end_column=212), name='h'), arguments=[], qubits=[IndexedIdentifier(span=Span(start_line=12, start_column=2, end_line=12, end_column=9), name=Identifier(span=Span(start_line=12, start_column=214, end_line=12, end_column=218), name='c_reg'), indices=[[IntegerLiteral(span=Span(start_line=12, start_column=8, end_line=12, end_column=8), value=3)]])], duration=None)\n",
      "QuantumBarrier(span=Span(start_line=13, start_column=0, end_line=13, end_column=64), annotations=[], qubits=[IndexedIdentifier(span=Span(start_line=13, start_column=8, end_line=13, end_column=13), name=Identifier(span=Span(start_line=13, start_column=232, end_line=13, end_column=234), name='anc'), indices=[[IntegerLiteral(span=Span(start_line=13, start_column=12, end_line=13, end_column=12), value=0)]]), IndexedIdentifier(span=Span(start_line=13, start_column=16, end_line=13, end_column=23), name=Identifier(span=Span(start_line=13, start_column=240, end_line=13, end_column=244), name='c_reg'), indices=[[IntegerLiteral(span=Span(start_line=13, start_column=22, end_line=13, end_column=22), value=0)]]), IndexedIdentifier(span=Span(start_line=13, start_column=26, end_line=13, end_column=33), name=Identifier(span=Span(start_line=13, start_column=250, end_line=13, end_column=254), name='c_reg'), indices=[[IntegerLiteral(span=Span(start_line=13, start_column=32, end_line=13, end_column=32), value=1)]]), IndexedIdentifier(span=Span(start_line=13, start_column=36, end_line=13, end_column=43), name=Identifier(span=Span(start_line=13, start_column=260, end_line=13, end_column=264), name='c_reg'), indices=[[IntegerLiteral(span=Span(start_line=13, start_column=42, end_line=13, end_column=42), value=2)]]), IndexedIdentifier(span=Span(start_line=13, start_column=46, end_line=13, end_column=53), name=Identifier(span=Span(start_line=13, start_column=270, end_line=13, end_column=274), name='c_reg'), indices=[[IntegerLiteral(span=Span(start_line=13, start_column=52, end_line=13, end_column=52), value=3)]]), IndexedIdentifier(span=Span(start_line=13, start_column=56, end_line=13, end_column=63), name=Identifier(span=Span(start_line=13, start_column=280, end_line=13, end_column=284), name='b_reg'), indices=[[IntegerLiteral(span=Span(start_line=13, start_column=62, end_line=13, end_column=62), value=0)]])])\n",
      "QuantumGate(span=Span(start_line=14, start_column=0, end_line=14, end_column=44), annotations=[], modifiers=[], name=Identifier(span=Span(start_line=14, start_column=290, end_line=14, end_column=291), name='cu'), arguments=[BinaryExpression(span=Span(start_line=14, start_column=3, end_line=14, end_column=6), op=<BinaryOperator./: 17>, lhs=Identifier(span=Span(start_line=14, start_column=3, end_line=14, end_column=3), name='pi'), rhs=IntegerLiteral(span=Span(start_line=14, start_column=6, end_line=14, end_column=6), value=2)), BinaryExpression(span=Span(start_line=14, start_column=9, end_line=14, end_column=14), op=<BinaryOperator./: 17>, lhs=BinaryExpression(span=Span(start_line=14, start_column=9, end_line=14, end_column=11), op=<BinaryOperator.*: 16>, lhs=IntegerLiteral(span=Span(start_line=14, start_column=9, end_line=14, end_column=9), value=3), rhs=Identifier(span=Span(start_line=14, start_column=11, end_line=14, end_column=11), name='pi')), rhs=IntegerLiteral(span=Span(start_line=14, start_column=14, end_line=14, end_column=14), value=2)), BinaryExpression(span=Span(start_line=14, start_column=17, end_line=14, end_column=20), op=<BinaryOperator./: 17>, lhs=Identifier(span=Span(start_line=14, start_column=17, end_line=14, end_column=17), name='pi'), rhs=IntegerLiteral(span=Span(start_line=14, start_column=20, end_line=14, end_column=20), value=2)), IntegerLiteral(span=Span(start_line=14, start_column=23, end_line=14, end_column=23), value=0)], qubits=[IndexedIdentifier(span=Span(start_line=14, start_column=26, end_line=14, end_column=33), name=Identifier(span=Span(start_line=14, start_column=316, end_line=14, end_column=320), name='c_reg'), indices=[[IntegerLiteral(span=Span(start_line=14, start_column=32, end_line=14, end_column=32), value=0)]]), IndexedIdentifier(span=Span(start_line=14, start_column=36, end_line=14, end_column=43), name=Identifier(span=Span(start_line=14, start_column=326, end_line=14, end_column=330), name='b_reg'), indices=[[IntegerLiteral(span=Span(start_line=14, start_column=42, end_line=14, end_column=42), value=0)]])], duration=None)\n",
      "QuantumGate(span=Span(start_line=15, start_column=0, end_line=15, end_column=18), annotations=[], modifiers=[], name=Identifier(span=Span(start_line=15, start_column=336, end_line=15, end_column=336), name='p'), arguments=[BinaryExpression(span=Span(start_line=15, start_column=2, end_line=15, end_column=7), op=<BinaryOperator./: 17>, lhs=BinaryExpression(span=Span(start_line=15, start_column=2, end_line=15, end_column=4), op=<BinaryOperator.*: 16>, lhs=IntegerLiteral(span=Span(start_line=15, start_column=2, end_line=15, end_column=2), value=3), rhs=Identifier(span=Span(start_line=15, start_column=4, end_line=15, end_column=4), name='pi')), rhs=IntegerLiteral(span=Span(start_line=15, start_column=7, end_line=15, end_column=7), value=4))], qubits=[IndexedIdentifier(span=Span(start_line=15, start_column=10, end_line=15, end_column=17), name=Identifier(span=Span(start_line=15, start_column=346, end_line=15, end_column=350), name='c_reg'), indices=[[IntegerLiteral(span=Span(start_line=15, start_column=16, end_line=15, end_column=16), value=0)]])], duration=None)\n",
      "QuantumGate(span=Span(start_line=16, start_column=0, end_line=16, end_column=67), annotations=[], modifiers=[], name=Identifier(span=Span(start_line=16, start_column=356, end_line=16, end_column=357), name='cu'), arguments=[Identifier(span=Span(start_line=16, start_column=3, end_line=16, end_column=3), name='pi'), FloatLiteral(span=Span(start_line=16, start_column=7, end_line=16, end_column=7), value=2.2142974355881804), FloatLiteral(span=Span(start_line=16, start_column=27, end_line=16, end_column=27), value=5.355890089177974), IntegerLiteral(span=Span(start_line=16, start_column=46, end_line=16, end_column=46), value=0)], qubits=[IndexedIdentifier(span=Span(start_line=16, start_column=49, end_line=16, end_column=56), name=Identifier(span=Span(start_line=16, start_column=405, end_line=16, end_column=409), name='c_reg'), indices=[[IntegerLiteral(span=Span(start_line=16, start_column=55, end_line=16, end_column=55), value=1)]]), IndexedIdentifier(span=Span(start_line=16, start_column=59, end_line=16, end_column=66), name=Identifier(span=Span(start_line=16, start_column=415, end_line=16, end_column=419), name='b_reg'), indices=[[IntegerLiteral(span=Span(start_line=16, start_column=65, end_line=16, end_column=65), value=0)]])], duration=None)\n",
      "QuantumGate(span=Span(start_line=17, start_column=0, end_line=17, end_column=30), annotations=[], modifiers=[], name=Identifier(span=Span(start_line=17, start_column=425, end_line=17, end_column=425), name='p'), arguments=[FloatLiteral(span=Span(start_line=17, start_column=2, end_line=17, end_column=2), value=0.9272952180016123)], qubits=[IndexedIdentifier(span=Span(start_line=17, start_column=22, end_line=17, end_column=29), name=Identifier(span=Span(start_line=17, start_column=447, end_line=17, end_column=451), name='c_reg'), indices=[[IntegerLiteral(span=Span(start_line=17, start_column=28, end_line=17, end_column=28), value=1)]])], duration=None)\n",
      "QuantumGate(span=Span(start_line=18, start_column=0, end_line=18, end_column=67), annotations=[], modifiers=[], name=Identifier(span=Span(start_line=18, start_column=457, end_line=18, end_column=458), name='cu'), arguments=[IntegerLiteral(span=Span(start_line=18, start_column=3, end_line=18, end_column=3), value=0), UnaryExpression(span=Span(start_line=18, start_column=6, end_line=18, end_column=7), op=<UnaryOperator.-: 3>, expression=FloatLiteral(span=Span(start_line=18, start_column=7, end_line=18, end_column=7), value=1.190289949682532)), FloatLiteral(span=Span(start_line=18, start_column=26, end_line=18, end_column=26), value=1.1902899496825319), IntegerLiteral(span=Span(start_line=18, start_column=46, end_line=18, end_column=46), value=0)], qubits=[IndexedIdentifier(span=Span(start_line=18, start_column=49, end_line=18, end_column=56), name=Identifier(span=Span(start_line=18, start_column=506, end_line=18, end_column=510), name='c_reg'), indices=[[IntegerLiteral(span=Span(start_line=18, start_column=55, end_line=18, end_column=55), value=2)]]), IndexedIdentifier(span=Span(start_line=18, start_column=59, end_line=18, end_column=66), name=Identifier(span=Span(start_line=18, start_column=516, end_line=18, end_column=520), name='b_reg'), indices=[[IntegerLiteral(span=Span(start_line=18, start_column=65, end_line=18, end_column=65), value=0)]])], duration=None)\n",
      "QuantumGate(span=Span(start_line=19, start_column=0, end_line=19, end_column=13), annotations=[], modifiers=[], name=Identifier(span=Span(start_line=19, start_column=526, end_line=19, end_column=526), name='p'), arguments=[IntegerLiteral(span=Span(start_line=19, start_column=2, end_line=19, end_column=2), value=0)], qubits=[IndexedIdentifier(span=Span(start_line=19, start_column=5, end_line=19, end_column=12), name=Identifier(span=Span(start_line=19, start_column=531, end_line=19, end_column=535), name='c_reg'), indices=[[IntegerLiteral(span=Span(start_line=19, start_column=11, end_line=19, end_column=11), value=2)]])], duration=None)\n",
      "QuantumGate(span=Span(start_line=20, start_column=0, end_line=20, end_column=66), annotations=[], modifiers=[], name=Identifier(span=Span(start_line=20, start_column=541, end_line=20, end_column=542), name='cu'), arguments=[IntegerLiteral(span=Span(start_line=20, start_column=3, end_line=20, end_column=3), value=0), UnaryExpression(span=Span(start_line=20, start_column=6, end_line=20, end_column=7), op=<UnaryOperator.-: 3>, expression=FloatLiteral(span=Span(start_line=20, start_column=7, end_line=20, end_column=7), value=1.190289949682532)), FloatLiteral(span=Span(start_line=20, start_column=26, end_line=20, end_column=26), value=1.190289949682532), IntegerLiteral(span=Span(start_line=20, start_column=45, end_line=20, end_column=45), value=0)], qubits=[IndexedIdentifier(span=Span(start_line=20, start_column=48, end_line=20, end_column=55), name=Identifier(span=Span(start_line=20, start_column=589, end_line=20, end_column=593), name='c_reg'), indices=[[IntegerLiteral(span=Span(start_line=20, start_column=54, end_line=20, end_column=54), value=3)]]), IndexedIdentifier(span=Span(start_line=20, start_column=58, end_line=20, end_column=65), name=Identifier(span=Span(start_line=20, start_column=599, end_line=20, end_column=603), name='b_reg'), indices=[[IntegerLiteral(span=Span(start_line=20, start_column=64, end_line=20, end_column=64), value=0)]])], duration=None)\n",
      "QuantumGate(span=Span(start_line=21, start_column=0, end_line=21, end_column=13), annotations=[], modifiers=[], name=Identifier(span=Span(start_line=21, start_column=609, end_line=21, end_column=609), name='p'), arguments=[IntegerLiteral(span=Span(start_line=21, start_column=2, end_line=21, end_column=2), value=0)], qubits=[IndexedIdentifier(span=Span(start_line=21, start_column=5, end_line=21, end_column=12), name=Identifier(span=Span(start_line=21, start_column=614, end_line=21, end_column=618), name='c_reg'), indices=[[IntegerLiteral(span=Span(start_line=21, start_column=11, end_line=21, end_column=11), value=3)]])], duration=None)\n",
      "QuantumBarrier(span=Span(start_line=22, start_column=0, end_line=22, end_column=64), annotations=[], qubits=[IndexedIdentifier(span=Span(start_line=22, start_column=8, end_line=22, end_column=13), name=Identifier(span=Span(start_line=22, start_column=632, end_line=22, end_column=634), name='anc'), indices=[[IntegerLiteral(span=Span(start_line=22, start_column=12, end_line=22, end_column=12), value=0)]]), IndexedIdentifier(span=Span(start_line=22, start_column=16, end_line=22, end_column=23), name=Identifier(span=Span(start_line=22, start_column=640, end_line=22, end_column=644), name='c_reg'), indices=[[IntegerLiteral(span=Span(start_line=22, start_column=22, end_line=22, end_column=22), value=0)]]), IndexedIdentifier(span=Span(start_line=22, start_column=26, end_line=22, end_column=33), name=Identifier(span=Span(start_line=22, start_column=650, end_line=22, end_column=654), name='c_reg'), indices=[[IntegerLiteral(span=Span(start_line=22, start_column=32, end_line=22, end_column=32), value=1)]]), IndexedIdentifier(span=Span(start_line=22, start_column=36, end_line=22, end_column=43), name=Identifier(span=Span(start_line=22, start_column=660, end_line=22, end_column=664), name='c_reg'), indices=[[IntegerLiteral(span=Span(start_line=22, start_column=42, end_line=22, end_column=42), value=2)]]), IndexedIdentifier(span=Span(start_line=22, start_column=46, end_line=22, end_column=53), name=Identifier(span=Span(start_line=22, start_column=670, end_line=22, end_column=674), name='c_reg'), indices=[[IntegerLiteral(span=Span(start_line=22, start_column=52, end_line=22, end_column=52), value=3)]]), IndexedIdentifier(span=Span(start_line=22, start_column=56, end_line=22, end_column=63), name=Identifier(span=Span(start_line=22, start_column=680, end_line=22, end_column=684), name='b_reg'), indices=[[IntegerLiteral(span=Span(start_line=22, start_column=62, end_line=22, end_column=62), value=0)]])])\n",
      "QuantumGate(span=Span(start_line=23, start_column=0, end_line=23, end_column=23), annotations=[], modifiers=[], name=Identifier(span=Span(start_line=23, start_column=690, end_line=23, end_column=693), name='swap'), arguments=[], qubits=[IndexedIdentifier(span=Span(start_line=23, start_column=5, end_line=23, end_column=12), name=Identifier(span=Span(start_line=23, start_column=695, end_line=23, end_column=699), name='c_reg'), indices=[[IntegerLiteral(span=Span(start_line=23, start_column=11, end_line=23, end_column=11), value=0)]]), IndexedIdentifier(span=Span(start_line=23, start_column=15, end_line=23, end_column=22), name=Identifier(span=Span(start_line=23, start_column=705, end_line=23, end_column=709), name='c_reg'), indices=[[IntegerLiteral(span=Span(start_line=23, start_column=21, end_line=23, end_column=21), value=3)]])], duration=None)\n",
      "QuantumGate(span=Span(start_line=24, start_column=0, end_line=24, end_column=10), annotations=[], modifiers=[], name=Identifier(span=Span(start_line=24, start_column=715, end_line=24, end_column=715), name='h'), arguments=[], qubits=[IndexedIdentifier(span=Span(start_line=24, start_column=2, end_line=24, end_column=9), name=Identifier(span=Span(start_line=24, start_column=717, end_line=24, end_column=721), name='c_reg'), indices=[[IntegerLiteral(span=Span(start_line=24, start_column=8, end_line=24, end_column=8), value=0)]])], duration=None)\n",
      "QuantumGate(span=Span(start_line=25, start_column=0, end_line=25, end_column=23), annotations=[], modifiers=[], name=Identifier(span=Span(start_line=25, start_column=727, end_line=25, end_column=730), name='swap'), arguments=[], qubits=[IndexedIdentifier(span=Span(start_line=25, start_column=5, end_line=25, end_column=12), name=Identifier(span=Span(start_line=25, start_column=732, end_line=25, end_column=736), name='c_reg'), indices=[[IntegerLiteral(span=Span(start_line=25, start_column=11, end_line=25, end_column=11), value=1)]]), IndexedIdentifier(span=Span(start_line=25, start_column=15, end_line=25, end_column=22), name=Identifier(span=Span(start_line=25, start_column=742, end_line=25, end_column=746), name='c_reg'), indices=[[IntegerLiteral(span=Span(start_line=25, start_column=21, end_line=25, end_column=21), value=2)]])], duration=None)\n",
      "QuantumGate(span=Span(start_line=26, start_column=0, end_line=26, end_column=28), annotations=[], modifiers=[], name=Identifier(span=Span(start_line=26, start_column=752, end_line=26, end_column=753), name='cp'), arguments=[BinaryExpression(span=Span(start_line=26, start_column=3, end_line=26, end_column=7), op=<BinaryOperator./: 17>, lhs=UnaryExpression(span=Span(start_line=26, start_column=3, end_line=26, end_column=4), op=<UnaryOperator.-: 3>, expression=Identifier(span=Span(start_line=26, start_column=4, end_line=26, end_column=4), name='pi')), rhs=IntegerLiteral(span=Span(start_line=26, start_column=7, end_line=26, end_column=7), value=2))], qubits=[IndexedIdentifier(span=Span(start_line=26, start_column=10, end_line=26, end_column=17), name=Identifier(span=Span(start_line=26, start_column=762, end_line=26, end_column=766), name='c_reg'), indices=[[IntegerLiteral(span=Span(start_line=26, start_column=16, end_line=26, end_column=16), value=1)]]), IndexedIdentifier(span=Span(start_line=26, start_column=20, end_line=26, end_column=27), name=Identifier(span=Span(start_line=26, start_column=772, end_line=26, end_column=776), name='c_reg'), indices=[[IntegerLiteral(span=Span(start_line=26, start_column=26, end_line=26, end_column=26), value=0)]])], duration=None)\n",
      "QuantumGate(span=Span(start_line=27, start_column=0, end_line=27, end_column=10), annotations=[], modifiers=[], name=Identifier(span=Span(start_line=27, start_column=782, end_line=27, end_column=782), name='h'), arguments=[], qubits=[IndexedIdentifier(span=Span(start_line=27, start_column=2, end_line=27, end_column=9), name=Identifier(span=Span(start_line=27, start_column=784, end_line=27, end_column=788), name='c_reg'), indices=[[IntegerLiteral(span=Span(start_line=27, start_column=8, end_line=27, end_column=8), value=1)]])], duration=None)\n",
      "QuantumGate(span=Span(start_line=28, start_column=0, end_line=28, end_column=28), annotations=[], modifiers=[], name=Identifier(span=Span(start_line=28, start_column=794, end_line=28, end_column=795), name='cp'), arguments=[BinaryExpression(span=Span(start_line=28, start_column=3, end_line=28, end_column=7), op=<BinaryOperator./: 17>, lhs=UnaryExpression(span=Span(start_line=28, start_column=3, end_line=28, end_column=4), op=<UnaryOperator.-: 3>, expression=Identifier(span=Span(start_line=28, start_column=4, end_line=28, end_column=4), name='pi')), rhs=IntegerLiteral(span=Span(start_line=28, start_column=7, end_line=28, end_column=7), value=4))], qubits=[IndexedIdentifier(span=Span(start_line=28, start_column=10, end_line=28, end_column=17), name=Identifier(span=Span(start_line=28, start_column=804, end_line=28, end_column=808), name='c_reg'), indices=[[IntegerLiteral(span=Span(start_line=28, start_column=16, end_line=28, end_column=16), value=2)]]), IndexedIdentifier(span=Span(start_line=28, start_column=20, end_line=28, end_column=27), name=Identifier(span=Span(start_line=28, start_column=814, end_line=28, end_column=818), name='c_reg'), indices=[[IntegerLiteral(span=Span(start_line=28, start_column=26, end_line=28, end_column=26), value=0)]])], duration=None)\n",
      "QuantumGate(span=Span(start_line=29, start_column=0, end_line=29, end_column=28), annotations=[], modifiers=[], name=Identifier(span=Span(start_line=29, start_column=824, end_line=29, end_column=825), name='cp'), arguments=[BinaryExpression(span=Span(start_line=29, start_column=3, end_line=29, end_column=7), op=<BinaryOperator./: 17>, lhs=UnaryExpression(span=Span(start_line=29, start_column=3, end_line=29, end_column=4), op=<UnaryOperator.-: 3>, expression=Identifier(span=Span(start_line=29, start_column=4, end_line=29, end_column=4), name='pi')), rhs=IntegerLiteral(span=Span(start_line=29, start_column=7, end_line=29, end_column=7), value=2))], qubits=[IndexedIdentifier(span=Span(start_line=29, start_column=10, end_line=29, end_column=17), name=Identifier(span=Span(start_line=29, start_column=834, end_line=29, end_column=838), name='c_reg'), indices=[[IntegerLiteral(span=Span(start_line=29, start_column=16, end_line=29, end_column=16), value=2)]]), IndexedIdentifier(span=Span(start_line=29, start_column=20, end_line=29, end_column=27), name=Identifier(span=Span(start_line=29, start_column=844, end_line=29, end_column=848), name='c_reg'), indices=[[IntegerLiteral(span=Span(start_line=29, start_column=26, end_line=29, end_column=26), value=1)]])], duration=None)\n",
      "QuantumGate(span=Span(start_line=30, start_column=0, end_line=30, end_column=10), annotations=[], modifiers=[], name=Identifier(span=Span(start_line=30, start_column=854, end_line=30, end_column=854), name='h'), arguments=[], qubits=[IndexedIdentifier(span=Span(start_line=30, start_column=2, end_line=30, end_column=9), name=Identifier(span=Span(start_line=30, start_column=856, end_line=30, end_column=860), name='c_reg'), indices=[[IntegerLiteral(span=Span(start_line=30, start_column=8, end_line=30, end_column=8), value=2)]])], duration=None)\n",
      "QuantumGate(span=Span(start_line=31, start_column=0, end_line=31, end_column=28), annotations=[], modifiers=[], name=Identifier(span=Span(start_line=31, start_column=866, end_line=31, end_column=867), name='cp'), arguments=[BinaryExpression(span=Span(start_line=31, start_column=3, end_line=31, end_column=7), op=<BinaryOperator./: 17>, lhs=UnaryExpression(span=Span(start_line=31, start_column=3, end_line=31, end_column=4), op=<UnaryOperator.-: 3>, expression=Identifier(span=Span(start_line=31, start_column=4, end_line=31, end_column=4), name='pi')), rhs=IntegerLiteral(span=Span(start_line=31, start_column=7, end_line=31, end_column=7), value=8))], qubits=[IndexedIdentifier(span=Span(start_line=31, start_column=10, end_line=31, end_column=17), name=Identifier(span=Span(start_line=31, start_column=876, end_line=31, end_column=880), name='c_reg'), indices=[[IntegerLiteral(span=Span(start_line=31, start_column=16, end_line=31, end_column=16), value=3)]]), IndexedIdentifier(span=Span(start_line=31, start_column=20, end_line=31, end_column=27), name=Identifier(span=Span(start_line=31, start_column=886, end_line=31, end_column=890), name='c_reg'), indices=[[IntegerLiteral(span=Span(start_line=31, start_column=26, end_line=31, end_column=26), value=0)]])], duration=None)\n",
      "QuantumGate(span=Span(start_line=32, start_column=0, end_line=32, end_column=28), annotations=[], modifiers=[], name=Identifier(span=Span(start_line=32, start_column=896, end_line=32, end_column=897), name='cp'), arguments=[BinaryExpression(span=Span(start_line=32, start_column=3, end_line=32, end_column=7), op=<BinaryOperator./: 17>, lhs=UnaryExpression(span=Span(start_line=32, start_column=3, end_line=32, end_column=4), op=<UnaryOperator.-: 3>, expression=Identifier(span=Span(start_line=32, start_column=4, end_line=32, end_column=4), name='pi')), rhs=IntegerLiteral(span=Span(start_line=32, start_column=7, end_line=32, end_column=7), value=4))], qubits=[IndexedIdentifier(span=Span(start_line=32, start_column=10, end_line=32, end_column=17), name=Identifier(span=Span(start_line=32, start_column=906, end_line=32, end_column=910), name='c_reg'), indices=[[IntegerLiteral(span=Span(start_line=32, start_column=16, end_line=32, end_column=16), value=3)]]), IndexedIdentifier(span=Span(start_line=32, start_column=20, end_line=32, end_column=27), name=Identifier(span=Span(start_line=32, start_column=916, end_line=32, end_column=920), name='c_reg'), indices=[[IntegerLiteral(span=Span(start_line=32, start_column=26, end_line=32, end_column=26), value=1)]])], duration=None)\n",
      "QuantumGate(span=Span(start_line=33, start_column=0, end_line=33, end_column=28), annotations=[], modifiers=[], name=Identifier(span=Span(start_line=33, start_column=926, end_line=33, end_column=927), name='cp'), arguments=[BinaryExpression(span=Span(start_line=33, start_column=3, end_line=33, end_column=7), op=<BinaryOperator./: 17>, lhs=UnaryExpression(span=Span(start_line=33, start_column=3, end_line=33, end_column=4), op=<UnaryOperator.-: 3>, expression=Identifier(span=Span(start_line=33, start_column=4, end_line=33, end_column=4), name='pi')), rhs=IntegerLiteral(span=Span(start_line=33, start_column=7, end_line=33, end_column=7), value=2))], qubits=[IndexedIdentifier(span=Span(start_line=33, start_column=10, end_line=33, end_column=17), name=Identifier(span=Span(start_line=33, start_column=936, end_line=33, end_column=940), name='c_reg'), indices=[[IntegerLiteral(span=Span(start_line=33, start_column=16, end_line=33, end_column=16), value=3)]]), IndexedIdentifier(span=Span(start_line=33, start_column=20, end_line=33, end_column=27), name=Identifier(span=Span(start_line=33, start_column=946, end_line=33, end_column=950), name='c_reg'), indices=[[IntegerLiteral(span=Span(start_line=33, start_column=26, end_line=33, end_column=26), value=2)]])], duration=None)\n",
      "QuantumGate(span=Span(start_line=34, start_column=0, end_line=34, end_column=10), annotations=[], modifiers=[], name=Identifier(span=Span(start_line=34, start_column=956, end_line=34, end_column=956), name='h'), arguments=[], qubits=[IndexedIdentifier(span=Span(start_line=34, start_column=2, end_line=34, end_column=9), name=Identifier(span=Span(start_line=34, start_column=958, end_line=34, end_column=962), name='c_reg'), indices=[[IntegerLiteral(span=Span(start_line=34, start_column=8, end_line=34, end_column=8), value=3)]])], duration=None)\n",
      "QuantumBarrier(span=Span(start_line=35, start_column=0, end_line=35, end_column=64), annotations=[], qubits=[IndexedIdentifier(span=Span(start_line=35, start_column=8, end_line=35, end_column=13), name=Identifier(span=Span(start_line=35, start_column=976, end_line=35, end_column=978), name='anc'), indices=[[IntegerLiteral(span=Span(start_line=35, start_column=12, end_line=35, end_column=12), value=0)]]), IndexedIdentifier(span=Span(start_line=35, start_column=16, end_line=35, end_column=23), name=Identifier(span=Span(start_line=35, start_column=984, end_line=35, end_column=988), name='c_reg'), indices=[[IntegerLiteral(span=Span(start_line=35, start_column=22, end_line=35, end_column=22), value=0)]]), IndexedIdentifier(span=Span(start_line=35, start_column=26, end_line=35, end_column=33), name=Identifier(span=Span(start_line=35, start_column=994, end_line=35, end_column=998), name='c_reg'), indices=[[IntegerLiteral(span=Span(start_line=35, start_column=32, end_line=35, end_column=32), value=1)]]), IndexedIdentifier(span=Span(start_line=35, start_column=36, end_line=35, end_column=43), name=Identifier(span=Span(start_line=35, start_column=1004, end_line=35, end_column=1008), name='c_reg'), indices=[[IntegerLiteral(span=Span(start_line=35, start_column=42, end_line=35, end_column=42), value=2)]]), IndexedIdentifier(span=Span(start_line=35, start_column=46, end_line=35, end_column=53), name=Identifier(span=Span(start_line=35, start_column=1014, end_line=35, end_column=1018), name='c_reg'), indices=[[IntegerLiteral(span=Span(start_line=35, start_column=52, end_line=35, end_column=52), value=3)]]), IndexedIdentifier(span=Span(start_line=35, start_column=56, end_line=35, end_column=63), name=Identifier(span=Span(start_line=35, start_column=1024, end_line=35, end_column=1028), name='b_reg'), indices=[[IntegerLiteral(span=Span(start_line=35, start_column=62, end_line=35, end_column=62), value=0)]])])\n",
      "QuantumGate(span=Span(start_line=36, start_column=0, end_line=36, end_column=23), annotations=[], modifiers=[], name=Identifier(span=Span(start_line=36, start_column=1034, end_line=36, end_column=1037), name='swap'), arguments=[], qubits=[IndexedIdentifier(span=Span(start_line=36, start_column=5, end_line=36, end_column=12), name=Identifier(span=Span(start_line=36, start_column=1039, end_line=36, end_column=1043), name='c_reg'), indices=[[IntegerLiteral(span=Span(start_line=36, start_column=11, end_line=36, end_column=11), value=2)]]), IndexedIdentifier(span=Span(start_line=36, start_column=15, end_line=36, end_column=22), name=Identifier(span=Span(start_line=36, start_column=1049, end_line=36, end_column=1053), name='c_reg'), indices=[[IntegerLiteral(span=Span(start_line=36, start_column=21, end_line=36, end_column=21), value=1)]])], duration=None)\n",
      "QuantumGate(span=Span(start_line=37, start_column=0, end_line=37, end_column=23), annotations=[], modifiers=[], name=Identifier(span=Span(start_line=37, start_column=1059, end_line=37, end_column=1062), name='swap'), arguments=[], qubits=[IndexedIdentifier(span=Span(start_line=37, start_column=5, end_line=37, end_column=12), name=Identifier(span=Span(start_line=37, start_column=1064, end_line=37, end_column=1068), name='c_reg'), indices=[[IntegerLiteral(span=Span(start_line=37, start_column=11, end_line=37, end_column=11), value=3)]]), IndexedIdentifier(span=Span(start_line=37, start_column=15, end_line=37, end_column=22), name=Identifier(span=Span(start_line=37, start_column=1074, end_line=37, end_column=1078), name='c_reg'), indices=[[IntegerLiteral(span=Span(start_line=37, start_column=21, end_line=37, end_column=21), value=0)]])], duration=None)\n",
      "QuantumBarrier(span=Span(start_line=38, start_column=0, end_line=38, end_column=64), annotations=[], qubits=[IndexedIdentifier(span=Span(start_line=38, start_column=8, end_line=38, end_column=13), name=Identifier(span=Span(start_line=38, start_column=1092, end_line=38, end_column=1094), name='anc'), indices=[[IntegerLiteral(span=Span(start_line=38, start_column=12, end_line=38, end_column=12), value=0)]]), IndexedIdentifier(span=Span(start_line=38, start_column=16, end_line=38, end_column=23), name=Identifier(span=Span(start_line=38, start_column=1100, end_line=38, end_column=1104), name='c_reg'), indices=[[IntegerLiteral(span=Span(start_line=38, start_column=22, end_line=38, end_column=22), value=0)]]), IndexedIdentifier(span=Span(start_line=38, start_column=26, end_line=38, end_column=33), name=Identifier(span=Span(start_line=38, start_column=1110, end_line=38, end_column=1114), name='c_reg'), indices=[[IntegerLiteral(span=Span(start_line=38, start_column=32, end_line=38, end_column=32), value=1)]]), IndexedIdentifier(span=Span(start_line=38, start_column=36, end_line=38, end_column=43), name=Identifier(span=Span(start_line=38, start_column=1120, end_line=38, end_column=1124), name='c_reg'), indices=[[IntegerLiteral(span=Span(start_line=38, start_column=42, end_line=38, end_column=42), value=2)]]), IndexedIdentifier(span=Span(start_line=38, start_column=46, end_line=38, end_column=53), name=Identifier(span=Span(start_line=38, start_column=1130, end_line=38, end_column=1134), name='c_reg'), indices=[[IntegerLiteral(span=Span(start_line=38, start_column=52, end_line=38, end_column=52), value=3)]]), IndexedIdentifier(span=Span(start_line=38, start_column=56, end_line=38, end_column=63), name=Identifier(span=Span(start_line=38, start_column=1140, end_line=38, end_column=1144), name='b_reg'), indices=[[IntegerLiteral(span=Span(start_line=38, start_column=62, end_line=38, end_column=62), value=0)]])])\n",
      "QuantumGate(span=Span(start_line=39, start_column=0, end_line=39, end_column=24), annotations=[], modifiers=[], name=Identifier(span=Span(start_line=39, start_column=1150, end_line=39, end_column=1152), name='cry'), arguments=[Identifier(span=Span(start_line=39, start_column=4, end_line=39, end_column=4), name='pi')], qubits=[IndexedIdentifier(span=Span(start_line=39, start_column=8, end_line=39, end_column=15), name=Identifier(span=Span(start_line=39, start_column=1158, end_line=39, end_column=1162), name='c_reg'), indices=[[IntegerLiteral(span=Span(start_line=39, start_column=14, end_line=39, end_column=14), value=0)]]), IndexedIdentifier(span=Span(start_line=39, start_column=18, end_line=39, end_column=23), name=Identifier(span=Span(start_line=39, start_column=1168, end_line=39, end_column=1170), name='anc'), indices=[[IntegerLiteral(span=Span(start_line=39, start_column=22, end_line=39, end_column=22), value=0)]])], duration=None)\n",
      "QuantumGate(span=Span(start_line=40, start_column=0, end_line=40, end_column=26), annotations=[], modifiers=[], name=Identifier(span=Span(start_line=40, start_column=1176, end_line=40, end_column=1178), name='cry'), arguments=[BinaryExpression(span=Span(start_line=40, start_column=4, end_line=40, end_column=7), op=<BinaryOperator./: 17>, lhs=Identifier(span=Span(start_line=40, start_column=4, end_line=40, end_column=4), name='pi'), rhs=IntegerLiteral(span=Span(start_line=40, start_column=7, end_line=40, end_column=7), value=3))], qubits=[IndexedIdentifier(span=Span(start_line=40, start_column=10, end_line=40, end_column=17), name=Identifier(span=Span(start_line=40, start_column=1186, end_line=40, end_column=1190), name='c_reg'), indices=[[IntegerLiteral(span=Span(start_line=40, start_column=16, end_line=40, end_column=16), value=1)]]), IndexedIdentifier(span=Span(start_line=40, start_column=20, end_line=40, end_column=25), name=Identifier(span=Span(start_line=40, start_column=1196, end_line=40, end_column=1198), name='anc'), indices=[[IntegerLiteral(span=Span(start_line=40, start_column=24, end_line=40, end_column=24), value=0)]])], duration=None)\n",
      "QuantumGate(span=Span(start_line=41, start_column=0, end_line=41, end_column=40), annotations=[], modifiers=[], name=Identifier(span=Span(start_line=41, start_column=1204, end_line=41, end_column=1206), name='cry'), arguments=[FloatLiteral(span=Span(start_line=41, start_column=4, end_line=41, end_column=4), value=0.5053605102841573)], qubits=[IndexedIdentifier(span=Span(start_line=41, start_column=24, end_line=41, end_column=31), name=Identifier(span=Span(start_line=41, start_column=1228, end_line=41, end_column=1232), name='c_reg'), indices=[[IntegerLiteral(span=Span(start_line=41, start_column=30, end_line=41, end_column=30), value=2)]]), IndexedIdentifier(span=Span(start_line=41, start_column=34, end_line=41, end_column=39), name=Identifier(span=Span(start_line=41, start_column=1238, end_line=41, end_column=1240), name='anc'), indices=[[IntegerLiteral(span=Span(start_line=41, start_column=38, end_line=41, end_column=38), value=0)]])], duration=None)\n",
      "QuantumGate(span=Span(start_line=42, start_column=0, end_line=42, end_column=40), annotations=[], modifiers=[], name=Identifier(span=Span(start_line=42, start_column=1246, end_line=42, end_column=1248), name='cry'), arguments=[FloatLiteral(span=Span(start_line=42, start_column=4, end_line=42, end_column=4), value=0.2506556623361308)], qubits=[IndexedIdentifier(span=Span(start_line=42, start_column=24, end_line=42, end_column=31), name=Identifier(span=Span(start_line=42, start_column=1270, end_line=42, end_column=1274), name='c_reg'), indices=[[IntegerLiteral(span=Span(start_line=42, start_column=30, end_line=42, end_column=30), value=3)]]), IndexedIdentifier(span=Span(start_line=42, start_column=34, end_line=42, end_column=39), name=Identifier(span=Span(start_line=42, start_column=1280, end_line=42, end_column=1282), name='anc'), indices=[[IntegerLiteral(span=Span(start_line=42, start_column=38, end_line=42, end_column=38), value=0)]])], duration=None)\n",
      "QuantumBarrier(span=Span(start_line=43, start_column=0, end_line=43, end_column=64), annotations=[], qubits=[IndexedIdentifier(span=Span(start_line=43, start_column=8, end_line=43, end_column=13), name=Identifier(span=Span(start_line=43, start_column=1296, end_line=43, end_column=1298), name='anc'), indices=[[IntegerLiteral(span=Span(start_line=43, start_column=12, end_line=43, end_column=12), value=0)]]), IndexedIdentifier(span=Span(start_line=43, start_column=16, end_line=43, end_column=23), name=Identifier(span=Span(start_line=43, start_column=1304, end_line=43, end_column=1308), name='c_reg'), indices=[[IntegerLiteral(span=Span(start_line=43, start_column=22, end_line=43, end_column=22), value=0)]]), IndexedIdentifier(span=Span(start_line=43, start_column=26, end_line=43, end_column=33), name=Identifier(span=Span(start_line=43, start_column=1314, end_line=43, end_column=1318), name='c_reg'), indices=[[IntegerLiteral(span=Span(start_line=43, start_column=32, end_line=43, end_column=32), value=1)]]), IndexedIdentifier(span=Span(start_line=43, start_column=36, end_line=43, end_column=43), name=Identifier(span=Span(start_line=43, start_column=1324, end_line=43, end_column=1328), name='c_reg'), indices=[[IntegerLiteral(span=Span(start_line=43, start_column=42, end_line=43, end_column=42), value=2)]]), IndexedIdentifier(span=Span(start_line=43, start_column=46, end_line=43, end_column=53), name=Identifier(span=Span(start_line=43, start_column=1334, end_line=43, end_column=1338), name='c_reg'), indices=[[IntegerLiteral(span=Span(start_line=43, start_column=52, end_line=43, end_column=52), value=3)]]), IndexedIdentifier(span=Span(start_line=43, start_column=56, end_line=43, end_column=63), name=Identifier(span=Span(start_line=43, start_column=1344, end_line=43, end_column=1348), name='b_reg'), indices=[[IntegerLiteral(span=Span(start_line=43, start_column=62, end_line=43, end_column=62), value=0)]])])\n",
      "QuantumGate(span=Span(start_line=44, start_column=0, end_line=44, end_column=23), annotations=[], modifiers=[], name=Identifier(span=Span(start_line=44, start_column=1354, end_line=44, end_column=1357), name='swap'), arguments=[], qubits=[IndexedIdentifier(span=Span(start_line=44, start_column=5, end_line=44, end_column=12), name=Identifier(span=Span(start_line=44, start_column=1359, end_line=44, end_column=1363), name='c_reg'), indices=[[IntegerLiteral(span=Span(start_line=44, start_column=11, end_line=44, end_column=11), value=2)]]), IndexedIdentifier(span=Span(start_line=44, start_column=15, end_line=44, end_column=22), name=Identifier(span=Span(start_line=44, start_column=1369, end_line=44, end_column=1373), name='c_reg'), indices=[[IntegerLiteral(span=Span(start_line=44, start_column=21, end_line=44, end_column=21), value=1)]])], duration=None)\n",
      "QuantumGate(span=Span(start_line=45, start_column=0, end_line=45, end_column=23), annotations=[], modifiers=[], name=Identifier(span=Span(start_line=45, start_column=1379, end_line=45, end_column=1382), name='swap'), arguments=[], qubits=[IndexedIdentifier(span=Span(start_line=45, start_column=5, end_line=45, end_column=12), name=Identifier(span=Span(start_line=45, start_column=1384, end_line=45, end_column=1388), name='c_reg'), indices=[[IntegerLiteral(span=Span(start_line=45, start_column=11, end_line=45, end_column=11), value=3)]]), IndexedIdentifier(span=Span(start_line=45, start_column=15, end_line=45, end_column=22), name=Identifier(span=Span(start_line=45, start_column=1394, end_line=45, end_column=1398), name='c_reg'), indices=[[IntegerLiteral(span=Span(start_line=45, start_column=21, end_line=45, end_column=21), value=0)]])], duration=None)\n",
      "QuantumBarrier(span=Span(start_line=46, start_column=0, end_line=46, end_column=64), annotations=[], qubits=[IndexedIdentifier(span=Span(start_line=46, start_column=8, end_line=46, end_column=13), name=Identifier(span=Span(start_line=46, start_column=1412, end_line=46, end_column=1414), name='anc'), indices=[[IntegerLiteral(span=Span(start_line=46, start_column=12, end_line=46, end_column=12), value=0)]]), IndexedIdentifier(span=Span(start_line=46, start_column=16, end_line=46, end_column=23), name=Identifier(span=Span(start_line=46, start_column=1420, end_line=46, end_column=1424), name='c_reg'), indices=[[IntegerLiteral(span=Span(start_line=46, start_column=22, end_line=46, end_column=22), value=0)]]), IndexedIdentifier(span=Span(start_line=46, start_column=26, end_line=46, end_column=33), name=Identifier(span=Span(start_line=46, start_column=1430, end_line=46, end_column=1434), name='c_reg'), indices=[[IntegerLiteral(span=Span(start_line=46, start_column=32, end_line=46, end_column=32), value=1)]]), IndexedIdentifier(span=Span(start_line=46, start_column=36, end_line=46, end_column=43), name=Identifier(span=Span(start_line=46, start_column=1440, end_line=46, end_column=1444), name='c_reg'), indices=[[IntegerLiteral(span=Span(start_line=46, start_column=42, end_line=46, end_column=42), value=2)]]), IndexedIdentifier(span=Span(start_line=46, start_column=46, end_line=46, end_column=53), name=Identifier(span=Span(start_line=46, start_column=1450, end_line=46, end_column=1454), name='c_reg'), indices=[[IntegerLiteral(span=Span(start_line=46, start_column=52, end_line=46, end_column=52), value=3)]]), IndexedIdentifier(span=Span(start_line=46, start_column=56, end_line=46, end_column=63), name=Identifier(span=Span(start_line=46, start_column=1460, end_line=46, end_column=1464), name='b_reg'), indices=[[IntegerLiteral(span=Span(start_line=46, start_column=62, end_line=46, end_column=62), value=0)]])])\n",
      "QuantumGate(span=Span(start_line=47, start_column=0, end_line=47, end_column=10), annotations=[], modifiers=[], name=Identifier(span=Span(start_line=47, start_column=1470, end_line=47, end_column=1470), name='h'), arguments=[], qubits=[IndexedIdentifier(span=Span(start_line=47, start_column=2, end_line=47, end_column=9), name=Identifier(span=Span(start_line=47, start_column=1472, end_line=47, end_column=1476), name='c_reg'), indices=[[IntegerLiteral(span=Span(start_line=47, start_column=8, end_line=47, end_column=8), value=3)]])], duration=None)\n",
      "QuantumGate(span=Span(start_line=48, start_column=0, end_line=48, end_column=27), annotations=[], modifiers=[], name=Identifier(span=Span(start_line=48, start_column=1482, end_line=48, end_column=1483), name='cp'), arguments=[BinaryExpression(span=Span(start_line=48, start_column=3, end_line=48, end_column=6), op=<BinaryOperator./: 17>, lhs=Identifier(span=Span(start_line=48, start_column=3, end_line=48, end_column=3), name='pi'), rhs=IntegerLiteral(span=Span(start_line=48, start_column=6, end_line=48, end_column=6), value=2))], qubits=[IndexedIdentifier(span=Span(start_line=48, start_column=9, end_line=48, end_column=16), name=Identifier(span=Span(start_line=48, start_column=1491, end_line=48, end_column=1495), name='c_reg'), indices=[[IntegerLiteral(span=Span(start_line=48, start_column=15, end_line=48, end_column=15), value=3)]]), IndexedIdentifier(span=Span(start_line=48, start_column=19, end_line=48, end_column=26), name=Identifier(span=Span(start_line=48, start_column=1501, end_line=48, end_column=1505), name='c_reg'), indices=[[IntegerLiteral(span=Span(start_line=48, start_column=25, end_line=48, end_column=25), value=2)]])], duration=None)\n",
      "QuantumGate(span=Span(start_line=49, start_column=0, end_line=49, end_column=10), annotations=[], modifiers=[], name=Identifier(span=Span(start_line=49, start_column=1511, end_line=49, end_column=1511), name='h'), arguments=[], qubits=[IndexedIdentifier(span=Span(start_line=49, start_column=2, end_line=49, end_column=9), name=Identifier(span=Span(start_line=49, start_column=1513, end_line=49, end_column=1517), name='c_reg'), indices=[[IntegerLiteral(span=Span(start_line=49, start_column=8, end_line=49, end_column=8), value=2)]])], duration=None)\n",
      "QuantumGate(span=Span(start_line=50, start_column=0, end_line=50, end_column=27), annotations=[], modifiers=[], name=Identifier(span=Span(start_line=50, start_column=1523, end_line=50, end_column=1524), name='cp'), arguments=[BinaryExpression(span=Span(start_line=50, start_column=3, end_line=50, end_column=6), op=<BinaryOperator./: 17>, lhs=Identifier(span=Span(start_line=50, start_column=3, end_line=50, end_column=3), name='pi'), rhs=IntegerLiteral(span=Span(start_line=50, start_column=6, end_line=50, end_column=6), value=4))], qubits=[IndexedIdentifier(span=Span(start_line=50, start_column=9, end_line=50, end_column=16), name=Identifier(span=Span(start_line=50, start_column=1532, end_line=50, end_column=1536), name='c_reg'), indices=[[IntegerLiteral(span=Span(start_line=50, start_column=15, end_line=50, end_column=15), value=3)]]), IndexedIdentifier(span=Span(start_line=50, start_column=19, end_line=50, end_column=26), name=Identifier(span=Span(start_line=50, start_column=1542, end_line=50, end_column=1546), name='c_reg'), indices=[[IntegerLiteral(span=Span(start_line=50, start_column=25, end_line=50, end_column=25), value=1)]])], duration=None)\n",
      "QuantumGate(span=Span(start_line=51, start_column=0, end_line=51, end_column=27), annotations=[], modifiers=[], name=Identifier(span=Span(start_line=51, start_column=1552, end_line=51, end_column=1553), name='cp'), arguments=[BinaryExpression(span=Span(start_line=51, start_column=3, end_line=51, end_column=6), op=<BinaryOperator./: 17>, lhs=Identifier(span=Span(start_line=51, start_column=3, end_line=51, end_column=3), name='pi'), rhs=IntegerLiteral(span=Span(start_line=51, start_column=6, end_line=51, end_column=6), value=2))], qubits=[IndexedIdentifier(span=Span(start_line=51, start_column=9, end_line=51, end_column=16), name=Identifier(span=Span(start_line=51, start_column=1561, end_line=51, end_column=1565), name='c_reg'), indices=[[IntegerLiteral(span=Span(start_line=51, start_column=15, end_line=51, end_column=15), value=2)]]), IndexedIdentifier(span=Span(start_line=51, start_column=19, end_line=51, end_column=26), name=Identifier(span=Span(start_line=51, start_column=1571, end_line=51, end_column=1575), name='c_reg'), indices=[[IntegerLiteral(span=Span(start_line=51, start_column=25, end_line=51, end_column=25), value=1)]])], duration=None)\n",
      "QuantumGate(span=Span(start_line=52, start_column=0, end_line=52, end_column=10), annotations=[], modifiers=[], name=Identifier(span=Span(start_line=52, start_column=1581, end_line=52, end_column=1581), name='h'), arguments=[], qubits=[IndexedIdentifier(span=Span(start_line=52, start_column=2, end_line=52, end_column=9), name=Identifier(span=Span(start_line=52, start_column=1583, end_line=52, end_column=1587), name='c_reg'), indices=[[IntegerLiteral(span=Span(start_line=52, start_column=8, end_line=52, end_column=8), value=1)]])], duration=None)\n",
      "QuantumGate(span=Span(start_line=53, start_column=0, end_line=53, end_column=27), annotations=[], modifiers=[], name=Identifier(span=Span(start_line=53, start_column=1593, end_line=53, end_column=1594), name='cp'), arguments=[BinaryExpression(span=Span(start_line=53, start_column=3, end_line=53, end_column=6), op=<BinaryOperator./: 17>, lhs=Identifier(span=Span(start_line=53, start_column=3, end_line=53, end_column=3), name='pi'), rhs=IntegerLiteral(span=Span(start_line=53, start_column=6, end_line=53, end_column=6), value=8))], qubits=[IndexedIdentifier(span=Span(start_line=53, start_column=9, end_line=53, end_column=16), name=Identifier(span=Span(start_line=53, start_column=1602, end_line=53, end_column=1606), name='c_reg'), indices=[[IntegerLiteral(span=Span(start_line=53, start_column=15, end_line=53, end_column=15), value=3)]]), IndexedIdentifier(span=Span(start_line=53, start_column=19, end_line=53, end_column=26), name=Identifier(span=Span(start_line=53, start_column=1612, end_line=53, end_column=1616), name='c_reg'), indices=[[IntegerLiteral(span=Span(start_line=53, start_column=25, end_line=53, end_column=25), value=0)]])], duration=None)\n",
      "QuantumGate(span=Span(start_line=54, start_column=0, end_line=54, end_column=27), annotations=[], modifiers=[], name=Identifier(span=Span(start_line=54, start_column=1622, end_line=54, end_column=1623), name='cp'), arguments=[BinaryExpression(span=Span(start_line=54, start_column=3, end_line=54, end_column=6), op=<BinaryOperator./: 17>, lhs=Identifier(span=Span(start_line=54, start_column=3, end_line=54, end_column=3), name='pi'), rhs=IntegerLiteral(span=Span(start_line=54, start_column=6, end_line=54, end_column=6), value=4))], qubits=[IndexedIdentifier(span=Span(start_line=54, start_column=9, end_line=54, end_column=16), name=Identifier(span=Span(start_line=54, start_column=1631, end_line=54, end_column=1635), name='c_reg'), indices=[[IntegerLiteral(span=Span(start_line=54, start_column=15, end_line=54, end_column=15), value=2)]]), IndexedIdentifier(span=Span(start_line=54, start_column=19, end_line=54, end_column=26), name=Identifier(span=Span(start_line=54, start_column=1641, end_line=54, end_column=1645), name='c_reg'), indices=[[IntegerLiteral(span=Span(start_line=54, start_column=25, end_line=54, end_column=25), value=0)]])], duration=None)\n",
      "QuantumGate(span=Span(start_line=55, start_column=0, end_line=55, end_column=27), annotations=[], modifiers=[], name=Identifier(span=Span(start_line=55, start_column=1651, end_line=55, end_column=1652), name='cp'), arguments=[BinaryExpression(span=Span(start_line=55, start_column=3, end_line=55, end_column=6), op=<BinaryOperator./: 17>, lhs=Identifier(span=Span(start_line=55, start_column=3, end_line=55, end_column=3), name='pi'), rhs=IntegerLiteral(span=Span(start_line=55, start_column=6, end_line=55, end_column=6), value=2))], qubits=[IndexedIdentifier(span=Span(start_line=55, start_column=9, end_line=55, end_column=16), name=Identifier(span=Span(start_line=55, start_column=1660, end_line=55, end_column=1664), name='c_reg'), indices=[[IntegerLiteral(span=Span(start_line=55, start_column=15, end_line=55, end_column=15), value=1)]]), IndexedIdentifier(span=Span(start_line=55, start_column=19, end_line=55, end_column=26), name=Identifier(span=Span(start_line=55, start_column=1670, end_line=55, end_column=1674), name='c_reg'), indices=[[IntegerLiteral(span=Span(start_line=55, start_column=25, end_line=55, end_column=25), value=0)]])], duration=None)\n",
      "QuantumGate(span=Span(start_line=56, start_column=0, end_line=56, end_column=10), annotations=[], modifiers=[], name=Identifier(span=Span(start_line=56, start_column=1680, end_line=56, end_column=1680), name='h'), arguments=[], qubits=[IndexedIdentifier(span=Span(start_line=56, start_column=2, end_line=56, end_column=9), name=Identifier(span=Span(start_line=56, start_column=1682, end_line=56, end_column=1686), name='c_reg'), indices=[[IntegerLiteral(span=Span(start_line=56, start_column=8, end_line=56, end_column=8), value=0)]])], duration=None)\n",
      "QuantumGate(span=Span(start_line=57, start_column=0, end_line=57, end_column=23), annotations=[], modifiers=[], name=Identifier(span=Span(start_line=57, start_column=1692, end_line=57, end_column=1695), name='swap'), arguments=[], qubits=[IndexedIdentifier(span=Span(start_line=57, start_column=5, end_line=57, end_column=12), name=Identifier(span=Span(start_line=57, start_column=1697, end_line=57, end_column=1701), name='c_reg'), indices=[[IntegerLiteral(span=Span(start_line=57, start_column=11, end_line=57, end_column=11), value=0)]]), IndexedIdentifier(span=Span(start_line=57, start_column=15, end_line=57, end_column=22), name=Identifier(span=Span(start_line=57, start_column=1707, end_line=57, end_column=1711), name='c_reg'), indices=[[IntegerLiteral(span=Span(start_line=57, start_column=21, end_line=57, end_column=21), value=3)]])], duration=None)\n",
      "QuantumGate(span=Span(start_line=58, start_column=0, end_line=58, end_column=23), annotations=[], modifiers=[], name=Identifier(span=Span(start_line=58, start_column=1717, end_line=58, end_column=1720), name='swap'), arguments=[], qubits=[IndexedIdentifier(span=Span(start_line=58, start_column=5, end_line=58, end_column=12), name=Identifier(span=Span(start_line=58, start_column=1722, end_line=58, end_column=1726), name='c_reg'), indices=[[IntegerLiteral(span=Span(start_line=58, start_column=11, end_line=58, end_column=11), value=1)]]), IndexedIdentifier(span=Span(start_line=58, start_column=15, end_line=58, end_column=22), name=Identifier(span=Span(start_line=58, start_column=1732, end_line=58, end_column=1736), name='c_reg'), indices=[[IntegerLiteral(span=Span(start_line=58, start_column=21, end_line=58, end_column=21), value=2)]])], duration=None)\n",
      "QuantumBarrier(span=Span(start_line=59, start_column=0, end_line=59, end_column=64), annotations=[], qubits=[IndexedIdentifier(span=Span(start_line=59, start_column=8, end_line=59, end_column=13), name=Identifier(span=Span(start_line=59, start_column=1750, end_line=59, end_column=1752), name='anc'), indices=[[IntegerLiteral(span=Span(start_line=59, start_column=12, end_line=59, end_column=12), value=0)]]), IndexedIdentifier(span=Span(start_line=59, start_column=16, end_line=59, end_column=23), name=Identifier(span=Span(start_line=59, start_column=1758, end_line=59, end_column=1762), name='c_reg'), indices=[[IntegerLiteral(span=Span(start_line=59, start_column=22, end_line=59, end_column=22), value=0)]]), IndexedIdentifier(span=Span(start_line=59, start_column=26, end_line=59, end_column=33), name=Identifier(span=Span(start_line=59, start_column=1768, end_line=59, end_column=1772), name='c_reg'), indices=[[IntegerLiteral(span=Span(start_line=59, start_column=32, end_line=59, end_column=32), value=1)]]), IndexedIdentifier(span=Span(start_line=59, start_column=36, end_line=59, end_column=43), name=Identifier(span=Span(start_line=59, start_column=1778, end_line=59, end_column=1782), name='c_reg'), indices=[[IntegerLiteral(span=Span(start_line=59, start_column=42, end_line=59, end_column=42), value=2)]]), IndexedIdentifier(span=Span(start_line=59, start_column=46, end_line=59, end_column=53), name=Identifier(span=Span(start_line=59, start_column=1788, end_line=59, end_column=1792), name='c_reg'), indices=[[IntegerLiteral(span=Span(start_line=59, start_column=52, end_line=59, end_column=52), value=3)]]), IndexedIdentifier(span=Span(start_line=59, start_column=56, end_line=59, end_column=63), name=Identifier(span=Span(start_line=59, start_column=1798, end_line=59, end_column=1802), name='b_reg'), indices=[[IntegerLiteral(span=Span(start_line=59, start_column=62, end_line=59, end_column=62), value=0)]])])\n",
      "QuantumGate(span=Span(start_line=60, start_column=0, end_line=60, end_column=66), annotations=[], modifiers=[], name=Identifier(span=Span(start_line=60, start_column=1808, end_line=60, end_column=1809), name='cu'), arguments=[IntegerLiteral(span=Span(start_line=60, start_column=3, end_line=60, end_column=3), value=0), FloatLiteral(span=Span(start_line=60, start_column=6, end_line=60, end_column=6), value=1.190289949682532), UnaryExpression(span=Span(start_line=60, start_column=25, end_line=60, end_column=26), op=<UnaryOperator.-: 3>, expression=FloatLiteral(span=Span(start_line=60, start_column=26, end_line=60, end_column=26), value=1.190289949682532)), IntegerLiteral(span=Span(start_line=60, start_column=45, end_line=60, end_column=45), value=0)], qubits=[IndexedIdentifier(span=Span(start_line=60, start_column=48, end_line=60, end_column=55), name=Identifier(span=Span(start_line=60, start_column=1856, end_line=60, end_column=1860), name='c_reg'), indices=[[IntegerLiteral(span=Span(start_line=60, start_column=54, end_line=60, end_column=54), value=3)]]), IndexedIdentifier(span=Span(start_line=60, start_column=58, end_line=60, end_column=65), name=Identifier(span=Span(start_line=60, start_column=1866, end_line=60, end_column=1870), name='b_reg'), indices=[[IntegerLiteral(span=Span(start_line=60, start_column=64, end_line=60, end_column=64), value=0)]])], duration=None)\n",
      "QuantumGate(span=Span(start_line=61, start_column=0, end_line=61, end_column=67), annotations=[], modifiers=[], name=Identifier(span=Span(start_line=61, start_column=1876, end_line=61, end_column=1877), name='cu'), arguments=[IntegerLiteral(span=Span(start_line=61, start_column=3, end_line=61, end_column=3), value=0), FloatLiteral(span=Span(start_line=61, start_column=6, end_line=61, end_column=6), value=1.190289949682532), UnaryExpression(span=Span(start_line=61, start_column=25, end_line=61, end_column=26), op=<UnaryOperator.-: 3>, expression=FloatLiteral(span=Span(start_line=61, start_column=26, end_line=61, end_column=26), value=1.1902899496825319)), IntegerLiteral(span=Span(start_line=61, start_column=46, end_line=61, end_column=46), value=0)], qubits=[IndexedIdentifier(span=Span(start_line=61, start_column=49, end_line=61, end_column=56), name=Identifier(span=Span(start_line=61, start_column=1925, end_line=61, end_column=1929), name='c_reg'), indices=[[IntegerLiteral(span=Span(start_line=61, start_column=55, end_line=61, end_column=55), value=2)]]), IndexedIdentifier(span=Span(start_line=61, start_column=59, end_line=61, end_column=66), name=Identifier(span=Span(start_line=61, start_column=1935, end_line=61, end_column=1939), name='b_reg'), indices=[[IntegerLiteral(span=Span(start_line=61, start_column=65, end_line=61, end_column=65), value=0)]])], duration=None)\n",
      "QuantumGate(span=Span(start_line=62, start_column=0, end_line=62, end_column=69), annotations=[], modifiers=[], name=Identifier(span=Span(start_line=62, start_column=1945, end_line=62, end_column=1946), name='cu'), arguments=[Identifier(span=Span(start_line=62, start_column=3, end_line=62, end_column=3), name='pi'), UnaryExpression(span=Span(start_line=62, start_column=7, end_line=62, end_column=8), op=<UnaryOperator.-: 3>, expression=FloatLiteral(span=Span(start_line=62, start_column=8, end_line=62, end_column=8), value=2.2142974355881804)), UnaryExpression(span=Span(start_line=62, start_column=28, end_line=62, end_column=29), op=<UnaryOperator.-: 3>, expression=FloatLiteral(span=Span(start_line=62, start_column=29, end_line=62, end_column=29), value=5.355890089177974)), IntegerLiteral(span=Span(start_line=62, start_column=48, end_line=62, end_column=48), value=0)], qubits=[IndexedIdentifier(span=Span(start_line=62, start_column=51, end_line=62, end_column=58), name=Identifier(span=Span(start_line=62, start_column=1996, end_line=62, end_column=2000), name='c_reg'), indices=[[IntegerLiteral(span=Span(start_line=62, start_column=57, end_line=62, end_column=57), value=1)]]), IndexedIdentifier(span=Span(start_line=62, start_column=61, end_line=62, end_column=68), name=Identifier(span=Span(start_line=62, start_column=2006, end_line=62, end_column=2010), name='b_reg'), indices=[[IntegerLiteral(span=Span(start_line=62, start_column=67, end_line=62, end_column=67), value=0)]])], duration=None)\n",
      "QuantumGate(span=Span(start_line=63, start_column=0, end_line=63, end_column=46), annotations=[], modifiers=[], name=Identifier(span=Span(start_line=63, start_column=2016, end_line=63, end_column=2017), name='cu'), arguments=[BinaryExpression(span=Span(start_line=63, start_column=3, end_line=63, end_column=6), op=<BinaryOperator./: 17>, lhs=Identifier(span=Span(start_line=63, start_column=3, end_line=63, end_column=3), name='pi'), rhs=IntegerLiteral(span=Span(start_line=63, start_column=6, end_line=63, end_column=6), value=2)), BinaryExpression(span=Span(start_line=63, start_column=9, end_line=63, end_column=15), op=<BinaryOperator./: 17>, lhs=BinaryExpression(span=Span(start_line=63, start_column=9, end_line=63, end_column=12), op=<BinaryOperator.*: 16>, lhs=UnaryExpression(span=Span(start_line=63, start_column=9, end_line=63, end_column=10), op=<UnaryOperator.-: 3>, expression=IntegerLiteral(span=Span(start_line=63, start_column=10, end_line=63, end_column=10), value=3)), rhs=Identifier(span=Span(start_line=63, start_column=12, end_line=63, end_column=12), name='pi')), rhs=IntegerLiteral(span=Span(start_line=63, start_column=15, end_line=63, end_column=15), value=2)), BinaryExpression(span=Span(start_line=63, start_column=18, end_line=63, end_column=22), op=<BinaryOperator./: 17>, lhs=UnaryExpression(span=Span(start_line=63, start_column=18, end_line=63, end_column=19), op=<UnaryOperator.-: 3>, expression=Identifier(span=Span(start_line=63, start_column=19, end_line=63, end_column=19), name='pi')), rhs=IntegerLiteral(span=Span(start_line=63, start_column=22, end_line=63, end_column=22), value=2)), IntegerLiteral(span=Span(start_line=63, start_column=25, end_line=63, end_column=25), value=0)], qubits=[IndexedIdentifier(span=Span(start_line=63, start_column=28, end_line=63, end_column=35), name=Identifier(span=Span(start_line=63, start_column=2044, end_line=63, end_column=2048), name='c_reg'), indices=[[IntegerLiteral(span=Span(start_line=63, start_column=34, end_line=63, end_column=34), value=0)]]), IndexedIdentifier(span=Span(start_line=63, start_column=38, end_line=63, end_column=45), name=Identifier(span=Span(start_line=63, start_column=2054, end_line=63, end_column=2058), name='b_reg'), indices=[[IntegerLiteral(span=Span(start_line=63, start_column=44, end_line=63, end_column=44), value=0)]])], duration=None)\n",
      "QuantumGate(span=Span(start_line=64, start_column=0, end_line=64, end_column=18), annotations=[], modifiers=[], name=Identifier(span=Span(start_line=64, start_column=2064, end_line=64, end_column=2064), name='p'), arguments=[BinaryExpression(span=Span(start_line=64, start_column=2, end_line=64, end_column=7), op=<BinaryOperator./: 17>, lhs=BinaryExpression(span=Span(start_line=64, start_column=2, end_line=64, end_column=4), op=<BinaryOperator.*: 16>, lhs=IntegerLiteral(span=Span(start_line=64, start_column=2, end_line=64, end_column=2), value=5), rhs=Identifier(span=Span(start_line=64, start_column=4, end_line=64, end_column=4), name='pi')), rhs=IntegerLiteral(span=Span(start_line=64, start_column=7, end_line=64, end_column=7), value=4))], qubits=[IndexedIdentifier(span=Span(start_line=64, start_column=10, end_line=64, end_column=17), name=Identifier(span=Span(start_line=64, start_column=2074, end_line=64, end_column=2078), name='c_reg'), indices=[[IntegerLiteral(span=Span(start_line=64, start_column=16, end_line=64, end_column=16), value=0)]])], duration=None)\n",
      "QuantumGate(span=Span(start_line=65, start_column=0, end_line=65, end_column=29), annotations=[], modifiers=[], name=Identifier(span=Span(start_line=65, start_column=2084, end_line=65, end_column=2084), name='p'), arguments=[FloatLiteral(span=Span(start_line=65, start_column=2, end_line=65, end_column=2), value=5.355890089177974)], qubits=[IndexedIdentifier(span=Span(start_line=65, start_column=21, end_line=65, end_column=28), name=Identifier(span=Span(start_line=65, start_column=2105, end_line=65, end_column=2109), name='c_reg'), indices=[[IntegerLiteral(span=Span(start_line=65, start_column=27, end_line=65, end_column=27), value=1)]])], duration=None)\n",
      "QuantumGate(span=Span(start_line=66, start_column=0, end_line=66, end_column=16), annotations=[], modifiers=[], name=Identifier(span=Span(start_line=66, start_column=2115, end_line=66, end_column=2115), name='p'), arguments=[BinaryExpression(span=Span(start_line=66, start_column=2, end_line=66, end_column=4), op=<BinaryOperator.*: 16>, lhs=IntegerLiteral(span=Span(start_line=66, start_column=2, end_line=66, end_column=2), value=2), rhs=Identifier(span=Span(start_line=66, start_column=4, end_line=66, end_column=4), name='pi'))], qubits=[IndexedIdentifier(span=Span(start_line=66, start_column=8, end_line=66, end_column=15), name=Identifier(span=Span(start_line=66, start_column=2123, end_line=66, end_column=2127), name='c_reg'), indices=[[IntegerLiteral(span=Span(start_line=66, start_column=14, end_line=66, end_column=14), value=2)]])], duration=None)\n",
      "QuantumGate(span=Span(start_line=67, start_column=0, end_line=67, end_column=16), annotations=[], modifiers=[], name=Identifier(span=Span(start_line=67, start_column=2133, end_line=67, end_column=2133), name='p'), arguments=[BinaryExpression(span=Span(start_line=67, start_column=2, end_line=67, end_column=4), op=<BinaryOperator.*: 16>, lhs=IntegerLiteral(span=Span(start_line=67, start_column=2, end_line=67, end_column=2), value=2), rhs=Identifier(span=Span(start_line=67, start_column=4, end_line=67, end_column=4), name='pi'))], qubits=[IndexedIdentifier(span=Span(start_line=67, start_column=8, end_line=67, end_column=15), name=Identifier(span=Span(start_line=67, start_column=2141, end_line=67, end_column=2145), name='c_reg'), indices=[[IntegerLiteral(span=Span(start_line=67, start_column=14, end_line=67, end_column=14), value=3)]])], duration=None)\n",
      "QuantumBarrier(span=Span(start_line=68, start_column=0, end_line=68, end_column=64), annotations=[], qubits=[IndexedIdentifier(span=Span(start_line=68, start_column=8, end_line=68, end_column=13), name=Identifier(span=Span(start_line=68, start_column=2159, end_line=68, end_column=2161), name='anc'), indices=[[IntegerLiteral(span=Span(start_line=68, start_column=12, end_line=68, end_column=12), value=0)]]), IndexedIdentifier(span=Span(start_line=68, start_column=16, end_line=68, end_column=23), name=Identifier(span=Span(start_line=68, start_column=2167, end_line=68, end_column=2171), name='c_reg'), indices=[[IntegerLiteral(span=Span(start_line=68, start_column=22, end_line=68, end_column=22), value=0)]]), IndexedIdentifier(span=Span(start_line=68, start_column=26, end_line=68, end_column=33), name=Identifier(span=Span(start_line=68, start_column=2177, end_line=68, end_column=2181), name='c_reg'), indices=[[IntegerLiteral(span=Span(start_line=68, start_column=32, end_line=68, end_column=32), value=1)]]), IndexedIdentifier(span=Span(start_line=68, start_column=36, end_line=68, end_column=43), name=Identifier(span=Span(start_line=68, start_column=2187, end_line=68, end_column=2191), name='c_reg'), indices=[[IntegerLiteral(span=Span(start_line=68, start_column=42, end_line=68, end_column=42), value=2)]]), IndexedIdentifier(span=Span(start_line=68, start_column=46, end_line=68, end_column=53), name=Identifier(span=Span(start_line=68, start_column=2197, end_line=68, end_column=2201), name='c_reg'), indices=[[IntegerLiteral(span=Span(start_line=68, start_column=52, end_line=68, end_column=52), value=3)]]), IndexedIdentifier(span=Span(start_line=68, start_column=56, end_line=68, end_column=63), name=Identifier(span=Span(start_line=68, start_column=2207, end_line=68, end_column=2211), name='b_reg'), indices=[[IntegerLiteral(span=Span(start_line=68, start_column=62, end_line=68, end_column=62), value=0)]])])\n",
      "QuantumGate(span=Span(start_line=69, start_column=0, end_line=69, end_column=10), annotations=[], modifiers=[], name=Identifier(span=Span(start_line=69, start_column=2217, end_line=69, end_column=2217), name='h'), arguments=[], qubits=[IndexedIdentifier(span=Span(start_line=69, start_column=2, end_line=69, end_column=9), name=Identifier(span=Span(start_line=69, start_column=2219, end_line=69, end_column=2223), name='c_reg'), indices=[[IntegerLiteral(span=Span(start_line=69, start_column=8, end_line=69, end_column=8), value=0)]])], duration=None)\n",
      "QuantumGate(span=Span(start_line=70, start_column=0, end_line=70, end_column=10), annotations=[], modifiers=[], name=Identifier(span=Span(start_line=70, start_column=2229, end_line=70, end_column=2229), name='h'), arguments=[], qubits=[IndexedIdentifier(span=Span(start_line=70, start_column=2, end_line=70, end_column=9), name=Identifier(span=Span(start_line=70, start_column=2231, end_line=70, end_column=2235), name='c_reg'), indices=[[IntegerLiteral(span=Span(start_line=70, start_column=8, end_line=70, end_column=8), value=1)]])], duration=None)\n",
      "QuantumGate(span=Span(start_line=71, start_column=0, end_line=71, end_column=10), annotations=[], modifiers=[], name=Identifier(span=Span(start_line=71, start_column=2241, end_line=71, end_column=2241), name='h'), arguments=[], qubits=[IndexedIdentifier(span=Span(start_line=71, start_column=2, end_line=71, end_column=9), name=Identifier(span=Span(start_line=71, start_column=2243, end_line=71, end_column=2247), name='c_reg'), indices=[[IntegerLiteral(span=Span(start_line=71, start_column=8, end_line=71, end_column=8), value=2)]])], duration=None)\n",
      "QuantumGate(span=Span(start_line=72, start_column=0, end_line=72, end_column=10), annotations=[], modifiers=[], name=Identifier(span=Span(start_line=72, start_column=2253, end_line=72, end_column=2253), name='h'), arguments=[], qubits=[IndexedIdentifier(span=Span(start_line=72, start_column=2, end_line=72, end_column=9), name=Identifier(span=Span(start_line=72, start_column=2255, end_line=72, end_column=2259), name='c_reg'), indices=[[IntegerLiteral(span=Span(start_line=72, start_column=8, end_line=72, end_column=8), value=3)]])], duration=None)\n",
      "QuantumBarrier(span=Span(start_line=73, start_column=0, end_line=73, end_column=64), annotations=[], qubits=[IndexedIdentifier(span=Span(start_line=73, start_column=8, end_line=73, end_column=13), name=Identifier(span=Span(start_line=73, start_column=2273, end_line=73, end_column=2275), name='anc'), indices=[[IntegerLiteral(span=Span(start_line=73, start_column=12, end_line=73, end_column=12), value=0)]]), IndexedIdentifier(span=Span(start_line=73, start_column=16, end_line=73, end_column=23), name=Identifier(span=Span(start_line=73, start_column=2281, end_line=73, end_column=2285), name='c_reg'), indices=[[IntegerLiteral(span=Span(start_line=73, start_column=22, end_line=73, end_column=22), value=0)]]), IndexedIdentifier(span=Span(start_line=73, start_column=26, end_line=73, end_column=33), name=Identifier(span=Span(start_line=73, start_column=2291, end_line=73, end_column=2295), name='c_reg'), indices=[[IntegerLiteral(span=Span(start_line=73, start_column=32, end_line=73, end_column=32), value=1)]]), IndexedIdentifier(span=Span(start_line=73, start_column=36, end_line=73, end_column=43), name=Identifier(span=Span(start_line=73, start_column=2301, end_line=73, end_column=2305), name='c_reg'), indices=[[IntegerLiteral(span=Span(start_line=73, start_column=42, end_line=73, end_column=42), value=2)]]), IndexedIdentifier(span=Span(start_line=73, start_column=46, end_line=73, end_column=53), name=Identifier(span=Span(start_line=73, start_column=2311, end_line=73, end_column=2315), name='c_reg'), indices=[[IntegerLiteral(span=Span(start_line=73, start_column=52, end_line=73, end_column=52), value=3)]]), IndexedIdentifier(span=Span(start_line=73, start_column=56, end_line=73, end_column=63), name=Identifier(span=Span(start_line=73, start_column=2321, end_line=73, end_column=2325), name='b_reg'), indices=[[IntegerLiteral(span=Span(start_line=73, start_column=62, end_line=73, end_column=62), value=0)]])])\n",
      "QuantumMeasurementStatement(span=Span(start_line=74, start_column=0, end_line=74, end_column=25), annotations=[], measure=QuantumMeasurement(span=Span(start_line=74, start_column=11, end_line=74, end_column=24), qubit=IndexedIdentifier(span=Span(start_line=74, start_column=19, end_line=74, end_column=24), name=Identifier(span=Span(start_line=74, start_column=2350, end_line=74, end_column=2352), name='anc'), indices=[[IntegerLiteral(span=Span(start_line=74, start_column=23, end_line=74, end_column=23), value=0)]])), target=IndexedIdentifier(span=Span(start_line=74, start_column=0, end_line=74, end_column=7), name=Identifier(span=Span(start_line=74, start_column=2331, end_line=74, end_column=2335), name='cregb'), indices=[[IntegerLiteral(span=Span(start_line=74, start_column=6, end_line=74, end_column=6), value=0)]]))\n",
      "QuantumMeasurementStatement(span=Span(start_line=75, start_column=0, end_line=75, end_column=27), annotations=[], measure=QuantumMeasurement(span=Span(start_line=75, start_column=11, end_line=75, end_column=26), qubit=IndexedIdentifier(span=Span(start_line=75, start_column=19, end_line=75, end_column=26), name=Identifier(span=Span(start_line=75, start_column=2377, end_line=75, end_column=2381), name='c_reg'), indices=[[IntegerLiteral(span=Span(start_line=75, start_column=25, end_line=75, end_column=25), value=0)]])), target=IndexedIdentifier(span=Span(start_line=75, start_column=0, end_line=75, end_column=7), name=Identifier(span=Span(start_line=75, start_column=2358, end_line=75, end_column=2362), name='cregb'), indices=[[IntegerLiteral(span=Span(start_line=75, start_column=6, end_line=75, end_column=6), value=1)]]))\n",
      "QuantumMeasurementStatement(span=Span(start_line=76, start_column=0, end_line=76, end_column=27), annotations=[], measure=QuantumMeasurement(span=Span(start_line=76, start_column=11, end_line=76, end_column=26), qubit=IndexedIdentifier(span=Span(start_line=76, start_column=19, end_line=76, end_column=26), name=Identifier(span=Span(start_line=76, start_column=2406, end_line=76, end_column=2410), name='c_reg'), indices=[[IntegerLiteral(span=Span(start_line=76, start_column=25, end_line=76, end_column=25), value=1)]])), target=IndexedIdentifier(span=Span(start_line=76, start_column=0, end_line=76, end_column=7), name=Identifier(span=Span(start_line=76, start_column=2387, end_line=76, end_column=2391), name='cregb'), indices=[[IntegerLiteral(span=Span(start_line=76, start_column=6, end_line=76, end_column=6), value=2)]]))\n",
      "QuantumMeasurementStatement(span=Span(start_line=77, start_column=0, end_line=77, end_column=27), annotations=[], measure=QuantumMeasurement(span=Span(start_line=77, start_column=11, end_line=77, end_column=26), qubit=IndexedIdentifier(span=Span(start_line=77, start_column=19, end_line=77, end_column=26), name=Identifier(span=Span(start_line=77, start_column=2435, end_line=77, end_column=2439), name='c_reg'), indices=[[IntegerLiteral(span=Span(start_line=77, start_column=25, end_line=77, end_column=25), value=2)]])), target=IndexedIdentifier(span=Span(start_line=77, start_column=0, end_line=77, end_column=7), name=Identifier(span=Span(start_line=77, start_column=2416, end_line=77, end_column=2420), name='cregb'), indices=[[IntegerLiteral(span=Span(start_line=77, start_column=6, end_line=77, end_column=6), value=3)]]))\n",
      "QuantumMeasurementStatement(span=Span(start_line=78, start_column=0, end_line=78, end_column=27), annotations=[], measure=QuantumMeasurement(span=Span(start_line=78, start_column=11, end_line=78, end_column=26), qubit=IndexedIdentifier(span=Span(start_line=78, start_column=19, end_line=78, end_column=26), name=Identifier(span=Span(start_line=78, start_column=2464, end_line=78, end_column=2468), name='c_reg'), indices=[[IntegerLiteral(span=Span(start_line=78, start_column=25, end_line=78, end_column=25), value=3)]])), target=IndexedIdentifier(span=Span(start_line=78, start_column=0, end_line=78, end_column=7), name=Identifier(span=Span(start_line=78, start_column=2445, end_line=78, end_column=2449), name='cregb'), indices=[[IntegerLiteral(span=Span(start_line=78, start_column=6, end_line=78, end_column=6), value=4)]]))\n",
      "QuantumMeasurementStatement(span=Span(start_line=79, start_column=0, end_line=79, end_column=27), annotations=[], measure=QuantumMeasurement(span=Span(start_line=79, start_column=11, end_line=79, end_column=26), qubit=IndexedIdentifier(span=Span(start_line=79, start_column=19, end_line=79, end_column=26), name=Identifier(span=Span(start_line=79, start_column=2493, end_line=79, end_column=2497), name='b_reg'), indices=[[IntegerLiteral(span=Span(start_line=79, start_column=25, end_line=79, end_column=25), value=0)]])), target=IndexedIdentifier(span=Span(start_line=79, start_column=0, end_line=79, end_column=7), name=Identifier(span=Span(start_line=79, start_column=2474, end_line=79, end_column=2478), name='cregb'), indices=[[IntegerLiteral(span=Span(start_line=79, start_column=6, end_line=79, end_column=6), value=5)]]))\n"
     ]
    }
   ],
   "source": [
    "for s in qasm_parsed_file.statements:\n",
    "    print(s)"
   ]
  },
  {
   "cell_type": "code",
   "execution_count": 11,
   "metadata": {},
   "outputs": [
    {
     "data": {
      "text/plain": [
       "'3.0'"
      ]
     },
     "execution_count": 11,
     "metadata": {},
     "output_type": "execute_result"
    }
   ],
   "source": [
    "qasm_parsed_file.version"
   ]
  },
  {
   "cell_type": "code",
   "execution_count": 12,
   "metadata": {},
   "outputs": [],
   "source": [
    "state = openqasm3.visitor.QASMVisitor().visit(node=qasm_parsed_file)"
   ]
  },
  {
   "cell_type": "code",
   "execution_count": 13,
   "metadata": {},
   "outputs": [],
   "source": [
    "state"
   ]
  },
  {
   "cell_type": "code",
   "execution_count": 14,
   "metadata": {},
   "outputs": [
    {
     "data": {
      "text/plain": [
       "[Include(span=Span(start_line=2, start_column=0, end_line=2, end_column=22), annotations=[], filename='stdgates.inc'),\n",
       " ClassicalDeclaration(span=Span(start_line=3, start_column=0, end_line=3, end_column=12), annotations=[], type=BitType(span=Span(start_line=3, start_column=0, end_line=3, end_column=5), size=IntegerLiteral(span=Span(start_line=3, start_column=3, end_line=3, end_column=5), value=6)), identifier=Identifier(span=Span(start_line=3, start_column=45, end_line=3, end_column=49), name='cregb'), init_expression=None),\n",
       " QubitDeclaration(span=Span(start_line=4, start_column=0, end_line=4, end_column=12), annotations=[], qubit=Identifier(span=Span(start_line=4, start_column=61, end_line=4, end_column=63), name='anc'), size=IntegerLiteral(span=Span(start_line=4, start_column=5, end_line=4, end_column=7), value=1)),\n",
       " QubitDeclaration(span=Span(start_line=5, start_column=0, end_line=5, end_column=14), annotations=[], qubit=Identifier(span=Span(start_line=5, start_column=75, end_line=5, end_column=79), name='c_reg'), size=IntegerLiteral(span=Span(start_line=5, start_column=5, end_line=5, end_column=7), value=4)),\n",
       " QubitDeclaration(span=Span(start_line=6, start_column=0, end_line=6, end_column=14), annotations=[], qubit=Identifier(span=Span(start_line=6, start_column=91, end_line=6, end_column=95), name='b_reg'), size=IntegerLiteral(span=Span(start_line=6, start_column=5, end_line=6, end_column=7), value=1)),\n",
       " QuantumGate(span=Span(start_line=7, start_column=0, end_line=7, end_column=10), annotations=[], modifiers=[], name=Identifier(span=Span(start_line=7, start_column=98, end_line=7, end_column=98), name='x'), arguments=[], qubits=[IndexedIdentifier(span=Span(start_line=7, start_column=2, end_line=7, end_column=9), name=Identifier(span=Span(start_line=7, start_column=100, end_line=7, end_column=104), name='b_reg'), indices=[[IntegerLiteral(span=Span(start_line=7, start_column=8, end_line=7, end_column=8), value=0)]])], duration=None),\n",
       " QuantumBarrier(span=Span(start_line=8, start_column=0, end_line=8, end_column=64), annotations=[], qubits=[IndexedIdentifier(span=Span(start_line=8, start_column=8, end_line=8, end_column=13), name=Identifier(span=Span(start_line=8, start_column=118, end_line=8, end_column=120), name='anc'), indices=[[IntegerLiteral(span=Span(start_line=8, start_column=12, end_line=8, end_column=12), value=0)]]), IndexedIdentifier(span=Span(start_line=8, start_column=16, end_line=8, end_column=23), name=Identifier(span=Span(start_line=8, start_column=126, end_line=8, end_column=130), name='c_reg'), indices=[[IntegerLiteral(span=Span(start_line=8, start_column=22, end_line=8, end_column=22), value=0)]]), IndexedIdentifier(span=Span(start_line=8, start_column=26, end_line=8, end_column=33), name=Identifier(span=Span(start_line=8, start_column=136, end_line=8, end_column=140), name='c_reg'), indices=[[IntegerLiteral(span=Span(start_line=8, start_column=32, end_line=8, end_column=32), value=1)]]), IndexedIdentifier(span=Span(start_line=8, start_column=36, end_line=8, end_column=43), name=Identifier(span=Span(start_line=8, start_column=146, end_line=8, end_column=150), name='c_reg'), indices=[[IntegerLiteral(span=Span(start_line=8, start_column=42, end_line=8, end_column=42), value=2)]]), IndexedIdentifier(span=Span(start_line=8, start_column=46, end_line=8, end_column=53), name=Identifier(span=Span(start_line=8, start_column=156, end_line=8, end_column=160), name='c_reg'), indices=[[IntegerLiteral(span=Span(start_line=8, start_column=52, end_line=8, end_column=52), value=3)]]), IndexedIdentifier(span=Span(start_line=8, start_column=56, end_line=8, end_column=63), name=Identifier(span=Span(start_line=8, start_column=166, end_line=8, end_column=170), name='b_reg'), indices=[[IntegerLiteral(span=Span(start_line=8, start_column=62, end_line=8, end_column=62), value=0)]])]),\n",
       " QuantumGate(span=Span(start_line=9, start_column=0, end_line=9, end_column=10), annotations=[], modifiers=[], name=Identifier(span=Span(start_line=9, start_column=176, end_line=9, end_column=176), name='h'), arguments=[], qubits=[IndexedIdentifier(span=Span(start_line=9, start_column=2, end_line=9, end_column=9), name=Identifier(span=Span(start_line=9, start_column=178, end_line=9, end_column=182), name='c_reg'), indices=[[IntegerLiteral(span=Span(start_line=9, start_column=8, end_line=9, end_column=8), value=0)]])], duration=None),\n",
       " QuantumGate(span=Span(start_line=10, start_column=0, end_line=10, end_column=10), annotations=[], modifiers=[], name=Identifier(span=Span(start_line=10, start_column=188, end_line=10, end_column=188), name='h'), arguments=[], qubits=[IndexedIdentifier(span=Span(start_line=10, start_column=2, end_line=10, end_column=9), name=Identifier(span=Span(start_line=10, start_column=190, end_line=10, end_column=194), name='c_reg'), indices=[[IntegerLiteral(span=Span(start_line=10, start_column=8, end_line=10, end_column=8), value=1)]])], duration=None),\n",
       " QuantumGate(span=Span(start_line=11, start_column=0, end_line=11, end_column=10), annotations=[], modifiers=[], name=Identifier(span=Span(start_line=11, start_column=200, end_line=11, end_column=200), name='h'), arguments=[], qubits=[IndexedIdentifier(span=Span(start_line=11, start_column=2, end_line=11, end_column=9), name=Identifier(span=Span(start_line=11, start_column=202, end_line=11, end_column=206), name='c_reg'), indices=[[IntegerLiteral(span=Span(start_line=11, start_column=8, end_line=11, end_column=8), value=2)]])], duration=None),\n",
       " QuantumGate(span=Span(start_line=12, start_column=0, end_line=12, end_column=10), annotations=[], modifiers=[], name=Identifier(span=Span(start_line=12, start_column=212, end_line=12, end_column=212), name='h'), arguments=[], qubits=[IndexedIdentifier(span=Span(start_line=12, start_column=2, end_line=12, end_column=9), name=Identifier(span=Span(start_line=12, start_column=214, end_line=12, end_column=218), name='c_reg'), indices=[[IntegerLiteral(span=Span(start_line=12, start_column=8, end_line=12, end_column=8), value=3)]])], duration=None),\n",
       " QuantumBarrier(span=Span(start_line=13, start_column=0, end_line=13, end_column=64), annotations=[], qubits=[IndexedIdentifier(span=Span(start_line=13, start_column=8, end_line=13, end_column=13), name=Identifier(span=Span(start_line=13, start_column=232, end_line=13, end_column=234), name='anc'), indices=[[IntegerLiteral(span=Span(start_line=13, start_column=12, end_line=13, end_column=12), value=0)]]), IndexedIdentifier(span=Span(start_line=13, start_column=16, end_line=13, end_column=23), name=Identifier(span=Span(start_line=13, start_column=240, end_line=13, end_column=244), name='c_reg'), indices=[[IntegerLiteral(span=Span(start_line=13, start_column=22, end_line=13, end_column=22), value=0)]]), IndexedIdentifier(span=Span(start_line=13, start_column=26, end_line=13, end_column=33), name=Identifier(span=Span(start_line=13, start_column=250, end_line=13, end_column=254), name='c_reg'), indices=[[IntegerLiteral(span=Span(start_line=13, start_column=32, end_line=13, end_column=32), value=1)]]), IndexedIdentifier(span=Span(start_line=13, start_column=36, end_line=13, end_column=43), name=Identifier(span=Span(start_line=13, start_column=260, end_line=13, end_column=264), name='c_reg'), indices=[[IntegerLiteral(span=Span(start_line=13, start_column=42, end_line=13, end_column=42), value=2)]]), IndexedIdentifier(span=Span(start_line=13, start_column=46, end_line=13, end_column=53), name=Identifier(span=Span(start_line=13, start_column=270, end_line=13, end_column=274), name='c_reg'), indices=[[IntegerLiteral(span=Span(start_line=13, start_column=52, end_line=13, end_column=52), value=3)]]), IndexedIdentifier(span=Span(start_line=13, start_column=56, end_line=13, end_column=63), name=Identifier(span=Span(start_line=13, start_column=280, end_line=13, end_column=284), name='b_reg'), indices=[[IntegerLiteral(span=Span(start_line=13, start_column=62, end_line=13, end_column=62), value=0)]])]),\n",
       " QuantumGate(span=Span(start_line=14, start_column=0, end_line=14, end_column=44), annotations=[], modifiers=[], name=Identifier(span=Span(start_line=14, start_column=290, end_line=14, end_column=291), name='cu'), arguments=[BinaryExpression(span=Span(start_line=14, start_column=3, end_line=14, end_column=6), op=<BinaryOperator./: 17>, lhs=Identifier(span=Span(start_line=14, start_column=3, end_line=14, end_column=3), name='pi'), rhs=IntegerLiteral(span=Span(start_line=14, start_column=6, end_line=14, end_column=6), value=2)), BinaryExpression(span=Span(start_line=14, start_column=9, end_line=14, end_column=14), op=<BinaryOperator./: 17>, lhs=BinaryExpression(span=Span(start_line=14, start_column=9, end_line=14, end_column=11), op=<BinaryOperator.*: 16>, lhs=IntegerLiteral(span=Span(start_line=14, start_column=9, end_line=14, end_column=9), value=3), rhs=Identifier(span=Span(start_line=14, start_column=11, end_line=14, end_column=11), name='pi')), rhs=IntegerLiteral(span=Span(start_line=14, start_column=14, end_line=14, end_column=14), value=2)), BinaryExpression(span=Span(start_line=14, start_column=17, end_line=14, end_column=20), op=<BinaryOperator./: 17>, lhs=Identifier(span=Span(start_line=14, start_column=17, end_line=14, end_column=17), name='pi'), rhs=IntegerLiteral(span=Span(start_line=14, start_column=20, end_line=14, end_column=20), value=2)), IntegerLiteral(span=Span(start_line=14, start_column=23, end_line=14, end_column=23), value=0)], qubits=[IndexedIdentifier(span=Span(start_line=14, start_column=26, end_line=14, end_column=33), name=Identifier(span=Span(start_line=14, start_column=316, end_line=14, end_column=320), name='c_reg'), indices=[[IntegerLiteral(span=Span(start_line=14, start_column=32, end_line=14, end_column=32), value=0)]]), IndexedIdentifier(span=Span(start_line=14, start_column=36, end_line=14, end_column=43), name=Identifier(span=Span(start_line=14, start_column=326, end_line=14, end_column=330), name='b_reg'), indices=[[IntegerLiteral(span=Span(start_line=14, start_column=42, end_line=14, end_column=42), value=0)]])], duration=None),\n",
       " QuantumGate(span=Span(start_line=15, start_column=0, end_line=15, end_column=18), annotations=[], modifiers=[], name=Identifier(span=Span(start_line=15, start_column=336, end_line=15, end_column=336), name='p'), arguments=[BinaryExpression(span=Span(start_line=15, start_column=2, end_line=15, end_column=7), op=<BinaryOperator./: 17>, lhs=BinaryExpression(span=Span(start_line=15, start_column=2, end_line=15, end_column=4), op=<BinaryOperator.*: 16>, lhs=IntegerLiteral(span=Span(start_line=15, start_column=2, end_line=15, end_column=2), value=3), rhs=Identifier(span=Span(start_line=15, start_column=4, end_line=15, end_column=4), name='pi')), rhs=IntegerLiteral(span=Span(start_line=15, start_column=7, end_line=15, end_column=7), value=4))], qubits=[IndexedIdentifier(span=Span(start_line=15, start_column=10, end_line=15, end_column=17), name=Identifier(span=Span(start_line=15, start_column=346, end_line=15, end_column=350), name='c_reg'), indices=[[IntegerLiteral(span=Span(start_line=15, start_column=16, end_line=15, end_column=16), value=0)]])], duration=None),\n",
       " QuantumGate(span=Span(start_line=16, start_column=0, end_line=16, end_column=67), annotations=[], modifiers=[], name=Identifier(span=Span(start_line=16, start_column=356, end_line=16, end_column=357), name='cu'), arguments=[Identifier(span=Span(start_line=16, start_column=3, end_line=16, end_column=3), name='pi'), FloatLiteral(span=Span(start_line=16, start_column=7, end_line=16, end_column=7), value=2.2142974355881804), FloatLiteral(span=Span(start_line=16, start_column=27, end_line=16, end_column=27), value=5.355890089177974), IntegerLiteral(span=Span(start_line=16, start_column=46, end_line=16, end_column=46), value=0)], qubits=[IndexedIdentifier(span=Span(start_line=16, start_column=49, end_line=16, end_column=56), name=Identifier(span=Span(start_line=16, start_column=405, end_line=16, end_column=409), name='c_reg'), indices=[[IntegerLiteral(span=Span(start_line=16, start_column=55, end_line=16, end_column=55), value=1)]]), IndexedIdentifier(span=Span(start_line=16, start_column=59, end_line=16, end_column=66), name=Identifier(span=Span(start_line=16, start_column=415, end_line=16, end_column=419), name='b_reg'), indices=[[IntegerLiteral(span=Span(start_line=16, start_column=65, end_line=16, end_column=65), value=0)]])], duration=None),\n",
       " QuantumGate(span=Span(start_line=17, start_column=0, end_line=17, end_column=30), annotations=[], modifiers=[], name=Identifier(span=Span(start_line=17, start_column=425, end_line=17, end_column=425), name='p'), arguments=[FloatLiteral(span=Span(start_line=17, start_column=2, end_line=17, end_column=2), value=0.9272952180016123)], qubits=[IndexedIdentifier(span=Span(start_line=17, start_column=22, end_line=17, end_column=29), name=Identifier(span=Span(start_line=17, start_column=447, end_line=17, end_column=451), name='c_reg'), indices=[[IntegerLiteral(span=Span(start_line=17, start_column=28, end_line=17, end_column=28), value=1)]])], duration=None),\n",
       " QuantumGate(span=Span(start_line=18, start_column=0, end_line=18, end_column=67), annotations=[], modifiers=[], name=Identifier(span=Span(start_line=18, start_column=457, end_line=18, end_column=458), name='cu'), arguments=[IntegerLiteral(span=Span(start_line=18, start_column=3, end_line=18, end_column=3), value=0), UnaryExpression(span=Span(start_line=18, start_column=6, end_line=18, end_column=7), op=<UnaryOperator.-: 3>, expression=FloatLiteral(span=Span(start_line=18, start_column=7, end_line=18, end_column=7), value=1.190289949682532)), FloatLiteral(span=Span(start_line=18, start_column=26, end_line=18, end_column=26), value=1.1902899496825319), IntegerLiteral(span=Span(start_line=18, start_column=46, end_line=18, end_column=46), value=0)], qubits=[IndexedIdentifier(span=Span(start_line=18, start_column=49, end_line=18, end_column=56), name=Identifier(span=Span(start_line=18, start_column=506, end_line=18, end_column=510), name='c_reg'), indices=[[IntegerLiteral(span=Span(start_line=18, start_column=55, end_line=18, end_column=55), value=2)]]), IndexedIdentifier(span=Span(start_line=18, start_column=59, end_line=18, end_column=66), name=Identifier(span=Span(start_line=18, start_column=516, end_line=18, end_column=520), name='b_reg'), indices=[[IntegerLiteral(span=Span(start_line=18, start_column=65, end_line=18, end_column=65), value=0)]])], duration=None),\n",
       " QuantumGate(span=Span(start_line=19, start_column=0, end_line=19, end_column=13), annotations=[], modifiers=[], name=Identifier(span=Span(start_line=19, start_column=526, end_line=19, end_column=526), name='p'), arguments=[IntegerLiteral(span=Span(start_line=19, start_column=2, end_line=19, end_column=2), value=0)], qubits=[IndexedIdentifier(span=Span(start_line=19, start_column=5, end_line=19, end_column=12), name=Identifier(span=Span(start_line=19, start_column=531, end_line=19, end_column=535), name='c_reg'), indices=[[IntegerLiteral(span=Span(start_line=19, start_column=11, end_line=19, end_column=11), value=2)]])], duration=None),\n",
       " QuantumGate(span=Span(start_line=20, start_column=0, end_line=20, end_column=66), annotations=[], modifiers=[], name=Identifier(span=Span(start_line=20, start_column=541, end_line=20, end_column=542), name='cu'), arguments=[IntegerLiteral(span=Span(start_line=20, start_column=3, end_line=20, end_column=3), value=0), UnaryExpression(span=Span(start_line=20, start_column=6, end_line=20, end_column=7), op=<UnaryOperator.-: 3>, expression=FloatLiteral(span=Span(start_line=20, start_column=7, end_line=20, end_column=7), value=1.190289949682532)), FloatLiteral(span=Span(start_line=20, start_column=26, end_line=20, end_column=26), value=1.190289949682532), IntegerLiteral(span=Span(start_line=20, start_column=45, end_line=20, end_column=45), value=0)], qubits=[IndexedIdentifier(span=Span(start_line=20, start_column=48, end_line=20, end_column=55), name=Identifier(span=Span(start_line=20, start_column=589, end_line=20, end_column=593), name='c_reg'), indices=[[IntegerLiteral(span=Span(start_line=20, start_column=54, end_line=20, end_column=54), value=3)]]), IndexedIdentifier(span=Span(start_line=20, start_column=58, end_line=20, end_column=65), name=Identifier(span=Span(start_line=20, start_column=599, end_line=20, end_column=603), name='b_reg'), indices=[[IntegerLiteral(span=Span(start_line=20, start_column=64, end_line=20, end_column=64), value=0)]])], duration=None),\n",
       " QuantumGate(span=Span(start_line=21, start_column=0, end_line=21, end_column=13), annotations=[], modifiers=[], name=Identifier(span=Span(start_line=21, start_column=609, end_line=21, end_column=609), name='p'), arguments=[IntegerLiteral(span=Span(start_line=21, start_column=2, end_line=21, end_column=2), value=0)], qubits=[IndexedIdentifier(span=Span(start_line=21, start_column=5, end_line=21, end_column=12), name=Identifier(span=Span(start_line=21, start_column=614, end_line=21, end_column=618), name='c_reg'), indices=[[IntegerLiteral(span=Span(start_line=21, start_column=11, end_line=21, end_column=11), value=3)]])], duration=None),\n",
       " QuantumBarrier(span=Span(start_line=22, start_column=0, end_line=22, end_column=64), annotations=[], qubits=[IndexedIdentifier(span=Span(start_line=22, start_column=8, end_line=22, end_column=13), name=Identifier(span=Span(start_line=22, start_column=632, end_line=22, end_column=634), name='anc'), indices=[[IntegerLiteral(span=Span(start_line=22, start_column=12, end_line=22, end_column=12), value=0)]]), IndexedIdentifier(span=Span(start_line=22, start_column=16, end_line=22, end_column=23), name=Identifier(span=Span(start_line=22, start_column=640, end_line=22, end_column=644), name='c_reg'), indices=[[IntegerLiteral(span=Span(start_line=22, start_column=22, end_line=22, end_column=22), value=0)]]), IndexedIdentifier(span=Span(start_line=22, start_column=26, end_line=22, end_column=33), name=Identifier(span=Span(start_line=22, start_column=650, end_line=22, end_column=654), name='c_reg'), indices=[[IntegerLiteral(span=Span(start_line=22, start_column=32, end_line=22, end_column=32), value=1)]]), IndexedIdentifier(span=Span(start_line=22, start_column=36, end_line=22, end_column=43), name=Identifier(span=Span(start_line=22, start_column=660, end_line=22, end_column=664), name='c_reg'), indices=[[IntegerLiteral(span=Span(start_line=22, start_column=42, end_line=22, end_column=42), value=2)]]), IndexedIdentifier(span=Span(start_line=22, start_column=46, end_line=22, end_column=53), name=Identifier(span=Span(start_line=22, start_column=670, end_line=22, end_column=674), name='c_reg'), indices=[[IntegerLiteral(span=Span(start_line=22, start_column=52, end_line=22, end_column=52), value=3)]]), IndexedIdentifier(span=Span(start_line=22, start_column=56, end_line=22, end_column=63), name=Identifier(span=Span(start_line=22, start_column=680, end_line=22, end_column=684), name='b_reg'), indices=[[IntegerLiteral(span=Span(start_line=22, start_column=62, end_line=22, end_column=62), value=0)]])]),\n",
       " QuantumGate(span=Span(start_line=23, start_column=0, end_line=23, end_column=23), annotations=[], modifiers=[], name=Identifier(span=Span(start_line=23, start_column=690, end_line=23, end_column=693), name='swap'), arguments=[], qubits=[IndexedIdentifier(span=Span(start_line=23, start_column=5, end_line=23, end_column=12), name=Identifier(span=Span(start_line=23, start_column=695, end_line=23, end_column=699), name='c_reg'), indices=[[IntegerLiteral(span=Span(start_line=23, start_column=11, end_line=23, end_column=11), value=0)]]), IndexedIdentifier(span=Span(start_line=23, start_column=15, end_line=23, end_column=22), name=Identifier(span=Span(start_line=23, start_column=705, end_line=23, end_column=709), name='c_reg'), indices=[[IntegerLiteral(span=Span(start_line=23, start_column=21, end_line=23, end_column=21), value=3)]])], duration=None),\n",
       " QuantumGate(span=Span(start_line=24, start_column=0, end_line=24, end_column=10), annotations=[], modifiers=[], name=Identifier(span=Span(start_line=24, start_column=715, end_line=24, end_column=715), name='h'), arguments=[], qubits=[IndexedIdentifier(span=Span(start_line=24, start_column=2, end_line=24, end_column=9), name=Identifier(span=Span(start_line=24, start_column=717, end_line=24, end_column=721), name='c_reg'), indices=[[IntegerLiteral(span=Span(start_line=24, start_column=8, end_line=24, end_column=8), value=0)]])], duration=None),\n",
       " QuantumGate(span=Span(start_line=25, start_column=0, end_line=25, end_column=23), annotations=[], modifiers=[], name=Identifier(span=Span(start_line=25, start_column=727, end_line=25, end_column=730), name='swap'), arguments=[], qubits=[IndexedIdentifier(span=Span(start_line=25, start_column=5, end_line=25, end_column=12), name=Identifier(span=Span(start_line=25, start_column=732, end_line=25, end_column=736), name='c_reg'), indices=[[IntegerLiteral(span=Span(start_line=25, start_column=11, end_line=25, end_column=11), value=1)]]), IndexedIdentifier(span=Span(start_line=25, start_column=15, end_line=25, end_column=22), name=Identifier(span=Span(start_line=25, start_column=742, end_line=25, end_column=746), name='c_reg'), indices=[[IntegerLiteral(span=Span(start_line=25, start_column=21, end_line=25, end_column=21), value=2)]])], duration=None),\n",
       " QuantumGate(span=Span(start_line=26, start_column=0, end_line=26, end_column=28), annotations=[], modifiers=[], name=Identifier(span=Span(start_line=26, start_column=752, end_line=26, end_column=753), name='cp'), arguments=[BinaryExpression(span=Span(start_line=26, start_column=3, end_line=26, end_column=7), op=<BinaryOperator./: 17>, lhs=UnaryExpression(span=Span(start_line=26, start_column=3, end_line=26, end_column=4), op=<UnaryOperator.-: 3>, expression=Identifier(span=Span(start_line=26, start_column=4, end_line=26, end_column=4), name='pi')), rhs=IntegerLiteral(span=Span(start_line=26, start_column=7, end_line=26, end_column=7), value=2))], qubits=[IndexedIdentifier(span=Span(start_line=26, start_column=10, end_line=26, end_column=17), name=Identifier(span=Span(start_line=26, start_column=762, end_line=26, end_column=766), name='c_reg'), indices=[[IntegerLiteral(span=Span(start_line=26, start_column=16, end_line=26, end_column=16), value=1)]]), IndexedIdentifier(span=Span(start_line=26, start_column=20, end_line=26, end_column=27), name=Identifier(span=Span(start_line=26, start_column=772, end_line=26, end_column=776), name='c_reg'), indices=[[IntegerLiteral(span=Span(start_line=26, start_column=26, end_line=26, end_column=26), value=0)]])], duration=None),\n",
       " QuantumGate(span=Span(start_line=27, start_column=0, end_line=27, end_column=10), annotations=[], modifiers=[], name=Identifier(span=Span(start_line=27, start_column=782, end_line=27, end_column=782), name='h'), arguments=[], qubits=[IndexedIdentifier(span=Span(start_line=27, start_column=2, end_line=27, end_column=9), name=Identifier(span=Span(start_line=27, start_column=784, end_line=27, end_column=788), name='c_reg'), indices=[[IntegerLiteral(span=Span(start_line=27, start_column=8, end_line=27, end_column=8), value=1)]])], duration=None),\n",
       " QuantumGate(span=Span(start_line=28, start_column=0, end_line=28, end_column=28), annotations=[], modifiers=[], name=Identifier(span=Span(start_line=28, start_column=794, end_line=28, end_column=795), name='cp'), arguments=[BinaryExpression(span=Span(start_line=28, start_column=3, end_line=28, end_column=7), op=<BinaryOperator./: 17>, lhs=UnaryExpression(span=Span(start_line=28, start_column=3, end_line=28, end_column=4), op=<UnaryOperator.-: 3>, expression=Identifier(span=Span(start_line=28, start_column=4, end_line=28, end_column=4), name='pi')), rhs=IntegerLiteral(span=Span(start_line=28, start_column=7, end_line=28, end_column=7), value=4))], qubits=[IndexedIdentifier(span=Span(start_line=28, start_column=10, end_line=28, end_column=17), name=Identifier(span=Span(start_line=28, start_column=804, end_line=28, end_column=808), name='c_reg'), indices=[[IntegerLiteral(span=Span(start_line=28, start_column=16, end_line=28, end_column=16), value=2)]]), IndexedIdentifier(span=Span(start_line=28, start_column=20, end_line=28, end_column=27), name=Identifier(span=Span(start_line=28, start_column=814, end_line=28, end_column=818), name='c_reg'), indices=[[IntegerLiteral(span=Span(start_line=28, start_column=26, end_line=28, end_column=26), value=0)]])], duration=None),\n",
       " QuantumGate(span=Span(start_line=29, start_column=0, end_line=29, end_column=28), annotations=[], modifiers=[], name=Identifier(span=Span(start_line=29, start_column=824, end_line=29, end_column=825), name='cp'), arguments=[BinaryExpression(span=Span(start_line=29, start_column=3, end_line=29, end_column=7), op=<BinaryOperator./: 17>, lhs=UnaryExpression(span=Span(start_line=29, start_column=3, end_line=29, end_column=4), op=<UnaryOperator.-: 3>, expression=Identifier(span=Span(start_line=29, start_column=4, end_line=29, end_column=4), name='pi')), rhs=IntegerLiteral(span=Span(start_line=29, start_column=7, end_line=29, end_column=7), value=2))], qubits=[IndexedIdentifier(span=Span(start_line=29, start_column=10, end_line=29, end_column=17), name=Identifier(span=Span(start_line=29, start_column=834, end_line=29, end_column=838), name='c_reg'), indices=[[IntegerLiteral(span=Span(start_line=29, start_column=16, end_line=29, end_column=16), value=2)]]), IndexedIdentifier(span=Span(start_line=29, start_column=20, end_line=29, end_column=27), name=Identifier(span=Span(start_line=29, start_column=844, end_line=29, end_column=848), name='c_reg'), indices=[[IntegerLiteral(span=Span(start_line=29, start_column=26, end_line=29, end_column=26), value=1)]])], duration=None),\n",
       " QuantumGate(span=Span(start_line=30, start_column=0, end_line=30, end_column=10), annotations=[], modifiers=[], name=Identifier(span=Span(start_line=30, start_column=854, end_line=30, end_column=854), name='h'), arguments=[], qubits=[IndexedIdentifier(span=Span(start_line=30, start_column=2, end_line=30, end_column=9), name=Identifier(span=Span(start_line=30, start_column=856, end_line=30, end_column=860), name='c_reg'), indices=[[IntegerLiteral(span=Span(start_line=30, start_column=8, end_line=30, end_column=8), value=2)]])], duration=None),\n",
       " QuantumGate(span=Span(start_line=31, start_column=0, end_line=31, end_column=28), annotations=[], modifiers=[], name=Identifier(span=Span(start_line=31, start_column=866, end_line=31, end_column=867), name='cp'), arguments=[BinaryExpression(span=Span(start_line=31, start_column=3, end_line=31, end_column=7), op=<BinaryOperator./: 17>, lhs=UnaryExpression(span=Span(start_line=31, start_column=3, end_line=31, end_column=4), op=<UnaryOperator.-: 3>, expression=Identifier(span=Span(start_line=31, start_column=4, end_line=31, end_column=4), name='pi')), rhs=IntegerLiteral(span=Span(start_line=31, start_column=7, end_line=31, end_column=7), value=8))], qubits=[IndexedIdentifier(span=Span(start_line=31, start_column=10, end_line=31, end_column=17), name=Identifier(span=Span(start_line=31, start_column=876, end_line=31, end_column=880), name='c_reg'), indices=[[IntegerLiteral(span=Span(start_line=31, start_column=16, end_line=31, end_column=16), value=3)]]), IndexedIdentifier(span=Span(start_line=31, start_column=20, end_line=31, end_column=27), name=Identifier(span=Span(start_line=31, start_column=886, end_line=31, end_column=890), name='c_reg'), indices=[[IntegerLiteral(span=Span(start_line=31, start_column=26, end_line=31, end_column=26), value=0)]])], duration=None),\n",
       " QuantumGate(span=Span(start_line=32, start_column=0, end_line=32, end_column=28), annotations=[], modifiers=[], name=Identifier(span=Span(start_line=32, start_column=896, end_line=32, end_column=897), name='cp'), arguments=[BinaryExpression(span=Span(start_line=32, start_column=3, end_line=32, end_column=7), op=<BinaryOperator./: 17>, lhs=UnaryExpression(span=Span(start_line=32, start_column=3, end_line=32, end_column=4), op=<UnaryOperator.-: 3>, expression=Identifier(span=Span(start_line=32, start_column=4, end_line=32, end_column=4), name='pi')), rhs=IntegerLiteral(span=Span(start_line=32, start_column=7, end_line=32, end_column=7), value=4))], qubits=[IndexedIdentifier(span=Span(start_line=32, start_column=10, end_line=32, end_column=17), name=Identifier(span=Span(start_line=32, start_column=906, end_line=32, end_column=910), name='c_reg'), indices=[[IntegerLiteral(span=Span(start_line=32, start_column=16, end_line=32, end_column=16), value=3)]]), IndexedIdentifier(span=Span(start_line=32, start_column=20, end_line=32, end_column=27), name=Identifier(span=Span(start_line=32, start_column=916, end_line=32, end_column=920), name='c_reg'), indices=[[IntegerLiteral(span=Span(start_line=32, start_column=26, end_line=32, end_column=26), value=1)]])], duration=None),\n",
       " QuantumGate(span=Span(start_line=33, start_column=0, end_line=33, end_column=28), annotations=[], modifiers=[], name=Identifier(span=Span(start_line=33, start_column=926, end_line=33, end_column=927), name='cp'), arguments=[BinaryExpression(span=Span(start_line=33, start_column=3, end_line=33, end_column=7), op=<BinaryOperator./: 17>, lhs=UnaryExpression(span=Span(start_line=33, start_column=3, end_line=33, end_column=4), op=<UnaryOperator.-: 3>, expression=Identifier(span=Span(start_line=33, start_column=4, end_line=33, end_column=4), name='pi')), rhs=IntegerLiteral(span=Span(start_line=33, start_column=7, end_line=33, end_column=7), value=2))], qubits=[IndexedIdentifier(span=Span(start_line=33, start_column=10, end_line=33, end_column=17), name=Identifier(span=Span(start_line=33, start_column=936, end_line=33, end_column=940), name='c_reg'), indices=[[IntegerLiteral(span=Span(start_line=33, start_column=16, end_line=33, end_column=16), value=3)]]), IndexedIdentifier(span=Span(start_line=33, start_column=20, end_line=33, end_column=27), name=Identifier(span=Span(start_line=33, start_column=946, end_line=33, end_column=950), name='c_reg'), indices=[[IntegerLiteral(span=Span(start_line=33, start_column=26, end_line=33, end_column=26), value=2)]])], duration=None),\n",
       " QuantumGate(span=Span(start_line=34, start_column=0, end_line=34, end_column=10), annotations=[], modifiers=[], name=Identifier(span=Span(start_line=34, start_column=956, end_line=34, end_column=956), name='h'), arguments=[], qubits=[IndexedIdentifier(span=Span(start_line=34, start_column=2, end_line=34, end_column=9), name=Identifier(span=Span(start_line=34, start_column=958, end_line=34, end_column=962), name='c_reg'), indices=[[IntegerLiteral(span=Span(start_line=34, start_column=8, end_line=34, end_column=8), value=3)]])], duration=None),\n",
       " QuantumBarrier(span=Span(start_line=35, start_column=0, end_line=35, end_column=64), annotations=[], qubits=[IndexedIdentifier(span=Span(start_line=35, start_column=8, end_line=35, end_column=13), name=Identifier(span=Span(start_line=35, start_column=976, end_line=35, end_column=978), name='anc'), indices=[[IntegerLiteral(span=Span(start_line=35, start_column=12, end_line=35, end_column=12), value=0)]]), IndexedIdentifier(span=Span(start_line=35, start_column=16, end_line=35, end_column=23), name=Identifier(span=Span(start_line=35, start_column=984, end_line=35, end_column=988), name='c_reg'), indices=[[IntegerLiteral(span=Span(start_line=35, start_column=22, end_line=35, end_column=22), value=0)]]), IndexedIdentifier(span=Span(start_line=35, start_column=26, end_line=35, end_column=33), name=Identifier(span=Span(start_line=35, start_column=994, end_line=35, end_column=998), name='c_reg'), indices=[[IntegerLiteral(span=Span(start_line=35, start_column=32, end_line=35, end_column=32), value=1)]]), IndexedIdentifier(span=Span(start_line=35, start_column=36, end_line=35, end_column=43), name=Identifier(span=Span(start_line=35, start_column=1004, end_line=35, end_column=1008), name='c_reg'), indices=[[IntegerLiteral(span=Span(start_line=35, start_column=42, end_line=35, end_column=42), value=2)]]), IndexedIdentifier(span=Span(start_line=35, start_column=46, end_line=35, end_column=53), name=Identifier(span=Span(start_line=35, start_column=1014, end_line=35, end_column=1018), name='c_reg'), indices=[[IntegerLiteral(span=Span(start_line=35, start_column=52, end_line=35, end_column=52), value=3)]]), IndexedIdentifier(span=Span(start_line=35, start_column=56, end_line=35, end_column=63), name=Identifier(span=Span(start_line=35, start_column=1024, end_line=35, end_column=1028), name='b_reg'), indices=[[IntegerLiteral(span=Span(start_line=35, start_column=62, end_line=35, end_column=62), value=0)]])]),\n",
       " QuantumGate(span=Span(start_line=36, start_column=0, end_line=36, end_column=23), annotations=[], modifiers=[], name=Identifier(span=Span(start_line=36, start_column=1034, end_line=36, end_column=1037), name='swap'), arguments=[], qubits=[IndexedIdentifier(span=Span(start_line=36, start_column=5, end_line=36, end_column=12), name=Identifier(span=Span(start_line=36, start_column=1039, end_line=36, end_column=1043), name='c_reg'), indices=[[IntegerLiteral(span=Span(start_line=36, start_column=11, end_line=36, end_column=11), value=2)]]), IndexedIdentifier(span=Span(start_line=36, start_column=15, end_line=36, end_column=22), name=Identifier(span=Span(start_line=36, start_column=1049, end_line=36, end_column=1053), name='c_reg'), indices=[[IntegerLiteral(span=Span(start_line=36, start_column=21, end_line=36, end_column=21), value=1)]])], duration=None),\n",
       " QuantumGate(span=Span(start_line=37, start_column=0, end_line=37, end_column=23), annotations=[], modifiers=[], name=Identifier(span=Span(start_line=37, start_column=1059, end_line=37, end_column=1062), name='swap'), arguments=[], qubits=[IndexedIdentifier(span=Span(start_line=37, start_column=5, end_line=37, end_column=12), name=Identifier(span=Span(start_line=37, start_column=1064, end_line=37, end_column=1068), name='c_reg'), indices=[[IntegerLiteral(span=Span(start_line=37, start_column=11, end_line=37, end_column=11), value=3)]]), IndexedIdentifier(span=Span(start_line=37, start_column=15, end_line=37, end_column=22), name=Identifier(span=Span(start_line=37, start_column=1074, end_line=37, end_column=1078), name='c_reg'), indices=[[IntegerLiteral(span=Span(start_line=37, start_column=21, end_line=37, end_column=21), value=0)]])], duration=None),\n",
       " QuantumBarrier(span=Span(start_line=38, start_column=0, end_line=38, end_column=64), annotations=[], qubits=[IndexedIdentifier(span=Span(start_line=38, start_column=8, end_line=38, end_column=13), name=Identifier(span=Span(start_line=38, start_column=1092, end_line=38, end_column=1094), name='anc'), indices=[[IntegerLiteral(span=Span(start_line=38, start_column=12, end_line=38, end_column=12), value=0)]]), IndexedIdentifier(span=Span(start_line=38, start_column=16, end_line=38, end_column=23), name=Identifier(span=Span(start_line=38, start_column=1100, end_line=38, end_column=1104), name='c_reg'), indices=[[IntegerLiteral(span=Span(start_line=38, start_column=22, end_line=38, end_column=22), value=0)]]), IndexedIdentifier(span=Span(start_line=38, start_column=26, end_line=38, end_column=33), name=Identifier(span=Span(start_line=38, start_column=1110, end_line=38, end_column=1114), name='c_reg'), indices=[[IntegerLiteral(span=Span(start_line=38, start_column=32, end_line=38, end_column=32), value=1)]]), IndexedIdentifier(span=Span(start_line=38, start_column=36, end_line=38, end_column=43), name=Identifier(span=Span(start_line=38, start_column=1120, end_line=38, end_column=1124), name='c_reg'), indices=[[IntegerLiteral(span=Span(start_line=38, start_column=42, end_line=38, end_column=42), value=2)]]), IndexedIdentifier(span=Span(start_line=38, start_column=46, end_line=38, end_column=53), name=Identifier(span=Span(start_line=38, start_column=1130, end_line=38, end_column=1134), name='c_reg'), indices=[[IntegerLiteral(span=Span(start_line=38, start_column=52, end_line=38, end_column=52), value=3)]]), IndexedIdentifier(span=Span(start_line=38, start_column=56, end_line=38, end_column=63), name=Identifier(span=Span(start_line=38, start_column=1140, end_line=38, end_column=1144), name='b_reg'), indices=[[IntegerLiteral(span=Span(start_line=38, start_column=62, end_line=38, end_column=62), value=0)]])]),\n",
       " QuantumGate(span=Span(start_line=39, start_column=0, end_line=39, end_column=24), annotations=[], modifiers=[], name=Identifier(span=Span(start_line=39, start_column=1150, end_line=39, end_column=1152), name='cry'), arguments=[Identifier(span=Span(start_line=39, start_column=4, end_line=39, end_column=4), name='pi')], qubits=[IndexedIdentifier(span=Span(start_line=39, start_column=8, end_line=39, end_column=15), name=Identifier(span=Span(start_line=39, start_column=1158, end_line=39, end_column=1162), name='c_reg'), indices=[[IntegerLiteral(span=Span(start_line=39, start_column=14, end_line=39, end_column=14), value=0)]]), IndexedIdentifier(span=Span(start_line=39, start_column=18, end_line=39, end_column=23), name=Identifier(span=Span(start_line=39, start_column=1168, end_line=39, end_column=1170), name='anc'), indices=[[IntegerLiteral(span=Span(start_line=39, start_column=22, end_line=39, end_column=22), value=0)]])], duration=None),\n",
       " QuantumGate(span=Span(start_line=40, start_column=0, end_line=40, end_column=26), annotations=[], modifiers=[], name=Identifier(span=Span(start_line=40, start_column=1176, end_line=40, end_column=1178), name='cry'), arguments=[BinaryExpression(span=Span(start_line=40, start_column=4, end_line=40, end_column=7), op=<BinaryOperator./: 17>, lhs=Identifier(span=Span(start_line=40, start_column=4, end_line=40, end_column=4), name='pi'), rhs=IntegerLiteral(span=Span(start_line=40, start_column=7, end_line=40, end_column=7), value=3))], qubits=[IndexedIdentifier(span=Span(start_line=40, start_column=10, end_line=40, end_column=17), name=Identifier(span=Span(start_line=40, start_column=1186, end_line=40, end_column=1190), name='c_reg'), indices=[[IntegerLiteral(span=Span(start_line=40, start_column=16, end_line=40, end_column=16), value=1)]]), IndexedIdentifier(span=Span(start_line=40, start_column=20, end_line=40, end_column=25), name=Identifier(span=Span(start_line=40, start_column=1196, end_line=40, end_column=1198), name='anc'), indices=[[IntegerLiteral(span=Span(start_line=40, start_column=24, end_line=40, end_column=24), value=0)]])], duration=None),\n",
       " QuantumGate(span=Span(start_line=41, start_column=0, end_line=41, end_column=40), annotations=[], modifiers=[], name=Identifier(span=Span(start_line=41, start_column=1204, end_line=41, end_column=1206), name='cry'), arguments=[FloatLiteral(span=Span(start_line=41, start_column=4, end_line=41, end_column=4), value=0.5053605102841573)], qubits=[IndexedIdentifier(span=Span(start_line=41, start_column=24, end_line=41, end_column=31), name=Identifier(span=Span(start_line=41, start_column=1228, end_line=41, end_column=1232), name='c_reg'), indices=[[IntegerLiteral(span=Span(start_line=41, start_column=30, end_line=41, end_column=30), value=2)]]), IndexedIdentifier(span=Span(start_line=41, start_column=34, end_line=41, end_column=39), name=Identifier(span=Span(start_line=41, start_column=1238, end_line=41, end_column=1240), name='anc'), indices=[[IntegerLiteral(span=Span(start_line=41, start_column=38, end_line=41, end_column=38), value=0)]])], duration=None),\n",
       " QuantumGate(span=Span(start_line=42, start_column=0, end_line=42, end_column=40), annotations=[], modifiers=[], name=Identifier(span=Span(start_line=42, start_column=1246, end_line=42, end_column=1248), name='cry'), arguments=[FloatLiteral(span=Span(start_line=42, start_column=4, end_line=42, end_column=4), value=0.2506556623361308)], qubits=[IndexedIdentifier(span=Span(start_line=42, start_column=24, end_line=42, end_column=31), name=Identifier(span=Span(start_line=42, start_column=1270, end_line=42, end_column=1274), name='c_reg'), indices=[[IntegerLiteral(span=Span(start_line=42, start_column=30, end_line=42, end_column=30), value=3)]]), IndexedIdentifier(span=Span(start_line=42, start_column=34, end_line=42, end_column=39), name=Identifier(span=Span(start_line=42, start_column=1280, end_line=42, end_column=1282), name='anc'), indices=[[IntegerLiteral(span=Span(start_line=42, start_column=38, end_line=42, end_column=38), value=0)]])], duration=None),\n",
       " QuantumBarrier(span=Span(start_line=43, start_column=0, end_line=43, end_column=64), annotations=[], qubits=[IndexedIdentifier(span=Span(start_line=43, start_column=8, end_line=43, end_column=13), name=Identifier(span=Span(start_line=43, start_column=1296, end_line=43, end_column=1298), name='anc'), indices=[[IntegerLiteral(span=Span(start_line=43, start_column=12, end_line=43, end_column=12), value=0)]]), IndexedIdentifier(span=Span(start_line=43, start_column=16, end_line=43, end_column=23), name=Identifier(span=Span(start_line=43, start_column=1304, end_line=43, end_column=1308), name='c_reg'), indices=[[IntegerLiteral(span=Span(start_line=43, start_column=22, end_line=43, end_column=22), value=0)]]), IndexedIdentifier(span=Span(start_line=43, start_column=26, end_line=43, end_column=33), name=Identifier(span=Span(start_line=43, start_column=1314, end_line=43, end_column=1318), name='c_reg'), indices=[[IntegerLiteral(span=Span(start_line=43, start_column=32, end_line=43, end_column=32), value=1)]]), IndexedIdentifier(span=Span(start_line=43, start_column=36, end_line=43, end_column=43), name=Identifier(span=Span(start_line=43, start_column=1324, end_line=43, end_column=1328), name='c_reg'), indices=[[IntegerLiteral(span=Span(start_line=43, start_column=42, end_line=43, end_column=42), value=2)]]), IndexedIdentifier(span=Span(start_line=43, start_column=46, end_line=43, end_column=53), name=Identifier(span=Span(start_line=43, start_column=1334, end_line=43, end_column=1338), name='c_reg'), indices=[[IntegerLiteral(span=Span(start_line=43, start_column=52, end_line=43, end_column=52), value=3)]]), IndexedIdentifier(span=Span(start_line=43, start_column=56, end_line=43, end_column=63), name=Identifier(span=Span(start_line=43, start_column=1344, end_line=43, end_column=1348), name='b_reg'), indices=[[IntegerLiteral(span=Span(start_line=43, start_column=62, end_line=43, end_column=62), value=0)]])]),\n",
       " QuantumGate(span=Span(start_line=44, start_column=0, end_line=44, end_column=23), annotations=[], modifiers=[], name=Identifier(span=Span(start_line=44, start_column=1354, end_line=44, end_column=1357), name='swap'), arguments=[], qubits=[IndexedIdentifier(span=Span(start_line=44, start_column=5, end_line=44, end_column=12), name=Identifier(span=Span(start_line=44, start_column=1359, end_line=44, end_column=1363), name='c_reg'), indices=[[IntegerLiteral(span=Span(start_line=44, start_column=11, end_line=44, end_column=11), value=2)]]), IndexedIdentifier(span=Span(start_line=44, start_column=15, end_line=44, end_column=22), name=Identifier(span=Span(start_line=44, start_column=1369, end_line=44, end_column=1373), name='c_reg'), indices=[[IntegerLiteral(span=Span(start_line=44, start_column=21, end_line=44, end_column=21), value=1)]])], duration=None),\n",
       " QuantumGate(span=Span(start_line=45, start_column=0, end_line=45, end_column=23), annotations=[], modifiers=[], name=Identifier(span=Span(start_line=45, start_column=1379, end_line=45, end_column=1382), name='swap'), arguments=[], qubits=[IndexedIdentifier(span=Span(start_line=45, start_column=5, end_line=45, end_column=12), name=Identifier(span=Span(start_line=45, start_column=1384, end_line=45, end_column=1388), name='c_reg'), indices=[[IntegerLiteral(span=Span(start_line=45, start_column=11, end_line=45, end_column=11), value=3)]]), IndexedIdentifier(span=Span(start_line=45, start_column=15, end_line=45, end_column=22), name=Identifier(span=Span(start_line=45, start_column=1394, end_line=45, end_column=1398), name='c_reg'), indices=[[IntegerLiteral(span=Span(start_line=45, start_column=21, end_line=45, end_column=21), value=0)]])], duration=None),\n",
       " QuantumBarrier(span=Span(start_line=46, start_column=0, end_line=46, end_column=64), annotations=[], qubits=[IndexedIdentifier(span=Span(start_line=46, start_column=8, end_line=46, end_column=13), name=Identifier(span=Span(start_line=46, start_column=1412, end_line=46, end_column=1414), name='anc'), indices=[[IntegerLiteral(span=Span(start_line=46, start_column=12, end_line=46, end_column=12), value=0)]]), IndexedIdentifier(span=Span(start_line=46, start_column=16, end_line=46, end_column=23), name=Identifier(span=Span(start_line=46, start_column=1420, end_line=46, end_column=1424), name='c_reg'), indices=[[IntegerLiteral(span=Span(start_line=46, start_column=22, end_line=46, end_column=22), value=0)]]), IndexedIdentifier(span=Span(start_line=46, start_column=26, end_line=46, end_column=33), name=Identifier(span=Span(start_line=46, start_column=1430, end_line=46, end_column=1434), name='c_reg'), indices=[[IntegerLiteral(span=Span(start_line=46, start_column=32, end_line=46, end_column=32), value=1)]]), IndexedIdentifier(span=Span(start_line=46, start_column=36, end_line=46, end_column=43), name=Identifier(span=Span(start_line=46, start_column=1440, end_line=46, end_column=1444), name='c_reg'), indices=[[IntegerLiteral(span=Span(start_line=46, start_column=42, end_line=46, end_column=42), value=2)]]), IndexedIdentifier(span=Span(start_line=46, start_column=46, end_line=46, end_column=53), name=Identifier(span=Span(start_line=46, start_column=1450, end_line=46, end_column=1454), name='c_reg'), indices=[[IntegerLiteral(span=Span(start_line=46, start_column=52, end_line=46, end_column=52), value=3)]]), IndexedIdentifier(span=Span(start_line=46, start_column=56, end_line=46, end_column=63), name=Identifier(span=Span(start_line=46, start_column=1460, end_line=46, end_column=1464), name='b_reg'), indices=[[IntegerLiteral(span=Span(start_line=46, start_column=62, end_line=46, end_column=62), value=0)]])]),\n",
       " QuantumGate(span=Span(start_line=47, start_column=0, end_line=47, end_column=10), annotations=[], modifiers=[], name=Identifier(span=Span(start_line=47, start_column=1470, end_line=47, end_column=1470), name='h'), arguments=[], qubits=[IndexedIdentifier(span=Span(start_line=47, start_column=2, end_line=47, end_column=9), name=Identifier(span=Span(start_line=47, start_column=1472, end_line=47, end_column=1476), name='c_reg'), indices=[[IntegerLiteral(span=Span(start_line=47, start_column=8, end_line=47, end_column=8), value=3)]])], duration=None),\n",
       " QuantumGate(span=Span(start_line=48, start_column=0, end_line=48, end_column=27), annotations=[], modifiers=[], name=Identifier(span=Span(start_line=48, start_column=1482, end_line=48, end_column=1483), name='cp'), arguments=[BinaryExpression(span=Span(start_line=48, start_column=3, end_line=48, end_column=6), op=<BinaryOperator./: 17>, lhs=Identifier(span=Span(start_line=48, start_column=3, end_line=48, end_column=3), name='pi'), rhs=IntegerLiteral(span=Span(start_line=48, start_column=6, end_line=48, end_column=6), value=2))], qubits=[IndexedIdentifier(span=Span(start_line=48, start_column=9, end_line=48, end_column=16), name=Identifier(span=Span(start_line=48, start_column=1491, end_line=48, end_column=1495), name='c_reg'), indices=[[IntegerLiteral(span=Span(start_line=48, start_column=15, end_line=48, end_column=15), value=3)]]), IndexedIdentifier(span=Span(start_line=48, start_column=19, end_line=48, end_column=26), name=Identifier(span=Span(start_line=48, start_column=1501, end_line=48, end_column=1505), name='c_reg'), indices=[[IntegerLiteral(span=Span(start_line=48, start_column=25, end_line=48, end_column=25), value=2)]])], duration=None),\n",
       " QuantumGate(span=Span(start_line=49, start_column=0, end_line=49, end_column=10), annotations=[], modifiers=[], name=Identifier(span=Span(start_line=49, start_column=1511, end_line=49, end_column=1511), name='h'), arguments=[], qubits=[IndexedIdentifier(span=Span(start_line=49, start_column=2, end_line=49, end_column=9), name=Identifier(span=Span(start_line=49, start_column=1513, end_line=49, end_column=1517), name='c_reg'), indices=[[IntegerLiteral(span=Span(start_line=49, start_column=8, end_line=49, end_column=8), value=2)]])], duration=None),\n",
       " QuantumGate(span=Span(start_line=50, start_column=0, end_line=50, end_column=27), annotations=[], modifiers=[], name=Identifier(span=Span(start_line=50, start_column=1523, end_line=50, end_column=1524), name='cp'), arguments=[BinaryExpression(span=Span(start_line=50, start_column=3, end_line=50, end_column=6), op=<BinaryOperator./: 17>, lhs=Identifier(span=Span(start_line=50, start_column=3, end_line=50, end_column=3), name='pi'), rhs=IntegerLiteral(span=Span(start_line=50, start_column=6, end_line=50, end_column=6), value=4))], qubits=[IndexedIdentifier(span=Span(start_line=50, start_column=9, end_line=50, end_column=16), name=Identifier(span=Span(start_line=50, start_column=1532, end_line=50, end_column=1536), name='c_reg'), indices=[[IntegerLiteral(span=Span(start_line=50, start_column=15, end_line=50, end_column=15), value=3)]]), IndexedIdentifier(span=Span(start_line=50, start_column=19, end_line=50, end_column=26), name=Identifier(span=Span(start_line=50, start_column=1542, end_line=50, end_column=1546), name='c_reg'), indices=[[IntegerLiteral(span=Span(start_line=50, start_column=25, end_line=50, end_column=25), value=1)]])], duration=None),\n",
       " QuantumGate(span=Span(start_line=51, start_column=0, end_line=51, end_column=27), annotations=[], modifiers=[], name=Identifier(span=Span(start_line=51, start_column=1552, end_line=51, end_column=1553), name='cp'), arguments=[BinaryExpression(span=Span(start_line=51, start_column=3, end_line=51, end_column=6), op=<BinaryOperator./: 17>, lhs=Identifier(span=Span(start_line=51, start_column=3, end_line=51, end_column=3), name='pi'), rhs=IntegerLiteral(span=Span(start_line=51, start_column=6, end_line=51, end_column=6), value=2))], qubits=[IndexedIdentifier(span=Span(start_line=51, start_column=9, end_line=51, end_column=16), name=Identifier(span=Span(start_line=51, start_column=1561, end_line=51, end_column=1565), name='c_reg'), indices=[[IntegerLiteral(span=Span(start_line=51, start_column=15, end_line=51, end_column=15), value=2)]]), IndexedIdentifier(span=Span(start_line=51, start_column=19, end_line=51, end_column=26), name=Identifier(span=Span(start_line=51, start_column=1571, end_line=51, end_column=1575), name='c_reg'), indices=[[IntegerLiteral(span=Span(start_line=51, start_column=25, end_line=51, end_column=25), value=1)]])], duration=None),\n",
       " QuantumGate(span=Span(start_line=52, start_column=0, end_line=52, end_column=10), annotations=[], modifiers=[], name=Identifier(span=Span(start_line=52, start_column=1581, end_line=52, end_column=1581), name='h'), arguments=[], qubits=[IndexedIdentifier(span=Span(start_line=52, start_column=2, end_line=52, end_column=9), name=Identifier(span=Span(start_line=52, start_column=1583, end_line=52, end_column=1587), name='c_reg'), indices=[[IntegerLiteral(span=Span(start_line=52, start_column=8, end_line=52, end_column=8), value=1)]])], duration=None),\n",
       " QuantumGate(span=Span(start_line=53, start_column=0, end_line=53, end_column=27), annotations=[], modifiers=[], name=Identifier(span=Span(start_line=53, start_column=1593, end_line=53, end_column=1594), name='cp'), arguments=[BinaryExpression(span=Span(start_line=53, start_column=3, end_line=53, end_column=6), op=<BinaryOperator./: 17>, lhs=Identifier(span=Span(start_line=53, start_column=3, end_line=53, end_column=3), name='pi'), rhs=IntegerLiteral(span=Span(start_line=53, start_column=6, end_line=53, end_column=6), value=8))], qubits=[IndexedIdentifier(span=Span(start_line=53, start_column=9, end_line=53, end_column=16), name=Identifier(span=Span(start_line=53, start_column=1602, end_line=53, end_column=1606), name='c_reg'), indices=[[IntegerLiteral(span=Span(start_line=53, start_column=15, end_line=53, end_column=15), value=3)]]), IndexedIdentifier(span=Span(start_line=53, start_column=19, end_line=53, end_column=26), name=Identifier(span=Span(start_line=53, start_column=1612, end_line=53, end_column=1616), name='c_reg'), indices=[[IntegerLiteral(span=Span(start_line=53, start_column=25, end_line=53, end_column=25), value=0)]])], duration=None),\n",
       " QuantumGate(span=Span(start_line=54, start_column=0, end_line=54, end_column=27), annotations=[], modifiers=[], name=Identifier(span=Span(start_line=54, start_column=1622, end_line=54, end_column=1623), name='cp'), arguments=[BinaryExpression(span=Span(start_line=54, start_column=3, end_line=54, end_column=6), op=<BinaryOperator./: 17>, lhs=Identifier(span=Span(start_line=54, start_column=3, end_line=54, end_column=3), name='pi'), rhs=IntegerLiteral(span=Span(start_line=54, start_column=6, end_line=54, end_column=6), value=4))], qubits=[IndexedIdentifier(span=Span(start_line=54, start_column=9, end_line=54, end_column=16), name=Identifier(span=Span(start_line=54, start_column=1631, end_line=54, end_column=1635), name='c_reg'), indices=[[IntegerLiteral(span=Span(start_line=54, start_column=15, end_line=54, end_column=15), value=2)]]), IndexedIdentifier(span=Span(start_line=54, start_column=19, end_line=54, end_column=26), name=Identifier(span=Span(start_line=54, start_column=1641, end_line=54, end_column=1645), name='c_reg'), indices=[[IntegerLiteral(span=Span(start_line=54, start_column=25, end_line=54, end_column=25), value=0)]])], duration=None),\n",
       " QuantumGate(span=Span(start_line=55, start_column=0, end_line=55, end_column=27), annotations=[], modifiers=[], name=Identifier(span=Span(start_line=55, start_column=1651, end_line=55, end_column=1652), name='cp'), arguments=[BinaryExpression(span=Span(start_line=55, start_column=3, end_line=55, end_column=6), op=<BinaryOperator./: 17>, lhs=Identifier(span=Span(start_line=55, start_column=3, end_line=55, end_column=3), name='pi'), rhs=IntegerLiteral(span=Span(start_line=55, start_column=6, end_line=55, end_column=6), value=2))], qubits=[IndexedIdentifier(span=Span(start_line=55, start_column=9, end_line=55, end_column=16), name=Identifier(span=Span(start_line=55, start_column=1660, end_line=55, end_column=1664), name='c_reg'), indices=[[IntegerLiteral(span=Span(start_line=55, start_column=15, end_line=55, end_column=15), value=1)]]), IndexedIdentifier(span=Span(start_line=55, start_column=19, end_line=55, end_column=26), name=Identifier(span=Span(start_line=55, start_column=1670, end_line=55, end_column=1674), name='c_reg'), indices=[[IntegerLiteral(span=Span(start_line=55, start_column=25, end_line=55, end_column=25), value=0)]])], duration=None),\n",
       " QuantumGate(span=Span(start_line=56, start_column=0, end_line=56, end_column=10), annotations=[], modifiers=[], name=Identifier(span=Span(start_line=56, start_column=1680, end_line=56, end_column=1680), name='h'), arguments=[], qubits=[IndexedIdentifier(span=Span(start_line=56, start_column=2, end_line=56, end_column=9), name=Identifier(span=Span(start_line=56, start_column=1682, end_line=56, end_column=1686), name='c_reg'), indices=[[IntegerLiteral(span=Span(start_line=56, start_column=8, end_line=56, end_column=8), value=0)]])], duration=None),\n",
       " QuantumGate(span=Span(start_line=57, start_column=0, end_line=57, end_column=23), annotations=[], modifiers=[], name=Identifier(span=Span(start_line=57, start_column=1692, end_line=57, end_column=1695), name='swap'), arguments=[], qubits=[IndexedIdentifier(span=Span(start_line=57, start_column=5, end_line=57, end_column=12), name=Identifier(span=Span(start_line=57, start_column=1697, end_line=57, end_column=1701), name='c_reg'), indices=[[IntegerLiteral(span=Span(start_line=57, start_column=11, end_line=57, end_column=11), value=0)]]), IndexedIdentifier(span=Span(start_line=57, start_column=15, end_line=57, end_column=22), name=Identifier(span=Span(start_line=57, start_column=1707, end_line=57, end_column=1711), name='c_reg'), indices=[[IntegerLiteral(span=Span(start_line=57, start_column=21, end_line=57, end_column=21), value=3)]])], duration=None),\n",
       " QuantumGate(span=Span(start_line=58, start_column=0, end_line=58, end_column=23), annotations=[], modifiers=[], name=Identifier(span=Span(start_line=58, start_column=1717, end_line=58, end_column=1720), name='swap'), arguments=[], qubits=[IndexedIdentifier(span=Span(start_line=58, start_column=5, end_line=58, end_column=12), name=Identifier(span=Span(start_line=58, start_column=1722, end_line=58, end_column=1726), name='c_reg'), indices=[[IntegerLiteral(span=Span(start_line=58, start_column=11, end_line=58, end_column=11), value=1)]]), IndexedIdentifier(span=Span(start_line=58, start_column=15, end_line=58, end_column=22), name=Identifier(span=Span(start_line=58, start_column=1732, end_line=58, end_column=1736), name='c_reg'), indices=[[IntegerLiteral(span=Span(start_line=58, start_column=21, end_line=58, end_column=21), value=2)]])], duration=None),\n",
       " QuantumBarrier(span=Span(start_line=59, start_column=0, end_line=59, end_column=64), annotations=[], qubits=[IndexedIdentifier(span=Span(start_line=59, start_column=8, end_line=59, end_column=13), name=Identifier(span=Span(start_line=59, start_column=1750, end_line=59, end_column=1752), name='anc'), indices=[[IntegerLiteral(span=Span(start_line=59, start_column=12, end_line=59, end_column=12), value=0)]]), IndexedIdentifier(span=Span(start_line=59, start_column=16, end_line=59, end_column=23), name=Identifier(span=Span(start_line=59, start_column=1758, end_line=59, end_column=1762), name='c_reg'), indices=[[IntegerLiteral(span=Span(start_line=59, start_column=22, end_line=59, end_column=22), value=0)]]), IndexedIdentifier(span=Span(start_line=59, start_column=26, end_line=59, end_column=33), name=Identifier(span=Span(start_line=59, start_column=1768, end_line=59, end_column=1772), name='c_reg'), indices=[[IntegerLiteral(span=Span(start_line=59, start_column=32, end_line=59, end_column=32), value=1)]]), IndexedIdentifier(span=Span(start_line=59, start_column=36, end_line=59, end_column=43), name=Identifier(span=Span(start_line=59, start_column=1778, end_line=59, end_column=1782), name='c_reg'), indices=[[IntegerLiteral(span=Span(start_line=59, start_column=42, end_line=59, end_column=42), value=2)]]), IndexedIdentifier(span=Span(start_line=59, start_column=46, end_line=59, end_column=53), name=Identifier(span=Span(start_line=59, start_column=1788, end_line=59, end_column=1792), name='c_reg'), indices=[[IntegerLiteral(span=Span(start_line=59, start_column=52, end_line=59, end_column=52), value=3)]]), IndexedIdentifier(span=Span(start_line=59, start_column=56, end_line=59, end_column=63), name=Identifier(span=Span(start_line=59, start_column=1798, end_line=59, end_column=1802), name='b_reg'), indices=[[IntegerLiteral(span=Span(start_line=59, start_column=62, end_line=59, end_column=62), value=0)]])]),\n",
       " QuantumGate(span=Span(start_line=60, start_column=0, end_line=60, end_column=66), annotations=[], modifiers=[], name=Identifier(span=Span(start_line=60, start_column=1808, end_line=60, end_column=1809), name='cu'), arguments=[IntegerLiteral(span=Span(start_line=60, start_column=3, end_line=60, end_column=3), value=0), FloatLiteral(span=Span(start_line=60, start_column=6, end_line=60, end_column=6), value=1.190289949682532), UnaryExpression(span=Span(start_line=60, start_column=25, end_line=60, end_column=26), op=<UnaryOperator.-: 3>, expression=FloatLiteral(span=Span(start_line=60, start_column=26, end_line=60, end_column=26), value=1.190289949682532)), IntegerLiteral(span=Span(start_line=60, start_column=45, end_line=60, end_column=45), value=0)], qubits=[IndexedIdentifier(span=Span(start_line=60, start_column=48, end_line=60, end_column=55), name=Identifier(span=Span(start_line=60, start_column=1856, end_line=60, end_column=1860), name='c_reg'), indices=[[IntegerLiteral(span=Span(start_line=60, start_column=54, end_line=60, end_column=54), value=3)]]), IndexedIdentifier(span=Span(start_line=60, start_column=58, end_line=60, end_column=65), name=Identifier(span=Span(start_line=60, start_column=1866, end_line=60, end_column=1870), name='b_reg'), indices=[[IntegerLiteral(span=Span(start_line=60, start_column=64, end_line=60, end_column=64), value=0)]])], duration=None),\n",
       " QuantumGate(span=Span(start_line=61, start_column=0, end_line=61, end_column=67), annotations=[], modifiers=[], name=Identifier(span=Span(start_line=61, start_column=1876, end_line=61, end_column=1877), name='cu'), arguments=[IntegerLiteral(span=Span(start_line=61, start_column=3, end_line=61, end_column=3), value=0), FloatLiteral(span=Span(start_line=61, start_column=6, end_line=61, end_column=6), value=1.190289949682532), UnaryExpression(span=Span(start_line=61, start_column=25, end_line=61, end_column=26), op=<UnaryOperator.-: 3>, expression=FloatLiteral(span=Span(start_line=61, start_column=26, end_line=61, end_column=26), value=1.1902899496825319)), IntegerLiteral(span=Span(start_line=61, start_column=46, end_line=61, end_column=46), value=0)], qubits=[IndexedIdentifier(span=Span(start_line=61, start_column=49, end_line=61, end_column=56), name=Identifier(span=Span(start_line=61, start_column=1925, end_line=61, end_column=1929), name='c_reg'), indices=[[IntegerLiteral(span=Span(start_line=61, start_column=55, end_line=61, end_column=55), value=2)]]), IndexedIdentifier(span=Span(start_line=61, start_column=59, end_line=61, end_column=66), name=Identifier(span=Span(start_line=61, start_column=1935, end_line=61, end_column=1939), name='b_reg'), indices=[[IntegerLiteral(span=Span(start_line=61, start_column=65, end_line=61, end_column=65), value=0)]])], duration=None),\n",
       " QuantumGate(span=Span(start_line=62, start_column=0, end_line=62, end_column=69), annotations=[], modifiers=[], name=Identifier(span=Span(start_line=62, start_column=1945, end_line=62, end_column=1946), name='cu'), arguments=[Identifier(span=Span(start_line=62, start_column=3, end_line=62, end_column=3), name='pi'), UnaryExpression(span=Span(start_line=62, start_column=7, end_line=62, end_column=8), op=<UnaryOperator.-: 3>, expression=FloatLiteral(span=Span(start_line=62, start_column=8, end_line=62, end_column=8), value=2.2142974355881804)), UnaryExpression(span=Span(start_line=62, start_column=28, end_line=62, end_column=29), op=<UnaryOperator.-: 3>, expression=FloatLiteral(span=Span(start_line=62, start_column=29, end_line=62, end_column=29), value=5.355890089177974)), IntegerLiteral(span=Span(start_line=62, start_column=48, end_line=62, end_column=48), value=0)], qubits=[IndexedIdentifier(span=Span(start_line=62, start_column=51, end_line=62, end_column=58), name=Identifier(span=Span(start_line=62, start_column=1996, end_line=62, end_column=2000), name='c_reg'), indices=[[IntegerLiteral(span=Span(start_line=62, start_column=57, end_line=62, end_column=57), value=1)]]), IndexedIdentifier(span=Span(start_line=62, start_column=61, end_line=62, end_column=68), name=Identifier(span=Span(start_line=62, start_column=2006, end_line=62, end_column=2010), name='b_reg'), indices=[[IntegerLiteral(span=Span(start_line=62, start_column=67, end_line=62, end_column=67), value=0)]])], duration=None),\n",
       " QuantumGate(span=Span(start_line=63, start_column=0, end_line=63, end_column=46), annotations=[], modifiers=[], name=Identifier(span=Span(start_line=63, start_column=2016, end_line=63, end_column=2017), name='cu'), arguments=[BinaryExpression(span=Span(start_line=63, start_column=3, end_line=63, end_column=6), op=<BinaryOperator./: 17>, lhs=Identifier(span=Span(start_line=63, start_column=3, end_line=63, end_column=3), name='pi'), rhs=IntegerLiteral(span=Span(start_line=63, start_column=6, end_line=63, end_column=6), value=2)), BinaryExpression(span=Span(start_line=63, start_column=9, end_line=63, end_column=15), op=<BinaryOperator./: 17>, lhs=BinaryExpression(span=Span(start_line=63, start_column=9, end_line=63, end_column=12), op=<BinaryOperator.*: 16>, lhs=UnaryExpression(span=Span(start_line=63, start_column=9, end_line=63, end_column=10), op=<UnaryOperator.-: 3>, expression=IntegerLiteral(span=Span(start_line=63, start_column=10, end_line=63, end_column=10), value=3)), rhs=Identifier(span=Span(start_line=63, start_column=12, end_line=63, end_column=12), name='pi')), rhs=IntegerLiteral(span=Span(start_line=63, start_column=15, end_line=63, end_column=15), value=2)), BinaryExpression(span=Span(start_line=63, start_column=18, end_line=63, end_column=22), op=<BinaryOperator./: 17>, lhs=UnaryExpression(span=Span(start_line=63, start_column=18, end_line=63, end_column=19), op=<UnaryOperator.-: 3>, expression=Identifier(span=Span(start_line=63, start_column=19, end_line=63, end_column=19), name='pi')), rhs=IntegerLiteral(span=Span(start_line=63, start_column=22, end_line=63, end_column=22), value=2)), IntegerLiteral(span=Span(start_line=63, start_column=25, end_line=63, end_column=25), value=0)], qubits=[IndexedIdentifier(span=Span(start_line=63, start_column=28, end_line=63, end_column=35), name=Identifier(span=Span(start_line=63, start_column=2044, end_line=63, end_column=2048), name='c_reg'), indices=[[IntegerLiteral(span=Span(start_line=63, start_column=34, end_line=63, end_column=34), value=0)]]), IndexedIdentifier(span=Span(start_line=63, start_column=38, end_line=63, end_column=45), name=Identifier(span=Span(start_line=63, start_column=2054, end_line=63, end_column=2058), name='b_reg'), indices=[[IntegerLiteral(span=Span(start_line=63, start_column=44, end_line=63, end_column=44), value=0)]])], duration=None),\n",
       " QuantumGate(span=Span(start_line=64, start_column=0, end_line=64, end_column=18), annotations=[], modifiers=[], name=Identifier(span=Span(start_line=64, start_column=2064, end_line=64, end_column=2064), name='p'), arguments=[BinaryExpression(span=Span(start_line=64, start_column=2, end_line=64, end_column=7), op=<BinaryOperator./: 17>, lhs=BinaryExpression(span=Span(start_line=64, start_column=2, end_line=64, end_column=4), op=<BinaryOperator.*: 16>, lhs=IntegerLiteral(span=Span(start_line=64, start_column=2, end_line=64, end_column=2), value=5), rhs=Identifier(span=Span(start_line=64, start_column=4, end_line=64, end_column=4), name='pi')), rhs=IntegerLiteral(span=Span(start_line=64, start_column=7, end_line=64, end_column=7), value=4))], qubits=[IndexedIdentifier(span=Span(start_line=64, start_column=10, end_line=64, end_column=17), name=Identifier(span=Span(start_line=64, start_column=2074, end_line=64, end_column=2078), name='c_reg'), indices=[[IntegerLiteral(span=Span(start_line=64, start_column=16, end_line=64, end_column=16), value=0)]])], duration=None),\n",
       " QuantumGate(span=Span(start_line=65, start_column=0, end_line=65, end_column=29), annotations=[], modifiers=[], name=Identifier(span=Span(start_line=65, start_column=2084, end_line=65, end_column=2084), name='p'), arguments=[FloatLiteral(span=Span(start_line=65, start_column=2, end_line=65, end_column=2), value=5.355890089177974)], qubits=[IndexedIdentifier(span=Span(start_line=65, start_column=21, end_line=65, end_column=28), name=Identifier(span=Span(start_line=65, start_column=2105, end_line=65, end_column=2109), name='c_reg'), indices=[[IntegerLiteral(span=Span(start_line=65, start_column=27, end_line=65, end_column=27), value=1)]])], duration=None),\n",
       " QuantumGate(span=Span(start_line=66, start_column=0, end_line=66, end_column=16), annotations=[], modifiers=[], name=Identifier(span=Span(start_line=66, start_column=2115, end_line=66, end_column=2115), name='p'), arguments=[BinaryExpression(span=Span(start_line=66, start_column=2, end_line=66, end_column=4), op=<BinaryOperator.*: 16>, lhs=IntegerLiteral(span=Span(start_line=66, start_column=2, end_line=66, end_column=2), value=2), rhs=Identifier(span=Span(start_line=66, start_column=4, end_line=66, end_column=4), name='pi'))], qubits=[IndexedIdentifier(span=Span(start_line=66, start_column=8, end_line=66, end_column=15), name=Identifier(span=Span(start_line=66, start_column=2123, end_line=66, end_column=2127), name='c_reg'), indices=[[IntegerLiteral(span=Span(start_line=66, start_column=14, end_line=66, end_column=14), value=2)]])], duration=None),\n",
       " QuantumGate(span=Span(start_line=67, start_column=0, end_line=67, end_column=16), annotations=[], modifiers=[], name=Identifier(span=Span(start_line=67, start_column=2133, end_line=67, end_column=2133), name='p'), arguments=[BinaryExpression(span=Span(start_line=67, start_column=2, end_line=67, end_column=4), op=<BinaryOperator.*: 16>, lhs=IntegerLiteral(span=Span(start_line=67, start_column=2, end_line=67, end_column=2), value=2), rhs=Identifier(span=Span(start_line=67, start_column=4, end_line=67, end_column=4), name='pi'))], qubits=[IndexedIdentifier(span=Span(start_line=67, start_column=8, end_line=67, end_column=15), name=Identifier(span=Span(start_line=67, start_column=2141, end_line=67, end_column=2145), name='c_reg'), indices=[[IntegerLiteral(span=Span(start_line=67, start_column=14, end_line=67, end_column=14), value=3)]])], duration=None),\n",
       " QuantumBarrier(span=Span(start_line=68, start_column=0, end_line=68, end_column=64), annotations=[], qubits=[IndexedIdentifier(span=Span(start_line=68, start_column=8, end_line=68, end_column=13), name=Identifier(span=Span(start_line=68, start_column=2159, end_line=68, end_column=2161), name='anc'), indices=[[IntegerLiteral(span=Span(start_line=68, start_column=12, end_line=68, end_column=12), value=0)]]), IndexedIdentifier(span=Span(start_line=68, start_column=16, end_line=68, end_column=23), name=Identifier(span=Span(start_line=68, start_column=2167, end_line=68, end_column=2171), name='c_reg'), indices=[[IntegerLiteral(span=Span(start_line=68, start_column=22, end_line=68, end_column=22), value=0)]]), IndexedIdentifier(span=Span(start_line=68, start_column=26, end_line=68, end_column=33), name=Identifier(span=Span(start_line=68, start_column=2177, end_line=68, end_column=2181), name='c_reg'), indices=[[IntegerLiteral(span=Span(start_line=68, start_column=32, end_line=68, end_column=32), value=1)]]), IndexedIdentifier(span=Span(start_line=68, start_column=36, end_line=68, end_column=43), name=Identifier(span=Span(start_line=68, start_column=2187, end_line=68, end_column=2191), name='c_reg'), indices=[[IntegerLiteral(span=Span(start_line=68, start_column=42, end_line=68, end_column=42), value=2)]]), IndexedIdentifier(span=Span(start_line=68, start_column=46, end_line=68, end_column=53), name=Identifier(span=Span(start_line=68, start_column=2197, end_line=68, end_column=2201), name='c_reg'), indices=[[IntegerLiteral(span=Span(start_line=68, start_column=52, end_line=68, end_column=52), value=3)]]), IndexedIdentifier(span=Span(start_line=68, start_column=56, end_line=68, end_column=63), name=Identifier(span=Span(start_line=68, start_column=2207, end_line=68, end_column=2211), name='b_reg'), indices=[[IntegerLiteral(span=Span(start_line=68, start_column=62, end_line=68, end_column=62), value=0)]])]),\n",
       " QuantumGate(span=Span(start_line=69, start_column=0, end_line=69, end_column=10), annotations=[], modifiers=[], name=Identifier(span=Span(start_line=69, start_column=2217, end_line=69, end_column=2217), name='h'), arguments=[], qubits=[IndexedIdentifier(span=Span(start_line=69, start_column=2, end_line=69, end_column=9), name=Identifier(span=Span(start_line=69, start_column=2219, end_line=69, end_column=2223), name='c_reg'), indices=[[IntegerLiteral(span=Span(start_line=69, start_column=8, end_line=69, end_column=8), value=0)]])], duration=None),\n",
       " QuantumGate(span=Span(start_line=70, start_column=0, end_line=70, end_column=10), annotations=[], modifiers=[], name=Identifier(span=Span(start_line=70, start_column=2229, end_line=70, end_column=2229), name='h'), arguments=[], qubits=[IndexedIdentifier(span=Span(start_line=70, start_column=2, end_line=70, end_column=9), name=Identifier(span=Span(start_line=70, start_column=2231, end_line=70, end_column=2235), name='c_reg'), indices=[[IntegerLiteral(span=Span(start_line=70, start_column=8, end_line=70, end_column=8), value=1)]])], duration=None),\n",
       " QuantumGate(span=Span(start_line=71, start_column=0, end_line=71, end_column=10), annotations=[], modifiers=[], name=Identifier(span=Span(start_line=71, start_column=2241, end_line=71, end_column=2241), name='h'), arguments=[], qubits=[IndexedIdentifier(span=Span(start_line=71, start_column=2, end_line=71, end_column=9), name=Identifier(span=Span(start_line=71, start_column=2243, end_line=71, end_column=2247), name='c_reg'), indices=[[IntegerLiteral(span=Span(start_line=71, start_column=8, end_line=71, end_column=8), value=2)]])], duration=None),\n",
       " QuantumGate(span=Span(start_line=72, start_column=0, end_line=72, end_column=10), annotations=[], modifiers=[], name=Identifier(span=Span(start_line=72, start_column=2253, end_line=72, end_column=2253), name='h'), arguments=[], qubits=[IndexedIdentifier(span=Span(start_line=72, start_column=2, end_line=72, end_column=9), name=Identifier(span=Span(start_line=72, start_column=2255, end_line=72, end_column=2259), name='c_reg'), indices=[[IntegerLiteral(span=Span(start_line=72, start_column=8, end_line=72, end_column=8), value=3)]])], duration=None),\n",
       " QuantumBarrier(span=Span(start_line=73, start_column=0, end_line=73, end_column=64), annotations=[], qubits=[IndexedIdentifier(span=Span(start_line=73, start_column=8, end_line=73, end_column=13), name=Identifier(span=Span(start_line=73, start_column=2273, end_line=73, end_column=2275), name='anc'), indices=[[IntegerLiteral(span=Span(start_line=73, start_column=12, end_line=73, end_column=12), value=0)]]), IndexedIdentifier(span=Span(start_line=73, start_column=16, end_line=73, end_column=23), name=Identifier(span=Span(start_line=73, start_column=2281, end_line=73, end_column=2285), name='c_reg'), indices=[[IntegerLiteral(span=Span(start_line=73, start_column=22, end_line=73, end_column=22), value=0)]]), IndexedIdentifier(span=Span(start_line=73, start_column=26, end_line=73, end_column=33), name=Identifier(span=Span(start_line=73, start_column=2291, end_line=73, end_column=2295), name='c_reg'), indices=[[IntegerLiteral(span=Span(start_line=73, start_column=32, end_line=73, end_column=32), value=1)]]), IndexedIdentifier(span=Span(start_line=73, start_column=36, end_line=73, end_column=43), name=Identifier(span=Span(start_line=73, start_column=2301, end_line=73, end_column=2305), name='c_reg'), indices=[[IntegerLiteral(span=Span(start_line=73, start_column=42, end_line=73, end_column=42), value=2)]]), IndexedIdentifier(span=Span(start_line=73, start_column=46, end_line=73, end_column=53), name=Identifier(span=Span(start_line=73, start_column=2311, end_line=73, end_column=2315), name='c_reg'), indices=[[IntegerLiteral(span=Span(start_line=73, start_column=52, end_line=73, end_column=52), value=3)]]), IndexedIdentifier(span=Span(start_line=73, start_column=56, end_line=73, end_column=63), name=Identifier(span=Span(start_line=73, start_column=2321, end_line=73, end_column=2325), name='b_reg'), indices=[[IntegerLiteral(span=Span(start_line=73, start_column=62, end_line=73, end_column=62), value=0)]])]),\n",
       " QuantumMeasurementStatement(span=Span(start_line=74, start_column=0, end_line=74, end_column=25), annotations=[], measure=QuantumMeasurement(span=Span(start_line=74, start_column=11, end_line=74, end_column=24), qubit=IndexedIdentifier(span=Span(start_line=74, start_column=19, end_line=74, end_column=24), name=Identifier(span=Span(start_line=74, start_column=2350, end_line=74, end_column=2352), name='anc'), indices=[[IntegerLiteral(span=Span(start_line=74, start_column=23, end_line=74, end_column=23), value=0)]])), target=IndexedIdentifier(span=Span(start_line=74, start_column=0, end_line=74, end_column=7), name=Identifier(span=Span(start_line=74, start_column=2331, end_line=74, end_column=2335), name='cregb'), indices=[[IntegerLiteral(span=Span(start_line=74, start_column=6, end_line=74, end_column=6), value=0)]])),\n",
       " QuantumMeasurementStatement(span=Span(start_line=75, start_column=0, end_line=75, end_column=27), annotations=[], measure=QuantumMeasurement(span=Span(start_line=75, start_column=11, end_line=75, end_column=26), qubit=IndexedIdentifier(span=Span(start_line=75, start_column=19, end_line=75, end_column=26), name=Identifier(span=Span(start_line=75, start_column=2377, end_line=75, end_column=2381), name='c_reg'), indices=[[IntegerLiteral(span=Span(start_line=75, start_column=25, end_line=75, end_column=25), value=0)]])), target=IndexedIdentifier(span=Span(start_line=75, start_column=0, end_line=75, end_column=7), name=Identifier(span=Span(start_line=75, start_column=2358, end_line=75, end_column=2362), name='cregb'), indices=[[IntegerLiteral(span=Span(start_line=75, start_column=6, end_line=75, end_column=6), value=1)]])),\n",
       " QuantumMeasurementStatement(span=Span(start_line=76, start_column=0, end_line=76, end_column=27), annotations=[], measure=QuantumMeasurement(span=Span(start_line=76, start_column=11, end_line=76, end_column=26), qubit=IndexedIdentifier(span=Span(start_line=76, start_column=19, end_line=76, end_column=26), name=Identifier(span=Span(start_line=76, start_column=2406, end_line=76, end_column=2410), name='c_reg'), indices=[[IntegerLiteral(span=Span(start_line=76, start_column=25, end_line=76, end_column=25), value=1)]])), target=IndexedIdentifier(span=Span(start_line=76, start_column=0, end_line=76, end_column=7), name=Identifier(span=Span(start_line=76, start_column=2387, end_line=76, end_column=2391), name='cregb'), indices=[[IntegerLiteral(span=Span(start_line=76, start_column=6, end_line=76, end_column=6), value=2)]])),\n",
       " QuantumMeasurementStatement(span=Span(start_line=77, start_column=0, end_line=77, end_column=27), annotations=[], measure=QuantumMeasurement(span=Span(start_line=77, start_column=11, end_line=77, end_column=26), qubit=IndexedIdentifier(span=Span(start_line=77, start_column=19, end_line=77, end_column=26), name=Identifier(span=Span(start_line=77, start_column=2435, end_line=77, end_column=2439), name='c_reg'), indices=[[IntegerLiteral(span=Span(start_line=77, start_column=25, end_line=77, end_column=25), value=2)]])), target=IndexedIdentifier(span=Span(start_line=77, start_column=0, end_line=77, end_column=7), name=Identifier(span=Span(start_line=77, start_column=2416, end_line=77, end_column=2420), name='cregb'), indices=[[IntegerLiteral(span=Span(start_line=77, start_column=6, end_line=77, end_column=6), value=3)]])),\n",
       " QuantumMeasurementStatement(span=Span(start_line=78, start_column=0, end_line=78, end_column=27), annotations=[], measure=QuantumMeasurement(span=Span(start_line=78, start_column=11, end_line=78, end_column=26), qubit=IndexedIdentifier(span=Span(start_line=78, start_column=19, end_line=78, end_column=26), name=Identifier(span=Span(start_line=78, start_column=2464, end_line=78, end_column=2468), name='c_reg'), indices=[[IntegerLiteral(span=Span(start_line=78, start_column=25, end_line=78, end_column=25), value=3)]])), target=IndexedIdentifier(span=Span(start_line=78, start_column=0, end_line=78, end_column=7), name=Identifier(span=Span(start_line=78, start_column=2445, end_line=78, end_column=2449), name='cregb'), indices=[[IntegerLiteral(span=Span(start_line=78, start_column=6, end_line=78, end_column=6), value=4)]])),\n",
       " QuantumMeasurementStatement(span=Span(start_line=79, start_column=0, end_line=79, end_column=27), annotations=[], measure=QuantumMeasurement(span=Span(start_line=79, start_column=11, end_line=79, end_column=26), qubit=IndexedIdentifier(span=Span(start_line=79, start_column=19, end_line=79, end_column=26), name=Identifier(span=Span(start_line=79, start_column=2493, end_line=79, end_column=2497), name='b_reg'), indices=[[IntegerLiteral(span=Span(start_line=79, start_column=25, end_line=79, end_column=25), value=0)]])), target=IndexedIdentifier(span=Span(start_line=79, start_column=0, end_line=79, end_column=7), name=Identifier(span=Span(start_line=79, start_column=2474, end_line=79, end_column=2478), name='cregb'), indices=[[IntegerLiteral(span=Span(start_line=79, start_column=6, end_line=79, end_column=6), value=5)]]))]"
      ]
     },
     "execution_count": 14,
     "metadata": {},
     "output_type": "execute_result"
    }
   ],
   "source": [
    "qasm_parsed_file.statements"
   ]
  },
  {
   "cell_type": "code",
   "execution_count": 15,
   "metadata": {},
   "outputs": [
    {
     "name": "stdout",
     "output_type": "stream",
     "text": [
      "Include(span=Span(start_line=2, start_column=0, end_line=2, end_column=22), annotations=[], filename='stdgates.inc')\n",
      "ClassicalDeclaration(span=Span(start_line=3, start_column=0, end_line=3, end_column=12), annotations=[], type=BitType(span=Span(start_line=3, start_column=0, end_line=3, end_column=5), size=IntegerLiteral(span=Span(start_line=3, start_column=3, end_line=3, end_column=5), value=6)), identifier=Identifier(span=Span(start_line=3, start_column=45, end_line=3, end_column=49), name='cregb'), init_expression=None)\n",
      "QubitDeclaration(span=Span(start_line=4, start_column=0, end_line=4, end_column=12), annotations=[], qubit=Identifier(span=Span(start_line=4, start_column=61, end_line=4, end_column=63), name='anc'), size=IntegerLiteral(span=Span(start_line=4, start_column=5, end_line=4, end_column=7), value=1))\n",
      "QubitDeclaration(span=Span(start_line=5, start_column=0, end_line=5, end_column=14), annotations=[], qubit=Identifier(span=Span(start_line=5, start_column=75, end_line=5, end_column=79), name='c_reg'), size=IntegerLiteral(span=Span(start_line=5, start_column=5, end_line=5, end_column=7), value=4))\n",
      "QubitDeclaration(span=Span(start_line=6, start_column=0, end_line=6, end_column=14), annotations=[], qubit=Identifier(span=Span(start_line=6, start_column=91, end_line=6, end_column=95), name='b_reg'), size=IntegerLiteral(span=Span(start_line=6, start_column=5, end_line=6, end_column=7), value=1))\n",
      "QuantumGate(span=Span(start_line=7, start_column=0, end_line=7, end_column=10), annotations=[], modifiers=[], name=Identifier(span=Span(start_line=7, start_column=98, end_line=7, end_column=98), name='x'), arguments=[], qubits=[IndexedIdentifier(span=Span(start_line=7, start_column=2, end_line=7, end_column=9), name=Identifier(span=Span(start_line=7, start_column=100, end_line=7, end_column=104), name='b_reg'), indices=[[IntegerLiteral(span=Span(start_line=7, start_column=8, end_line=7, end_column=8), value=0)]])], duration=None)\n",
      "QuantumBarrier(span=Span(start_line=8, start_column=0, end_line=8, end_column=64), annotations=[], qubits=[IndexedIdentifier(span=Span(start_line=8, start_column=8, end_line=8, end_column=13), name=Identifier(span=Span(start_line=8, start_column=118, end_line=8, end_column=120), name='anc'), indices=[[IntegerLiteral(span=Span(start_line=8, start_column=12, end_line=8, end_column=12), value=0)]]), IndexedIdentifier(span=Span(start_line=8, start_column=16, end_line=8, end_column=23), name=Identifier(span=Span(start_line=8, start_column=126, end_line=8, end_column=130), name='c_reg'), indices=[[IntegerLiteral(span=Span(start_line=8, start_column=22, end_line=8, end_column=22), value=0)]]), IndexedIdentifier(span=Span(start_line=8, start_column=26, end_line=8, end_column=33), name=Identifier(span=Span(start_line=8, start_column=136, end_line=8, end_column=140), name='c_reg'), indices=[[IntegerLiteral(span=Span(start_line=8, start_column=32, end_line=8, end_column=32), value=1)]]), IndexedIdentifier(span=Span(start_line=8, start_column=36, end_line=8, end_column=43), name=Identifier(span=Span(start_line=8, start_column=146, end_line=8, end_column=150), name='c_reg'), indices=[[IntegerLiteral(span=Span(start_line=8, start_column=42, end_line=8, end_column=42), value=2)]]), IndexedIdentifier(span=Span(start_line=8, start_column=46, end_line=8, end_column=53), name=Identifier(span=Span(start_line=8, start_column=156, end_line=8, end_column=160), name='c_reg'), indices=[[IntegerLiteral(span=Span(start_line=8, start_column=52, end_line=8, end_column=52), value=3)]]), IndexedIdentifier(span=Span(start_line=8, start_column=56, end_line=8, end_column=63), name=Identifier(span=Span(start_line=8, start_column=166, end_line=8, end_column=170), name='b_reg'), indices=[[IntegerLiteral(span=Span(start_line=8, start_column=62, end_line=8, end_column=62), value=0)]])])\n",
      "QuantumGate(span=Span(start_line=9, start_column=0, end_line=9, end_column=10), annotations=[], modifiers=[], name=Identifier(span=Span(start_line=9, start_column=176, end_line=9, end_column=176), name='h'), arguments=[], qubits=[IndexedIdentifier(span=Span(start_line=9, start_column=2, end_line=9, end_column=9), name=Identifier(span=Span(start_line=9, start_column=178, end_line=9, end_column=182), name='c_reg'), indices=[[IntegerLiteral(span=Span(start_line=9, start_column=8, end_line=9, end_column=8), value=0)]])], duration=None)\n",
      "QuantumGate(span=Span(start_line=10, start_column=0, end_line=10, end_column=10), annotations=[], modifiers=[], name=Identifier(span=Span(start_line=10, start_column=188, end_line=10, end_column=188), name='h'), arguments=[], qubits=[IndexedIdentifier(span=Span(start_line=10, start_column=2, end_line=10, end_column=9), name=Identifier(span=Span(start_line=10, start_column=190, end_line=10, end_column=194), name='c_reg'), indices=[[IntegerLiteral(span=Span(start_line=10, start_column=8, end_line=10, end_column=8), value=1)]])], duration=None)\n",
      "QuantumGate(span=Span(start_line=11, start_column=0, end_line=11, end_column=10), annotations=[], modifiers=[], name=Identifier(span=Span(start_line=11, start_column=200, end_line=11, end_column=200), name='h'), arguments=[], qubits=[IndexedIdentifier(span=Span(start_line=11, start_column=2, end_line=11, end_column=9), name=Identifier(span=Span(start_line=11, start_column=202, end_line=11, end_column=206), name='c_reg'), indices=[[IntegerLiteral(span=Span(start_line=11, start_column=8, end_line=11, end_column=8), value=2)]])], duration=None)\n",
      "QuantumGate(span=Span(start_line=12, start_column=0, end_line=12, end_column=10), annotations=[], modifiers=[], name=Identifier(span=Span(start_line=12, start_column=212, end_line=12, end_column=212), name='h'), arguments=[], qubits=[IndexedIdentifier(span=Span(start_line=12, start_column=2, end_line=12, end_column=9), name=Identifier(span=Span(start_line=12, start_column=214, end_line=12, end_column=218), name='c_reg'), indices=[[IntegerLiteral(span=Span(start_line=12, start_column=8, end_line=12, end_column=8), value=3)]])], duration=None)\n",
      "QuantumBarrier(span=Span(start_line=13, start_column=0, end_line=13, end_column=64), annotations=[], qubits=[IndexedIdentifier(span=Span(start_line=13, start_column=8, end_line=13, end_column=13), name=Identifier(span=Span(start_line=13, start_column=232, end_line=13, end_column=234), name='anc'), indices=[[IntegerLiteral(span=Span(start_line=13, start_column=12, end_line=13, end_column=12), value=0)]]), IndexedIdentifier(span=Span(start_line=13, start_column=16, end_line=13, end_column=23), name=Identifier(span=Span(start_line=13, start_column=240, end_line=13, end_column=244), name='c_reg'), indices=[[IntegerLiteral(span=Span(start_line=13, start_column=22, end_line=13, end_column=22), value=0)]]), IndexedIdentifier(span=Span(start_line=13, start_column=26, end_line=13, end_column=33), name=Identifier(span=Span(start_line=13, start_column=250, end_line=13, end_column=254), name='c_reg'), indices=[[IntegerLiteral(span=Span(start_line=13, start_column=32, end_line=13, end_column=32), value=1)]]), IndexedIdentifier(span=Span(start_line=13, start_column=36, end_line=13, end_column=43), name=Identifier(span=Span(start_line=13, start_column=260, end_line=13, end_column=264), name='c_reg'), indices=[[IntegerLiteral(span=Span(start_line=13, start_column=42, end_line=13, end_column=42), value=2)]]), IndexedIdentifier(span=Span(start_line=13, start_column=46, end_line=13, end_column=53), name=Identifier(span=Span(start_line=13, start_column=270, end_line=13, end_column=274), name='c_reg'), indices=[[IntegerLiteral(span=Span(start_line=13, start_column=52, end_line=13, end_column=52), value=3)]]), IndexedIdentifier(span=Span(start_line=13, start_column=56, end_line=13, end_column=63), name=Identifier(span=Span(start_line=13, start_column=280, end_line=13, end_column=284), name='b_reg'), indices=[[IntegerLiteral(span=Span(start_line=13, start_column=62, end_line=13, end_column=62), value=0)]])])\n",
      "QuantumGate(span=Span(start_line=14, start_column=0, end_line=14, end_column=44), annotations=[], modifiers=[], name=Identifier(span=Span(start_line=14, start_column=290, end_line=14, end_column=291), name='cu'), arguments=[BinaryExpression(span=Span(start_line=14, start_column=3, end_line=14, end_column=6), op=<BinaryOperator./: 17>, lhs=Identifier(span=Span(start_line=14, start_column=3, end_line=14, end_column=3), name='pi'), rhs=IntegerLiteral(span=Span(start_line=14, start_column=6, end_line=14, end_column=6), value=2)), BinaryExpression(span=Span(start_line=14, start_column=9, end_line=14, end_column=14), op=<BinaryOperator./: 17>, lhs=BinaryExpression(span=Span(start_line=14, start_column=9, end_line=14, end_column=11), op=<BinaryOperator.*: 16>, lhs=IntegerLiteral(span=Span(start_line=14, start_column=9, end_line=14, end_column=9), value=3), rhs=Identifier(span=Span(start_line=14, start_column=11, end_line=14, end_column=11), name='pi')), rhs=IntegerLiteral(span=Span(start_line=14, start_column=14, end_line=14, end_column=14), value=2)), BinaryExpression(span=Span(start_line=14, start_column=17, end_line=14, end_column=20), op=<BinaryOperator./: 17>, lhs=Identifier(span=Span(start_line=14, start_column=17, end_line=14, end_column=17), name='pi'), rhs=IntegerLiteral(span=Span(start_line=14, start_column=20, end_line=14, end_column=20), value=2)), IntegerLiteral(span=Span(start_line=14, start_column=23, end_line=14, end_column=23), value=0)], qubits=[IndexedIdentifier(span=Span(start_line=14, start_column=26, end_line=14, end_column=33), name=Identifier(span=Span(start_line=14, start_column=316, end_line=14, end_column=320), name='c_reg'), indices=[[IntegerLiteral(span=Span(start_line=14, start_column=32, end_line=14, end_column=32), value=0)]]), IndexedIdentifier(span=Span(start_line=14, start_column=36, end_line=14, end_column=43), name=Identifier(span=Span(start_line=14, start_column=326, end_line=14, end_column=330), name='b_reg'), indices=[[IntegerLiteral(span=Span(start_line=14, start_column=42, end_line=14, end_column=42), value=0)]])], duration=None)\n",
      "QuantumGate(span=Span(start_line=15, start_column=0, end_line=15, end_column=18), annotations=[], modifiers=[], name=Identifier(span=Span(start_line=15, start_column=336, end_line=15, end_column=336), name='p'), arguments=[BinaryExpression(span=Span(start_line=15, start_column=2, end_line=15, end_column=7), op=<BinaryOperator./: 17>, lhs=BinaryExpression(span=Span(start_line=15, start_column=2, end_line=15, end_column=4), op=<BinaryOperator.*: 16>, lhs=IntegerLiteral(span=Span(start_line=15, start_column=2, end_line=15, end_column=2), value=3), rhs=Identifier(span=Span(start_line=15, start_column=4, end_line=15, end_column=4), name='pi')), rhs=IntegerLiteral(span=Span(start_line=15, start_column=7, end_line=15, end_column=7), value=4))], qubits=[IndexedIdentifier(span=Span(start_line=15, start_column=10, end_line=15, end_column=17), name=Identifier(span=Span(start_line=15, start_column=346, end_line=15, end_column=350), name='c_reg'), indices=[[IntegerLiteral(span=Span(start_line=15, start_column=16, end_line=15, end_column=16), value=0)]])], duration=None)\n",
      "QuantumGate(span=Span(start_line=16, start_column=0, end_line=16, end_column=67), annotations=[], modifiers=[], name=Identifier(span=Span(start_line=16, start_column=356, end_line=16, end_column=357), name='cu'), arguments=[Identifier(span=Span(start_line=16, start_column=3, end_line=16, end_column=3), name='pi'), FloatLiteral(span=Span(start_line=16, start_column=7, end_line=16, end_column=7), value=2.2142974355881804), FloatLiteral(span=Span(start_line=16, start_column=27, end_line=16, end_column=27), value=5.355890089177974), IntegerLiteral(span=Span(start_line=16, start_column=46, end_line=16, end_column=46), value=0)], qubits=[IndexedIdentifier(span=Span(start_line=16, start_column=49, end_line=16, end_column=56), name=Identifier(span=Span(start_line=16, start_column=405, end_line=16, end_column=409), name='c_reg'), indices=[[IntegerLiteral(span=Span(start_line=16, start_column=55, end_line=16, end_column=55), value=1)]]), IndexedIdentifier(span=Span(start_line=16, start_column=59, end_line=16, end_column=66), name=Identifier(span=Span(start_line=16, start_column=415, end_line=16, end_column=419), name='b_reg'), indices=[[IntegerLiteral(span=Span(start_line=16, start_column=65, end_line=16, end_column=65), value=0)]])], duration=None)\n",
      "QuantumGate(span=Span(start_line=17, start_column=0, end_line=17, end_column=30), annotations=[], modifiers=[], name=Identifier(span=Span(start_line=17, start_column=425, end_line=17, end_column=425), name='p'), arguments=[FloatLiteral(span=Span(start_line=17, start_column=2, end_line=17, end_column=2), value=0.9272952180016123)], qubits=[IndexedIdentifier(span=Span(start_line=17, start_column=22, end_line=17, end_column=29), name=Identifier(span=Span(start_line=17, start_column=447, end_line=17, end_column=451), name='c_reg'), indices=[[IntegerLiteral(span=Span(start_line=17, start_column=28, end_line=17, end_column=28), value=1)]])], duration=None)\n",
      "QuantumGate(span=Span(start_line=18, start_column=0, end_line=18, end_column=67), annotations=[], modifiers=[], name=Identifier(span=Span(start_line=18, start_column=457, end_line=18, end_column=458), name='cu'), arguments=[IntegerLiteral(span=Span(start_line=18, start_column=3, end_line=18, end_column=3), value=0), UnaryExpression(span=Span(start_line=18, start_column=6, end_line=18, end_column=7), op=<UnaryOperator.-: 3>, expression=FloatLiteral(span=Span(start_line=18, start_column=7, end_line=18, end_column=7), value=1.190289949682532)), FloatLiteral(span=Span(start_line=18, start_column=26, end_line=18, end_column=26), value=1.1902899496825319), IntegerLiteral(span=Span(start_line=18, start_column=46, end_line=18, end_column=46), value=0)], qubits=[IndexedIdentifier(span=Span(start_line=18, start_column=49, end_line=18, end_column=56), name=Identifier(span=Span(start_line=18, start_column=506, end_line=18, end_column=510), name='c_reg'), indices=[[IntegerLiteral(span=Span(start_line=18, start_column=55, end_line=18, end_column=55), value=2)]]), IndexedIdentifier(span=Span(start_line=18, start_column=59, end_line=18, end_column=66), name=Identifier(span=Span(start_line=18, start_column=516, end_line=18, end_column=520), name='b_reg'), indices=[[IntegerLiteral(span=Span(start_line=18, start_column=65, end_line=18, end_column=65), value=0)]])], duration=None)\n",
      "QuantumGate(span=Span(start_line=19, start_column=0, end_line=19, end_column=13), annotations=[], modifiers=[], name=Identifier(span=Span(start_line=19, start_column=526, end_line=19, end_column=526), name='p'), arguments=[IntegerLiteral(span=Span(start_line=19, start_column=2, end_line=19, end_column=2), value=0)], qubits=[IndexedIdentifier(span=Span(start_line=19, start_column=5, end_line=19, end_column=12), name=Identifier(span=Span(start_line=19, start_column=531, end_line=19, end_column=535), name='c_reg'), indices=[[IntegerLiteral(span=Span(start_line=19, start_column=11, end_line=19, end_column=11), value=2)]])], duration=None)\n",
      "QuantumGate(span=Span(start_line=20, start_column=0, end_line=20, end_column=66), annotations=[], modifiers=[], name=Identifier(span=Span(start_line=20, start_column=541, end_line=20, end_column=542), name='cu'), arguments=[IntegerLiteral(span=Span(start_line=20, start_column=3, end_line=20, end_column=3), value=0), UnaryExpression(span=Span(start_line=20, start_column=6, end_line=20, end_column=7), op=<UnaryOperator.-: 3>, expression=FloatLiteral(span=Span(start_line=20, start_column=7, end_line=20, end_column=7), value=1.190289949682532)), FloatLiteral(span=Span(start_line=20, start_column=26, end_line=20, end_column=26), value=1.190289949682532), IntegerLiteral(span=Span(start_line=20, start_column=45, end_line=20, end_column=45), value=0)], qubits=[IndexedIdentifier(span=Span(start_line=20, start_column=48, end_line=20, end_column=55), name=Identifier(span=Span(start_line=20, start_column=589, end_line=20, end_column=593), name='c_reg'), indices=[[IntegerLiteral(span=Span(start_line=20, start_column=54, end_line=20, end_column=54), value=3)]]), IndexedIdentifier(span=Span(start_line=20, start_column=58, end_line=20, end_column=65), name=Identifier(span=Span(start_line=20, start_column=599, end_line=20, end_column=603), name='b_reg'), indices=[[IntegerLiteral(span=Span(start_line=20, start_column=64, end_line=20, end_column=64), value=0)]])], duration=None)\n",
      "QuantumGate(span=Span(start_line=21, start_column=0, end_line=21, end_column=13), annotations=[], modifiers=[], name=Identifier(span=Span(start_line=21, start_column=609, end_line=21, end_column=609), name='p'), arguments=[IntegerLiteral(span=Span(start_line=21, start_column=2, end_line=21, end_column=2), value=0)], qubits=[IndexedIdentifier(span=Span(start_line=21, start_column=5, end_line=21, end_column=12), name=Identifier(span=Span(start_line=21, start_column=614, end_line=21, end_column=618), name='c_reg'), indices=[[IntegerLiteral(span=Span(start_line=21, start_column=11, end_line=21, end_column=11), value=3)]])], duration=None)\n",
      "QuantumBarrier(span=Span(start_line=22, start_column=0, end_line=22, end_column=64), annotations=[], qubits=[IndexedIdentifier(span=Span(start_line=22, start_column=8, end_line=22, end_column=13), name=Identifier(span=Span(start_line=22, start_column=632, end_line=22, end_column=634), name='anc'), indices=[[IntegerLiteral(span=Span(start_line=22, start_column=12, end_line=22, end_column=12), value=0)]]), IndexedIdentifier(span=Span(start_line=22, start_column=16, end_line=22, end_column=23), name=Identifier(span=Span(start_line=22, start_column=640, end_line=22, end_column=644), name='c_reg'), indices=[[IntegerLiteral(span=Span(start_line=22, start_column=22, end_line=22, end_column=22), value=0)]]), IndexedIdentifier(span=Span(start_line=22, start_column=26, end_line=22, end_column=33), name=Identifier(span=Span(start_line=22, start_column=650, end_line=22, end_column=654), name='c_reg'), indices=[[IntegerLiteral(span=Span(start_line=22, start_column=32, end_line=22, end_column=32), value=1)]]), IndexedIdentifier(span=Span(start_line=22, start_column=36, end_line=22, end_column=43), name=Identifier(span=Span(start_line=22, start_column=660, end_line=22, end_column=664), name='c_reg'), indices=[[IntegerLiteral(span=Span(start_line=22, start_column=42, end_line=22, end_column=42), value=2)]]), IndexedIdentifier(span=Span(start_line=22, start_column=46, end_line=22, end_column=53), name=Identifier(span=Span(start_line=22, start_column=670, end_line=22, end_column=674), name='c_reg'), indices=[[IntegerLiteral(span=Span(start_line=22, start_column=52, end_line=22, end_column=52), value=3)]]), IndexedIdentifier(span=Span(start_line=22, start_column=56, end_line=22, end_column=63), name=Identifier(span=Span(start_line=22, start_column=680, end_line=22, end_column=684), name='b_reg'), indices=[[IntegerLiteral(span=Span(start_line=22, start_column=62, end_line=22, end_column=62), value=0)]])])\n",
      "QuantumGate(span=Span(start_line=23, start_column=0, end_line=23, end_column=23), annotations=[], modifiers=[], name=Identifier(span=Span(start_line=23, start_column=690, end_line=23, end_column=693), name='swap'), arguments=[], qubits=[IndexedIdentifier(span=Span(start_line=23, start_column=5, end_line=23, end_column=12), name=Identifier(span=Span(start_line=23, start_column=695, end_line=23, end_column=699), name='c_reg'), indices=[[IntegerLiteral(span=Span(start_line=23, start_column=11, end_line=23, end_column=11), value=0)]]), IndexedIdentifier(span=Span(start_line=23, start_column=15, end_line=23, end_column=22), name=Identifier(span=Span(start_line=23, start_column=705, end_line=23, end_column=709), name='c_reg'), indices=[[IntegerLiteral(span=Span(start_line=23, start_column=21, end_line=23, end_column=21), value=3)]])], duration=None)\n",
      "QuantumGate(span=Span(start_line=24, start_column=0, end_line=24, end_column=10), annotations=[], modifiers=[], name=Identifier(span=Span(start_line=24, start_column=715, end_line=24, end_column=715), name='h'), arguments=[], qubits=[IndexedIdentifier(span=Span(start_line=24, start_column=2, end_line=24, end_column=9), name=Identifier(span=Span(start_line=24, start_column=717, end_line=24, end_column=721), name='c_reg'), indices=[[IntegerLiteral(span=Span(start_line=24, start_column=8, end_line=24, end_column=8), value=0)]])], duration=None)\n",
      "QuantumGate(span=Span(start_line=25, start_column=0, end_line=25, end_column=23), annotations=[], modifiers=[], name=Identifier(span=Span(start_line=25, start_column=727, end_line=25, end_column=730), name='swap'), arguments=[], qubits=[IndexedIdentifier(span=Span(start_line=25, start_column=5, end_line=25, end_column=12), name=Identifier(span=Span(start_line=25, start_column=732, end_line=25, end_column=736), name='c_reg'), indices=[[IntegerLiteral(span=Span(start_line=25, start_column=11, end_line=25, end_column=11), value=1)]]), IndexedIdentifier(span=Span(start_line=25, start_column=15, end_line=25, end_column=22), name=Identifier(span=Span(start_line=25, start_column=742, end_line=25, end_column=746), name='c_reg'), indices=[[IntegerLiteral(span=Span(start_line=25, start_column=21, end_line=25, end_column=21), value=2)]])], duration=None)\n",
      "QuantumGate(span=Span(start_line=26, start_column=0, end_line=26, end_column=28), annotations=[], modifiers=[], name=Identifier(span=Span(start_line=26, start_column=752, end_line=26, end_column=753), name='cp'), arguments=[BinaryExpression(span=Span(start_line=26, start_column=3, end_line=26, end_column=7), op=<BinaryOperator./: 17>, lhs=UnaryExpression(span=Span(start_line=26, start_column=3, end_line=26, end_column=4), op=<UnaryOperator.-: 3>, expression=Identifier(span=Span(start_line=26, start_column=4, end_line=26, end_column=4), name='pi')), rhs=IntegerLiteral(span=Span(start_line=26, start_column=7, end_line=26, end_column=7), value=2))], qubits=[IndexedIdentifier(span=Span(start_line=26, start_column=10, end_line=26, end_column=17), name=Identifier(span=Span(start_line=26, start_column=762, end_line=26, end_column=766), name='c_reg'), indices=[[IntegerLiteral(span=Span(start_line=26, start_column=16, end_line=26, end_column=16), value=1)]]), IndexedIdentifier(span=Span(start_line=26, start_column=20, end_line=26, end_column=27), name=Identifier(span=Span(start_line=26, start_column=772, end_line=26, end_column=776), name='c_reg'), indices=[[IntegerLiteral(span=Span(start_line=26, start_column=26, end_line=26, end_column=26), value=0)]])], duration=None)\n",
      "QuantumGate(span=Span(start_line=27, start_column=0, end_line=27, end_column=10), annotations=[], modifiers=[], name=Identifier(span=Span(start_line=27, start_column=782, end_line=27, end_column=782), name='h'), arguments=[], qubits=[IndexedIdentifier(span=Span(start_line=27, start_column=2, end_line=27, end_column=9), name=Identifier(span=Span(start_line=27, start_column=784, end_line=27, end_column=788), name='c_reg'), indices=[[IntegerLiteral(span=Span(start_line=27, start_column=8, end_line=27, end_column=8), value=1)]])], duration=None)\n",
      "QuantumGate(span=Span(start_line=28, start_column=0, end_line=28, end_column=28), annotations=[], modifiers=[], name=Identifier(span=Span(start_line=28, start_column=794, end_line=28, end_column=795), name='cp'), arguments=[BinaryExpression(span=Span(start_line=28, start_column=3, end_line=28, end_column=7), op=<BinaryOperator./: 17>, lhs=UnaryExpression(span=Span(start_line=28, start_column=3, end_line=28, end_column=4), op=<UnaryOperator.-: 3>, expression=Identifier(span=Span(start_line=28, start_column=4, end_line=28, end_column=4), name='pi')), rhs=IntegerLiteral(span=Span(start_line=28, start_column=7, end_line=28, end_column=7), value=4))], qubits=[IndexedIdentifier(span=Span(start_line=28, start_column=10, end_line=28, end_column=17), name=Identifier(span=Span(start_line=28, start_column=804, end_line=28, end_column=808), name='c_reg'), indices=[[IntegerLiteral(span=Span(start_line=28, start_column=16, end_line=28, end_column=16), value=2)]]), IndexedIdentifier(span=Span(start_line=28, start_column=20, end_line=28, end_column=27), name=Identifier(span=Span(start_line=28, start_column=814, end_line=28, end_column=818), name='c_reg'), indices=[[IntegerLiteral(span=Span(start_line=28, start_column=26, end_line=28, end_column=26), value=0)]])], duration=None)\n",
      "QuantumGate(span=Span(start_line=29, start_column=0, end_line=29, end_column=28), annotations=[], modifiers=[], name=Identifier(span=Span(start_line=29, start_column=824, end_line=29, end_column=825), name='cp'), arguments=[BinaryExpression(span=Span(start_line=29, start_column=3, end_line=29, end_column=7), op=<BinaryOperator./: 17>, lhs=UnaryExpression(span=Span(start_line=29, start_column=3, end_line=29, end_column=4), op=<UnaryOperator.-: 3>, expression=Identifier(span=Span(start_line=29, start_column=4, end_line=29, end_column=4), name='pi')), rhs=IntegerLiteral(span=Span(start_line=29, start_column=7, end_line=29, end_column=7), value=2))], qubits=[IndexedIdentifier(span=Span(start_line=29, start_column=10, end_line=29, end_column=17), name=Identifier(span=Span(start_line=29, start_column=834, end_line=29, end_column=838), name='c_reg'), indices=[[IntegerLiteral(span=Span(start_line=29, start_column=16, end_line=29, end_column=16), value=2)]]), IndexedIdentifier(span=Span(start_line=29, start_column=20, end_line=29, end_column=27), name=Identifier(span=Span(start_line=29, start_column=844, end_line=29, end_column=848), name='c_reg'), indices=[[IntegerLiteral(span=Span(start_line=29, start_column=26, end_line=29, end_column=26), value=1)]])], duration=None)\n",
      "QuantumGate(span=Span(start_line=30, start_column=0, end_line=30, end_column=10), annotations=[], modifiers=[], name=Identifier(span=Span(start_line=30, start_column=854, end_line=30, end_column=854), name='h'), arguments=[], qubits=[IndexedIdentifier(span=Span(start_line=30, start_column=2, end_line=30, end_column=9), name=Identifier(span=Span(start_line=30, start_column=856, end_line=30, end_column=860), name='c_reg'), indices=[[IntegerLiteral(span=Span(start_line=30, start_column=8, end_line=30, end_column=8), value=2)]])], duration=None)\n",
      "QuantumGate(span=Span(start_line=31, start_column=0, end_line=31, end_column=28), annotations=[], modifiers=[], name=Identifier(span=Span(start_line=31, start_column=866, end_line=31, end_column=867), name='cp'), arguments=[BinaryExpression(span=Span(start_line=31, start_column=3, end_line=31, end_column=7), op=<BinaryOperator./: 17>, lhs=UnaryExpression(span=Span(start_line=31, start_column=3, end_line=31, end_column=4), op=<UnaryOperator.-: 3>, expression=Identifier(span=Span(start_line=31, start_column=4, end_line=31, end_column=4), name='pi')), rhs=IntegerLiteral(span=Span(start_line=31, start_column=7, end_line=31, end_column=7), value=8))], qubits=[IndexedIdentifier(span=Span(start_line=31, start_column=10, end_line=31, end_column=17), name=Identifier(span=Span(start_line=31, start_column=876, end_line=31, end_column=880), name='c_reg'), indices=[[IntegerLiteral(span=Span(start_line=31, start_column=16, end_line=31, end_column=16), value=3)]]), IndexedIdentifier(span=Span(start_line=31, start_column=20, end_line=31, end_column=27), name=Identifier(span=Span(start_line=31, start_column=886, end_line=31, end_column=890), name='c_reg'), indices=[[IntegerLiteral(span=Span(start_line=31, start_column=26, end_line=31, end_column=26), value=0)]])], duration=None)\n",
      "QuantumGate(span=Span(start_line=32, start_column=0, end_line=32, end_column=28), annotations=[], modifiers=[], name=Identifier(span=Span(start_line=32, start_column=896, end_line=32, end_column=897), name='cp'), arguments=[BinaryExpression(span=Span(start_line=32, start_column=3, end_line=32, end_column=7), op=<BinaryOperator./: 17>, lhs=UnaryExpression(span=Span(start_line=32, start_column=3, end_line=32, end_column=4), op=<UnaryOperator.-: 3>, expression=Identifier(span=Span(start_line=32, start_column=4, end_line=32, end_column=4), name='pi')), rhs=IntegerLiteral(span=Span(start_line=32, start_column=7, end_line=32, end_column=7), value=4))], qubits=[IndexedIdentifier(span=Span(start_line=32, start_column=10, end_line=32, end_column=17), name=Identifier(span=Span(start_line=32, start_column=906, end_line=32, end_column=910), name='c_reg'), indices=[[IntegerLiteral(span=Span(start_line=32, start_column=16, end_line=32, end_column=16), value=3)]]), IndexedIdentifier(span=Span(start_line=32, start_column=20, end_line=32, end_column=27), name=Identifier(span=Span(start_line=32, start_column=916, end_line=32, end_column=920), name='c_reg'), indices=[[IntegerLiteral(span=Span(start_line=32, start_column=26, end_line=32, end_column=26), value=1)]])], duration=None)\n",
      "QuantumGate(span=Span(start_line=33, start_column=0, end_line=33, end_column=28), annotations=[], modifiers=[], name=Identifier(span=Span(start_line=33, start_column=926, end_line=33, end_column=927), name='cp'), arguments=[BinaryExpression(span=Span(start_line=33, start_column=3, end_line=33, end_column=7), op=<BinaryOperator./: 17>, lhs=UnaryExpression(span=Span(start_line=33, start_column=3, end_line=33, end_column=4), op=<UnaryOperator.-: 3>, expression=Identifier(span=Span(start_line=33, start_column=4, end_line=33, end_column=4), name='pi')), rhs=IntegerLiteral(span=Span(start_line=33, start_column=7, end_line=33, end_column=7), value=2))], qubits=[IndexedIdentifier(span=Span(start_line=33, start_column=10, end_line=33, end_column=17), name=Identifier(span=Span(start_line=33, start_column=936, end_line=33, end_column=940), name='c_reg'), indices=[[IntegerLiteral(span=Span(start_line=33, start_column=16, end_line=33, end_column=16), value=3)]]), IndexedIdentifier(span=Span(start_line=33, start_column=20, end_line=33, end_column=27), name=Identifier(span=Span(start_line=33, start_column=946, end_line=33, end_column=950), name='c_reg'), indices=[[IntegerLiteral(span=Span(start_line=33, start_column=26, end_line=33, end_column=26), value=2)]])], duration=None)\n",
      "QuantumGate(span=Span(start_line=34, start_column=0, end_line=34, end_column=10), annotations=[], modifiers=[], name=Identifier(span=Span(start_line=34, start_column=956, end_line=34, end_column=956), name='h'), arguments=[], qubits=[IndexedIdentifier(span=Span(start_line=34, start_column=2, end_line=34, end_column=9), name=Identifier(span=Span(start_line=34, start_column=958, end_line=34, end_column=962), name='c_reg'), indices=[[IntegerLiteral(span=Span(start_line=34, start_column=8, end_line=34, end_column=8), value=3)]])], duration=None)\n",
      "QuantumBarrier(span=Span(start_line=35, start_column=0, end_line=35, end_column=64), annotations=[], qubits=[IndexedIdentifier(span=Span(start_line=35, start_column=8, end_line=35, end_column=13), name=Identifier(span=Span(start_line=35, start_column=976, end_line=35, end_column=978), name='anc'), indices=[[IntegerLiteral(span=Span(start_line=35, start_column=12, end_line=35, end_column=12), value=0)]]), IndexedIdentifier(span=Span(start_line=35, start_column=16, end_line=35, end_column=23), name=Identifier(span=Span(start_line=35, start_column=984, end_line=35, end_column=988), name='c_reg'), indices=[[IntegerLiteral(span=Span(start_line=35, start_column=22, end_line=35, end_column=22), value=0)]]), IndexedIdentifier(span=Span(start_line=35, start_column=26, end_line=35, end_column=33), name=Identifier(span=Span(start_line=35, start_column=994, end_line=35, end_column=998), name='c_reg'), indices=[[IntegerLiteral(span=Span(start_line=35, start_column=32, end_line=35, end_column=32), value=1)]]), IndexedIdentifier(span=Span(start_line=35, start_column=36, end_line=35, end_column=43), name=Identifier(span=Span(start_line=35, start_column=1004, end_line=35, end_column=1008), name='c_reg'), indices=[[IntegerLiteral(span=Span(start_line=35, start_column=42, end_line=35, end_column=42), value=2)]]), IndexedIdentifier(span=Span(start_line=35, start_column=46, end_line=35, end_column=53), name=Identifier(span=Span(start_line=35, start_column=1014, end_line=35, end_column=1018), name='c_reg'), indices=[[IntegerLiteral(span=Span(start_line=35, start_column=52, end_line=35, end_column=52), value=3)]]), IndexedIdentifier(span=Span(start_line=35, start_column=56, end_line=35, end_column=63), name=Identifier(span=Span(start_line=35, start_column=1024, end_line=35, end_column=1028), name='b_reg'), indices=[[IntegerLiteral(span=Span(start_line=35, start_column=62, end_line=35, end_column=62), value=0)]])])\n",
      "QuantumGate(span=Span(start_line=36, start_column=0, end_line=36, end_column=23), annotations=[], modifiers=[], name=Identifier(span=Span(start_line=36, start_column=1034, end_line=36, end_column=1037), name='swap'), arguments=[], qubits=[IndexedIdentifier(span=Span(start_line=36, start_column=5, end_line=36, end_column=12), name=Identifier(span=Span(start_line=36, start_column=1039, end_line=36, end_column=1043), name='c_reg'), indices=[[IntegerLiteral(span=Span(start_line=36, start_column=11, end_line=36, end_column=11), value=2)]]), IndexedIdentifier(span=Span(start_line=36, start_column=15, end_line=36, end_column=22), name=Identifier(span=Span(start_line=36, start_column=1049, end_line=36, end_column=1053), name='c_reg'), indices=[[IntegerLiteral(span=Span(start_line=36, start_column=21, end_line=36, end_column=21), value=1)]])], duration=None)\n",
      "QuantumGate(span=Span(start_line=37, start_column=0, end_line=37, end_column=23), annotations=[], modifiers=[], name=Identifier(span=Span(start_line=37, start_column=1059, end_line=37, end_column=1062), name='swap'), arguments=[], qubits=[IndexedIdentifier(span=Span(start_line=37, start_column=5, end_line=37, end_column=12), name=Identifier(span=Span(start_line=37, start_column=1064, end_line=37, end_column=1068), name='c_reg'), indices=[[IntegerLiteral(span=Span(start_line=37, start_column=11, end_line=37, end_column=11), value=3)]]), IndexedIdentifier(span=Span(start_line=37, start_column=15, end_line=37, end_column=22), name=Identifier(span=Span(start_line=37, start_column=1074, end_line=37, end_column=1078), name='c_reg'), indices=[[IntegerLiteral(span=Span(start_line=37, start_column=21, end_line=37, end_column=21), value=0)]])], duration=None)\n",
      "QuantumBarrier(span=Span(start_line=38, start_column=0, end_line=38, end_column=64), annotations=[], qubits=[IndexedIdentifier(span=Span(start_line=38, start_column=8, end_line=38, end_column=13), name=Identifier(span=Span(start_line=38, start_column=1092, end_line=38, end_column=1094), name='anc'), indices=[[IntegerLiteral(span=Span(start_line=38, start_column=12, end_line=38, end_column=12), value=0)]]), IndexedIdentifier(span=Span(start_line=38, start_column=16, end_line=38, end_column=23), name=Identifier(span=Span(start_line=38, start_column=1100, end_line=38, end_column=1104), name='c_reg'), indices=[[IntegerLiteral(span=Span(start_line=38, start_column=22, end_line=38, end_column=22), value=0)]]), IndexedIdentifier(span=Span(start_line=38, start_column=26, end_line=38, end_column=33), name=Identifier(span=Span(start_line=38, start_column=1110, end_line=38, end_column=1114), name='c_reg'), indices=[[IntegerLiteral(span=Span(start_line=38, start_column=32, end_line=38, end_column=32), value=1)]]), IndexedIdentifier(span=Span(start_line=38, start_column=36, end_line=38, end_column=43), name=Identifier(span=Span(start_line=38, start_column=1120, end_line=38, end_column=1124), name='c_reg'), indices=[[IntegerLiteral(span=Span(start_line=38, start_column=42, end_line=38, end_column=42), value=2)]]), IndexedIdentifier(span=Span(start_line=38, start_column=46, end_line=38, end_column=53), name=Identifier(span=Span(start_line=38, start_column=1130, end_line=38, end_column=1134), name='c_reg'), indices=[[IntegerLiteral(span=Span(start_line=38, start_column=52, end_line=38, end_column=52), value=3)]]), IndexedIdentifier(span=Span(start_line=38, start_column=56, end_line=38, end_column=63), name=Identifier(span=Span(start_line=38, start_column=1140, end_line=38, end_column=1144), name='b_reg'), indices=[[IntegerLiteral(span=Span(start_line=38, start_column=62, end_line=38, end_column=62), value=0)]])])\n",
      "QuantumGate(span=Span(start_line=39, start_column=0, end_line=39, end_column=24), annotations=[], modifiers=[], name=Identifier(span=Span(start_line=39, start_column=1150, end_line=39, end_column=1152), name='cry'), arguments=[Identifier(span=Span(start_line=39, start_column=4, end_line=39, end_column=4), name='pi')], qubits=[IndexedIdentifier(span=Span(start_line=39, start_column=8, end_line=39, end_column=15), name=Identifier(span=Span(start_line=39, start_column=1158, end_line=39, end_column=1162), name='c_reg'), indices=[[IntegerLiteral(span=Span(start_line=39, start_column=14, end_line=39, end_column=14), value=0)]]), IndexedIdentifier(span=Span(start_line=39, start_column=18, end_line=39, end_column=23), name=Identifier(span=Span(start_line=39, start_column=1168, end_line=39, end_column=1170), name='anc'), indices=[[IntegerLiteral(span=Span(start_line=39, start_column=22, end_line=39, end_column=22), value=0)]])], duration=None)\n",
      "QuantumGate(span=Span(start_line=40, start_column=0, end_line=40, end_column=26), annotations=[], modifiers=[], name=Identifier(span=Span(start_line=40, start_column=1176, end_line=40, end_column=1178), name='cry'), arguments=[BinaryExpression(span=Span(start_line=40, start_column=4, end_line=40, end_column=7), op=<BinaryOperator./: 17>, lhs=Identifier(span=Span(start_line=40, start_column=4, end_line=40, end_column=4), name='pi'), rhs=IntegerLiteral(span=Span(start_line=40, start_column=7, end_line=40, end_column=7), value=3))], qubits=[IndexedIdentifier(span=Span(start_line=40, start_column=10, end_line=40, end_column=17), name=Identifier(span=Span(start_line=40, start_column=1186, end_line=40, end_column=1190), name='c_reg'), indices=[[IntegerLiteral(span=Span(start_line=40, start_column=16, end_line=40, end_column=16), value=1)]]), IndexedIdentifier(span=Span(start_line=40, start_column=20, end_line=40, end_column=25), name=Identifier(span=Span(start_line=40, start_column=1196, end_line=40, end_column=1198), name='anc'), indices=[[IntegerLiteral(span=Span(start_line=40, start_column=24, end_line=40, end_column=24), value=0)]])], duration=None)\n",
      "QuantumGate(span=Span(start_line=41, start_column=0, end_line=41, end_column=40), annotations=[], modifiers=[], name=Identifier(span=Span(start_line=41, start_column=1204, end_line=41, end_column=1206), name='cry'), arguments=[FloatLiteral(span=Span(start_line=41, start_column=4, end_line=41, end_column=4), value=0.5053605102841573)], qubits=[IndexedIdentifier(span=Span(start_line=41, start_column=24, end_line=41, end_column=31), name=Identifier(span=Span(start_line=41, start_column=1228, end_line=41, end_column=1232), name='c_reg'), indices=[[IntegerLiteral(span=Span(start_line=41, start_column=30, end_line=41, end_column=30), value=2)]]), IndexedIdentifier(span=Span(start_line=41, start_column=34, end_line=41, end_column=39), name=Identifier(span=Span(start_line=41, start_column=1238, end_line=41, end_column=1240), name='anc'), indices=[[IntegerLiteral(span=Span(start_line=41, start_column=38, end_line=41, end_column=38), value=0)]])], duration=None)\n",
      "QuantumGate(span=Span(start_line=42, start_column=0, end_line=42, end_column=40), annotations=[], modifiers=[], name=Identifier(span=Span(start_line=42, start_column=1246, end_line=42, end_column=1248), name='cry'), arguments=[FloatLiteral(span=Span(start_line=42, start_column=4, end_line=42, end_column=4), value=0.2506556623361308)], qubits=[IndexedIdentifier(span=Span(start_line=42, start_column=24, end_line=42, end_column=31), name=Identifier(span=Span(start_line=42, start_column=1270, end_line=42, end_column=1274), name='c_reg'), indices=[[IntegerLiteral(span=Span(start_line=42, start_column=30, end_line=42, end_column=30), value=3)]]), IndexedIdentifier(span=Span(start_line=42, start_column=34, end_line=42, end_column=39), name=Identifier(span=Span(start_line=42, start_column=1280, end_line=42, end_column=1282), name='anc'), indices=[[IntegerLiteral(span=Span(start_line=42, start_column=38, end_line=42, end_column=38), value=0)]])], duration=None)\n",
      "QuantumBarrier(span=Span(start_line=43, start_column=0, end_line=43, end_column=64), annotations=[], qubits=[IndexedIdentifier(span=Span(start_line=43, start_column=8, end_line=43, end_column=13), name=Identifier(span=Span(start_line=43, start_column=1296, end_line=43, end_column=1298), name='anc'), indices=[[IntegerLiteral(span=Span(start_line=43, start_column=12, end_line=43, end_column=12), value=0)]]), IndexedIdentifier(span=Span(start_line=43, start_column=16, end_line=43, end_column=23), name=Identifier(span=Span(start_line=43, start_column=1304, end_line=43, end_column=1308), name='c_reg'), indices=[[IntegerLiteral(span=Span(start_line=43, start_column=22, end_line=43, end_column=22), value=0)]]), IndexedIdentifier(span=Span(start_line=43, start_column=26, end_line=43, end_column=33), name=Identifier(span=Span(start_line=43, start_column=1314, end_line=43, end_column=1318), name='c_reg'), indices=[[IntegerLiteral(span=Span(start_line=43, start_column=32, end_line=43, end_column=32), value=1)]]), IndexedIdentifier(span=Span(start_line=43, start_column=36, end_line=43, end_column=43), name=Identifier(span=Span(start_line=43, start_column=1324, end_line=43, end_column=1328), name='c_reg'), indices=[[IntegerLiteral(span=Span(start_line=43, start_column=42, end_line=43, end_column=42), value=2)]]), IndexedIdentifier(span=Span(start_line=43, start_column=46, end_line=43, end_column=53), name=Identifier(span=Span(start_line=43, start_column=1334, end_line=43, end_column=1338), name='c_reg'), indices=[[IntegerLiteral(span=Span(start_line=43, start_column=52, end_line=43, end_column=52), value=3)]]), IndexedIdentifier(span=Span(start_line=43, start_column=56, end_line=43, end_column=63), name=Identifier(span=Span(start_line=43, start_column=1344, end_line=43, end_column=1348), name='b_reg'), indices=[[IntegerLiteral(span=Span(start_line=43, start_column=62, end_line=43, end_column=62), value=0)]])])\n",
      "QuantumGate(span=Span(start_line=44, start_column=0, end_line=44, end_column=23), annotations=[], modifiers=[], name=Identifier(span=Span(start_line=44, start_column=1354, end_line=44, end_column=1357), name='swap'), arguments=[], qubits=[IndexedIdentifier(span=Span(start_line=44, start_column=5, end_line=44, end_column=12), name=Identifier(span=Span(start_line=44, start_column=1359, end_line=44, end_column=1363), name='c_reg'), indices=[[IntegerLiteral(span=Span(start_line=44, start_column=11, end_line=44, end_column=11), value=2)]]), IndexedIdentifier(span=Span(start_line=44, start_column=15, end_line=44, end_column=22), name=Identifier(span=Span(start_line=44, start_column=1369, end_line=44, end_column=1373), name='c_reg'), indices=[[IntegerLiteral(span=Span(start_line=44, start_column=21, end_line=44, end_column=21), value=1)]])], duration=None)\n",
      "QuantumGate(span=Span(start_line=45, start_column=0, end_line=45, end_column=23), annotations=[], modifiers=[], name=Identifier(span=Span(start_line=45, start_column=1379, end_line=45, end_column=1382), name='swap'), arguments=[], qubits=[IndexedIdentifier(span=Span(start_line=45, start_column=5, end_line=45, end_column=12), name=Identifier(span=Span(start_line=45, start_column=1384, end_line=45, end_column=1388), name='c_reg'), indices=[[IntegerLiteral(span=Span(start_line=45, start_column=11, end_line=45, end_column=11), value=3)]]), IndexedIdentifier(span=Span(start_line=45, start_column=15, end_line=45, end_column=22), name=Identifier(span=Span(start_line=45, start_column=1394, end_line=45, end_column=1398), name='c_reg'), indices=[[IntegerLiteral(span=Span(start_line=45, start_column=21, end_line=45, end_column=21), value=0)]])], duration=None)\n",
      "QuantumBarrier(span=Span(start_line=46, start_column=0, end_line=46, end_column=64), annotations=[], qubits=[IndexedIdentifier(span=Span(start_line=46, start_column=8, end_line=46, end_column=13), name=Identifier(span=Span(start_line=46, start_column=1412, end_line=46, end_column=1414), name='anc'), indices=[[IntegerLiteral(span=Span(start_line=46, start_column=12, end_line=46, end_column=12), value=0)]]), IndexedIdentifier(span=Span(start_line=46, start_column=16, end_line=46, end_column=23), name=Identifier(span=Span(start_line=46, start_column=1420, end_line=46, end_column=1424), name='c_reg'), indices=[[IntegerLiteral(span=Span(start_line=46, start_column=22, end_line=46, end_column=22), value=0)]]), IndexedIdentifier(span=Span(start_line=46, start_column=26, end_line=46, end_column=33), name=Identifier(span=Span(start_line=46, start_column=1430, end_line=46, end_column=1434), name='c_reg'), indices=[[IntegerLiteral(span=Span(start_line=46, start_column=32, end_line=46, end_column=32), value=1)]]), IndexedIdentifier(span=Span(start_line=46, start_column=36, end_line=46, end_column=43), name=Identifier(span=Span(start_line=46, start_column=1440, end_line=46, end_column=1444), name='c_reg'), indices=[[IntegerLiteral(span=Span(start_line=46, start_column=42, end_line=46, end_column=42), value=2)]]), IndexedIdentifier(span=Span(start_line=46, start_column=46, end_line=46, end_column=53), name=Identifier(span=Span(start_line=46, start_column=1450, end_line=46, end_column=1454), name='c_reg'), indices=[[IntegerLiteral(span=Span(start_line=46, start_column=52, end_line=46, end_column=52), value=3)]]), IndexedIdentifier(span=Span(start_line=46, start_column=56, end_line=46, end_column=63), name=Identifier(span=Span(start_line=46, start_column=1460, end_line=46, end_column=1464), name='b_reg'), indices=[[IntegerLiteral(span=Span(start_line=46, start_column=62, end_line=46, end_column=62), value=0)]])])\n",
      "QuantumGate(span=Span(start_line=47, start_column=0, end_line=47, end_column=10), annotations=[], modifiers=[], name=Identifier(span=Span(start_line=47, start_column=1470, end_line=47, end_column=1470), name='h'), arguments=[], qubits=[IndexedIdentifier(span=Span(start_line=47, start_column=2, end_line=47, end_column=9), name=Identifier(span=Span(start_line=47, start_column=1472, end_line=47, end_column=1476), name='c_reg'), indices=[[IntegerLiteral(span=Span(start_line=47, start_column=8, end_line=47, end_column=8), value=3)]])], duration=None)\n",
      "QuantumGate(span=Span(start_line=48, start_column=0, end_line=48, end_column=27), annotations=[], modifiers=[], name=Identifier(span=Span(start_line=48, start_column=1482, end_line=48, end_column=1483), name='cp'), arguments=[BinaryExpression(span=Span(start_line=48, start_column=3, end_line=48, end_column=6), op=<BinaryOperator./: 17>, lhs=Identifier(span=Span(start_line=48, start_column=3, end_line=48, end_column=3), name='pi'), rhs=IntegerLiteral(span=Span(start_line=48, start_column=6, end_line=48, end_column=6), value=2))], qubits=[IndexedIdentifier(span=Span(start_line=48, start_column=9, end_line=48, end_column=16), name=Identifier(span=Span(start_line=48, start_column=1491, end_line=48, end_column=1495), name='c_reg'), indices=[[IntegerLiteral(span=Span(start_line=48, start_column=15, end_line=48, end_column=15), value=3)]]), IndexedIdentifier(span=Span(start_line=48, start_column=19, end_line=48, end_column=26), name=Identifier(span=Span(start_line=48, start_column=1501, end_line=48, end_column=1505), name='c_reg'), indices=[[IntegerLiteral(span=Span(start_line=48, start_column=25, end_line=48, end_column=25), value=2)]])], duration=None)\n",
      "QuantumGate(span=Span(start_line=49, start_column=0, end_line=49, end_column=10), annotations=[], modifiers=[], name=Identifier(span=Span(start_line=49, start_column=1511, end_line=49, end_column=1511), name='h'), arguments=[], qubits=[IndexedIdentifier(span=Span(start_line=49, start_column=2, end_line=49, end_column=9), name=Identifier(span=Span(start_line=49, start_column=1513, end_line=49, end_column=1517), name='c_reg'), indices=[[IntegerLiteral(span=Span(start_line=49, start_column=8, end_line=49, end_column=8), value=2)]])], duration=None)\n",
      "QuantumGate(span=Span(start_line=50, start_column=0, end_line=50, end_column=27), annotations=[], modifiers=[], name=Identifier(span=Span(start_line=50, start_column=1523, end_line=50, end_column=1524), name='cp'), arguments=[BinaryExpression(span=Span(start_line=50, start_column=3, end_line=50, end_column=6), op=<BinaryOperator./: 17>, lhs=Identifier(span=Span(start_line=50, start_column=3, end_line=50, end_column=3), name='pi'), rhs=IntegerLiteral(span=Span(start_line=50, start_column=6, end_line=50, end_column=6), value=4))], qubits=[IndexedIdentifier(span=Span(start_line=50, start_column=9, end_line=50, end_column=16), name=Identifier(span=Span(start_line=50, start_column=1532, end_line=50, end_column=1536), name='c_reg'), indices=[[IntegerLiteral(span=Span(start_line=50, start_column=15, end_line=50, end_column=15), value=3)]]), IndexedIdentifier(span=Span(start_line=50, start_column=19, end_line=50, end_column=26), name=Identifier(span=Span(start_line=50, start_column=1542, end_line=50, end_column=1546), name='c_reg'), indices=[[IntegerLiteral(span=Span(start_line=50, start_column=25, end_line=50, end_column=25), value=1)]])], duration=None)\n",
      "QuantumGate(span=Span(start_line=51, start_column=0, end_line=51, end_column=27), annotations=[], modifiers=[], name=Identifier(span=Span(start_line=51, start_column=1552, end_line=51, end_column=1553), name='cp'), arguments=[BinaryExpression(span=Span(start_line=51, start_column=3, end_line=51, end_column=6), op=<BinaryOperator./: 17>, lhs=Identifier(span=Span(start_line=51, start_column=3, end_line=51, end_column=3), name='pi'), rhs=IntegerLiteral(span=Span(start_line=51, start_column=6, end_line=51, end_column=6), value=2))], qubits=[IndexedIdentifier(span=Span(start_line=51, start_column=9, end_line=51, end_column=16), name=Identifier(span=Span(start_line=51, start_column=1561, end_line=51, end_column=1565), name='c_reg'), indices=[[IntegerLiteral(span=Span(start_line=51, start_column=15, end_line=51, end_column=15), value=2)]]), IndexedIdentifier(span=Span(start_line=51, start_column=19, end_line=51, end_column=26), name=Identifier(span=Span(start_line=51, start_column=1571, end_line=51, end_column=1575), name='c_reg'), indices=[[IntegerLiteral(span=Span(start_line=51, start_column=25, end_line=51, end_column=25), value=1)]])], duration=None)\n",
      "QuantumGate(span=Span(start_line=52, start_column=0, end_line=52, end_column=10), annotations=[], modifiers=[], name=Identifier(span=Span(start_line=52, start_column=1581, end_line=52, end_column=1581), name='h'), arguments=[], qubits=[IndexedIdentifier(span=Span(start_line=52, start_column=2, end_line=52, end_column=9), name=Identifier(span=Span(start_line=52, start_column=1583, end_line=52, end_column=1587), name='c_reg'), indices=[[IntegerLiteral(span=Span(start_line=52, start_column=8, end_line=52, end_column=8), value=1)]])], duration=None)\n",
      "QuantumGate(span=Span(start_line=53, start_column=0, end_line=53, end_column=27), annotations=[], modifiers=[], name=Identifier(span=Span(start_line=53, start_column=1593, end_line=53, end_column=1594), name='cp'), arguments=[BinaryExpression(span=Span(start_line=53, start_column=3, end_line=53, end_column=6), op=<BinaryOperator./: 17>, lhs=Identifier(span=Span(start_line=53, start_column=3, end_line=53, end_column=3), name='pi'), rhs=IntegerLiteral(span=Span(start_line=53, start_column=6, end_line=53, end_column=6), value=8))], qubits=[IndexedIdentifier(span=Span(start_line=53, start_column=9, end_line=53, end_column=16), name=Identifier(span=Span(start_line=53, start_column=1602, end_line=53, end_column=1606), name='c_reg'), indices=[[IntegerLiteral(span=Span(start_line=53, start_column=15, end_line=53, end_column=15), value=3)]]), IndexedIdentifier(span=Span(start_line=53, start_column=19, end_line=53, end_column=26), name=Identifier(span=Span(start_line=53, start_column=1612, end_line=53, end_column=1616), name='c_reg'), indices=[[IntegerLiteral(span=Span(start_line=53, start_column=25, end_line=53, end_column=25), value=0)]])], duration=None)\n",
      "QuantumGate(span=Span(start_line=54, start_column=0, end_line=54, end_column=27), annotations=[], modifiers=[], name=Identifier(span=Span(start_line=54, start_column=1622, end_line=54, end_column=1623), name='cp'), arguments=[BinaryExpression(span=Span(start_line=54, start_column=3, end_line=54, end_column=6), op=<BinaryOperator./: 17>, lhs=Identifier(span=Span(start_line=54, start_column=3, end_line=54, end_column=3), name='pi'), rhs=IntegerLiteral(span=Span(start_line=54, start_column=6, end_line=54, end_column=6), value=4))], qubits=[IndexedIdentifier(span=Span(start_line=54, start_column=9, end_line=54, end_column=16), name=Identifier(span=Span(start_line=54, start_column=1631, end_line=54, end_column=1635), name='c_reg'), indices=[[IntegerLiteral(span=Span(start_line=54, start_column=15, end_line=54, end_column=15), value=2)]]), IndexedIdentifier(span=Span(start_line=54, start_column=19, end_line=54, end_column=26), name=Identifier(span=Span(start_line=54, start_column=1641, end_line=54, end_column=1645), name='c_reg'), indices=[[IntegerLiteral(span=Span(start_line=54, start_column=25, end_line=54, end_column=25), value=0)]])], duration=None)\n",
      "QuantumGate(span=Span(start_line=55, start_column=0, end_line=55, end_column=27), annotations=[], modifiers=[], name=Identifier(span=Span(start_line=55, start_column=1651, end_line=55, end_column=1652), name='cp'), arguments=[BinaryExpression(span=Span(start_line=55, start_column=3, end_line=55, end_column=6), op=<BinaryOperator./: 17>, lhs=Identifier(span=Span(start_line=55, start_column=3, end_line=55, end_column=3), name='pi'), rhs=IntegerLiteral(span=Span(start_line=55, start_column=6, end_line=55, end_column=6), value=2))], qubits=[IndexedIdentifier(span=Span(start_line=55, start_column=9, end_line=55, end_column=16), name=Identifier(span=Span(start_line=55, start_column=1660, end_line=55, end_column=1664), name='c_reg'), indices=[[IntegerLiteral(span=Span(start_line=55, start_column=15, end_line=55, end_column=15), value=1)]]), IndexedIdentifier(span=Span(start_line=55, start_column=19, end_line=55, end_column=26), name=Identifier(span=Span(start_line=55, start_column=1670, end_line=55, end_column=1674), name='c_reg'), indices=[[IntegerLiteral(span=Span(start_line=55, start_column=25, end_line=55, end_column=25), value=0)]])], duration=None)\n",
      "QuantumGate(span=Span(start_line=56, start_column=0, end_line=56, end_column=10), annotations=[], modifiers=[], name=Identifier(span=Span(start_line=56, start_column=1680, end_line=56, end_column=1680), name='h'), arguments=[], qubits=[IndexedIdentifier(span=Span(start_line=56, start_column=2, end_line=56, end_column=9), name=Identifier(span=Span(start_line=56, start_column=1682, end_line=56, end_column=1686), name='c_reg'), indices=[[IntegerLiteral(span=Span(start_line=56, start_column=8, end_line=56, end_column=8), value=0)]])], duration=None)\n",
      "QuantumGate(span=Span(start_line=57, start_column=0, end_line=57, end_column=23), annotations=[], modifiers=[], name=Identifier(span=Span(start_line=57, start_column=1692, end_line=57, end_column=1695), name='swap'), arguments=[], qubits=[IndexedIdentifier(span=Span(start_line=57, start_column=5, end_line=57, end_column=12), name=Identifier(span=Span(start_line=57, start_column=1697, end_line=57, end_column=1701), name='c_reg'), indices=[[IntegerLiteral(span=Span(start_line=57, start_column=11, end_line=57, end_column=11), value=0)]]), IndexedIdentifier(span=Span(start_line=57, start_column=15, end_line=57, end_column=22), name=Identifier(span=Span(start_line=57, start_column=1707, end_line=57, end_column=1711), name='c_reg'), indices=[[IntegerLiteral(span=Span(start_line=57, start_column=21, end_line=57, end_column=21), value=3)]])], duration=None)\n",
      "QuantumGate(span=Span(start_line=58, start_column=0, end_line=58, end_column=23), annotations=[], modifiers=[], name=Identifier(span=Span(start_line=58, start_column=1717, end_line=58, end_column=1720), name='swap'), arguments=[], qubits=[IndexedIdentifier(span=Span(start_line=58, start_column=5, end_line=58, end_column=12), name=Identifier(span=Span(start_line=58, start_column=1722, end_line=58, end_column=1726), name='c_reg'), indices=[[IntegerLiteral(span=Span(start_line=58, start_column=11, end_line=58, end_column=11), value=1)]]), IndexedIdentifier(span=Span(start_line=58, start_column=15, end_line=58, end_column=22), name=Identifier(span=Span(start_line=58, start_column=1732, end_line=58, end_column=1736), name='c_reg'), indices=[[IntegerLiteral(span=Span(start_line=58, start_column=21, end_line=58, end_column=21), value=2)]])], duration=None)\n",
      "QuantumBarrier(span=Span(start_line=59, start_column=0, end_line=59, end_column=64), annotations=[], qubits=[IndexedIdentifier(span=Span(start_line=59, start_column=8, end_line=59, end_column=13), name=Identifier(span=Span(start_line=59, start_column=1750, end_line=59, end_column=1752), name='anc'), indices=[[IntegerLiteral(span=Span(start_line=59, start_column=12, end_line=59, end_column=12), value=0)]]), IndexedIdentifier(span=Span(start_line=59, start_column=16, end_line=59, end_column=23), name=Identifier(span=Span(start_line=59, start_column=1758, end_line=59, end_column=1762), name='c_reg'), indices=[[IntegerLiteral(span=Span(start_line=59, start_column=22, end_line=59, end_column=22), value=0)]]), IndexedIdentifier(span=Span(start_line=59, start_column=26, end_line=59, end_column=33), name=Identifier(span=Span(start_line=59, start_column=1768, end_line=59, end_column=1772), name='c_reg'), indices=[[IntegerLiteral(span=Span(start_line=59, start_column=32, end_line=59, end_column=32), value=1)]]), IndexedIdentifier(span=Span(start_line=59, start_column=36, end_line=59, end_column=43), name=Identifier(span=Span(start_line=59, start_column=1778, end_line=59, end_column=1782), name='c_reg'), indices=[[IntegerLiteral(span=Span(start_line=59, start_column=42, end_line=59, end_column=42), value=2)]]), IndexedIdentifier(span=Span(start_line=59, start_column=46, end_line=59, end_column=53), name=Identifier(span=Span(start_line=59, start_column=1788, end_line=59, end_column=1792), name='c_reg'), indices=[[IntegerLiteral(span=Span(start_line=59, start_column=52, end_line=59, end_column=52), value=3)]]), IndexedIdentifier(span=Span(start_line=59, start_column=56, end_line=59, end_column=63), name=Identifier(span=Span(start_line=59, start_column=1798, end_line=59, end_column=1802), name='b_reg'), indices=[[IntegerLiteral(span=Span(start_line=59, start_column=62, end_line=59, end_column=62), value=0)]])])\n",
      "QuantumGate(span=Span(start_line=60, start_column=0, end_line=60, end_column=66), annotations=[], modifiers=[], name=Identifier(span=Span(start_line=60, start_column=1808, end_line=60, end_column=1809), name='cu'), arguments=[IntegerLiteral(span=Span(start_line=60, start_column=3, end_line=60, end_column=3), value=0), FloatLiteral(span=Span(start_line=60, start_column=6, end_line=60, end_column=6), value=1.190289949682532), UnaryExpression(span=Span(start_line=60, start_column=25, end_line=60, end_column=26), op=<UnaryOperator.-: 3>, expression=FloatLiteral(span=Span(start_line=60, start_column=26, end_line=60, end_column=26), value=1.190289949682532)), IntegerLiteral(span=Span(start_line=60, start_column=45, end_line=60, end_column=45), value=0)], qubits=[IndexedIdentifier(span=Span(start_line=60, start_column=48, end_line=60, end_column=55), name=Identifier(span=Span(start_line=60, start_column=1856, end_line=60, end_column=1860), name='c_reg'), indices=[[IntegerLiteral(span=Span(start_line=60, start_column=54, end_line=60, end_column=54), value=3)]]), IndexedIdentifier(span=Span(start_line=60, start_column=58, end_line=60, end_column=65), name=Identifier(span=Span(start_line=60, start_column=1866, end_line=60, end_column=1870), name='b_reg'), indices=[[IntegerLiteral(span=Span(start_line=60, start_column=64, end_line=60, end_column=64), value=0)]])], duration=None)\n",
      "QuantumGate(span=Span(start_line=61, start_column=0, end_line=61, end_column=67), annotations=[], modifiers=[], name=Identifier(span=Span(start_line=61, start_column=1876, end_line=61, end_column=1877), name='cu'), arguments=[IntegerLiteral(span=Span(start_line=61, start_column=3, end_line=61, end_column=3), value=0), FloatLiteral(span=Span(start_line=61, start_column=6, end_line=61, end_column=6), value=1.190289949682532), UnaryExpression(span=Span(start_line=61, start_column=25, end_line=61, end_column=26), op=<UnaryOperator.-: 3>, expression=FloatLiteral(span=Span(start_line=61, start_column=26, end_line=61, end_column=26), value=1.1902899496825319)), IntegerLiteral(span=Span(start_line=61, start_column=46, end_line=61, end_column=46), value=0)], qubits=[IndexedIdentifier(span=Span(start_line=61, start_column=49, end_line=61, end_column=56), name=Identifier(span=Span(start_line=61, start_column=1925, end_line=61, end_column=1929), name='c_reg'), indices=[[IntegerLiteral(span=Span(start_line=61, start_column=55, end_line=61, end_column=55), value=2)]]), IndexedIdentifier(span=Span(start_line=61, start_column=59, end_line=61, end_column=66), name=Identifier(span=Span(start_line=61, start_column=1935, end_line=61, end_column=1939), name='b_reg'), indices=[[IntegerLiteral(span=Span(start_line=61, start_column=65, end_line=61, end_column=65), value=0)]])], duration=None)\n",
      "QuantumGate(span=Span(start_line=62, start_column=0, end_line=62, end_column=69), annotations=[], modifiers=[], name=Identifier(span=Span(start_line=62, start_column=1945, end_line=62, end_column=1946), name='cu'), arguments=[Identifier(span=Span(start_line=62, start_column=3, end_line=62, end_column=3), name='pi'), UnaryExpression(span=Span(start_line=62, start_column=7, end_line=62, end_column=8), op=<UnaryOperator.-: 3>, expression=FloatLiteral(span=Span(start_line=62, start_column=8, end_line=62, end_column=8), value=2.2142974355881804)), UnaryExpression(span=Span(start_line=62, start_column=28, end_line=62, end_column=29), op=<UnaryOperator.-: 3>, expression=FloatLiteral(span=Span(start_line=62, start_column=29, end_line=62, end_column=29), value=5.355890089177974)), IntegerLiteral(span=Span(start_line=62, start_column=48, end_line=62, end_column=48), value=0)], qubits=[IndexedIdentifier(span=Span(start_line=62, start_column=51, end_line=62, end_column=58), name=Identifier(span=Span(start_line=62, start_column=1996, end_line=62, end_column=2000), name='c_reg'), indices=[[IntegerLiteral(span=Span(start_line=62, start_column=57, end_line=62, end_column=57), value=1)]]), IndexedIdentifier(span=Span(start_line=62, start_column=61, end_line=62, end_column=68), name=Identifier(span=Span(start_line=62, start_column=2006, end_line=62, end_column=2010), name='b_reg'), indices=[[IntegerLiteral(span=Span(start_line=62, start_column=67, end_line=62, end_column=67), value=0)]])], duration=None)\n",
      "QuantumGate(span=Span(start_line=63, start_column=0, end_line=63, end_column=46), annotations=[], modifiers=[], name=Identifier(span=Span(start_line=63, start_column=2016, end_line=63, end_column=2017), name='cu'), arguments=[BinaryExpression(span=Span(start_line=63, start_column=3, end_line=63, end_column=6), op=<BinaryOperator./: 17>, lhs=Identifier(span=Span(start_line=63, start_column=3, end_line=63, end_column=3), name='pi'), rhs=IntegerLiteral(span=Span(start_line=63, start_column=6, end_line=63, end_column=6), value=2)), BinaryExpression(span=Span(start_line=63, start_column=9, end_line=63, end_column=15), op=<BinaryOperator./: 17>, lhs=BinaryExpression(span=Span(start_line=63, start_column=9, end_line=63, end_column=12), op=<BinaryOperator.*: 16>, lhs=UnaryExpression(span=Span(start_line=63, start_column=9, end_line=63, end_column=10), op=<UnaryOperator.-: 3>, expression=IntegerLiteral(span=Span(start_line=63, start_column=10, end_line=63, end_column=10), value=3)), rhs=Identifier(span=Span(start_line=63, start_column=12, end_line=63, end_column=12), name='pi')), rhs=IntegerLiteral(span=Span(start_line=63, start_column=15, end_line=63, end_column=15), value=2)), BinaryExpression(span=Span(start_line=63, start_column=18, end_line=63, end_column=22), op=<BinaryOperator./: 17>, lhs=UnaryExpression(span=Span(start_line=63, start_column=18, end_line=63, end_column=19), op=<UnaryOperator.-: 3>, expression=Identifier(span=Span(start_line=63, start_column=19, end_line=63, end_column=19), name='pi')), rhs=IntegerLiteral(span=Span(start_line=63, start_column=22, end_line=63, end_column=22), value=2)), IntegerLiteral(span=Span(start_line=63, start_column=25, end_line=63, end_column=25), value=0)], qubits=[IndexedIdentifier(span=Span(start_line=63, start_column=28, end_line=63, end_column=35), name=Identifier(span=Span(start_line=63, start_column=2044, end_line=63, end_column=2048), name='c_reg'), indices=[[IntegerLiteral(span=Span(start_line=63, start_column=34, end_line=63, end_column=34), value=0)]]), IndexedIdentifier(span=Span(start_line=63, start_column=38, end_line=63, end_column=45), name=Identifier(span=Span(start_line=63, start_column=2054, end_line=63, end_column=2058), name='b_reg'), indices=[[IntegerLiteral(span=Span(start_line=63, start_column=44, end_line=63, end_column=44), value=0)]])], duration=None)\n",
      "QuantumGate(span=Span(start_line=64, start_column=0, end_line=64, end_column=18), annotations=[], modifiers=[], name=Identifier(span=Span(start_line=64, start_column=2064, end_line=64, end_column=2064), name='p'), arguments=[BinaryExpression(span=Span(start_line=64, start_column=2, end_line=64, end_column=7), op=<BinaryOperator./: 17>, lhs=BinaryExpression(span=Span(start_line=64, start_column=2, end_line=64, end_column=4), op=<BinaryOperator.*: 16>, lhs=IntegerLiteral(span=Span(start_line=64, start_column=2, end_line=64, end_column=2), value=5), rhs=Identifier(span=Span(start_line=64, start_column=4, end_line=64, end_column=4), name='pi')), rhs=IntegerLiteral(span=Span(start_line=64, start_column=7, end_line=64, end_column=7), value=4))], qubits=[IndexedIdentifier(span=Span(start_line=64, start_column=10, end_line=64, end_column=17), name=Identifier(span=Span(start_line=64, start_column=2074, end_line=64, end_column=2078), name='c_reg'), indices=[[IntegerLiteral(span=Span(start_line=64, start_column=16, end_line=64, end_column=16), value=0)]])], duration=None)\n",
      "QuantumGate(span=Span(start_line=65, start_column=0, end_line=65, end_column=29), annotations=[], modifiers=[], name=Identifier(span=Span(start_line=65, start_column=2084, end_line=65, end_column=2084), name='p'), arguments=[FloatLiteral(span=Span(start_line=65, start_column=2, end_line=65, end_column=2), value=5.355890089177974)], qubits=[IndexedIdentifier(span=Span(start_line=65, start_column=21, end_line=65, end_column=28), name=Identifier(span=Span(start_line=65, start_column=2105, end_line=65, end_column=2109), name='c_reg'), indices=[[IntegerLiteral(span=Span(start_line=65, start_column=27, end_line=65, end_column=27), value=1)]])], duration=None)\n",
      "QuantumGate(span=Span(start_line=66, start_column=0, end_line=66, end_column=16), annotations=[], modifiers=[], name=Identifier(span=Span(start_line=66, start_column=2115, end_line=66, end_column=2115), name='p'), arguments=[BinaryExpression(span=Span(start_line=66, start_column=2, end_line=66, end_column=4), op=<BinaryOperator.*: 16>, lhs=IntegerLiteral(span=Span(start_line=66, start_column=2, end_line=66, end_column=2), value=2), rhs=Identifier(span=Span(start_line=66, start_column=4, end_line=66, end_column=4), name='pi'))], qubits=[IndexedIdentifier(span=Span(start_line=66, start_column=8, end_line=66, end_column=15), name=Identifier(span=Span(start_line=66, start_column=2123, end_line=66, end_column=2127), name='c_reg'), indices=[[IntegerLiteral(span=Span(start_line=66, start_column=14, end_line=66, end_column=14), value=2)]])], duration=None)\n",
      "QuantumGate(span=Span(start_line=67, start_column=0, end_line=67, end_column=16), annotations=[], modifiers=[], name=Identifier(span=Span(start_line=67, start_column=2133, end_line=67, end_column=2133), name='p'), arguments=[BinaryExpression(span=Span(start_line=67, start_column=2, end_line=67, end_column=4), op=<BinaryOperator.*: 16>, lhs=IntegerLiteral(span=Span(start_line=67, start_column=2, end_line=67, end_column=2), value=2), rhs=Identifier(span=Span(start_line=67, start_column=4, end_line=67, end_column=4), name='pi'))], qubits=[IndexedIdentifier(span=Span(start_line=67, start_column=8, end_line=67, end_column=15), name=Identifier(span=Span(start_line=67, start_column=2141, end_line=67, end_column=2145), name='c_reg'), indices=[[IntegerLiteral(span=Span(start_line=67, start_column=14, end_line=67, end_column=14), value=3)]])], duration=None)\n",
      "QuantumBarrier(span=Span(start_line=68, start_column=0, end_line=68, end_column=64), annotations=[], qubits=[IndexedIdentifier(span=Span(start_line=68, start_column=8, end_line=68, end_column=13), name=Identifier(span=Span(start_line=68, start_column=2159, end_line=68, end_column=2161), name='anc'), indices=[[IntegerLiteral(span=Span(start_line=68, start_column=12, end_line=68, end_column=12), value=0)]]), IndexedIdentifier(span=Span(start_line=68, start_column=16, end_line=68, end_column=23), name=Identifier(span=Span(start_line=68, start_column=2167, end_line=68, end_column=2171), name='c_reg'), indices=[[IntegerLiteral(span=Span(start_line=68, start_column=22, end_line=68, end_column=22), value=0)]]), IndexedIdentifier(span=Span(start_line=68, start_column=26, end_line=68, end_column=33), name=Identifier(span=Span(start_line=68, start_column=2177, end_line=68, end_column=2181), name='c_reg'), indices=[[IntegerLiteral(span=Span(start_line=68, start_column=32, end_line=68, end_column=32), value=1)]]), IndexedIdentifier(span=Span(start_line=68, start_column=36, end_line=68, end_column=43), name=Identifier(span=Span(start_line=68, start_column=2187, end_line=68, end_column=2191), name='c_reg'), indices=[[IntegerLiteral(span=Span(start_line=68, start_column=42, end_line=68, end_column=42), value=2)]]), IndexedIdentifier(span=Span(start_line=68, start_column=46, end_line=68, end_column=53), name=Identifier(span=Span(start_line=68, start_column=2197, end_line=68, end_column=2201), name='c_reg'), indices=[[IntegerLiteral(span=Span(start_line=68, start_column=52, end_line=68, end_column=52), value=3)]]), IndexedIdentifier(span=Span(start_line=68, start_column=56, end_line=68, end_column=63), name=Identifier(span=Span(start_line=68, start_column=2207, end_line=68, end_column=2211), name='b_reg'), indices=[[IntegerLiteral(span=Span(start_line=68, start_column=62, end_line=68, end_column=62), value=0)]])])\n",
      "QuantumGate(span=Span(start_line=69, start_column=0, end_line=69, end_column=10), annotations=[], modifiers=[], name=Identifier(span=Span(start_line=69, start_column=2217, end_line=69, end_column=2217), name='h'), arguments=[], qubits=[IndexedIdentifier(span=Span(start_line=69, start_column=2, end_line=69, end_column=9), name=Identifier(span=Span(start_line=69, start_column=2219, end_line=69, end_column=2223), name='c_reg'), indices=[[IntegerLiteral(span=Span(start_line=69, start_column=8, end_line=69, end_column=8), value=0)]])], duration=None)\n",
      "QuantumGate(span=Span(start_line=70, start_column=0, end_line=70, end_column=10), annotations=[], modifiers=[], name=Identifier(span=Span(start_line=70, start_column=2229, end_line=70, end_column=2229), name='h'), arguments=[], qubits=[IndexedIdentifier(span=Span(start_line=70, start_column=2, end_line=70, end_column=9), name=Identifier(span=Span(start_line=70, start_column=2231, end_line=70, end_column=2235), name='c_reg'), indices=[[IntegerLiteral(span=Span(start_line=70, start_column=8, end_line=70, end_column=8), value=1)]])], duration=None)\n",
      "QuantumGate(span=Span(start_line=71, start_column=0, end_line=71, end_column=10), annotations=[], modifiers=[], name=Identifier(span=Span(start_line=71, start_column=2241, end_line=71, end_column=2241), name='h'), arguments=[], qubits=[IndexedIdentifier(span=Span(start_line=71, start_column=2, end_line=71, end_column=9), name=Identifier(span=Span(start_line=71, start_column=2243, end_line=71, end_column=2247), name='c_reg'), indices=[[IntegerLiteral(span=Span(start_line=71, start_column=8, end_line=71, end_column=8), value=2)]])], duration=None)\n",
      "QuantumGate(span=Span(start_line=72, start_column=0, end_line=72, end_column=10), annotations=[], modifiers=[], name=Identifier(span=Span(start_line=72, start_column=2253, end_line=72, end_column=2253), name='h'), arguments=[], qubits=[IndexedIdentifier(span=Span(start_line=72, start_column=2, end_line=72, end_column=9), name=Identifier(span=Span(start_line=72, start_column=2255, end_line=72, end_column=2259), name='c_reg'), indices=[[IntegerLiteral(span=Span(start_line=72, start_column=8, end_line=72, end_column=8), value=3)]])], duration=None)\n",
      "QuantumBarrier(span=Span(start_line=73, start_column=0, end_line=73, end_column=64), annotations=[], qubits=[IndexedIdentifier(span=Span(start_line=73, start_column=8, end_line=73, end_column=13), name=Identifier(span=Span(start_line=73, start_column=2273, end_line=73, end_column=2275), name='anc'), indices=[[IntegerLiteral(span=Span(start_line=73, start_column=12, end_line=73, end_column=12), value=0)]]), IndexedIdentifier(span=Span(start_line=73, start_column=16, end_line=73, end_column=23), name=Identifier(span=Span(start_line=73, start_column=2281, end_line=73, end_column=2285), name='c_reg'), indices=[[IntegerLiteral(span=Span(start_line=73, start_column=22, end_line=73, end_column=22), value=0)]]), IndexedIdentifier(span=Span(start_line=73, start_column=26, end_line=73, end_column=33), name=Identifier(span=Span(start_line=73, start_column=2291, end_line=73, end_column=2295), name='c_reg'), indices=[[IntegerLiteral(span=Span(start_line=73, start_column=32, end_line=73, end_column=32), value=1)]]), IndexedIdentifier(span=Span(start_line=73, start_column=36, end_line=73, end_column=43), name=Identifier(span=Span(start_line=73, start_column=2301, end_line=73, end_column=2305), name='c_reg'), indices=[[IntegerLiteral(span=Span(start_line=73, start_column=42, end_line=73, end_column=42), value=2)]]), IndexedIdentifier(span=Span(start_line=73, start_column=46, end_line=73, end_column=53), name=Identifier(span=Span(start_line=73, start_column=2311, end_line=73, end_column=2315), name='c_reg'), indices=[[IntegerLiteral(span=Span(start_line=73, start_column=52, end_line=73, end_column=52), value=3)]]), IndexedIdentifier(span=Span(start_line=73, start_column=56, end_line=73, end_column=63), name=Identifier(span=Span(start_line=73, start_column=2321, end_line=73, end_column=2325), name='b_reg'), indices=[[IntegerLiteral(span=Span(start_line=73, start_column=62, end_line=73, end_column=62), value=0)]])])\n",
      "QuantumMeasurementStatement(span=Span(start_line=74, start_column=0, end_line=74, end_column=25), annotations=[], measure=QuantumMeasurement(span=Span(start_line=74, start_column=11, end_line=74, end_column=24), qubit=IndexedIdentifier(span=Span(start_line=74, start_column=19, end_line=74, end_column=24), name=Identifier(span=Span(start_line=74, start_column=2350, end_line=74, end_column=2352), name='anc'), indices=[[IntegerLiteral(span=Span(start_line=74, start_column=23, end_line=74, end_column=23), value=0)]])), target=IndexedIdentifier(span=Span(start_line=74, start_column=0, end_line=74, end_column=7), name=Identifier(span=Span(start_line=74, start_column=2331, end_line=74, end_column=2335), name='cregb'), indices=[[IntegerLiteral(span=Span(start_line=74, start_column=6, end_line=74, end_column=6), value=0)]]))\n",
      "QuantumMeasurementStatement(span=Span(start_line=75, start_column=0, end_line=75, end_column=27), annotations=[], measure=QuantumMeasurement(span=Span(start_line=75, start_column=11, end_line=75, end_column=26), qubit=IndexedIdentifier(span=Span(start_line=75, start_column=19, end_line=75, end_column=26), name=Identifier(span=Span(start_line=75, start_column=2377, end_line=75, end_column=2381), name='c_reg'), indices=[[IntegerLiteral(span=Span(start_line=75, start_column=25, end_line=75, end_column=25), value=0)]])), target=IndexedIdentifier(span=Span(start_line=75, start_column=0, end_line=75, end_column=7), name=Identifier(span=Span(start_line=75, start_column=2358, end_line=75, end_column=2362), name='cregb'), indices=[[IntegerLiteral(span=Span(start_line=75, start_column=6, end_line=75, end_column=6), value=1)]]))\n",
      "QuantumMeasurementStatement(span=Span(start_line=76, start_column=0, end_line=76, end_column=27), annotations=[], measure=QuantumMeasurement(span=Span(start_line=76, start_column=11, end_line=76, end_column=26), qubit=IndexedIdentifier(span=Span(start_line=76, start_column=19, end_line=76, end_column=26), name=Identifier(span=Span(start_line=76, start_column=2406, end_line=76, end_column=2410), name='c_reg'), indices=[[IntegerLiteral(span=Span(start_line=76, start_column=25, end_line=76, end_column=25), value=1)]])), target=IndexedIdentifier(span=Span(start_line=76, start_column=0, end_line=76, end_column=7), name=Identifier(span=Span(start_line=76, start_column=2387, end_line=76, end_column=2391), name='cregb'), indices=[[IntegerLiteral(span=Span(start_line=76, start_column=6, end_line=76, end_column=6), value=2)]]))\n",
      "QuantumMeasurementStatement(span=Span(start_line=77, start_column=0, end_line=77, end_column=27), annotations=[], measure=QuantumMeasurement(span=Span(start_line=77, start_column=11, end_line=77, end_column=26), qubit=IndexedIdentifier(span=Span(start_line=77, start_column=19, end_line=77, end_column=26), name=Identifier(span=Span(start_line=77, start_column=2435, end_line=77, end_column=2439), name='c_reg'), indices=[[IntegerLiteral(span=Span(start_line=77, start_column=25, end_line=77, end_column=25), value=2)]])), target=IndexedIdentifier(span=Span(start_line=77, start_column=0, end_line=77, end_column=7), name=Identifier(span=Span(start_line=77, start_column=2416, end_line=77, end_column=2420), name='cregb'), indices=[[IntegerLiteral(span=Span(start_line=77, start_column=6, end_line=77, end_column=6), value=3)]]))\n",
      "QuantumMeasurementStatement(span=Span(start_line=78, start_column=0, end_line=78, end_column=27), annotations=[], measure=QuantumMeasurement(span=Span(start_line=78, start_column=11, end_line=78, end_column=26), qubit=IndexedIdentifier(span=Span(start_line=78, start_column=19, end_line=78, end_column=26), name=Identifier(span=Span(start_line=78, start_column=2464, end_line=78, end_column=2468), name='c_reg'), indices=[[IntegerLiteral(span=Span(start_line=78, start_column=25, end_line=78, end_column=25), value=3)]])), target=IndexedIdentifier(span=Span(start_line=78, start_column=0, end_line=78, end_column=7), name=Identifier(span=Span(start_line=78, start_column=2445, end_line=78, end_column=2449), name='cregb'), indices=[[IntegerLiteral(span=Span(start_line=78, start_column=6, end_line=78, end_column=6), value=4)]]))\n",
      "QuantumMeasurementStatement(span=Span(start_line=79, start_column=0, end_line=79, end_column=27), annotations=[], measure=QuantumMeasurement(span=Span(start_line=79, start_column=11, end_line=79, end_column=26), qubit=IndexedIdentifier(span=Span(start_line=79, start_column=19, end_line=79, end_column=26), name=Identifier(span=Span(start_line=79, start_column=2493, end_line=79, end_column=2497), name='b_reg'), indices=[[IntegerLiteral(span=Span(start_line=79, start_column=25, end_line=79, end_column=25), value=0)]])), target=IndexedIdentifier(span=Span(start_line=79, start_column=0, end_line=79, end_column=7), name=Identifier(span=Span(start_line=79, start_column=2474, end_line=79, end_column=2478), name='cregb'), indices=[[IntegerLiteral(span=Span(start_line=79, start_column=6, end_line=79, end_column=6), value=5)]]))\n"
     ]
    }
   ],
   "source": [
    "for statement in qasm_parsed_file.statements:\n",
    "    print(statement)"
   ]
  },
  {
   "cell_type": "code",
   "execution_count": 16,
   "metadata": {},
   "outputs": [
    {
     "name": "stdout",
     "output_type": "stream",
     "text": [
      "Included filenames: stdgates.inc\n",
      "Classical bit name: cregb\n",
      "Classical bit type: bit\n",
      "Classical bit length: 6\n",
      "Quantum bit name: anc\n",
      "Quantum bit length: 1\n",
      "Quantum bit name: c_reg\n",
      "Quantum bit length: 4\n",
      "Quantum bit name: b_reg\n",
      "Quantum bit length: 1\n",
      "Quantum gate name: x\n",
      "Quantum gate qubits names: ['b_reg']\n",
      "Quantum gate qubits indices: [0]\n",
      "Quantum gate name: barrier\n",
      "Quantum gate qubits names: ['anc', 'c_reg', 'c_reg', 'c_reg', 'c_reg', 'b_reg']\n",
      "Quantum gate qubits indices: [0, 0, 1, 2, 3, 0]\n",
      "Quantum gate name: h\n",
      "Quantum gate qubits names: ['c_reg']\n",
      "Quantum gate qubits indices: [0]\n",
      "Quantum gate name: h\n",
      "Quantum gate qubits names: ['c_reg']\n",
      "Quantum gate qubits indices: [1]\n",
      "Quantum gate name: h\n",
      "Quantum gate qubits names: ['c_reg']\n",
      "Quantum gate qubits indices: [2]\n",
      "Quantum gate name: h\n",
      "Quantum gate qubits names: ['c_reg']\n",
      "Quantum gate qubits indices: [3]\n",
      "Quantum gate name: barrier\n",
      "Quantum gate qubits names: ['anc', 'c_reg', 'c_reg', 'c_reg', 'c_reg', 'b_reg']\n",
      "Quantum gate qubits indices: [0, 0, 1, 2, 3, 0]\n",
      "Quantum gate name: cu\n",
      "Quantum gate qubits names: ['c_reg', 'b_reg']\n",
      "Quantum gate qubits indices: [0, 0]\n",
      "Quantum gate name: p\n",
      "Quantum gate qubits names: ['c_reg']\n",
      "Quantum gate qubits indices: [0]\n",
      "Quantum gate name: cu\n",
      "Quantum gate qubits names: ['c_reg', 'b_reg']\n",
      "Quantum gate qubits indices: [1, 0]\n",
      "Quantum gate name: p\n",
      "Quantum gate qubits names: ['c_reg']\n",
      "Quantum gate qubits indices: [1]\n",
      "Quantum gate name: cu\n",
      "Quantum gate qubits names: ['c_reg', 'b_reg']\n",
      "Quantum gate qubits indices: [2, 0]\n",
      "Quantum gate name: p\n",
      "Quantum gate qubits names: ['c_reg']\n",
      "Quantum gate qubits indices: [2]\n",
      "Quantum gate name: cu\n",
      "Quantum gate qubits names: ['c_reg', 'b_reg']\n",
      "Quantum gate qubits indices: [3, 0]\n",
      "Quantum gate name: p\n",
      "Quantum gate qubits names: ['c_reg']\n",
      "Quantum gate qubits indices: [3]\n",
      "Quantum gate name: barrier\n",
      "Quantum gate qubits names: ['anc', 'c_reg', 'c_reg', 'c_reg', 'c_reg', 'b_reg']\n",
      "Quantum gate qubits indices: [0, 0, 1, 2, 3, 0]\n",
      "Quantum gate name: swap\n",
      "Quantum gate qubits names: ['c_reg', 'c_reg']\n",
      "Quantum gate qubits indices: [0, 3]\n",
      "Quantum gate name: h\n",
      "Quantum gate qubits names: ['c_reg']\n",
      "Quantum gate qubits indices: [0]\n",
      "Quantum gate name: swap\n",
      "Quantum gate qubits names: ['c_reg', 'c_reg']\n",
      "Quantum gate qubits indices: [1, 2]\n",
      "Quantum gate name: cp\n",
      "Quantum gate qubits names: ['c_reg', 'c_reg']\n",
      "Quantum gate qubits indices: [1, 0]\n",
      "Quantum gate name: h\n",
      "Quantum gate qubits names: ['c_reg']\n",
      "Quantum gate qubits indices: [1]\n",
      "Quantum gate name: cp\n",
      "Quantum gate qubits names: ['c_reg', 'c_reg']\n",
      "Quantum gate qubits indices: [2, 0]\n",
      "Quantum gate name: cp\n",
      "Quantum gate qubits names: ['c_reg', 'c_reg']\n",
      "Quantum gate qubits indices: [2, 1]\n",
      "Quantum gate name: h\n",
      "Quantum gate qubits names: ['c_reg']\n",
      "Quantum gate qubits indices: [2]\n",
      "Quantum gate name: cp\n",
      "Quantum gate qubits names: ['c_reg', 'c_reg']\n",
      "Quantum gate qubits indices: [3, 0]\n",
      "Quantum gate name: cp\n",
      "Quantum gate qubits names: ['c_reg', 'c_reg']\n",
      "Quantum gate qubits indices: [3, 1]\n",
      "Quantum gate name: cp\n",
      "Quantum gate qubits names: ['c_reg', 'c_reg']\n",
      "Quantum gate qubits indices: [3, 2]\n",
      "Quantum gate name: h\n",
      "Quantum gate qubits names: ['c_reg']\n",
      "Quantum gate qubits indices: [3]\n",
      "Quantum gate name: barrier\n",
      "Quantum gate qubits names: ['anc', 'c_reg', 'c_reg', 'c_reg', 'c_reg', 'b_reg']\n",
      "Quantum gate qubits indices: [0, 0, 1, 2, 3, 0]\n",
      "Quantum gate name: swap\n",
      "Quantum gate qubits names: ['c_reg', 'c_reg']\n",
      "Quantum gate qubits indices: [2, 1]\n",
      "Quantum gate name: swap\n",
      "Quantum gate qubits names: ['c_reg', 'c_reg']\n",
      "Quantum gate qubits indices: [3, 0]\n",
      "Quantum gate name: barrier\n",
      "Quantum gate qubits names: ['anc', 'c_reg', 'c_reg', 'c_reg', 'c_reg', 'b_reg']\n",
      "Quantum gate qubits indices: [0, 0, 1, 2, 3, 0]\n",
      "Quantum gate name: cry\n",
      "Quantum gate qubits names: ['c_reg', 'anc']\n",
      "Quantum gate qubits indices: [0, 0]\n",
      "Quantum gate name: cry\n",
      "Quantum gate qubits names: ['c_reg', 'anc']\n",
      "Quantum gate qubits indices: [1, 0]\n",
      "Quantum gate name: cry\n",
      "Quantum gate qubits names: ['c_reg', 'anc']\n",
      "Quantum gate qubits indices: [2, 0]\n",
      "Quantum gate name: cry\n",
      "Quantum gate qubits names: ['c_reg', 'anc']\n",
      "Quantum gate qubits indices: [3, 0]\n",
      "Quantum gate name: barrier\n",
      "Quantum gate qubits names: ['anc', 'c_reg', 'c_reg', 'c_reg', 'c_reg', 'b_reg']\n",
      "Quantum gate qubits indices: [0, 0, 1, 2, 3, 0]\n",
      "Quantum gate name: swap\n",
      "Quantum gate qubits names: ['c_reg', 'c_reg']\n",
      "Quantum gate qubits indices: [2, 1]\n",
      "Quantum gate name: swap\n",
      "Quantum gate qubits names: ['c_reg', 'c_reg']\n",
      "Quantum gate qubits indices: [3, 0]\n",
      "Quantum gate name: barrier\n",
      "Quantum gate qubits names: ['anc', 'c_reg', 'c_reg', 'c_reg', 'c_reg', 'b_reg']\n",
      "Quantum gate qubits indices: [0, 0, 1, 2, 3, 0]\n",
      "Quantum gate name: h\n",
      "Quantum gate qubits names: ['c_reg']\n",
      "Quantum gate qubits indices: [3]\n",
      "Quantum gate name: cp\n",
      "Quantum gate qubits names: ['c_reg', 'c_reg']\n",
      "Quantum gate qubits indices: [3, 2]\n",
      "Quantum gate name: h\n",
      "Quantum gate qubits names: ['c_reg']\n",
      "Quantum gate qubits indices: [2]\n",
      "Quantum gate name: cp\n",
      "Quantum gate qubits names: ['c_reg', 'c_reg']\n",
      "Quantum gate qubits indices: [3, 1]\n",
      "Quantum gate name: cp\n",
      "Quantum gate qubits names: ['c_reg', 'c_reg']\n",
      "Quantum gate qubits indices: [2, 1]\n",
      "Quantum gate name: h\n",
      "Quantum gate qubits names: ['c_reg']\n",
      "Quantum gate qubits indices: [1]\n",
      "Quantum gate name: cp\n",
      "Quantum gate qubits names: ['c_reg', 'c_reg']\n",
      "Quantum gate qubits indices: [3, 0]\n",
      "Quantum gate name: cp\n",
      "Quantum gate qubits names: ['c_reg', 'c_reg']\n",
      "Quantum gate qubits indices: [2, 0]\n",
      "Quantum gate name: cp\n",
      "Quantum gate qubits names: ['c_reg', 'c_reg']\n",
      "Quantum gate qubits indices: [1, 0]\n",
      "Quantum gate name: h\n",
      "Quantum gate qubits names: ['c_reg']\n",
      "Quantum gate qubits indices: [0]\n",
      "Quantum gate name: swap\n",
      "Quantum gate qubits names: ['c_reg', 'c_reg']\n",
      "Quantum gate qubits indices: [0, 3]\n",
      "Quantum gate name: swap\n",
      "Quantum gate qubits names: ['c_reg', 'c_reg']\n",
      "Quantum gate qubits indices: [1, 2]\n",
      "Quantum gate name: barrier\n",
      "Quantum gate qubits names: ['anc', 'c_reg', 'c_reg', 'c_reg', 'c_reg', 'b_reg']\n",
      "Quantum gate qubits indices: [0, 0, 1, 2, 3, 0]\n",
      "Quantum gate name: cu\n",
      "Quantum gate qubits names: ['c_reg', 'b_reg']\n",
      "Quantum gate qubits indices: [3, 0]\n",
      "Quantum gate name: cu\n",
      "Quantum gate qubits names: ['c_reg', 'b_reg']\n",
      "Quantum gate qubits indices: [2, 0]\n",
      "Quantum gate name: cu\n",
      "Quantum gate qubits names: ['c_reg', 'b_reg']\n",
      "Quantum gate qubits indices: [1, 0]\n",
      "Quantum gate name: cu\n",
      "Quantum gate qubits names: ['c_reg', 'b_reg']\n",
      "Quantum gate qubits indices: [0, 0]\n",
      "Quantum gate name: p\n",
      "Quantum gate qubits names: ['c_reg']\n",
      "Quantum gate qubits indices: [0]\n",
      "Quantum gate name: p\n",
      "Quantum gate qubits names: ['c_reg']\n",
      "Quantum gate qubits indices: [1]\n",
      "Quantum gate name: p\n",
      "Quantum gate qubits names: ['c_reg']\n",
      "Quantum gate qubits indices: [2]\n",
      "Quantum gate name: p\n",
      "Quantum gate qubits names: ['c_reg']\n",
      "Quantum gate qubits indices: [3]\n",
      "Quantum gate name: barrier\n",
      "Quantum gate qubits names: ['anc', 'c_reg', 'c_reg', 'c_reg', 'c_reg', 'b_reg']\n",
      "Quantum gate qubits indices: [0, 0, 1, 2, 3, 0]\n",
      "Quantum gate name: h\n",
      "Quantum gate qubits names: ['c_reg']\n",
      "Quantum gate qubits indices: [0]\n",
      "Quantum gate name: h\n",
      "Quantum gate qubits names: ['c_reg']\n",
      "Quantum gate qubits indices: [1]\n",
      "Quantum gate name: h\n",
      "Quantum gate qubits names: ['c_reg']\n",
      "Quantum gate qubits indices: [2]\n",
      "Quantum gate name: h\n",
      "Quantum gate qubits names: ['c_reg']\n",
      "Quantum gate qubits indices: [3]\n",
      "Quantum gate name: barrier\n",
      "Quantum gate qubits names: ['anc', 'c_reg', 'c_reg', 'c_reg', 'c_reg', 'b_reg']\n",
      "Quantum gate qubits indices: [0, 0, 1, 2, 3, 0]\n",
      "Quantum measurement name: measurement\n",
      "Quantum measurement qubit name: anc\n",
      "Quantum measurement qubit index: 0\n",
      "Quantum measurement cbit name: cregb\n",
      "Quantum measurement cbit index: 0\n",
      "Quantum measurement name: measurement\n",
      "Quantum measurement qubit name: c_reg\n",
      "Quantum measurement qubit index: 0\n",
      "Quantum measurement cbit name: cregb\n",
      "Quantum measurement cbit index: 1\n",
      "Quantum measurement name: measurement\n",
      "Quantum measurement qubit name: c_reg\n",
      "Quantum measurement qubit index: 1\n",
      "Quantum measurement cbit name: cregb\n",
      "Quantum measurement cbit index: 2\n",
      "Quantum measurement name: measurement\n",
      "Quantum measurement qubit name: c_reg\n",
      "Quantum measurement qubit index: 2\n",
      "Quantum measurement cbit name: cregb\n",
      "Quantum measurement cbit index: 3\n",
      "Quantum measurement name: measurement\n",
      "Quantum measurement qubit name: c_reg\n",
      "Quantum measurement qubit index: 3\n",
      "Quantum measurement cbit name: cregb\n",
      "Quantum measurement cbit index: 4\n",
      "Quantum measurement name: measurement\n",
      "Quantum measurement qubit name: b_reg\n",
      "Quantum measurement qubit index: 0\n",
      "Quantum measurement cbit name: cregb\n",
      "Quantum measurement cbit index: 5\n"
     ]
    }
   ],
   "source": [
    "for statement in qasm_parsed_file.statements:\n",
    "    if isinstance(statement, openqasm3.ast.Include):\n",
    "        print('Included filenames:', statement.filename)\n",
    "    elif isinstance(statement, openqasm3.ast.ClassicalDeclaration):\n",
    "        if isinstance(statement.type, openqasm3.ast.BitType):\n",
    "            cbit_type = 'bit'\n",
    "        else:\n",
    "            raise ValueError('Unknown type', 'statement.type:', statement.type)\n",
    "        cbit_name = statement.identifier.name\n",
    "        cbit_length = statement.type.size.value\n",
    "        print('Classical bit name:', cbit_name)\n",
    "        print('Classical bit type:', cbit_type)\n",
    "        print('Classical bit length:', cbit_length)\n",
    "    elif isinstance(statement, openqasm3.ast.QubitDeclaration):\n",
    "        qbit_name = statement.qubit.name\n",
    "        qbit_length = statement.size.value\n",
    "        print('Quantum bit name:', qbit_name)\n",
    "        print('Quantum bit length:', qbit_length)\n",
    "    elif isinstance(statement, openqasm3.ast.QuantumGate):\n",
    "        qgate_name = statement.name.name\n",
    "        qgate_qbit_names = [statement.qubits[i].name.name for i in range(len(statement.qubits))]\n",
    "        qgate_qbit_indices = [statement.qubits[i].indices[0][0].value for i in range(len(statement.qubits))] # why is there doubly nested list in indices?\n",
    "        print('Quantum gate name:', qgate_name)\n",
    "        print('Quantum gate qubits names:', qgate_qbit_names)\n",
    "        print('Quantum gate qubits indices:', qgate_qbit_indices)\n",
    "    elif isinstance(statement, openqasm3.ast.QuantumBarrier):\n",
    "        #print(statement)\n",
    "        qbarrier_name = 'barrier' # name is not stored in statement \n",
    "        qbarrier_qbit_names = [statement.qubits[i].name.name for i in range(len(statement.qubits))]\n",
    "        qbarrier_qbit_indices = [statement.qubits[i].indices[0][0].value for i in range(len(statement.qubits))] # why is there doubly nested list in indices?\n",
    "        print('Quantum gate name:', qbarrier_name)\n",
    "        print('Quantum gate qubits names:', qbarrier_qbit_names)\n",
    "        print('Quantum gate qubits indices:', qbarrier_qbit_indices)\n",
    "    elif isinstance(statement, openqasm3.ast.QuantumMeasurementStatement):\n",
    "        #print(statement)\n",
    "        qmeasurement_name = 'measurement' # name is not stored in statement \n",
    "        qmeasurement_qbit_name = statement.measure.qubit.name.name\n",
    "        qmeasurement_qbit_index = statement.measure.qubit.indices[0][0].value\n",
    "        qmeasurement_cbit_name = statement.target.name.name\n",
    "        qmeasurement_cbit_index = statement.target.indices[0][0].value\n",
    "        print('Quantum measurement name:', qmeasurement_name)\n",
    "        print('Quantum measurement qubit name:', qmeasurement_qbit_name)\n",
    "        print('Quantum measurement qubit index:', qmeasurement_qbit_index)\n",
    "        print('Quantum measurement cbit name:', qmeasurement_cbit_name)\n",
    "        print('Quantum measurement cbit index:', qmeasurement_cbit_index)\n",
    "\n",
    "######\n",
    "#\n",
    "# the statements are ordered in some logical timeseries manner. A gate can be interpreted as a definite border between two time steps.\n",
    "#\n",
    "######"
   ]
  },
  {
   "cell_type": "code",
   "execution_count": 17,
   "metadata": {},
   "outputs": [
    {
     "name": "stdout",
     "output_type": "stream",
     "text": [
      "Known gates:\n",
      " - I :\t <class 'QSymPy.src.Identity_Gate'>\n",
      " - X :\t <class 'QSymPy.src.Pauli_X_Gate'>\n",
      " - Y :\t <class 'QSymPy.src.Pauli_Y_Gate'>\n",
      " - Z :\t <class 'QSymPy.src.Pauli_Z_Gate'>\n",
      " - H :\t <class 'QSymPy.src.Hadamard_Gate'>\n",
      " - H_eI :\t <class 'QSymPy.src.Hadamard_error_I_Gate'>\n",
      " - U :\t <class 'QSymPy.src.U_Gate'>\n",
      " - GP :\t <class 'QSymPy.src.GP_Gate'>\n",
      " - P :\t <class 'QSymPy.src.P_Gate'>\n",
      " - CX :\t <class 'QSymPy.src.CX_Gate'>\n",
      " - CX_new :\t <class 'QSymPy.src.CX_Gate_new'>\n",
      " - CCX_new :\t <class 'QSymPy.src.CCX_Gate_new'>\n",
      " - CCXX_new :\t <class 'QSymPy.src.CCXX_Gate_new'>\n"
     ]
    }
   ],
   "source": [
    "import QSymPy"
   ]
  },
  {
   "cell_type": "code",
   "execution_count": 18,
   "metadata": {},
   "outputs": [
    {
     "name": "stdout",
     "output_type": "stream",
     "text": [
      "(2, 2)\n",
      "(4, 4)\n",
      "(2, 2)\n",
      "(2, 2)\n"
     ]
    },
    {
     "data": {
      "text/latex": [
       "$\\displaystyle \\left[\\begin{matrix}CX_{I qt1 qc0 s1 p00} H_{qt0 qc s0 p00} & CX_{I qt1 qc0 s1 p00} H_{qt0 qc s0 p01} & CX_{I qt1 qc0 s1 p01} H_{qt0 qc s0 p00} & CX_{I qt1 qc0 s1 p01} H_{qt0 qc s0 p01}\\\\CX_{X qt1 qc0 s1 p00} H_{qt0 qc s0 p10} & CX_{X qt1 qc0 s1 p00} H_{qt0 qc s0 p11} & CX_{X qt1 qc0 s1 p01} H_{qt0 qc s0 p10} & CX_{X qt1 qc0 s1 p01} H_{qt0 qc s0 p11}\\\\CX_{I qt1 qc0 s1 p10} H_{qt0 qc s0 p00} & CX_{I qt1 qc0 s1 p10} H_{qt0 qc s0 p01} & CX_{I qt1 qc0 s1 p11} H_{qt0 qc s0 p00} & CX_{I qt1 qc0 s1 p11} H_{qt0 qc s0 p01}\\\\CX_{X qt1 qc0 s1 p10} H_{qt0 qc s0 p10} & CX_{X qt1 qc0 s1 p10} H_{qt0 qc s0 p11} & CX_{X qt1 qc0 s1 p11} H_{qt0 qc s0 p10} & CX_{X qt1 qc0 s1 p11} H_{qt0 qc s0 p11}\\end{matrix}\\right]$"
      ],
      "text/plain": [
       "Matrix([\n",
       "[CX_I_qt1_qc0_s1_p00*H_qt0_qc_s0_p00, CX_I_qt1_qc0_s1_p00*H_qt0_qc_s0_p01, CX_I_qt1_qc0_s1_p01*H_qt0_qc_s0_p00, CX_I_qt1_qc0_s1_p01*H_qt0_qc_s0_p01],\n",
       "[CX_X_qt1_qc0_s1_p00*H_qt0_qc_s0_p10, CX_X_qt1_qc0_s1_p00*H_qt0_qc_s0_p11, CX_X_qt1_qc0_s1_p01*H_qt0_qc_s0_p10, CX_X_qt1_qc0_s1_p01*H_qt0_qc_s0_p11],\n",
       "[CX_I_qt1_qc0_s1_p10*H_qt0_qc_s0_p00, CX_I_qt1_qc0_s1_p10*H_qt0_qc_s0_p01, CX_I_qt1_qc0_s1_p11*H_qt0_qc_s0_p00, CX_I_qt1_qc0_s1_p11*H_qt0_qc_s0_p01],\n",
       "[CX_X_qt1_qc0_s1_p10*H_qt0_qc_s0_p10, CX_X_qt1_qc0_s1_p10*H_qt0_qc_s0_p11, CX_X_qt1_qc0_s1_p11*H_qt0_qc_s0_p10, CX_X_qt1_qc0_s1_p11*H_qt0_qc_s0_p11]])"
      ]
     },
     "execution_count": 18,
     "metadata": {},
     "output_type": "execute_result"
    }
   ],
   "source": [
    "qcs = QSymPy.QuantumCircuit(num_qubits=2, num_clbits=2)\n",
    "qcs.add_gate('H', qubits_t=[0], step=0)\n",
    "qcs.add_barrier(step=0)\n",
    "qcs.add_gate('CX', qubits_c=[0], qubits_t=[1], step=1)\n",
    "qcs.add_barrier(step=1)\n",
    "\n",
    "qcs.assemble_symbolic_unitary()\n",
    "qcs.unitary\n"
   ]
  },
  {
   "cell_type": "code",
   "execution_count": 19,
   "metadata": {},
   "outputs": [
    {
     "data": {
      "text/plain": [
       "'H_qt0_qc_s0_p00'"
      ]
     },
     "execution_count": 19,
     "metadata": {},
     "output_type": "execute_result"
    }
   ],
   "source": [
    "for e in qcs.unitary[0,0].free_symbols: break\n",
    "e.name"
   ]
  },
  {
   "cell_type": "code",
   "execution_count": 20,
   "metadata": {},
   "outputs": [
    {
     "data": {
      "text/plain": [
       "[Barrier at step 0, Barrier at step 1]"
      ]
     },
     "execution_count": 20,
     "metadata": {},
     "output_type": "execute_result"
    }
   ],
   "source": [
    "qcs.barrier_collection"
   ]
  },
  {
   "cell_type": "code",
   "execution_count": 21,
   "metadata": {},
   "outputs": [
    {
     "name": "stdout",
     "output_type": "stream",
     "text": [
      "(2, 2)\n",
      "(2, 2)\n"
     ]
    },
    {
     "data": {
      "text/latex": [
       "$\\displaystyle \\left[\\begin{matrix}U_{qt0 qc s0 p00} X_{qt1 qc s0 p00} & U_{qt0 qc s0 p01} X_{qt1 qc s0 p00} & U_{qt0 qc s0 p00} X_{qt1 qc s0 p01} & U_{qt0 qc s0 p01} X_{qt1 qc s0 p01}\\\\U_{qt0 qc s0 p10} X_{qt1 qc s0 p00} & U_{qt0 qc s0 p11} X_{qt1 qc s0 p00} & U_{qt0 qc s0 p10} X_{qt1 qc s0 p01} & U_{qt0 qc s0 p11} X_{qt1 qc s0 p01}\\\\U_{qt0 qc s0 p00} X_{qt1 qc s0 p10} & U_{qt0 qc s0 p01} X_{qt1 qc s0 p10} & U_{qt0 qc s0 p00} X_{qt1 qc s0 p11} & U_{qt0 qc s0 p01} X_{qt1 qc s0 p11}\\\\U_{qt0 qc s0 p10} X_{qt1 qc s0 p10} & U_{qt0 qc s0 p11} X_{qt1 qc s0 p10} & U_{qt0 qc s0 p10} X_{qt1 qc s0 p11} & U_{qt0 qc s0 p11} X_{qt1 qc s0 p11}\\end{matrix}\\right]$"
      ],
      "text/plain": [
       "Matrix([\n",
       "[U_qt0_qc_s0_p00*X_qt1_qc_s0_p00, U_qt0_qc_s0_p01*X_qt1_qc_s0_p00, U_qt0_qc_s0_p00*X_qt1_qc_s0_p01, U_qt0_qc_s0_p01*X_qt1_qc_s0_p01],\n",
       "[U_qt0_qc_s0_p10*X_qt1_qc_s0_p00, U_qt0_qc_s0_p11*X_qt1_qc_s0_p00, U_qt0_qc_s0_p10*X_qt1_qc_s0_p01, U_qt0_qc_s0_p11*X_qt1_qc_s0_p01],\n",
       "[U_qt0_qc_s0_p00*X_qt1_qc_s0_p10, U_qt0_qc_s0_p01*X_qt1_qc_s0_p10, U_qt0_qc_s0_p00*X_qt1_qc_s0_p11, U_qt0_qc_s0_p01*X_qt1_qc_s0_p11],\n",
       "[U_qt0_qc_s0_p10*X_qt1_qc_s0_p10, U_qt0_qc_s0_p11*X_qt1_qc_s0_p10, U_qt0_qc_s0_p10*X_qt1_qc_s0_p11, U_qt0_qc_s0_p11*X_qt1_qc_s0_p11]])"
      ]
     },
     "execution_count": 21,
     "metadata": {},
     "output_type": "execute_result"
    }
   ],
   "source": [
    "qcs2 = QSymPy.QuantumCircuit(num_qubits=2, num_clbits=2)\n",
    "qcs2.add_gate(name='U', qubits_t=[0], step=0, parameters={'theta': 0.5, 'phi': 0.5, 'lambda': 0.5})\n",
    "qcs2.add_gate(name='X', qubits_t=[1], step=0)\n",
    "qcs2.assemble_symbolic_unitary()\n",
    "qcs2.unitary"
   ]
  },
  {
   "cell_type": "code",
   "execution_count": 22,
   "metadata": {},
   "outputs": [
    {
     "data": {
      "text/latex": [
       "$\\displaystyle \\left[\\begin{matrix}\\frac{e^{i \\theta_{U qt0 qc s0}}}{2} + \\frac{1}{2} & - \\frac{i \\left(1 - e^{i \\theta_{U qt0 qc s0}}\\right) e^{i \\lambda_{U qt0 qc s0}}}{2}\\\\\\frac{i \\left(1 - e^{i \\theta_{U qt0 qc s0}}\\right) e^{i \\phi_{U qt0 qc s0}}}{2} & \\frac{\\left(e^{i \\theta_{U qt0 qc s0}} + 1\\right) e^{i \\left(\\lambda_{U qt0 qc s0} + \\phi_{U qt0 qc s0}\\right)}}{2}\\end{matrix}\\right]$"
      ],
      "text/plain": [
       "Matrix([\n",
       "[                         exp(I*theta_U_qt0_qc_s0)/2 + 1/2,                  -I*(1 - exp(I*theta_U_qt0_qc_s0))*exp(I*lambda_U_qt0_qc_s0)/2],\n",
       "[I*(1 - exp(I*theta_U_qt0_qc_s0))*exp(I*phi_U_qt0_qc_s0)/2, (exp(I*theta_U_qt0_qc_s0) + 1)*exp(I*(lambda_U_qt0_qc_s0 + phi_U_qt0_qc_s0))/2]])"
      ]
     },
     "execution_count": 22,
     "metadata": {},
     "output_type": "execute_result"
    }
   ],
   "source": [
    "qcs2.gate_collection.collections['U'][0].matrix_alt"
   ]
  },
  {
   "cell_type": "code",
   "execution_count": 23,
   "metadata": {},
   "outputs": [
    {
     "data": {
      "text/latex": [
       "$\\displaystyle \\left[\\begin{matrix}U_{qt0 qc s0 p00} X_{qt1 qc s0 p00} & U_{qt0 qc s0 p01} X_{qt1 qc s0 p00} & U_{qt0 qc s0 p00} X_{qt1 qc s0 p01} & U_{qt0 qc s0 p01} X_{qt1 qc s0 p01}\\\\U_{qt0 qc s0 p10} X_{qt1 qc s0 p00} & U_{qt0 qc s0 p11} X_{qt1 qc s0 p00} & U_{qt0 qc s0 p10} X_{qt1 qc s0 p01} & U_{qt0 qc s0 p11} X_{qt1 qc s0 p01}\\\\U_{qt0 qc s0 p00} X_{qt1 qc s0 p10} & U_{qt0 qc s0 p01} X_{qt1 qc s0 p10} & U_{qt0 qc s0 p00} X_{qt1 qc s0 p11} & U_{qt0 qc s0 p01} X_{qt1 qc s0 p11}\\\\U_{qt0 qc s0 p10} X_{qt1 qc s0 p10} & U_{qt0 qc s0 p11} X_{qt1 qc s0 p10} & U_{qt0 qc s0 p10} X_{qt1 qc s0 p11} & U_{qt0 qc s0 p11} X_{qt1 qc s0 p11}\\end{matrix}\\right]$"
      ],
      "text/plain": [
       "Matrix([\n",
       "[U_qt0_qc_s0_p00*X_qt1_qc_s0_p00, U_qt0_qc_s0_p01*X_qt1_qc_s0_p00, U_qt0_qc_s0_p00*X_qt1_qc_s0_p01, U_qt0_qc_s0_p01*X_qt1_qc_s0_p01],\n",
       "[U_qt0_qc_s0_p10*X_qt1_qc_s0_p00, U_qt0_qc_s0_p11*X_qt1_qc_s0_p00, U_qt0_qc_s0_p10*X_qt1_qc_s0_p01, U_qt0_qc_s0_p11*X_qt1_qc_s0_p01],\n",
       "[U_qt0_qc_s0_p00*X_qt1_qc_s0_p10, U_qt0_qc_s0_p01*X_qt1_qc_s0_p10, U_qt0_qc_s0_p00*X_qt1_qc_s0_p11, U_qt0_qc_s0_p01*X_qt1_qc_s0_p11],\n",
       "[U_qt0_qc_s0_p10*X_qt1_qc_s0_p10, U_qt0_qc_s0_p11*X_qt1_qc_s0_p10, U_qt0_qc_s0_p10*X_qt1_qc_s0_p11, U_qt0_qc_s0_p11*X_qt1_qc_s0_p11]])"
      ]
     },
     "execution_count": 23,
     "metadata": {},
     "output_type": "execute_result"
    }
   ],
   "source": [
    "#subs_symbolic_alternatives_in_symbolic_unitary\n",
    "qcs2.unitary"
   ]
  },
  {
   "cell_type": "code",
   "execution_count": 24,
   "metadata": {},
   "outputs": [
    {
     "data": {
      "text/latex": [
       "$\\displaystyle \\left[\\begin{matrix}X_{qt1 qc s0 p00} \\left(\\frac{e^{i \\theta_{U qt0 qc s0}}}{2} + \\frac{1}{2}\\right) & - \\frac{i X_{qt1 qc s0 p00} \\left(1 - e^{i \\theta_{U qt0 qc s0}}\\right) e^{i \\lambda_{U qt0 qc s0}}}{2} & X_{qt1 qc s0 p01} \\left(\\frac{e^{i \\theta_{U qt0 qc s0}}}{2} + \\frac{1}{2}\\right) & - \\frac{i X_{qt1 qc s0 p01} \\left(1 - e^{i \\theta_{U qt0 qc s0}}\\right) e^{i \\lambda_{U qt0 qc s0}}}{2}\\\\\\frac{i X_{qt1 qc s0 p00} \\left(1 - e^{i \\theta_{U qt0 qc s0}}\\right) e^{i \\phi_{U qt0 qc s0}}}{2} & \\frac{X_{qt1 qc s0 p00} \\left(e^{i \\theta_{U qt0 qc s0}} + 1\\right) e^{i \\left(\\lambda_{U qt0 qc s0} + \\phi_{U qt0 qc s0}\\right)}}{2} & \\frac{i X_{qt1 qc s0 p01} \\left(1 - e^{i \\theta_{U qt0 qc s0}}\\right) e^{i \\phi_{U qt0 qc s0}}}{2} & \\frac{X_{qt1 qc s0 p01} \\left(e^{i \\theta_{U qt0 qc s0}} + 1\\right) e^{i \\left(\\lambda_{U qt0 qc s0} + \\phi_{U qt0 qc s0}\\right)}}{2}\\\\X_{qt1 qc s0 p10} \\left(\\frac{e^{i \\theta_{U qt0 qc s0}}}{2} + \\frac{1}{2}\\right) & - \\frac{i X_{qt1 qc s0 p10} \\left(1 - e^{i \\theta_{U qt0 qc s0}}\\right) e^{i \\lambda_{U qt0 qc s0}}}{2} & X_{qt1 qc s0 p11} \\left(\\frac{e^{i \\theta_{U qt0 qc s0}}}{2} + \\frac{1}{2}\\right) & - \\frac{i X_{qt1 qc s0 p11} \\left(1 - e^{i \\theta_{U qt0 qc s0}}\\right) e^{i \\lambda_{U qt0 qc s0}}}{2}\\\\\\frac{i X_{qt1 qc s0 p10} \\left(1 - e^{i \\theta_{U qt0 qc s0}}\\right) e^{i \\phi_{U qt0 qc s0}}}{2} & \\frac{X_{qt1 qc s0 p10} \\left(e^{i \\theta_{U qt0 qc s0}} + 1\\right) e^{i \\left(\\lambda_{U qt0 qc s0} + \\phi_{U qt0 qc s0}\\right)}}{2} & \\frac{i X_{qt1 qc s0 p11} \\left(1 - e^{i \\theta_{U qt0 qc s0}}\\right) e^{i \\phi_{U qt0 qc s0}}}{2} & \\frac{X_{qt1 qc s0 p11} \\left(e^{i \\theta_{U qt0 qc s0}} + 1\\right) e^{i \\left(\\lambda_{U qt0 qc s0} + \\phi_{U qt0 qc s0}\\right)}}{2}\\end{matrix}\\right]$"
      ],
      "text/plain": [
       "Matrix([\n",
       "[                       X_qt1_qc_s0_p00*(exp(I*theta_U_qt0_qc_s0)/2 + 1/2),                  -I*X_qt1_qc_s0_p00*(1 - exp(I*theta_U_qt0_qc_s0))*exp(I*lambda_U_qt0_qc_s0)/2,                        X_qt1_qc_s0_p01*(exp(I*theta_U_qt0_qc_s0)/2 + 1/2),                  -I*X_qt1_qc_s0_p01*(1 - exp(I*theta_U_qt0_qc_s0))*exp(I*lambda_U_qt0_qc_s0)/2],\n",
       "[I*X_qt1_qc_s0_p00*(1 - exp(I*theta_U_qt0_qc_s0))*exp(I*phi_U_qt0_qc_s0)/2, X_qt1_qc_s0_p00*(exp(I*theta_U_qt0_qc_s0) + 1)*exp(I*(lambda_U_qt0_qc_s0 + phi_U_qt0_qc_s0))/2, I*X_qt1_qc_s0_p01*(1 - exp(I*theta_U_qt0_qc_s0))*exp(I*phi_U_qt0_qc_s0)/2, X_qt1_qc_s0_p01*(exp(I*theta_U_qt0_qc_s0) + 1)*exp(I*(lambda_U_qt0_qc_s0 + phi_U_qt0_qc_s0))/2],\n",
       "[                       X_qt1_qc_s0_p10*(exp(I*theta_U_qt0_qc_s0)/2 + 1/2),                  -I*X_qt1_qc_s0_p10*(1 - exp(I*theta_U_qt0_qc_s0))*exp(I*lambda_U_qt0_qc_s0)/2,                        X_qt1_qc_s0_p11*(exp(I*theta_U_qt0_qc_s0)/2 + 1/2),                  -I*X_qt1_qc_s0_p11*(1 - exp(I*theta_U_qt0_qc_s0))*exp(I*lambda_U_qt0_qc_s0)/2],\n",
       "[I*X_qt1_qc_s0_p10*(1 - exp(I*theta_U_qt0_qc_s0))*exp(I*phi_U_qt0_qc_s0)/2, X_qt1_qc_s0_p10*(exp(I*theta_U_qt0_qc_s0) + 1)*exp(I*(lambda_U_qt0_qc_s0 + phi_U_qt0_qc_s0))/2, I*X_qt1_qc_s0_p11*(1 - exp(I*theta_U_qt0_qc_s0))*exp(I*phi_U_qt0_qc_s0)/2, X_qt1_qc_s0_p11*(exp(I*theta_U_qt0_qc_s0) + 1)*exp(I*(lambda_U_qt0_qc_s0 + phi_U_qt0_qc_s0))/2]])"
      ]
     },
     "execution_count": 24,
     "metadata": {},
     "output_type": "execute_result"
    }
   ],
   "source": [
    "#qcs2.subs_symbolic_alternatives_in_symbolic_unitary({'steps': (0,0), 'names': ('U','U'), 'qubits_t': (0,1)})\n",
    "qcs2.subs_symbolic_alternatives_in_symbolic_unitary()\n",
    "qcs2.unitary"
   ]
  },
  {
   "cell_type": "code",
   "execution_count": 25,
   "metadata": {},
   "outputs": [
    {
     "name": "stdout",
     "output_type": "stream",
     "text": [
      "(2, 2)\n"
     ]
    },
    {
     "data": {
      "text/latex": [
       "$\\displaystyle \\left[\\begin{matrix}GP_{qt0 qc s0 p00} & GP_{qt0 qc s0 p01} & 0 & 0\\\\GP_{qt0 qc s0 p10} & GP_{qt0 qc s0 p11} & 0 & 0\\\\0 & 0 & GP_{qt0 qc s0 p00} & GP_{qt0 qc s0 p01}\\\\0 & 0 & GP_{qt0 qc s0 p10} & GP_{qt0 qc s0 p11}\\end{matrix}\\right]$"
      ],
      "text/plain": [
       "Matrix([\n",
       "[GP_qt0_qc_s0_p00, GP_qt0_qc_s0_p01,                0,                0],\n",
       "[GP_qt0_qc_s0_p10, GP_qt0_qc_s0_p11,                0,                0],\n",
       "[               0,                0, GP_qt0_qc_s0_p00, GP_qt0_qc_s0_p01],\n",
       "[               0,                0, GP_qt0_qc_s0_p10, GP_qt0_qc_s0_p11]])"
      ]
     },
     "execution_count": 25,
     "metadata": {},
     "output_type": "execute_result"
    }
   ],
   "source": [
    "qcs3 = QSymPy.QuantumCircuit(num_qubits=2, num_clbits=2)\n",
    "qcs3.add_gate(name='GP', qubits_t=[0], step=0, parameters={'gamma': 0.5})\n",
    "qcs3.assemble_symbolic_unitary()\n",
    "qcs3.unitary"
   ]
  },
  {
   "cell_type": "code",
   "execution_count": 26,
   "metadata": {},
   "outputs": [
    {
     "data": {
      "text/latex": [
       "$\\displaystyle \\left[\\begin{matrix}e^{i \\gamma_{GP qt0 qc s0}} & 0 & 0 & 0\\\\0 & e^{i \\gamma_{GP qt0 qc s0}} & 0 & 0\\\\0 & 0 & e^{i \\gamma_{GP qt0 qc s0}} & 0\\\\0 & 0 & 0 & e^{i \\gamma_{GP qt0 qc s0}}\\end{matrix}\\right]$"
      ],
      "text/plain": [
       "Matrix([\n",
       "[exp(I*gamma_GP_qt0_qc_s0),                         0,                         0,                         0],\n",
       "[                        0, exp(I*gamma_GP_qt0_qc_s0),                         0,                         0],\n",
       "[                        0,                         0, exp(I*gamma_GP_qt0_qc_s0),                         0],\n",
       "[                        0,                         0,                         0, exp(I*gamma_GP_qt0_qc_s0)]])"
      ]
     },
     "execution_count": 26,
     "metadata": {},
     "output_type": "execute_result"
    }
   ],
   "source": [
    "qcs3.subs_symbolic_alternatives_in_symbolic_unitary()\n",
    "qcs3.unitary"
   ]
  },
  {
   "cell_type": "code",
   "execution_count": 27,
   "metadata": {},
   "outputs": [
    {
     "name": "stdout",
     "output_type": "stream",
     "text": [
      "(2, 2)\n"
     ]
    },
    {
     "data": {
      "text/latex": [
       "$\\displaystyle \\left[\\begin{matrix}P_{qt0 qc s0 p00} & P_{qt0 qc s0 p01} & 0 & 0\\\\P_{qt0 qc s0 p10} & P_{qt0 qc s0 p11} & 0 & 0\\\\0 & 0 & P_{qt0 qc s0 p00} & P_{qt0 qc s0 p01}\\\\0 & 0 & P_{qt0 qc s0 p10} & P_{qt0 qc s0 p11}\\end{matrix}\\right]$"
      ],
      "text/plain": [
       "Matrix([\n",
       "[P_qt0_qc_s0_p00, P_qt0_qc_s0_p01,               0,               0],\n",
       "[P_qt0_qc_s0_p10, P_qt0_qc_s0_p11,               0,               0],\n",
       "[              0,               0, P_qt0_qc_s0_p00, P_qt0_qc_s0_p01],\n",
       "[              0,               0, P_qt0_qc_s0_p10, P_qt0_qc_s0_p11]])"
      ]
     },
     "execution_count": 27,
     "metadata": {},
     "output_type": "execute_result"
    }
   ],
   "source": [
    "qcs4 = QSymPy.QuantumCircuit(num_qubits=2, num_clbits=2)\n",
    "qcs4.add_gate(name='P', qubits_t=[0], step=0, parameters={'lambda': 0.5})\n",
    "qcs4.assemble_symbolic_unitary()\n",
    "qcs4.unitary"
   ]
  },
  {
   "cell_type": "code",
   "execution_count": 28,
   "metadata": {},
   "outputs": [
    {
     "data": {
      "text/latex": [
       "$\\displaystyle \\left[\\begin{matrix}1 & 0 & 0 & 0\\\\0 & e^{i \\lambda_{P qt0 qc s0}} & 0 & 0\\\\0 & 0 & 1 & 0\\\\0 & 0 & 0 & e^{i \\lambda_{P qt0 qc s0}}\\end{matrix}\\right]$"
      ],
      "text/plain": [
       "Matrix([\n",
       "[1,                         0, 0,                         0],\n",
       "[0, exp(I*lambda_P_qt0_qc_s0), 0,                         0],\n",
       "[0,                         0, 1,                         0],\n",
       "[0,                         0, 0, exp(I*lambda_P_qt0_qc_s0)]])"
      ]
     },
     "execution_count": 28,
     "metadata": {},
     "output_type": "execute_result"
    }
   ],
   "source": [
    "qcs4.subs_symbolic_alternatives_in_symbolic_unitary()\n",
    "qcs4.unitary"
   ]
  },
  {
   "cell_type": "code",
   "execution_count": 29,
   "metadata": {},
   "outputs": [
    {
     "data": {
      "text/plain": [
       "array([[ 0.93879128+0.23971277j, -0.18102272-0.16864013j],\n",
       "       [ 0.18102272+0.16864013j,  0.30551975+0.91948299j]])"
      ]
     },
     "execution_count": 29,
     "metadata": {},
     "output_type": "execute_result"
    }
   ],
   "source": [
    "import numpy as np\n",
    "qcs2.gate_collection.collections['U'][0].matrix_numeric\n"
   ]
  },
  {
   "cell_type": "code",
   "execution_count": 30,
   "metadata": {},
   "outputs": [
    {
     "data": {
      "text/plain": [
       "array([[ 0.93879128+0.23971277j, -0.18102272-0.16864013j],\n",
       "       [ 0.18102272+0.16864013j,  0.30551975+0.91948299j]])"
      ]
     },
     "execution_count": 30,
     "metadata": {},
     "output_type": "execute_result"
    }
   ],
   "source": [
    "np.array(qcs2.gate_collection.collections['U'][0].matrix_numeric)"
   ]
  },
  {
   "cell_type": "code",
   "execution_count": 31,
   "metadata": {},
   "outputs": [
    {
     "data": {
      "text/plain": [
       "{'00': U_qt0_qc_s0_p00,\n",
       " '01': U_qt0_qc_s0_p01,\n",
       " '10': U_qt0_qc_s0_p10,\n",
       " '11': U_qt0_qc_s0_p11}"
      ]
     },
     "execution_count": 31,
     "metadata": {},
     "output_type": "execute_result"
    }
   ],
   "source": [
    "qcs2.gate_collection.collections['U'][0].atomics"
   ]
  },
  {
   "cell_type": "code",
   "execution_count": 32,
   "metadata": {},
   "outputs": [
    {
     "data": {
      "text/latex": [
       "$\\displaystyle \\left[\\begin{matrix}0 & 0 & X_{qt1 qc s0 p01} \\left(\\frac{e^{i \\theta_{U qt0 qc s0}}}{2} + \\frac{1}{2}\\right) & - \\frac{i X_{qt1 qc s0 p01} \\left(1 - e^{i \\theta_{U qt0 qc s0}}\\right) e^{i \\lambda_{U qt0 qc s0}}}{2}\\\\0 & 0 & \\frac{i X_{qt1 qc s0 p01} \\left(1 - e^{i \\theta_{U qt0 qc s0}}\\right) e^{i \\phi_{U qt0 qc s0}}}{2} & \\frac{X_{qt1 qc s0 p01} \\left(e^{i \\theta_{U qt0 qc s0}} + 1\\right) e^{i \\left(\\lambda_{U qt0 qc s0} + \\phi_{U qt0 qc s0}\\right)}}{2}\\\\X_{qt1 qc s0 p10} \\left(\\frac{e^{i \\theta_{U qt0 qc s0}}}{2} + \\frac{1}{2}\\right) & - \\frac{i X_{qt1 qc s0 p10} \\left(1 - e^{i \\theta_{U qt0 qc s0}}\\right) e^{i \\lambda_{U qt0 qc s0}}}{2} & 0 & 0\\\\\\frac{i X_{qt1 qc s0 p10} \\left(1 - e^{i \\theta_{U qt0 qc s0}}\\right) e^{i \\phi_{U qt0 qc s0}}}{2} & \\frac{X_{qt1 qc s0 p10} \\left(e^{i \\theta_{U qt0 qc s0}} + 1\\right) e^{i \\left(\\lambda_{U qt0 qc s0} + \\phi_{U qt0 qc s0}\\right)}}{2} & 0 & 0\\end{matrix}\\right]$"
      ],
      "text/plain": [
       "Matrix([\n",
       "[                                                                        0,                                                                                              0,                        X_qt1_qc_s0_p01*(exp(I*theta_U_qt0_qc_s0)/2 + 1/2),                  -I*X_qt1_qc_s0_p01*(1 - exp(I*theta_U_qt0_qc_s0))*exp(I*lambda_U_qt0_qc_s0)/2],\n",
       "[                                                                        0,                                                                                              0, I*X_qt1_qc_s0_p01*(1 - exp(I*theta_U_qt0_qc_s0))*exp(I*phi_U_qt0_qc_s0)/2, X_qt1_qc_s0_p01*(exp(I*theta_U_qt0_qc_s0) + 1)*exp(I*(lambda_U_qt0_qc_s0 + phi_U_qt0_qc_s0))/2],\n",
       "[                       X_qt1_qc_s0_p10*(exp(I*theta_U_qt0_qc_s0)/2 + 1/2),                  -I*X_qt1_qc_s0_p10*(1 - exp(I*theta_U_qt0_qc_s0))*exp(I*lambda_U_qt0_qc_s0)/2,                                                                         0,                                                                                              0],\n",
       "[I*X_qt1_qc_s0_p10*(1 - exp(I*theta_U_qt0_qc_s0))*exp(I*phi_U_qt0_qc_s0)/2, X_qt1_qc_s0_p10*(exp(I*theta_U_qt0_qc_s0) + 1)*exp(I*(lambda_U_qt0_qc_s0 + phi_U_qt0_qc_s0))/2,                                                                         0,                                                                                              0]])"
      ]
     },
     "execution_count": 32,
     "metadata": {},
     "output_type": "execute_result"
    }
   ],
   "source": [
    "qcs2.subs_symbolic_zeros_in_symbolic_unitary()\n",
    "qcs2.unitary"
   ]
  },
  {
   "cell_type": "code",
   "execution_count": 33,
   "metadata": {},
   "outputs": [
    {
     "data": {
      "text/latex": [
       "$\\displaystyle \\left[\\begin{matrix}0 & 0 & \\frac{e^{i \\theta_{U qt0 qc s0}}}{2} + \\frac{1}{2} & - \\frac{i \\left(1 - e^{i \\theta_{U qt0 qc s0}}\\right) e^{i \\lambda_{U qt0 qc s0}}}{2}\\\\0 & 0 & \\frac{i \\left(1 - e^{i \\theta_{U qt0 qc s0}}\\right) e^{i \\phi_{U qt0 qc s0}}}{2} & \\frac{\\left(e^{i \\theta_{U qt0 qc s0}} + 1\\right) e^{i \\left(\\lambda_{U qt0 qc s0} + \\phi_{U qt0 qc s0}\\right)}}{2}\\\\\\frac{e^{i \\theta_{U qt0 qc s0}}}{2} + \\frac{1}{2} & - \\frac{i \\left(1 - e^{i \\theta_{U qt0 qc s0}}\\right) e^{i \\lambda_{U qt0 qc s0}}}{2} & 0 & 0\\\\\\frac{i \\left(1 - e^{i \\theta_{U qt0 qc s0}}\\right) e^{i \\phi_{U qt0 qc s0}}}{2} & \\frac{\\left(e^{i \\theta_{U qt0 qc s0}} + 1\\right) e^{i \\left(\\lambda_{U qt0 qc s0} + \\phi_{U qt0 qc s0}\\right)}}{2} & 0 & 0\\end{matrix}\\right]$"
      ],
      "text/plain": [
       "Matrix([\n",
       "[                                                        0,                                                                              0,                          exp(I*theta_U_qt0_qc_s0)/2 + 1/2,                  -I*(1 - exp(I*theta_U_qt0_qc_s0))*exp(I*lambda_U_qt0_qc_s0)/2],\n",
       "[                                                        0,                                                                              0, I*(1 - exp(I*theta_U_qt0_qc_s0))*exp(I*phi_U_qt0_qc_s0)/2, (exp(I*theta_U_qt0_qc_s0) + 1)*exp(I*(lambda_U_qt0_qc_s0 + phi_U_qt0_qc_s0))/2],\n",
       "[                         exp(I*theta_U_qt0_qc_s0)/2 + 1/2,                  -I*(1 - exp(I*theta_U_qt0_qc_s0))*exp(I*lambda_U_qt0_qc_s0)/2,                                                         0,                                                                              0],\n",
       "[I*(1 - exp(I*theta_U_qt0_qc_s0))*exp(I*phi_U_qt0_qc_s0)/2, (exp(I*theta_U_qt0_qc_s0) + 1)*exp(I*(lambda_U_qt0_qc_s0 + phi_U_qt0_qc_s0))/2,                                                         0,                                                                              0]])"
      ]
     },
     "execution_count": 33,
     "metadata": {},
     "output_type": "execute_result"
    }
   ],
   "source": [
    "qcs2.create_numeric_unitary_from_symbolic()\n",
    "qcs2.unitary_numeric"
   ]
  },
  {
   "cell_type": "code",
   "execution_count": 34,
   "metadata": {},
   "outputs": [
    {
     "name": "stdout",
     "output_type": "stream",
     "text": [
      "Included filenames: stdgates.inc\n",
      "(2, 2)\n",
      "(4, 4)\n",
      "(2, 2)\n",
      "(2, 2)\n"
     ]
    }
   ],
   "source": [
    "qc_imported = QSymPy.openqasm3_to_qc('test.qasm')\n",
    "#qc_imported = QSymPy.openqasm3_to_qc('HHL_circuit_Qiskit_2x2.qasm3')"
   ]
  },
  {
   "cell_type": "code",
   "execution_count": 35,
   "metadata": {},
   "outputs": [
    {
     "data": {
      "text/latex": [
       "$\\displaystyle \\left[\\begin{matrix}CX_{I qt1 qc0 s1 p00} H_{qt0 qc s0 p00} & CX_{I qt1 qc0 s1 p00} H_{qt0 qc s0 p01} & CX_{I qt1 qc0 s1 p01} H_{qt0 qc s0 p00} & CX_{I qt1 qc0 s1 p01} H_{qt0 qc s0 p01}\\\\CX_{X qt1 qc0 s1 p00} H_{qt0 qc s0 p10} & CX_{X qt1 qc0 s1 p00} H_{qt0 qc s0 p11} & CX_{X qt1 qc0 s1 p01} H_{qt0 qc s0 p10} & CX_{X qt1 qc0 s1 p01} H_{qt0 qc s0 p11}\\\\CX_{I qt1 qc0 s1 p10} H_{qt0 qc s0 p00} & CX_{I qt1 qc0 s1 p10} H_{qt0 qc s0 p01} & CX_{I qt1 qc0 s1 p11} H_{qt0 qc s0 p00} & CX_{I qt1 qc0 s1 p11} H_{qt0 qc s0 p01}\\\\CX_{X qt1 qc0 s1 p10} H_{qt0 qc s0 p10} & CX_{X qt1 qc0 s1 p10} H_{qt0 qc s0 p11} & CX_{X qt1 qc0 s1 p11} H_{qt0 qc s0 p10} & CX_{X qt1 qc0 s1 p11} H_{qt0 qc s0 p11}\\end{matrix}\\right]$"
      ],
      "text/plain": [
       "Matrix([\n",
       "[CX_I_qt1_qc0_s1_p00*H_qt0_qc_s0_p00, CX_I_qt1_qc0_s1_p00*H_qt0_qc_s0_p01, CX_I_qt1_qc0_s1_p01*H_qt0_qc_s0_p00, CX_I_qt1_qc0_s1_p01*H_qt0_qc_s0_p01],\n",
       "[CX_X_qt1_qc0_s1_p00*H_qt0_qc_s0_p10, CX_X_qt1_qc0_s1_p00*H_qt0_qc_s0_p11, CX_X_qt1_qc0_s1_p01*H_qt0_qc_s0_p10, CX_X_qt1_qc0_s1_p01*H_qt0_qc_s0_p11],\n",
       "[CX_I_qt1_qc0_s1_p10*H_qt0_qc_s0_p00, CX_I_qt1_qc0_s1_p10*H_qt0_qc_s0_p01, CX_I_qt1_qc0_s1_p11*H_qt0_qc_s0_p00, CX_I_qt1_qc0_s1_p11*H_qt0_qc_s0_p01],\n",
       "[CX_X_qt1_qc0_s1_p10*H_qt0_qc_s0_p10, CX_X_qt1_qc0_s1_p10*H_qt0_qc_s0_p11, CX_X_qt1_qc0_s1_p11*H_qt0_qc_s0_p10, CX_X_qt1_qc0_s1_p11*H_qt0_qc_s0_p11]])"
      ]
     },
     "execution_count": 35,
     "metadata": {},
     "output_type": "execute_result"
    }
   ],
   "source": [
    "qc_imported.assemble_symbolic_unitary()\n",
    "qc_imported.unitary"
   ]
  },
  {
   "cell_type": "code",
   "execution_count": 36,
   "metadata": {},
   "outputs": [
    {
     "name": "stdout",
     "output_type": "stream",
     "text": [
      "(4, 4)\n",
      "(2, 2)\n",
      "(2, 2)\n"
     ]
    },
    {
     "data": {
      "text/latex": [
       "$\\displaystyle \\left[\\begin{matrix}CX_{new I qt0 qc1 s0 p00} & CX_{new I qt0 qc1 s0 p01} & 0 & 0 & 0 & 0 & 0 & 0\\\\CX_{new I qt0 qc1 s0 p10} & CX_{new I qt0 qc1 s0 p11} & 0 & 0 & 0 & 0 & 0 & 0\\\\0 & 0 & CX_{new X qt0 qc1 s0 p00} & CX_{new X qt0 qc1 s0 p01} & 0 & 0 & 0 & 0\\\\0 & 0 & CX_{new X qt0 qc1 s0 p10} & CX_{new X qt0 qc1 s0 p11} & 0 & 0 & 0 & 0\\\\0 & 0 & 0 & 0 & CX_{new I qt0 qc1 s0 p00} & CX_{new I qt0 qc1 s0 p01} & 0 & 0\\\\0 & 0 & 0 & 0 & CX_{new I qt0 qc1 s0 p10} & CX_{new I qt0 qc1 s0 p11} & 0 & 0\\\\0 & 0 & 0 & 0 & 0 & 0 & CX_{new X qt0 qc1 s0 p00} & CX_{new X qt0 qc1 s0 p01}\\\\0 & 0 & 0 & 0 & 0 & 0 & CX_{new X qt0 qc1 s0 p10} & CX_{new X qt0 qc1 s0 p11}\\end{matrix}\\right]$"
      ],
      "text/plain": [
       "Matrix([\n",
       "[CX_new_I_qt0_qc1_s0_p00, CX_new_I_qt0_qc1_s0_p01,                       0,                       0,                       0,                       0,                       0,                       0],\n",
       "[CX_new_I_qt0_qc1_s0_p10, CX_new_I_qt0_qc1_s0_p11,                       0,                       0,                       0,                       0,                       0,                       0],\n",
       "[                      0,                       0, CX_new_X_qt0_qc1_s0_p00, CX_new_X_qt0_qc1_s0_p01,                       0,                       0,                       0,                       0],\n",
       "[                      0,                       0, CX_new_X_qt0_qc1_s0_p10, CX_new_X_qt0_qc1_s0_p11,                       0,                       0,                       0,                       0],\n",
       "[                      0,                       0,                       0,                       0, CX_new_I_qt0_qc1_s0_p00, CX_new_I_qt0_qc1_s0_p01,                       0,                       0],\n",
       "[                      0,                       0,                       0,                       0, CX_new_I_qt0_qc1_s0_p10, CX_new_I_qt0_qc1_s0_p11,                       0,                       0],\n",
       "[                      0,                       0,                       0,                       0,                       0,                       0, CX_new_X_qt0_qc1_s0_p00, CX_new_X_qt0_qc1_s0_p01],\n",
       "[                      0,                       0,                       0,                       0,                       0,                       0, CX_new_X_qt0_qc1_s0_p10, CX_new_X_qt0_qc1_s0_p11]])"
      ]
     },
     "execution_count": 36,
     "metadata": {},
     "output_type": "execute_result"
    }
   ],
   "source": [
    "qcs4 = QSymPy.QuantumCircuit(num_qubits=3, num_clbits=2)\n",
    "qcs4.add_gate(name='CX_new', qubits_t=[0], qubits_c=[1], step=0)\n",
    "qcs4.assemble_symbolic_unitary()\n",
    "qcs4.unitary"
   ]
  },
  {
   "cell_type": "code",
   "execution_count": 37,
   "metadata": {},
   "outputs": [
    {
     "data": {
      "text/latex": [
       "$\\displaystyle \\left[\\begin{matrix}CX_{new qt0 qc1 s0 p00} & CX_{new qt0 qc1 s0 p01} & CX_{new qt0 qc1 s0 p02} & CX_{new qt0 qc1 s0 p03}\\\\CX_{new qt0 qc1 s0 p10} & CX_{new qt0 qc1 s0 p11} & CX_{new qt0 qc1 s0 p12} & CX_{new qt0 qc1 s0 p13}\\\\CX_{new qt0 qc1 s0 p20} & CX_{new qt0 qc1 s0 p21} & CX_{new qt0 qc1 s0 p22} & CX_{new qt0 qc1 s0 p23}\\\\CX_{new qt0 qc1 s0 p30} & CX_{new qt0 qc1 s0 p31} & CX_{new qt0 qc1 s0 p32} & CX_{new qt0 qc1 s0 p33}\\end{matrix}\\right]$"
      ],
      "text/plain": [
       "Matrix([\n",
       "[CX_new_qt0_qc1_s0_p00, CX_new_qt0_qc1_s0_p01, CX_new_qt0_qc1_s0_p02, CX_new_qt0_qc1_s0_p03],\n",
       "[CX_new_qt0_qc1_s0_p10, CX_new_qt0_qc1_s0_p11, CX_new_qt0_qc1_s0_p12, CX_new_qt0_qc1_s0_p13],\n",
       "[CX_new_qt0_qc1_s0_p20, CX_new_qt0_qc1_s0_p21, CX_new_qt0_qc1_s0_p22, CX_new_qt0_qc1_s0_p23],\n",
       "[CX_new_qt0_qc1_s0_p30, CX_new_qt0_qc1_s0_p31, CX_new_qt0_qc1_s0_p32, CX_new_qt0_qc1_s0_p33]])"
      ]
     },
     "execution_count": 37,
     "metadata": {},
     "output_type": "execute_result"
    }
   ],
   "source": [
    "qcs4.gate_collection.collections['CX_new'][0].matrix"
   ]
  },
  {
   "cell_type": "code",
   "execution_count": 38,
   "metadata": {},
   "outputs": [
    {
     "data": {
      "text/plain": [
       "{'00': CX_new_qt0_qc1_s0_p00,\n",
       " '01': CX_new_qt0_qc1_s0_p01,\n",
       " '02': CX_new_qt0_qc1_s0_p02,\n",
       " '03': CX_new_qt0_qc1_s0_p03,\n",
       " '10': CX_new_qt0_qc1_s0_p10,\n",
       " '11': CX_new_qt0_qc1_s0_p11,\n",
       " '12': CX_new_qt0_qc1_s0_p12,\n",
       " '13': CX_new_qt0_qc1_s0_p13,\n",
       " '20': CX_new_qt0_qc1_s0_p20,\n",
       " '21': CX_new_qt0_qc1_s0_p21,\n",
       " '22': CX_new_qt0_qc1_s0_p22,\n",
       " '23': CX_new_qt0_qc1_s0_p23,\n",
       " '30': CX_new_qt0_qc1_s0_p30,\n",
       " '31': CX_new_qt0_qc1_s0_p31,\n",
       " '32': CX_new_qt0_qc1_s0_p32,\n",
       " '33': CX_new_qt0_qc1_s0_p33}"
      ]
     },
     "execution_count": 38,
     "metadata": {},
     "output_type": "execute_result"
    }
   ],
   "source": [
    "qcs4.gate_collection.collections['CX_new'][0].atomics"
   ]
  },
  {
   "cell_type": "code",
   "execution_count": 39,
   "metadata": {},
   "outputs": [
    {
     "data": {
      "text/latex": [
       "$\\displaystyle \\left[\\begin{matrix}CX_{new I qt0 qc1 s0 p00} & CX_{new I qt0 qc1 s0 p01} & 0 & 0 & 0 & 0 & 0 & 0\\\\CX_{new I qt0 qc1 s0 p10} & CX_{new I qt0 qc1 s0 p11} & 0 & 0 & 0 & 0 & 0 & 0\\\\0 & 0 & CX_{new X qt0 qc1 s0 p00} & CX_{new X qt0 qc1 s0 p01} & 0 & 0 & 0 & 0\\\\0 & 0 & CX_{new X qt0 qc1 s0 p10} & CX_{new X qt0 qc1 s0 p11} & 0 & 0 & 0 & 0\\\\0 & 0 & 0 & 0 & CX_{new I qt0 qc1 s0 p00} & CX_{new I qt0 qc1 s0 p01} & 0 & 0\\\\0 & 0 & 0 & 0 & CX_{new I qt0 qc1 s0 p10} & CX_{new I qt0 qc1 s0 p11} & 0 & 0\\\\0 & 0 & 0 & 0 & 0 & 0 & CX_{new X qt0 qc1 s0 p00} & CX_{new X qt0 qc1 s0 p01}\\\\0 & 0 & 0 & 0 & 0 & 0 & CX_{new X qt0 qc1 s0 p10} & CX_{new X qt0 qc1 s0 p11}\\end{matrix}\\right]$"
      ],
      "text/plain": [
       "Matrix([\n",
       "[CX_new_I_qt0_qc1_s0_p00, CX_new_I_qt0_qc1_s0_p01,                       0,                       0,                       0,                       0,                       0,                       0],\n",
       "[CX_new_I_qt0_qc1_s0_p10, CX_new_I_qt0_qc1_s0_p11,                       0,                       0,                       0,                       0,                       0,                       0],\n",
       "[                      0,                       0, CX_new_X_qt0_qc1_s0_p00, CX_new_X_qt0_qc1_s0_p01,                       0,                       0,                       0,                       0],\n",
       "[                      0,                       0, CX_new_X_qt0_qc1_s0_p10, CX_new_X_qt0_qc1_s0_p11,                       0,                       0,                       0,                       0],\n",
       "[                      0,                       0,                       0,                       0, CX_new_I_qt0_qc1_s0_p00, CX_new_I_qt0_qc1_s0_p01,                       0,                       0],\n",
       "[                      0,                       0,                       0,                       0, CX_new_I_qt0_qc1_s0_p10, CX_new_I_qt0_qc1_s0_p11,                       0,                       0],\n",
       "[                      0,                       0,                       0,                       0,                       0,                       0, CX_new_X_qt0_qc1_s0_p00, CX_new_X_qt0_qc1_s0_p01],\n",
       "[                      0,                       0,                       0,                       0,                       0,                       0, CX_new_X_qt0_qc1_s0_p10, CX_new_X_qt0_qc1_s0_p11]])"
      ]
     },
     "execution_count": 39,
     "metadata": {},
     "output_type": "execute_result"
    }
   ],
   "source": [
    "qcs4.assemble_symbolic_unitary()\n",
    "qcs4.unitary"
   ]
  },
  {
   "cell_type": "code",
   "execution_count": 40,
   "metadata": {},
   "outputs": [
    {
     "data": {
      "text/latex": [
       "$\\displaystyle \\left[\\begin{matrix}CX_{new I qt0 qc1 s0 p00} & 0 & 0 & 0 & 0 & 0 & 0 & 0\\\\0 & CX_{new I qt0 qc1 s0 p11} & 0 & 0 & 0 & 0 & 0 & 0\\\\0 & 0 & 0 & CX_{new X qt0 qc1 s0 p01} & 0 & 0 & 0 & 0\\\\0 & 0 & CX_{new X qt0 qc1 s0 p10} & 0 & 0 & 0 & 0 & 0\\\\0 & 0 & 0 & 0 & CX_{new I qt0 qc1 s0 p00} & 0 & 0 & 0\\\\0 & 0 & 0 & 0 & 0 & CX_{new I qt0 qc1 s0 p11} & 0 & 0\\\\0 & 0 & 0 & 0 & 0 & 0 & 0 & CX_{new X qt0 qc1 s0 p01}\\\\0 & 0 & 0 & 0 & 0 & 0 & CX_{new X qt0 qc1 s0 p10} & 0\\end{matrix}\\right]$"
      ],
      "text/plain": [
       "Matrix([\n",
       "[CX_new_I_qt0_qc1_s0_p00,                       0,                       0,                       0,                       0,                       0,                       0,                       0],\n",
       "[                      0, CX_new_I_qt0_qc1_s0_p11,                       0,                       0,                       0,                       0,                       0,                       0],\n",
       "[                      0,                       0,                       0, CX_new_X_qt0_qc1_s0_p01,                       0,                       0,                       0,                       0],\n",
       "[                      0,                       0, CX_new_X_qt0_qc1_s0_p10,                       0,                       0,                       0,                       0,                       0],\n",
       "[                      0,                       0,                       0,                       0, CX_new_I_qt0_qc1_s0_p00,                       0,                       0,                       0],\n",
       "[                      0,                       0,                       0,                       0,                       0, CX_new_I_qt0_qc1_s0_p11,                       0,                       0],\n",
       "[                      0,                       0,                       0,                       0,                       0,                       0,                       0, CX_new_X_qt0_qc1_s0_p01],\n",
       "[                      0,                       0,                       0,                       0,                       0,                       0, CX_new_X_qt0_qc1_s0_p10,                       0]])"
      ]
     },
     "execution_count": 40,
     "metadata": {},
     "output_type": "execute_result"
    }
   ],
   "source": [
    "qcs4.subs_symbolic_zeros_in_symbolic_unitary()\n",
    "qcs4.unitary"
   ]
  },
  {
   "cell_type": "code",
   "execution_count": 41,
   "metadata": {},
   "outputs": [
    {
     "data": {
      "text/plain": [
       "{0,\n",
       " CX_new_I_qt0_qc1_s0_p00,\n",
       " CX_new_I_qt0_qc1_s0_p11,\n",
       " CX_new_X_qt0_qc1_s0_p01,\n",
       " CX_new_X_qt0_qc1_s0_p10}"
      ]
     },
     "execution_count": 41,
     "metadata": {},
     "output_type": "execute_result"
    }
   ],
   "source": [
    "qcs4.unitary.atoms()"
   ]
  },
  {
   "cell_type": "code",
   "execution_count": 42,
   "metadata": {},
   "outputs": [
    {
     "data": {
      "text/latex": [
       "$\\displaystyle \\left[\\begin{matrix}CX_{new I qt0 qc1 s0 p00} & 0 & 0 & 0 & 0 & 0 & 0 & 0\\\\0 & CX_{new I qt0 qc1 s0 p11} & 0 & 0 & 0 & 0 & 0 & 0\\\\0 & 0 & 0 & -1 & 0 & 0 & 0 & 0\\\\0 & 0 & CX_{new X qt0 qc1 s0 p10} & 0 & 0 & 0 & 0 & 0\\\\0 & 0 & 0 & 0 & CX_{new I qt0 qc1 s0 p00} & 0 & 0 & 0\\\\0 & 0 & 0 & 0 & 0 & CX_{new I qt0 qc1 s0 p11} & 0 & 0\\\\0 & 0 & 0 & 0 & 0 & 0 & 0 & -1\\\\0 & 0 & 0 & 0 & 0 & 0 & CX_{new X qt0 qc1 s0 p10} & 0\\end{matrix}\\right]$"
      ],
      "text/plain": [
       "Matrix([\n",
       "[CX_new_I_qt0_qc1_s0_p00,                       0,                       0,  0,                       0,                       0,                       0,  0],\n",
       "[                      0, CX_new_I_qt0_qc1_s0_p11,                       0,  0,                       0,                       0,                       0,  0],\n",
       "[                      0,                       0,                       0, -1,                       0,                       0,                       0,  0],\n",
       "[                      0,                       0, CX_new_X_qt0_qc1_s0_p10,  0,                       0,                       0,                       0,  0],\n",
       "[                      0,                       0,                       0,  0, CX_new_I_qt0_qc1_s0_p00,                       0,                       0,  0],\n",
       "[                      0,                       0,                       0,  0,                       0, CX_new_I_qt0_qc1_s0_p11,                       0,  0],\n",
       "[                      0,                       0,                       0,  0,                       0,                       0,                       0, -1],\n",
       "[                      0,                       0,                       0,  0,                       0,                       0, CX_new_X_qt0_qc1_s0_p10,  0]])"
      ]
     },
     "execution_count": 42,
     "metadata": {},
     "output_type": "execute_result"
    }
   ],
   "source": [
    "qcs4.unitary.subs({'CX_new_X_qt0_qc1_s0_p01': -1})"
   ]
  },
  {
   "cell_type": "code",
   "execution_count": 43,
   "metadata": {},
   "outputs": [
    {
     "data": {
      "text/latex": [
       "$\\displaystyle \\left[\\begin{matrix}1 & 0 & 0 & 0 & 0 & 0 & 0 & 0\\\\0 & 1 & 0 & 0 & 0 & 0 & 0 & 0\\\\0 & 0 & 0 & 1 & 0 & 0 & 0 & 0\\\\0 & 0 & 1 & 0 & 0 & 0 & 0 & 0\\\\0 & 0 & 0 & 0 & 1 & 0 & 0 & 0\\\\0 & 0 & 0 & 0 & 0 & 1 & 0 & 0\\\\0 & 0 & 0 & 0 & 0 & 0 & 0 & 1\\\\0 & 0 & 0 & 0 & 0 & 0 & 1 & 0\\end{matrix}\\right]$"
      ],
      "text/plain": [
       "Matrix([\n",
       "[1, 0, 0, 0, 0, 0, 0, 0],\n",
       "[0, 1, 0, 0, 0, 0, 0, 0],\n",
       "[0, 0, 0, 1, 0, 0, 0, 0],\n",
       "[0, 0, 1, 0, 0, 0, 0, 0],\n",
       "[0, 0, 0, 0, 1, 0, 0, 0],\n",
       "[0, 0, 0, 0, 0, 1, 0, 0],\n",
       "[0, 0, 0, 0, 0, 0, 0, 1],\n",
       "[0, 0, 0, 0, 0, 0, 1, 0]])"
      ]
     },
     "execution_count": 43,
     "metadata": {},
     "output_type": "execute_result"
    }
   ],
   "source": [
    "qcs4.create_numeric_unitary_from_symbolic()\n",
    "qcs4.unitary_numeric"
   ]
  },
  {
   "cell_type": "code",
   "execution_count": 44,
   "metadata": {},
   "outputs": [
    {
     "name": "stdout",
     "output_type": "stream",
     "text": [
      "(8, 8)\n",
      "(2, 2)\n",
      "(2, 2)\n",
      "(2, 2)\n",
      "(2, 2)\n"
     ]
    },
    {
     "data": {
      "text/latex": [
       "$\\displaystyle \\left[\\begin{matrix}CCX_{new I qt0 qc12 s0 p00} & CCX_{new I qt0 qc12 s0 p01} & 0 & 0 & 0 & 0 & 0 & 0\\\\CCX_{new I qt0 qc12 s0 p10} & CCX_{new I qt0 qc12 s0 p11} & 0 & 0 & 0 & 0 & 0 & 0\\\\0 & 0 & CCX_{new I qt0 qc12 s0 p00} & CCX_{new I qt0 qc12 s0 p01} & 0 & 0 & 0 & 0\\\\0 & 0 & CCX_{new I qt0 qc12 s0 p10} & CCX_{new I qt0 qc12 s0 p11} & 0 & 0 & 0 & 0\\\\0 & 0 & 0 & 0 & CCX_{new I qt0 qc12 s0 p00} & CCX_{new I qt0 qc12 s0 p01} & 0 & 0\\\\0 & 0 & 0 & 0 & CCX_{new I qt0 qc12 s0 p10} & CCX_{new I qt0 qc12 s0 p11} & 0 & 0\\\\0 & 0 & 0 & 0 & 0 & 0 & CCX_{new X qt0 qc12 s0 p00} & CCX_{new X qt0 qc12 s0 p01}\\\\0 & 0 & 0 & 0 & 0 & 0 & CCX_{new X qt0 qc12 s0 p10} & CCX_{new X qt0 qc12 s0 p11}\\end{matrix}\\right]$"
      ],
      "text/plain": [
       "Matrix([\n",
       "[CCX_new_I_qt0_qc12_s0_p00, CCX_new_I_qt0_qc12_s0_p01,                         0,                         0,                         0,                         0,                         0,                         0],\n",
       "[CCX_new_I_qt0_qc12_s0_p10, CCX_new_I_qt0_qc12_s0_p11,                         0,                         0,                         0,                         0,                         0,                         0],\n",
       "[                        0,                         0, CCX_new_I_qt0_qc12_s0_p00, CCX_new_I_qt0_qc12_s0_p01,                         0,                         0,                         0,                         0],\n",
       "[                        0,                         0, CCX_new_I_qt0_qc12_s0_p10, CCX_new_I_qt0_qc12_s0_p11,                         0,                         0,                         0,                         0],\n",
       "[                        0,                         0,                         0,                         0, CCX_new_I_qt0_qc12_s0_p00, CCX_new_I_qt0_qc12_s0_p01,                         0,                         0],\n",
       "[                        0,                         0,                         0,                         0, CCX_new_I_qt0_qc12_s0_p10, CCX_new_I_qt0_qc12_s0_p11,                         0,                         0],\n",
       "[                        0,                         0,                         0,                         0,                         0,                         0, CCX_new_X_qt0_qc12_s0_p00, CCX_new_X_qt0_qc12_s0_p01],\n",
       "[                        0,                         0,                         0,                         0,                         0,                         0, CCX_new_X_qt0_qc12_s0_p10, CCX_new_X_qt0_qc12_s0_p11]])"
      ]
     },
     "execution_count": 44,
     "metadata": {},
     "output_type": "execute_result"
    }
   ],
   "source": [
    "qcs5 = QSymPy.QuantumCircuit(num_qubits=3, num_clbits=2)\n",
    "qcs5.add_gate(name='CCX_new', qubits_t=[0], qubits_c=[1, 2], step=0)\n",
    "qcs5.assemble_symbolic_unitary()\n",
    "qcs5.unitary"
   ]
  },
  {
   "cell_type": "code",
   "execution_count": 45,
   "metadata": {},
   "outputs": [
    {
     "data": {
      "text/latex": [
       "$\\displaystyle \\left[\\begin{matrix}1 & 0 & 0 & 0 & 0 & 0 & 0 & 0\\\\0 & 1 & 0 & 0 & 0 & 0 & 0 & 0\\\\0 & 0 & 1 & 0 & 0 & 0 & 0 & 0\\\\0 & 0 & 0 & 1 & 0 & 0 & 0 & 0\\\\0 & 0 & 0 & 0 & 1 & 0 & 0 & 0\\\\0 & 0 & 0 & 0 & 0 & 1 & 0 & 0\\\\0 & 0 & 0 & 0 & 0 & 0 & 0 & 1\\\\0 & 0 & 0 & 0 & 0 & 0 & 1 & 0\\end{matrix}\\right]$"
      ],
      "text/plain": [
       "Matrix([\n",
       "[1, 0, 0, 0, 0, 0, 0, 0],\n",
       "[0, 1, 0, 0, 0, 0, 0, 0],\n",
       "[0, 0, 1, 0, 0, 0, 0, 0],\n",
       "[0, 0, 0, 1, 0, 0, 0, 0],\n",
       "[0, 0, 0, 0, 1, 0, 0, 0],\n",
       "[0, 0, 0, 0, 0, 1, 0, 0],\n",
       "[0, 0, 0, 0, 0, 0, 0, 1],\n",
       "[0, 0, 0, 0, 0, 0, 1, 0]])"
      ]
     },
     "execution_count": 45,
     "metadata": {},
     "output_type": "execute_result"
    }
   ],
   "source": [
    "qcs5.create_numeric_unitary_from_symbolic()\n",
    "qcs5.unitary_numeric"
   ]
  },
  {
   "cell_type": "code",
   "execution_count": 46,
   "metadata": {},
   "outputs": [
    {
     "data": {
      "text/latex": [
       "$\\displaystyle \\left[\\begin{matrix}CCX_{new qt0 qc12 s0 p00} & CCX_{new qt0 qc12 s0 p01} & CCX_{new qt0 qc12 s0 p02} & CCX_{new qt0 qc12 s0 p03} & CCX_{new qt0 qc12 s0 p04} & CCX_{new qt0 qc12 s0 p05} & CCX_{new qt0 qc12 s0 p06} & CCX_{new qt0 qc12 s0 p07}\\\\CCX_{new qt0 qc12 s0 p10} & CCX_{new qt0 qc12 s0 p11} & CCX_{new qt0 qc12 s0 p12} & CCX_{new qt0 qc12 s0 p13} & CCX_{new qt0 qc12 s0 p14} & CCX_{new qt0 qc12 s0 p15} & CCX_{new qt0 qc12 s0 p16} & CCX_{new qt0 qc12 s0 p17}\\\\CCX_{new qt0 qc12 s0 p20} & CCX_{new qt0 qc12 s0 p21} & CCX_{new qt0 qc12 s0 p22} & CCX_{new qt0 qc12 s0 p23} & CCX_{new qt0 qc12 s0 p24} & CCX_{new qt0 qc12 s0 p25} & CCX_{new qt0 qc12 s0 p26} & CCX_{new qt0 qc12 s0 p27}\\\\CCX_{new qt0 qc12 s0 p30} & CCX_{new qt0 qc12 s0 p31} & CCX_{new qt0 qc12 s0 p32} & CCX_{new qt0 qc12 s0 p33} & CCX_{new qt0 qc12 s0 p34} & CCX_{new qt0 qc12 s0 p35} & CCX_{new qt0 qc12 s0 p36} & CCX_{new qt0 qc12 s0 p37}\\\\CCX_{new qt0 qc12 s0 p40} & CCX_{new qt0 qc12 s0 p41} & CCX_{new qt0 qc12 s0 p42} & CCX_{new qt0 qc12 s0 p43} & CCX_{new qt0 qc12 s0 p44} & CCX_{new qt0 qc12 s0 p45} & CCX_{new qt0 qc12 s0 p46} & CCX_{new qt0 qc12 s0 p47}\\\\CCX_{new qt0 qc12 s0 p50} & CCX_{new qt0 qc12 s0 p51} & CCX_{new qt0 qc12 s0 p52} & CCX_{new qt0 qc12 s0 p53} & CCX_{new qt0 qc12 s0 p54} & CCX_{new qt0 qc12 s0 p55} & CCX_{new qt0 qc12 s0 p56} & CCX_{new qt0 qc12 s0 p57}\\\\CCX_{new qt0 qc12 s0 p60} & CCX_{new qt0 qc12 s0 p61} & CCX_{new qt0 qc12 s0 p62} & CCX_{new qt0 qc12 s0 p63} & CCX_{new qt0 qc12 s0 p64} & CCX_{new qt0 qc12 s0 p65} & CCX_{new qt0 qc12 s0 p66} & CCX_{new qt0 qc12 s0 p67}\\\\CCX_{new qt0 qc12 s0 p70} & CCX_{new qt0 qc12 s0 p71} & CCX_{new qt0 qc12 s0 p72} & CCX_{new qt0 qc12 s0 p73} & CCX_{new qt0 qc12 s0 p74} & CCX_{new qt0 qc12 s0 p75} & CCX_{new qt0 qc12 s0 p76} & CCX_{new qt0 qc12 s0 p77}\\end{matrix}\\right]$"
      ],
      "text/plain": [
       "Matrix([\n",
       "[CCX_new_qt0_qc12_s0_p00, CCX_new_qt0_qc12_s0_p01, CCX_new_qt0_qc12_s0_p02, CCX_new_qt0_qc12_s0_p03, CCX_new_qt0_qc12_s0_p04, CCX_new_qt0_qc12_s0_p05, CCX_new_qt0_qc12_s0_p06, CCX_new_qt0_qc12_s0_p07],\n",
       "[CCX_new_qt0_qc12_s0_p10, CCX_new_qt0_qc12_s0_p11, CCX_new_qt0_qc12_s0_p12, CCX_new_qt0_qc12_s0_p13, CCX_new_qt0_qc12_s0_p14, CCX_new_qt0_qc12_s0_p15, CCX_new_qt0_qc12_s0_p16, CCX_new_qt0_qc12_s0_p17],\n",
       "[CCX_new_qt0_qc12_s0_p20, CCX_new_qt0_qc12_s0_p21, CCX_new_qt0_qc12_s0_p22, CCX_new_qt0_qc12_s0_p23, CCX_new_qt0_qc12_s0_p24, CCX_new_qt0_qc12_s0_p25, CCX_new_qt0_qc12_s0_p26, CCX_new_qt0_qc12_s0_p27],\n",
       "[CCX_new_qt0_qc12_s0_p30, CCX_new_qt0_qc12_s0_p31, CCX_new_qt0_qc12_s0_p32, CCX_new_qt0_qc12_s0_p33, CCX_new_qt0_qc12_s0_p34, CCX_new_qt0_qc12_s0_p35, CCX_new_qt0_qc12_s0_p36, CCX_new_qt0_qc12_s0_p37],\n",
       "[CCX_new_qt0_qc12_s0_p40, CCX_new_qt0_qc12_s0_p41, CCX_new_qt0_qc12_s0_p42, CCX_new_qt0_qc12_s0_p43, CCX_new_qt0_qc12_s0_p44, CCX_new_qt0_qc12_s0_p45, CCX_new_qt0_qc12_s0_p46, CCX_new_qt0_qc12_s0_p47],\n",
       "[CCX_new_qt0_qc12_s0_p50, CCX_new_qt0_qc12_s0_p51, CCX_new_qt0_qc12_s0_p52, CCX_new_qt0_qc12_s0_p53, CCX_new_qt0_qc12_s0_p54, CCX_new_qt0_qc12_s0_p55, CCX_new_qt0_qc12_s0_p56, CCX_new_qt0_qc12_s0_p57],\n",
       "[CCX_new_qt0_qc12_s0_p60, CCX_new_qt0_qc12_s0_p61, CCX_new_qt0_qc12_s0_p62, CCX_new_qt0_qc12_s0_p63, CCX_new_qt0_qc12_s0_p64, CCX_new_qt0_qc12_s0_p65, CCX_new_qt0_qc12_s0_p66, CCX_new_qt0_qc12_s0_p67],\n",
       "[CCX_new_qt0_qc12_s0_p70, CCX_new_qt0_qc12_s0_p71, CCX_new_qt0_qc12_s0_p72, CCX_new_qt0_qc12_s0_p73, CCX_new_qt0_qc12_s0_p74, CCX_new_qt0_qc12_s0_p75, CCX_new_qt0_qc12_s0_p76, CCX_new_qt0_qc12_s0_p77]])"
      ]
     },
     "execution_count": 46,
     "metadata": {},
     "output_type": "execute_result"
    }
   ],
   "source": [
    "qcs5.gate_collection.collections['CCX_new'][0].matrix"
   ]
  },
  {
   "cell_type": "code",
   "execution_count": 47,
   "metadata": {},
   "outputs": [
    {
     "name": "stdout",
     "output_type": "stream",
     "text": [
      "(16, 16)\n",
      "(2, 2)\n",
      "(2, 2)\n",
      "(2, 2)\n",
      "(2, 2)\n",
      "(2, 2)\n",
      "(2, 2)\n",
      "(2, 2)\n",
      "(2, 2)\n"
     ]
    },
    {
     "data": {
      "text/latex": [
       "$\\displaystyle \\left[\\begin{array}{cccccccccccccccc}CCXX_{new I qt0 qc23 s0 p00} CCXX_{new I qt1 qc23 s0 p00} & CCXX_{new I qt0 qc23 s0 p01} CCXX_{new I qt1 qc23 s0 p00} & CCXX_{new I qt0 qc23 s0 p00} CCXX_{new I qt1 qc23 s0 p01} & CCXX_{new I qt0 qc23 s0 p01} CCXX_{new I qt1 qc23 s0 p01} & 0 & 0 & 0 & 0 & 0 & 0 & 0 & 0 & 0 & 0 & 0 & 0\\\\CCXX_{new I qt0 qc23 s0 p10} CCXX_{new I qt1 qc23 s0 p00} & CCXX_{new I qt0 qc23 s0 p11} CCXX_{new I qt1 qc23 s0 p00} & CCXX_{new I qt0 qc23 s0 p10} CCXX_{new I qt1 qc23 s0 p01} & CCXX_{new I qt0 qc23 s0 p11} CCXX_{new I qt1 qc23 s0 p01} & 0 & 0 & 0 & 0 & 0 & 0 & 0 & 0 & 0 & 0 & 0 & 0\\\\CCXX_{new I qt0 qc23 s0 p00} CCXX_{new I qt1 qc23 s0 p10} & CCXX_{new I qt0 qc23 s0 p01} CCXX_{new I qt1 qc23 s0 p10} & CCXX_{new I qt0 qc23 s0 p00} CCXX_{new I qt1 qc23 s0 p11} & CCXX_{new I qt0 qc23 s0 p01} CCXX_{new I qt1 qc23 s0 p11} & 0 & 0 & 0 & 0 & 0 & 0 & 0 & 0 & 0 & 0 & 0 & 0\\\\CCXX_{new I qt0 qc23 s0 p10} CCXX_{new I qt1 qc23 s0 p10} & CCXX_{new I qt0 qc23 s0 p11} CCXX_{new I qt1 qc23 s0 p10} & CCXX_{new I qt0 qc23 s0 p10} CCXX_{new I qt1 qc23 s0 p11} & CCXX_{new I qt0 qc23 s0 p11} CCXX_{new I qt1 qc23 s0 p11} & 0 & 0 & 0 & 0 & 0 & 0 & 0 & 0 & 0 & 0 & 0 & 0\\\\0 & 0 & 0 & 0 & CCXX_{new I qt0 qc23 s0 p00} CCXX_{new I qt1 qc23 s0 p00} & CCXX_{new I qt0 qc23 s0 p01} CCXX_{new I qt1 qc23 s0 p00} & CCXX_{new I qt0 qc23 s0 p00} CCXX_{new I qt1 qc23 s0 p01} & CCXX_{new I qt0 qc23 s0 p01} CCXX_{new I qt1 qc23 s0 p01} & 0 & 0 & 0 & 0 & 0 & 0 & 0 & 0\\\\0 & 0 & 0 & 0 & CCXX_{new I qt0 qc23 s0 p10} CCXX_{new I qt1 qc23 s0 p00} & CCXX_{new I qt0 qc23 s0 p11} CCXX_{new I qt1 qc23 s0 p00} & CCXX_{new I qt0 qc23 s0 p10} CCXX_{new I qt1 qc23 s0 p01} & CCXX_{new I qt0 qc23 s0 p11} CCXX_{new I qt1 qc23 s0 p01} & 0 & 0 & 0 & 0 & 0 & 0 & 0 & 0\\\\0 & 0 & 0 & 0 & CCXX_{new I qt0 qc23 s0 p00} CCXX_{new I qt1 qc23 s0 p10} & CCXX_{new I qt0 qc23 s0 p01} CCXX_{new I qt1 qc23 s0 p10} & CCXX_{new I qt0 qc23 s0 p00} CCXX_{new I qt1 qc23 s0 p11} & CCXX_{new I qt0 qc23 s0 p01} CCXX_{new I qt1 qc23 s0 p11} & 0 & 0 & 0 & 0 & 0 & 0 & 0 & 0\\\\0 & 0 & 0 & 0 & CCXX_{new I qt0 qc23 s0 p10} CCXX_{new I qt1 qc23 s0 p10} & CCXX_{new I qt0 qc23 s0 p11} CCXX_{new I qt1 qc23 s0 p10} & CCXX_{new I qt0 qc23 s0 p10} CCXX_{new I qt1 qc23 s0 p11} & CCXX_{new I qt0 qc23 s0 p11} CCXX_{new I qt1 qc23 s0 p11} & 0 & 0 & 0 & 0 & 0 & 0 & 0 & 0\\\\0 & 0 & 0 & 0 & 0 & 0 & 0 & 0 & CCXX_{new I qt0 qc23 s0 p00} CCXX_{new I qt1 qc23 s0 p00} & CCXX_{new I qt0 qc23 s0 p01} CCXX_{new I qt1 qc23 s0 p00} & CCXX_{new I qt0 qc23 s0 p00} CCXX_{new I qt1 qc23 s0 p01} & CCXX_{new I qt0 qc23 s0 p01} CCXX_{new I qt1 qc23 s0 p01} & 0 & 0 & 0 & 0\\\\0 & 0 & 0 & 0 & 0 & 0 & 0 & 0 & CCXX_{new I qt0 qc23 s0 p10} CCXX_{new I qt1 qc23 s0 p00} & CCXX_{new I qt0 qc23 s0 p11} CCXX_{new I qt1 qc23 s0 p00} & CCXX_{new I qt0 qc23 s0 p10} CCXX_{new I qt1 qc23 s0 p01} & CCXX_{new I qt0 qc23 s0 p11} CCXX_{new I qt1 qc23 s0 p01} & 0 & 0 & 0 & 0\\\\0 & 0 & 0 & 0 & 0 & 0 & 0 & 0 & CCXX_{new I qt0 qc23 s0 p00} CCXX_{new I qt1 qc23 s0 p10} & CCXX_{new I qt0 qc23 s0 p01} CCXX_{new I qt1 qc23 s0 p10} & CCXX_{new I qt0 qc23 s0 p00} CCXX_{new I qt1 qc23 s0 p11} & CCXX_{new I qt0 qc23 s0 p01} CCXX_{new I qt1 qc23 s0 p11} & 0 & 0 & 0 & 0\\\\0 & 0 & 0 & 0 & 0 & 0 & 0 & 0 & CCXX_{new I qt0 qc23 s0 p10} CCXX_{new I qt1 qc23 s0 p10} & CCXX_{new I qt0 qc23 s0 p11} CCXX_{new I qt1 qc23 s0 p10} & CCXX_{new I qt0 qc23 s0 p10} CCXX_{new I qt1 qc23 s0 p11} & CCXX_{new I qt0 qc23 s0 p11} CCXX_{new I qt1 qc23 s0 p11} & 0 & 0 & 0 & 0\\\\0 & 0 & 0 & 0 & 0 & 0 & 0 & 0 & 0 & 0 & 0 & 0 & CCXX_{new X qt0 qc23 s0 p00} CCXX_{new X qt1 qc23 s0 p00} & CCXX_{new X qt0 qc23 s0 p01} CCXX_{new X qt1 qc23 s0 p00} & CCXX_{new X qt0 qc23 s0 p00} CCXX_{new X qt1 qc23 s0 p01} & CCXX_{new X qt0 qc23 s0 p01} CCXX_{new X qt1 qc23 s0 p01}\\\\0 & 0 & 0 & 0 & 0 & 0 & 0 & 0 & 0 & 0 & 0 & 0 & CCXX_{new X qt0 qc23 s0 p10} CCXX_{new X qt1 qc23 s0 p00} & CCXX_{new X qt0 qc23 s0 p11} CCXX_{new X qt1 qc23 s0 p00} & CCXX_{new X qt0 qc23 s0 p10} CCXX_{new X qt1 qc23 s0 p01} & CCXX_{new X qt0 qc23 s0 p11} CCXX_{new X qt1 qc23 s0 p01}\\\\0 & 0 & 0 & 0 & 0 & 0 & 0 & 0 & 0 & 0 & 0 & 0 & CCXX_{new X qt0 qc23 s0 p00} CCXX_{new X qt1 qc23 s0 p10} & CCXX_{new X qt0 qc23 s0 p01} CCXX_{new X qt1 qc23 s0 p10} & CCXX_{new X qt0 qc23 s0 p00} CCXX_{new X qt1 qc23 s0 p11} & CCXX_{new X qt0 qc23 s0 p01} CCXX_{new X qt1 qc23 s0 p11}\\\\0 & 0 & 0 & 0 & 0 & 0 & 0 & 0 & 0 & 0 & 0 & 0 & CCXX_{new X qt0 qc23 s0 p10} CCXX_{new X qt1 qc23 s0 p10} & CCXX_{new X qt0 qc23 s0 p11} CCXX_{new X qt1 qc23 s0 p10} & CCXX_{new X qt0 qc23 s0 p10} CCXX_{new X qt1 qc23 s0 p11} & CCXX_{new X qt0 qc23 s0 p11} CCXX_{new X qt1 qc23 s0 p11}\\end{array}\\right]$"
      ],
      "text/plain": [
       "Matrix([\n",
       "[CCXX_new_I_qt0_qc23_s0_p00*CCXX_new_I_qt1_qc23_s0_p00, CCXX_new_I_qt0_qc23_s0_p01*CCXX_new_I_qt1_qc23_s0_p00, CCXX_new_I_qt0_qc23_s0_p00*CCXX_new_I_qt1_qc23_s0_p01, CCXX_new_I_qt0_qc23_s0_p01*CCXX_new_I_qt1_qc23_s0_p01,                                                     0,                                                     0,                                                     0,                                                     0,                                                     0,                                                     0,                                                     0,                                                     0,                                                     0,                                                     0,                                                     0,                                                     0],\n",
       "[CCXX_new_I_qt0_qc23_s0_p10*CCXX_new_I_qt1_qc23_s0_p00, CCXX_new_I_qt0_qc23_s0_p11*CCXX_new_I_qt1_qc23_s0_p00, CCXX_new_I_qt0_qc23_s0_p10*CCXX_new_I_qt1_qc23_s0_p01, CCXX_new_I_qt0_qc23_s0_p11*CCXX_new_I_qt1_qc23_s0_p01,                                                     0,                                                     0,                                                     0,                                                     0,                                                     0,                                                     0,                                                     0,                                                     0,                                                     0,                                                     0,                                                     0,                                                     0],\n",
       "[CCXX_new_I_qt0_qc23_s0_p00*CCXX_new_I_qt1_qc23_s0_p10, CCXX_new_I_qt0_qc23_s0_p01*CCXX_new_I_qt1_qc23_s0_p10, CCXX_new_I_qt0_qc23_s0_p00*CCXX_new_I_qt1_qc23_s0_p11, CCXX_new_I_qt0_qc23_s0_p01*CCXX_new_I_qt1_qc23_s0_p11,                                                     0,                                                     0,                                                     0,                                                     0,                                                     0,                                                     0,                                                     0,                                                     0,                                                     0,                                                     0,                                                     0,                                                     0],\n",
       "[CCXX_new_I_qt0_qc23_s0_p10*CCXX_new_I_qt1_qc23_s0_p10, CCXX_new_I_qt0_qc23_s0_p11*CCXX_new_I_qt1_qc23_s0_p10, CCXX_new_I_qt0_qc23_s0_p10*CCXX_new_I_qt1_qc23_s0_p11, CCXX_new_I_qt0_qc23_s0_p11*CCXX_new_I_qt1_qc23_s0_p11,                                                     0,                                                     0,                                                     0,                                                     0,                                                     0,                                                     0,                                                     0,                                                     0,                                                     0,                                                     0,                                                     0,                                                     0],\n",
       "[                                                    0,                                                     0,                                                     0,                                                     0, CCXX_new_I_qt0_qc23_s0_p00*CCXX_new_I_qt1_qc23_s0_p00, CCXX_new_I_qt0_qc23_s0_p01*CCXX_new_I_qt1_qc23_s0_p00, CCXX_new_I_qt0_qc23_s0_p00*CCXX_new_I_qt1_qc23_s0_p01, CCXX_new_I_qt0_qc23_s0_p01*CCXX_new_I_qt1_qc23_s0_p01,                                                     0,                                                     0,                                                     0,                                                     0,                                                     0,                                                     0,                                                     0,                                                     0],\n",
       "[                                                    0,                                                     0,                                                     0,                                                     0, CCXX_new_I_qt0_qc23_s0_p10*CCXX_new_I_qt1_qc23_s0_p00, CCXX_new_I_qt0_qc23_s0_p11*CCXX_new_I_qt1_qc23_s0_p00, CCXX_new_I_qt0_qc23_s0_p10*CCXX_new_I_qt1_qc23_s0_p01, CCXX_new_I_qt0_qc23_s0_p11*CCXX_new_I_qt1_qc23_s0_p01,                                                     0,                                                     0,                                                     0,                                                     0,                                                     0,                                                     0,                                                     0,                                                     0],\n",
       "[                                                    0,                                                     0,                                                     0,                                                     0, CCXX_new_I_qt0_qc23_s0_p00*CCXX_new_I_qt1_qc23_s0_p10, CCXX_new_I_qt0_qc23_s0_p01*CCXX_new_I_qt1_qc23_s0_p10, CCXX_new_I_qt0_qc23_s0_p00*CCXX_new_I_qt1_qc23_s0_p11, CCXX_new_I_qt0_qc23_s0_p01*CCXX_new_I_qt1_qc23_s0_p11,                                                     0,                                                     0,                                                     0,                                                     0,                                                     0,                                                     0,                                                     0,                                                     0],\n",
       "[                                                    0,                                                     0,                                                     0,                                                     0, CCXX_new_I_qt0_qc23_s0_p10*CCXX_new_I_qt1_qc23_s0_p10, CCXX_new_I_qt0_qc23_s0_p11*CCXX_new_I_qt1_qc23_s0_p10, CCXX_new_I_qt0_qc23_s0_p10*CCXX_new_I_qt1_qc23_s0_p11, CCXX_new_I_qt0_qc23_s0_p11*CCXX_new_I_qt1_qc23_s0_p11,                                                     0,                                                     0,                                                     0,                                                     0,                                                     0,                                                     0,                                                     0,                                                     0],\n",
       "[                                                    0,                                                     0,                                                     0,                                                     0,                                                     0,                                                     0,                                                     0,                                                     0, CCXX_new_I_qt0_qc23_s0_p00*CCXX_new_I_qt1_qc23_s0_p00, CCXX_new_I_qt0_qc23_s0_p01*CCXX_new_I_qt1_qc23_s0_p00, CCXX_new_I_qt0_qc23_s0_p00*CCXX_new_I_qt1_qc23_s0_p01, CCXX_new_I_qt0_qc23_s0_p01*CCXX_new_I_qt1_qc23_s0_p01,                                                     0,                                                     0,                                                     0,                                                     0],\n",
       "[                                                    0,                                                     0,                                                     0,                                                     0,                                                     0,                                                     0,                                                     0,                                                     0, CCXX_new_I_qt0_qc23_s0_p10*CCXX_new_I_qt1_qc23_s0_p00, CCXX_new_I_qt0_qc23_s0_p11*CCXX_new_I_qt1_qc23_s0_p00, CCXX_new_I_qt0_qc23_s0_p10*CCXX_new_I_qt1_qc23_s0_p01, CCXX_new_I_qt0_qc23_s0_p11*CCXX_new_I_qt1_qc23_s0_p01,                                                     0,                                                     0,                                                     0,                                                     0],\n",
       "[                                                    0,                                                     0,                                                     0,                                                     0,                                                     0,                                                     0,                                                     0,                                                     0, CCXX_new_I_qt0_qc23_s0_p00*CCXX_new_I_qt1_qc23_s0_p10, CCXX_new_I_qt0_qc23_s0_p01*CCXX_new_I_qt1_qc23_s0_p10, CCXX_new_I_qt0_qc23_s0_p00*CCXX_new_I_qt1_qc23_s0_p11, CCXX_new_I_qt0_qc23_s0_p01*CCXX_new_I_qt1_qc23_s0_p11,                                                     0,                                                     0,                                                     0,                                                     0],\n",
       "[                                                    0,                                                     0,                                                     0,                                                     0,                                                     0,                                                     0,                                                     0,                                                     0, CCXX_new_I_qt0_qc23_s0_p10*CCXX_new_I_qt1_qc23_s0_p10, CCXX_new_I_qt0_qc23_s0_p11*CCXX_new_I_qt1_qc23_s0_p10, CCXX_new_I_qt0_qc23_s0_p10*CCXX_new_I_qt1_qc23_s0_p11, CCXX_new_I_qt0_qc23_s0_p11*CCXX_new_I_qt1_qc23_s0_p11,                                                     0,                                                     0,                                                     0,                                                     0],\n",
       "[                                                    0,                                                     0,                                                     0,                                                     0,                                                     0,                                                     0,                                                     0,                                                     0,                                                     0,                                                     0,                                                     0,                                                     0, CCXX_new_X_qt0_qc23_s0_p00*CCXX_new_X_qt1_qc23_s0_p00, CCXX_new_X_qt0_qc23_s0_p01*CCXX_new_X_qt1_qc23_s0_p00, CCXX_new_X_qt0_qc23_s0_p00*CCXX_new_X_qt1_qc23_s0_p01, CCXX_new_X_qt0_qc23_s0_p01*CCXX_new_X_qt1_qc23_s0_p01],\n",
       "[                                                    0,                                                     0,                                                     0,                                                     0,                                                     0,                                                     0,                                                     0,                                                     0,                                                     0,                                                     0,                                                     0,                                                     0, CCXX_new_X_qt0_qc23_s0_p10*CCXX_new_X_qt1_qc23_s0_p00, CCXX_new_X_qt0_qc23_s0_p11*CCXX_new_X_qt1_qc23_s0_p00, CCXX_new_X_qt0_qc23_s0_p10*CCXX_new_X_qt1_qc23_s0_p01, CCXX_new_X_qt0_qc23_s0_p11*CCXX_new_X_qt1_qc23_s0_p01],\n",
       "[                                                    0,                                                     0,                                                     0,                                                     0,                                                     0,                                                     0,                                                     0,                                                     0,                                                     0,                                                     0,                                                     0,                                                     0, CCXX_new_X_qt0_qc23_s0_p00*CCXX_new_X_qt1_qc23_s0_p10, CCXX_new_X_qt0_qc23_s0_p01*CCXX_new_X_qt1_qc23_s0_p10, CCXX_new_X_qt0_qc23_s0_p00*CCXX_new_X_qt1_qc23_s0_p11, CCXX_new_X_qt0_qc23_s0_p01*CCXX_new_X_qt1_qc23_s0_p11],\n",
       "[                                                    0,                                                     0,                                                     0,                                                     0,                                                     0,                                                     0,                                                     0,                                                     0,                                                     0,                                                     0,                                                     0,                                                     0, CCXX_new_X_qt0_qc23_s0_p10*CCXX_new_X_qt1_qc23_s0_p10, CCXX_new_X_qt0_qc23_s0_p11*CCXX_new_X_qt1_qc23_s0_p10, CCXX_new_X_qt0_qc23_s0_p10*CCXX_new_X_qt1_qc23_s0_p11, CCXX_new_X_qt0_qc23_s0_p11*CCXX_new_X_qt1_qc23_s0_p11]])"
      ]
     },
     "execution_count": 47,
     "metadata": {},
     "output_type": "execute_result"
    }
   ],
   "source": [
    "qcs6 = QSymPy.QuantumCircuit(num_qubits=4, num_clbits=2)\n",
    "qcs6.add_gate(name='CCXX_new', qubits_t=[0,1], qubits_c=[2, 3], step=0)\n",
    "qcs6.assemble_symbolic_unitary()\n",
    "qcs6.unitary"
   ]
  },
  {
   "cell_type": "code",
   "execution_count": 48,
   "metadata": {},
   "outputs": [
    {
     "data": {
      "text/latex": [
       "$\\displaystyle \\left[\\begin{array}{cccccccccccccccc}1 & 0 & 0 & 0 & 0 & 0 & 0 & 0 & 0 & 0 & 0 & 0 & 0 & 0 & 0 & 0\\\\0 & 1 & 0 & 0 & 0 & 0 & 0 & 0 & 0 & 0 & 0 & 0 & 0 & 0 & 0 & 0\\\\0 & 0 & 1 & 0 & 0 & 0 & 0 & 0 & 0 & 0 & 0 & 0 & 0 & 0 & 0 & 0\\\\0 & 0 & 0 & 1 & 0 & 0 & 0 & 0 & 0 & 0 & 0 & 0 & 0 & 0 & 0 & 0\\\\0 & 0 & 0 & 0 & 1 & 0 & 0 & 0 & 0 & 0 & 0 & 0 & 0 & 0 & 0 & 0\\\\0 & 0 & 0 & 0 & 0 & 1 & 0 & 0 & 0 & 0 & 0 & 0 & 0 & 0 & 0 & 0\\\\0 & 0 & 0 & 0 & 0 & 0 & 1 & 0 & 0 & 0 & 0 & 0 & 0 & 0 & 0 & 0\\\\0 & 0 & 0 & 0 & 0 & 0 & 0 & 1 & 0 & 0 & 0 & 0 & 0 & 0 & 0 & 0\\\\0 & 0 & 0 & 0 & 0 & 0 & 0 & 0 & 1 & 0 & 0 & 0 & 0 & 0 & 0 & 0\\\\0 & 0 & 0 & 0 & 0 & 0 & 0 & 0 & 0 & 1 & 0 & 0 & 0 & 0 & 0 & 0\\\\0 & 0 & 0 & 0 & 0 & 0 & 0 & 0 & 0 & 0 & 1 & 0 & 0 & 0 & 0 & 0\\\\0 & 0 & 0 & 0 & 0 & 0 & 0 & 0 & 0 & 0 & 0 & 1 & 0 & 0 & 0 & 0\\\\0 & 0 & 0 & 0 & 0 & 0 & 0 & 0 & 0 & 0 & 0 & 0 & 0 & 0 & 0 & 1\\\\0 & 0 & 0 & 0 & 0 & 0 & 0 & 0 & 0 & 0 & 0 & 0 & 0 & 0 & 1 & 0\\\\0 & 0 & 0 & 0 & 0 & 0 & 0 & 0 & 0 & 0 & 0 & 0 & 0 & 1 & 0 & 0\\\\0 & 0 & 0 & 0 & 0 & 0 & 0 & 0 & 0 & 0 & 0 & 0 & 1 & 0 & 0 & 0\\end{array}\\right]$"
      ],
      "text/plain": [
       "Matrix([\n",
       "[1, 0, 0, 0, 0, 0, 0, 0, 0, 0, 0, 0, 0, 0, 0, 0],\n",
       "[0, 1, 0, 0, 0, 0, 0, 0, 0, 0, 0, 0, 0, 0, 0, 0],\n",
       "[0, 0, 1, 0, 0, 0, 0, 0, 0, 0, 0, 0, 0, 0, 0, 0],\n",
       "[0, 0, 0, 1, 0, 0, 0, 0, 0, 0, 0, 0, 0, 0, 0, 0],\n",
       "[0, 0, 0, 0, 1, 0, 0, 0, 0, 0, 0, 0, 0, 0, 0, 0],\n",
       "[0, 0, 0, 0, 0, 1, 0, 0, 0, 0, 0, 0, 0, 0, 0, 0],\n",
       "[0, 0, 0, 0, 0, 0, 1, 0, 0, 0, 0, 0, 0, 0, 0, 0],\n",
       "[0, 0, 0, 0, 0, 0, 0, 1, 0, 0, 0, 0, 0, 0, 0, 0],\n",
       "[0, 0, 0, 0, 0, 0, 0, 0, 1, 0, 0, 0, 0, 0, 0, 0],\n",
       "[0, 0, 0, 0, 0, 0, 0, 0, 0, 1, 0, 0, 0, 0, 0, 0],\n",
       "[0, 0, 0, 0, 0, 0, 0, 0, 0, 0, 1, 0, 0, 0, 0, 0],\n",
       "[0, 0, 0, 0, 0, 0, 0, 0, 0, 0, 0, 1, 0, 0, 0, 0],\n",
       "[0, 0, 0, 0, 0, 0, 0, 0, 0, 0, 0, 0, 0, 0, 0, 1],\n",
       "[0, 0, 0, 0, 0, 0, 0, 0, 0, 0, 0, 0, 0, 0, 1, 0],\n",
       "[0, 0, 0, 0, 0, 0, 0, 0, 0, 0, 0, 0, 0, 1, 0, 0],\n",
       "[0, 0, 0, 0, 0, 0, 0, 0, 0, 0, 0, 0, 1, 0, 0, 0]])"
      ]
     },
     "execution_count": 48,
     "metadata": {},
     "output_type": "execute_result"
    }
   ],
   "source": [
    "qcs6.create_numeric_unitary_from_symbolic()\n",
    "qcs6.unitary_numeric"
   ]
  }
 ],
 "metadata": {
  "kernelspec": {
   "display_name": "Python 3",
   "language": "python",
   "name": "python3"
  },
  "language_info": {
   "codemirror_mode": {
    "name": "ipython",
    "version": 3
   },
   "file_extension": ".py",
   "mimetype": "text/x-python",
   "name": "python",
   "nbconvert_exporter": "python",
   "pygments_lexer": "ipython3",
   "version": "3.13.3"
  }
 },
 "nbformat": 4,
 "nbformat_minor": 2
}
