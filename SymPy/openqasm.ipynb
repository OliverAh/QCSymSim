{
 "cells": [
  {
   "cell_type": "code",
   "execution_count": null,
   "metadata": {},
   "outputs": [],
   "source": [
    "import qiskit\n",
    "import qiskit.qasm3\n",
    "import openqasm3\n",
    "import QSymPy\n",
    "import numpy as np\n",
    "import tqdm\n",
    "import sympy.core"
   ]
  },
  {
   "cell_type": "code",
   "execution_count": null,
   "metadata": {},
   "outputs": [],
   "source": [
    "qc = qiskit.QuantumCircuit(2)\n",
    "qc.h(0)\n",
    "qc.barrier()\n",
    "qc.cx(0, 1)\n",
    "qc.barrier()\n",
    "qc.measure_all()"
   ]
  },
  {
   "cell_type": "code",
   "execution_count": null,
   "metadata": {},
   "outputs": [],
   "source": [
    "qreg1 = qiskit.QuantumRegister(4,'qqqq')\n",
    "qc = qiskit.QuantumCircuit(qreg1)\n",
    "qc.h(qreg1)\n",
    "qc.u(np.pi/2, np.pi/4, np.pi/8, qreg1[0])\n",
    "qc.cx(qreg1[0], qreg1[1])\n"
   ]
  },
  {
   "cell_type": "code",
   "execution_count": null,
   "metadata": {},
   "outputs": [],
   "source": [
    "with open('test.qasm', 'w') as f:\n",
    "    qiskit.qasm3.dump(qc, f)"
   ]
  },
  {
   "cell_type": "code",
   "execution_count": null,
   "metadata": {},
   "outputs": [],
   "source": [
    "with open ('test.qasm', 'r') as f:\n",
    "#with open ('HHL_circuit_Qiskit_2x2.qasm3', 'r') as f:\n",
    "    qasm = f.read()\n",
    "\n",
    "print(qasm)"
   ]
  },
  {
   "cell_type": "code",
   "execution_count": null,
   "metadata": {},
   "outputs": [],
   "source": [
    "qc = QSymPy.openqasm3_to_qc('test.qasm')\n",
    "#qc = QSymPy.openqasm3_to_qc('HHL_circuit_Qiskit_2x2.qasm3')"
   ]
  },
  {
   "cell_type": "code",
   "execution_count": null,
   "metadata": {},
   "outputs": [],
   "source": [
    "print(qc.gate_collection.collections['H'])\n",
    "print(qc.gate_collection.collections['U'])\n",
    "print(qc.gate_collection.collections['X'])\n",
    "print(qc.qubits)\n",
    "for k,v in qc.gate_collection.collections.items():\n",
    "    for gate in v:\n",
    "        if gate.step == 0 and k in ('X',):\n",
    "            pass\n",
    "            print(gate.name, gate.qubits_t, gate.qubits_c, gate.parameters)\n",
    "        else:\n",
    "            pass\n",
    "            #print(gate.name, gate.qubits_t, gate.qubits_c, gate.parameters)\n",
    "            gate.treat_numeric_only = True\n"
   ]
  },
  {
   "cell_type": "code",
   "execution_count": null,
   "metadata": {},
   "outputs": [],
   "source": [
    "type(qc.gate_collection.collections['H'][0].atomics['00'])"
   ]
  },
  {
   "cell_type": "code",
   "execution_count": null,
   "metadata": {},
   "outputs": [],
   "source": [
    "qc.assemble_symbolic_unitary(use_alternative_repr=True, replace_symbolic_zeros_and_ones=False)\n",
    "#qc.unitary"
   ]
  },
  {
   "cell_type": "code",
   "execution_count": null,
   "metadata": {},
   "outputs": [],
   "source": [
    "a = qc.gate_collection.collections['H'][0].atomics['01']\n",
    "a"
   ]
  },
  {
   "cell_type": "code",
   "execution_count": null,
   "metadata": {},
   "outputs": [],
   "source": [
    "i = 0\n",
    "for e in tqdm.tqdm(sympy.core.traversal.postorder_traversal(qc.unitary)):\n",
    "    i += 1\n",
    "print(i)"
   ]
  },
  {
   "cell_type": "code",
   "execution_count": null,
   "metadata": {},
   "outputs": [],
   "source": [
    "import sympy\n",
    "import sympy.core\n",
    "import sympy.core.backend\n",
    "dir(sympy.core.backend)\n",
    "type(sympy.core.backend.diff)"
   ]
  },
  {
   "cell_type": "code",
   "execution_count": null,
   "metadata": {},
   "outputs": [],
   "source": [
    "%timeit sympy.core.backend.diff(qc.unitary, a)"
   ]
  },
  {
   "cell_type": "code",
   "execution_count": null,
   "metadata": {},
   "outputs": [],
   "source": [
    "%timeit qc.unitary.diff(a)"
   ]
  },
  {
   "cell_type": "code",
   "execution_count": null,
   "metadata": {},
   "outputs": [],
   "source": [
    "qc.unitary.free_symbols"
   ]
  },
  {
   "cell_type": "code",
   "execution_count": null,
   "metadata": {},
   "outputs": [],
   "source": [
    "qc.unitary"
   ]
  },
  {
   "cell_type": "code",
   "execution_count": null,
   "metadata": {},
   "outputs": [],
   "source": [
    "dict_replacements = {}\n",
    "for gate_type, gates in qc.gate_collection.collections.items():\n",
    "    #print(gate_type, len(gates))\n",
    "    for g in gates:\n",
    "        for q_t in g.qubits_t:\n",
    "            for i in range(len(g.matrix22_t[q_t])):\n",
    "                for symb, num in zip(g.matrix22_t[q_t][i].flat(), g.matrix22_t_numeric[q_t][i].flatten()):\n",
    "                    if num == 0:\n",
    "                        dict_replacements[symb] = 0\n",
    "                    elif num == 1:\n",
    "                        dict_replacements[symb] = 1\n",
    "dict_replacements"
   ]
  },
  {
   "cell_type": "code",
   "execution_count": null,
   "metadata": {},
   "outputs": [],
   "source": [
    "qc.assemble_symbolic_unitary(use_alternative_repr=True, replace_symbolic_zeros_and_ones=True)\n",
    "#print(qc.unitary)"
   ]
  },
  {
   "cell_type": "code",
   "execution_count": null,
   "metadata": {},
   "outputs": [],
   "source": [
    "#new_unitary = qc.unitary.xreplace(dict_replacements)"
   ]
  },
  {
   "cell_type": "code",
   "execution_count": null,
   "metadata": {},
   "outputs": [],
   "source": [
    "type(qc.unitary)\n",
    "print(qc.unitary.shape)\n"
   ]
  },
  {
   "cell_type": "code",
   "execution_count": null,
   "metadata": {},
   "outputs": [],
   "source": [
    "state = QSymPy.QuantumState(num_qubits=len(qc.qubits))\n",
    "state.set_state({k:0 for k in range(len(qc.qubits))})"
   ]
  },
  {
   "cell_type": "code",
   "execution_count": null,
   "metadata": {},
   "outputs": [],
   "source": [
    "state2 = qc.unitary @ state.state"
   ]
  },
  {
   "cell_type": "code",
   "execution_count": null,
   "metadata": {},
   "outputs": [],
   "source": [
    "a = qc.gate_collection.collections['CU'][0].matrix22_t_alt[1][1][0,0]\n",
    "print(a)\n",
    "b = a.args[0].args[0].args[1]\n",
    "b"
   ]
  },
  {
   "cell_type": "code",
   "execution_count": null,
   "metadata": {},
   "outputs": [],
   "source": [
    "#grad_state2_32 = sympy.diff(state2[32], b)\n"
   ]
  },
  {
   "cell_type": "code",
   "execution_count": null,
   "metadata": {},
   "outputs": [],
   "source": [
    "i = 0\n",
    "for e in tqdm.tqdm(sympy.core.traversal.postorder_traversal(state2[32])):\n",
    "    i += 1\n",
    "print(i)"
   ]
  },
  {
   "cell_type": "code",
   "execution_count": null,
   "metadata": {},
   "outputs": [],
   "source": []
  },
  {
   "cell_type": "code",
   "execution_count": null,
   "metadata": {},
   "outputs": [],
   "source": [
    "a = qc.gate_collection.collections['CU'][0].matrix22_t[1][1][0,0]\n",
    "grad_a = QSymPy.sp.diff(state2, a)"
   ]
  },
  {
   "cell_type": "code",
   "execution_count": null,
   "metadata": {},
   "outputs": [],
   "source": [
    "qc.create_numeric_unitary_from_symbolic()\n",
    "print(qc.unitary_numeric)"
   ]
  },
  {
   "cell_type": "code",
   "execution_count": null,
   "metadata": {},
   "outputs": [],
   "source": [
    "qasm_ast_program = openqasm3.ast.Program(qasm)\n",
    "#openqasm3.parse(qasm)"
   ]
  },
  {
   "cell_type": "code",
   "execution_count": null,
   "metadata": {},
   "outputs": [],
   "source": [
    "qasm_ast_program.span"
   ]
  },
  {
   "cell_type": "code",
   "execution_count": null,
   "metadata": {},
   "outputs": [],
   "source": [
    "qasm_parsed_file= openqasm3.parse(qasm)"
   ]
  },
  {
   "cell_type": "code",
   "execution_count": null,
   "metadata": {},
   "outputs": [],
   "source": [
    "qasm_parsed_file.span"
   ]
  },
  {
   "cell_type": "code",
   "execution_count": null,
   "metadata": {},
   "outputs": [],
   "source": [
    "for s in qasm_parsed_file.statements:\n",
    "    print(s)"
   ]
  },
  {
   "cell_type": "code",
   "execution_count": null,
   "metadata": {},
   "outputs": [],
   "source": [
    "qasm_parsed_file.version"
   ]
  },
  {
   "cell_type": "code",
   "execution_count": null,
   "metadata": {},
   "outputs": [],
   "source": [
    "state = openqasm3.visitor.QASMVisitor().visit(node=qasm_parsed_file)"
   ]
  },
  {
   "cell_type": "code",
   "execution_count": null,
   "metadata": {},
   "outputs": [],
   "source": [
    "state"
   ]
  },
  {
   "cell_type": "code",
   "execution_count": null,
   "metadata": {},
   "outputs": [],
   "source": [
    "qasm_parsed_file.statements"
   ]
  },
  {
   "cell_type": "code",
   "execution_count": null,
   "metadata": {},
   "outputs": [],
   "source": [
    "for statement in qasm_parsed_file.statements:\n",
    "    print(statement)"
   ]
  },
  {
   "cell_type": "code",
   "execution_count": null,
   "metadata": {},
   "outputs": [],
   "source": [
    "import QSymPy"
   ]
  },
  {
   "cell_type": "code",
   "execution_count": null,
   "metadata": {},
   "outputs": [],
   "source": [
    "qcs = QSymPy.QuantumCircuit(num_qubits=2, num_clbits=2)\n",
    "qcs.add_gate('H', qubits_t=[0], step=0)\n",
    "qcs.add_barrier(step=0)\n",
    "qcs.add_gate('CX', qubits_c=[0], qubits_t=[1], step=1)\n",
    "qcs.add_barrier(step=1)\n",
    "\n",
    "qcs.assemble_symbolic_unitary()\n",
    "qcs.unitary\n"
   ]
  },
  {
   "cell_type": "code",
   "execution_count": null,
   "metadata": {},
   "outputs": [],
   "source": [
    "for e in qcs.unitary[0,0].free_symbols: break\n",
    "e.name"
   ]
  },
  {
   "cell_type": "code",
   "execution_count": null,
   "metadata": {},
   "outputs": [],
   "source": [
    "qcs.barrier_collection"
   ]
  },
  {
   "cell_type": "code",
   "execution_count": null,
   "metadata": {},
   "outputs": [],
   "source": [
    "qcs2 = QSymPy.QuantumCircuit(num_qubits=2, num_clbits=2)\n",
    "qcs2.add_gate(name='U', qubits_t=[0], step=0, parameters={'theta': 0.5, 'phi': 0.5, 'lambda': 0.5})\n",
    "qcs2.add_gate(name='X', qubits_t=[1], step=0)\n",
    "qcs2.assemble_symbolic_unitary()\n",
    "qcs2.unitary"
   ]
  },
  {
   "cell_type": "code",
   "execution_count": null,
   "metadata": {},
   "outputs": [],
   "source": [
    "qcs2.gate_collection.collections['U'][0].matrix_alt"
   ]
  },
  {
   "cell_type": "code",
   "execution_count": null,
   "metadata": {},
   "outputs": [],
   "source": [
    "#subs_symbolic_alternatives_in_symbolic_unitary\n",
    "qcs2.unitary"
   ]
  },
  {
   "cell_type": "code",
   "execution_count": null,
   "metadata": {},
   "outputs": [],
   "source": [
    "#qcs2.subs_symbolic_alternatives_in_symbolic_unitary({'steps': (0,0), 'names': ('U','U'), 'qubits_t': (0,1)})\n",
    "qcs2.subs_symbolic_alternatives_in_symbolic_unitary()\n",
    "qcs2.unitary"
   ]
  },
  {
   "cell_type": "code",
   "execution_count": null,
   "metadata": {},
   "outputs": [],
   "source": [
    "qcs3 = QSymPy.QuantumCircuit(num_qubits=2, num_clbits=2)\n",
    "qcs3.add_gate(name='GP', qubits_t=[0], step=0, parameters={'gamma': 0.5})\n",
    "qcs3.assemble_symbolic_unitary()\n",
    "qcs3.unitary"
   ]
  },
  {
   "cell_type": "code",
   "execution_count": null,
   "metadata": {},
   "outputs": [],
   "source": [
    "qcs3.subs_symbolic_alternatives_in_symbolic_unitary()\n",
    "qcs3.unitary"
   ]
  },
  {
   "cell_type": "code",
   "execution_count": null,
   "metadata": {},
   "outputs": [],
   "source": [
    "qcs4 = QSymPy.QuantumCircuit(num_qubits=2, num_clbits=2)\n",
    "qcs4.add_gate(name='P', qubits_t=[0], step=0, parameters={'lambda': 0.5})\n",
    "qcs4.assemble_symbolic_unitary()\n",
    "qcs4.unitary"
   ]
  },
  {
   "cell_type": "code",
   "execution_count": null,
   "metadata": {},
   "outputs": [],
   "source": [
    "qcs4.subs_symbolic_alternatives_in_symbolic_unitary()\n",
    "qcs4.unitary"
   ]
  },
  {
   "cell_type": "code",
   "execution_count": null,
   "metadata": {},
   "outputs": [],
   "source": [
    "import numpy as np\n",
    "qcs2.gate_collection.collections['U'][0].matrix_numeric\n"
   ]
  },
  {
   "cell_type": "code",
   "execution_count": null,
   "metadata": {},
   "outputs": [],
   "source": [
    "np.array(qcs2.gate_collection.collections['U'][0].matrix_numeric)"
   ]
  },
  {
   "cell_type": "code",
   "execution_count": null,
   "metadata": {},
   "outputs": [],
   "source": [
    "qcs2.gate_collection.collections['U'][0].atomics"
   ]
  },
  {
   "cell_type": "code",
   "execution_count": null,
   "metadata": {},
   "outputs": [],
   "source": [
    "qcs2.subs_symbolic_zerosones_in_symbolic_unitary()\n",
    "qcs2.unitary"
   ]
  },
  {
   "cell_type": "code",
   "execution_count": null,
   "metadata": {},
   "outputs": [],
   "source": [
    "qcs2.create_numeric_unitary_from_symbolic()\n",
    "qcs2.unitary_numeric"
   ]
  },
  {
   "cell_type": "code",
   "execution_count": null,
   "metadata": {},
   "outputs": [],
   "source": [
    "qc_imported = QSymPy.openqasm3_to_qc('test.qasm')\n",
    "#qc_imported = QSymPy.openqasm3_to_qc('HHL_circuit_Qiskit_2x2.qasm3')"
   ]
  },
  {
   "cell_type": "code",
   "execution_count": null,
   "metadata": {},
   "outputs": [],
   "source": [
    "qc_imported.assemble_symbolic_unitary()\n",
    "qc_imported.unitary"
   ]
  },
  {
   "cell_type": "code",
   "execution_count": null,
   "metadata": {},
   "outputs": [],
   "source": [
    "qcs4 = QSymPy.QuantumCircuit(num_qubits=3, num_clbits=2)\n",
    "qcs4.add_gate(name='CX', qubits_t=[0], qubits_c=[1], step=0)\n",
    "qcs4.assemble_symbolic_unitary()\n",
    "qcs4.unitary"
   ]
  },
  {
   "cell_type": "code",
   "execution_count": null,
   "metadata": {},
   "outputs": [],
   "source": [
    "qcs4.gate_collection.collections['CX'][0].matrix"
   ]
  },
  {
   "cell_type": "code",
   "execution_count": null,
   "metadata": {},
   "outputs": [],
   "source": [
    "qcs4.gate_collection.collections['CX'][0].atomics"
   ]
  },
  {
   "cell_type": "code",
   "execution_count": null,
   "metadata": {},
   "outputs": [],
   "source": [
    "qcs4.assemble_symbolic_unitary()\n",
    "qcs4.unitary"
   ]
  },
  {
   "cell_type": "code",
   "execution_count": null,
   "metadata": {},
   "outputs": [],
   "source": [
    "qcs4.subs_symbolic_zerosones_in_symbolic_unitary()\n",
    "qcs4.unitary"
   ]
  },
  {
   "cell_type": "code",
   "execution_count": null,
   "metadata": {},
   "outputs": [],
   "source": [
    "qcs4.unitary.atoms()"
   ]
  },
  {
   "cell_type": "code",
   "execution_count": null,
   "metadata": {},
   "outputs": [],
   "source": [
    "qcs4.unitary.subs({'CX_X_qt0_qc1_s0_p01': -1})"
   ]
  },
  {
   "cell_type": "code",
   "execution_count": null,
   "metadata": {},
   "outputs": [],
   "source": [
    "qcs4.create_numeric_unitary_from_symbolic()\n",
    "qcs4.unitary_numeric"
   ]
  },
  {
   "cell_type": "code",
   "execution_count": null,
   "metadata": {},
   "outputs": [],
   "source": [
    "qcs5 = QSymPy.QuantumCircuit(num_qubits=3, num_clbits=2)\n",
    "qcs5.add_gate(name='CCX', qubits_t=[0], qubits_c=[1, 2], step=0)\n",
    "qcs5.assemble_symbolic_unitary()\n",
    "qcs5.unitary"
   ]
  },
  {
   "cell_type": "code",
   "execution_count": null,
   "metadata": {},
   "outputs": [],
   "source": [
    "qcs5.create_numeric_unitary_from_symbolic()\n",
    "qcs5.unitary_numeric"
   ]
  },
  {
   "cell_type": "code",
   "execution_count": null,
   "metadata": {},
   "outputs": [],
   "source": [
    "qcs5.gate_collection.collections['CCX'][0].matrix"
   ]
  },
  {
   "cell_type": "code",
   "execution_count": null,
   "metadata": {},
   "outputs": [],
   "source": [
    "qcs6 = QSymPy.QuantumCircuit(num_qubits=4, num_clbits=2)\n",
    "qcs6.add_gate(name='CCXX', qubits_t=[0,1], qubits_c=[2, 3], step=0)\n",
    "qcs6.assemble_symbolic_unitary()\n",
    "qcs6.unitary"
   ]
  },
  {
   "cell_type": "code",
   "execution_count": null,
   "metadata": {},
   "outputs": [],
   "source": [
    "qcs6.create_numeric_unitary_from_symbolic()\n",
    "qcs6.unitary_numeric"
   ]
  },
  {
   "cell_type": "code",
   "execution_count": null,
   "metadata": {},
   "outputs": [],
   "source": [
    "qcs7 = QSymPy.QuantumCircuit(num_qubits=2, num_clbits=2)\n",
    "qcs7.add_gate(name='CU', qubits_t=[0], qubits_c=[1], step=0, parameters={'theta': 0.5, 'phi': 0.5, 'lambda': 0.5})\n",
    "qcs7.assemble_symbolic_unitary()\n",
    "qcs7.unitary"
   ]
  },
  {
   "cell_type": "code",
   "execution_count": null,
   "metadata": {},
   "outputs": [],
   "source": [
    "qcs7.subs_symbolic_alternatives_in_symbolic_unitary()\n",
    "qcs7.unitary"
   ]
  },
  {
   "cell_type": "code",
   "execution_count": null,
   "metadata": {},
   "outputs": [],
   "source": [
    "qcs8 = QSymPy.QuantumCircuit(num_qubits=3, num_clbits=2)\n",
    "qcs8.add_gate(name='CUU', qubits_t=[0,1], qubits_c=[2], step=0, parameters=[{'theta': 0.5, 'phi': 0.5, 'lambda': 0.5}, {'theta': 0.5, 'phi': 0.5, 'lambda': 0.5}])\n",
    "qcs8.assemble_symbolic_unitary()\n",
    "qcs8.unitary"
   ]
  },
  {
   "cell_type": "code",
   "execution_count": null,
   "metadata": {},
   "outputs": [],
   "source": [
    "qcs8.subs_symbolic_alternatives_in_symbolic_unitary()\n",
    "qcs8.unitary"
   ]
  },
  {
   "cell_type": "code",
   "execution_count": null,
   "metadata": {},
   "outputs": [],
   "source": [
    "qcs8.subs_symbolic_zerosones_in_symbolic_unitary(zeros=True, ones=True)\n",
    "qcs8.unitary"
   ]
  }
 ],
 "metadata": {
  "kernelspec": {
   "display_name": "Python 3",
   "language": "python",
   "name": "python3"
  },
  "language_info": {
   "codemirror_mode": {
    "name": "ipython",
    "version": 3
   },
   "file_extension": ".py",
   "mimetype": "text/x-python",
   "name": "python",
   "nbconvert_exporter": "python",
   "pygments_lexer": "ipython3",
   "version": "3.13.3"
  }
 },
 "nbformat": 4,
 "nbformat_minor": 2
}
