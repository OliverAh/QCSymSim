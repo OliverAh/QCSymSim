{
 "cells": [
  {
   "cell_type": "code",
   "execution_count": null,
   "id": "91806602",
   "metadata": {},
   "outputs": [],
   "source": [
    "import sympy as sp\n",
    "import QSymPy as qp\n",
    "\n",
    "import numpy as np\n",
    "import tqdm\n",
    "import matplotlib.pyplot as plt\n"
   ]
  },
  {
   "cell_type": "code",
   "execution_count": null,
   "id": "4424ef6a",
   "metadata": {},
   "outputs": [],
   "source": [
    "system_size = 4\n",
    "b_reg_size = int(np.log2(system_size))\n",
    "c_reg_size = 5\n",
    "num_qubits = c_reg_size + b_reg_size + 1\n",
    "qc = qp.HHL(num_qubits=num_qubits, num_clbits=0)\n",
    "qc.add_gate(name='H_eI', qubits_t=[num_qubits-2])\n",
    "qc.add_gate(name='H', qubits_t=[num_qubits-1])\n",
    "qc.assemble_symbolic_unitary()\n",
    "#qc.unitary"
   ]
  },
  {
   "cell_type": "code",
   "execution_count": null,
   "id": "93448151",
   "metadata": {},
   "outputs": [],
   "source": [
    "phi = qp.QuantumState(num_qubits)\n",
    "#phi.state"
   ]
  },
  {
   "cell_type": "code",
   "execution_count": null,
   "id": "fa2279cc",
   "metadata": {},
   "outputs": [],
   "source": [
    "phi_prep = qc.unitary @ phi.state\n",
    "#phi_prep"
   ]
  },
  {
   "cell_type": "code",
   "execution_count": null,
   "id": "820d2e8f",
   "metadata": {},
   "outputs": [],
   "source": [
    "phi_prep_0 = phi_prep.subs({phi.state[i]: 0 for i in range(1,phi.state.shape[0])})\n",
    "#phi_prep_0"
   ]
  },
  {
   "cell_type": "code",
   "execution_count": null,
   "id": "cad706eb",
   "metadata": {},
   "outputs": [],
   "source": [
    "phi_prep_0.free_symbols"
   ]
  },
  {
   "cell_type": "code",
   "execution_count": null,
   "id": "9a51647b",
   "metadata": {},
   "outputs": [],
   "source": [
    "p = sp.Symbol('p', real=True, nonnegative=True)\n",
    "pri_prep_0_h = phi_prep_0.subs({phi.state[0]: 1,\n",
    "                                f'H_eI_qt{num_qubits-2}_qc_s0_p00':1/sp.sqrt(2),\n",
    "                                f'H_eI_qt{num_qubits-2}_qc_s0_p10':1/sp.sqrt(2)*(1-p),\n",
    "                                f'H_qt{num_qubits-1}_qc_s0_p00':1/sp.sqrt(2),\n",
    "                                f'H_qt{num_qubits-1}_qc_s0_p10':1/sp.sqrt(2)})\n",
    "#pri_prep_0_h"
   ]
  },
  {
   "cell_type": "code",
   "execution_count": null,
   "id": "0ed8a423",
   "metadata": {},
   "outputs": [],
   "source": [
    "hhl_op_wo_meas_wo_prep = np.load(f'QSymPy/HHL_result_Qiskit_{system_size}x{system_size}_c{c_reg_size}.npy')\n",
    "hhl_op_wo_meas_wo_prep"
   ]
  },
  {
   "cell_type": "code",
   "execution_count": null,
   "id": "a8e9afa9",
   "metadata": {},
   "outputs": [],
   "source": [
    "hhl_sol = hhl_op_wo_meas_wo_prep @ pri_prep_0_h\n",
    "#hhl_sol = hhl_sol.subs({'I':1j})\n",
    "bitstring_le = [format(i, '0' + str(num_qubits) + 'b') for i in range(2**num_qubits)]\n",
    "state_dict = {key:val for key, val in zip(bitstring_le, hhl_sol)}\n",
    "#print('state_dict:', state_dict)\n",
    "\n",
    "y = np.zeros(system_size)\n",
    "y = sp.tensor.array.MutableDenseNDimArray(y)\n",
    "for key in tqdm.tqdm(state_dict):\n",
    "    if key[-1] == '1':\n",
    "        pos = int(key[0:b_reg_size],2)\n",
    "        #print(state_dict[key])\n",
    "        s = state_dict[key]\n",
    "        sc = sp.conjugate(s)\n",
    "        ss = sc*s\n",
    "        #sq = sp.Abs(s)\n",
    "        sq = sp.sqrt(sp.re(s)**2 + sp.im(s)**2)\n",
    "        #print(sq)\n",
    "        y[pos] += sq\n",
    "        #print('key:', key)\n",
    "        #print('pos:', pos)\n",
    "y = sp.simplify(y)\n",
    "print('Quantum solution, ratio elem 0/1:', y, y[0]/y[1])"
   ]
  },
  {
   "cell_type": "code",
   "execution_count": null,
   "id": "57e88e22",
   "metadata": {},
   "outputs": [],
   "source": [
    "n = 25\n",
    "p_sol_ratio = np.zeros((n,2))\n",
    "p_grad_sol_ratio = np.zeros((n,2))\n",
    "sol_ratio = y[0]/y[1]\n",
    "grad_sol_ratio = sp.diff(sol_ratio, p)\n",
    "for i, ps in enumerate(np.linspace(0.,0.1,n)):\n",
    "    p_sol_ratio[i,0] = ps\n",
    "    p_sol_ratio[i,1] = (sol_ratio).subs({p:ps})\n",
    "    p_grad_sol_ratio[i,0] = ps\n",
    "    p_grad_sol_ratio[i,1] = (grad_sol_ratio).subs({p:ps})"
   ]
  },
  {
   "cell_type": "code",
   "execution_count": null,
   "id": "7e2d2265",
   "metadata": {},
   "outputs": [],
   "source": [
    "SMALL_SIZE = 11\n",
    "MEDIUM_SIZE = 14\n",
    "BIGGER_SIZE = 16\n",
    "\n",
    "plt.rc('font', size=SMALL_SIZE)          # controls default text sizes\n",
    "plt.rc('axes', titlesize=SMALL_SIZE)     # fontsize of the axes title\n",
    "plt.rc('axes', labelsize=MEDIUM_SIZE)    # fontsize of the x and y labels\n",
    "plt.rc('xtick', labelsize=SMALL_SIZE)    # fontsize of the tick labels\n",
    "plt.rc('ytick', labelsize=SMALL_SIZE)    # fontsize of the tick labels\n",
    "plt.rc('legend', fontsize=SMALL_SIZE)    # legend fontsize\n",
    "plt.rc('figure', titlesize=BIGGER_SIZE)  # fontsize of the figure title\n",
    "\n",
    "fig, ax = plt.subplots(1,2, figsize=(12, 5))\n",
    "\n",
    "#fig.suptitle('Analysis of HHL algorithm output given probability of failure in state preparation of state $|b \\\\rangle $')\n",
    "\n",
    "ax[0].plot(p_sol_ratio[:,0], p_sol_ratio[:,1], marker= 'o',\n",
    "                label='HHL solution $p$')\n",
    "ax[0].set_xlabel('p')\n",
    "ax[0].set_ylabel('$\\\\frac{|x \\\\rangle _1}{|x \\\\rangle _0}$')\n",
    "ax[0].scatter(p_sol_ratio[0,0], p_sol_ratio[0,1], marker='x', c='green', s=100,\n",
    "                   label='correct solution')\n",
    "ax[0].legend()\n",
    "\n",
    "\n",
    "ax[1].plot(p_grad_sol_ratio[:,0], p_grad_sol_ratio[:,1], marker= 'o', label='gradient')\n",
    "ax[1].set_xlabel('p')\n",
    "ax[1].set_ylabel('$\\\\frac{|x \\\\rangle _1 / |x \\\\rangle _0}{\\\\partial p}$', fontsize=19)\n",
    "ax[1].legend()\n",
    "\n",
    "fig.tight_layout()\n",
    "\n",
    "plt.savefig('QSymPy_HHL_p_sol_ratio.png', dpi=600, bbox_inches='tight')"
   ]
  },
  {
   "cell_type": "code",
   "execution_count": null,
   "id": "d7d50249",
   "metadata": {},
   "outputs": [],
   "source": [
    "grad_y_0b1 = sp.diff(y[0]/y[1], p)\n",
    "grad_y_0b1"
   ]
  }
 ],
 "metadata": {
  "kernelspec": {
   "display_name": "Python 3",
   "language": "python",
   "name": "python3"
  },
  "language_info": {
   "codemirror_mode": {
    "name": "ipython",
    "version": 3
   },
   "file_extension": ".py",
   "mimetype": "text/x-python",
   "name": "python",
   "nbconvert_exporter": "python",
   "pygments_lexer": "ipython3",
   "version": "3.13.3"
  }
 },
 "nbformat": 4,
 "nbformat_minor": 5
}
