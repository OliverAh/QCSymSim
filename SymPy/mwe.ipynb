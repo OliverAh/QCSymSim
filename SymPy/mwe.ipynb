{
 "cells": [
  {
   "cell_type": "code",
   "execution_count": 1,
   "id": "204e29bd",
   "metadata": {},
   "outputs": [
    {
     "data": {
      "text/latex": [
       "$\\displaystyle \\left[\\begin{matrix}CX_{I qt1 qc0 s2 p00} CX_{I qt2 qc0 s2 p00} H_{qt0 qcs1 p00} \\phi_{0} + CX_{I qt1 qc0 s2 p00} CX_{I qt2 qc0 s2 p00} H_{qt0 qcs1 p01} \\phi_{1} + CX_{I qt1 qc0 s2 p00} CX_{I qt2 qc0 s2 p01} H_{qt0 qcs1 p00} \\phi_{4} + CX_{I qt1 qc0 s2 p00} CX_{I qt2 qc0 s2 p01} H_{qt0 qcs1 p01} \\phi_{5} + CX_{I qt1 qc0 s2 p01} CX_{I qt2 qc0 s2 p00} H_{qt0 qcs1 p00} \\phi_{2} + CX_{I qt1 qc0 s2 p01} CX_{I qt2 qc0 s2 p00} H_{qt0 qcs1 p01} \\phi_{3} + CX_{I qt1 qc0 s2 p01} CX_{I qt2 qc0 s2 p01} H_{qt0 qcs1 p00} \\phi_{6} + CX_{I qt1 qc0 s2 p01} CX_{I qt2 qc0 s2 p01} H_{qt0 qcs1 p01} \\phi_{7}\\\\CX_{X qt1 qc0 s2 p00} CX_{X qt2 qc0 s2 p00} H_{qt0 qcs1 p10} \\phi_{0} + CX_{X qt1 qc0 s2 p00} CX_{X qt2 qc0 s2 p00} H_{qt0 qcs1 p11} \\phi_{1} + CX_{X qt1 qc0 s2 p00} CX_{X qt2 qc0 s2 p01} H_{qt0 qcs1 p10} \\phi_{4} + CX_{X qt1 qc0 s2 p00} CX_{X qt2 qc0 s2 p01} H_{qt0 qcs1 p11} \\phi_{5} + CX_{X qt1 qc0 s2 p01} CX_{X qt2 qc0 s2 p00} H_{qt0 qcs1 p10} \\phi_{2} + CX_{X qt1 qc0 s2 p01} CX_{X qt2 qc0 s2 p00} H_{qt0 qcs1 p11} \\phi_{3} + CX_{X qt1 qc0 s2 p01} CX_{X qt2 qc0 s2 p01} H_{qt0 qcs1 p10} \\phi_{6} + CX_{X qt1 qc0 s2 p01} CX_{X qt2 qc0 s2 p01} H_{qt0 qcs1 p11} \\phi_{7}\\\\CX_{I qt1 qc0 s2 p10} CX_{I qt2 qc0 s2 p00} H_{qt0 qcs1 p00} \\phi_{0} + CX_{I qt1 qc0 s2 p10} CX_{I qt2 qc0 s2 p00} H_{qt0 qcs1 p01} \\phi_{1} + CX_{I qt1 qc0 s2 p10} CX_{I qt2 qc0 s2 p01} H_{qt0 qcs1 p00} \\phi_{4} + CX_{I qt1 qc0 s2 p10} CX_{I qt2 qc0 s2 p01} H_{qt0 qcs1 p01} \\phi_{5} + CX_{I qt1 qc0 s2 p11} CX_{I qt2 qc0 s2 p00} H_{qt0 qcs1 p00} \\phi_{2} + CX_{I qt1 qc0 s2 p11} CX_{I qt2 qc0 s2 p00} H_{qt0 qcs1 p01} \\phi_{3} + CX_{I qt1 qc0 s2 p11} CX_{I qt2 qc0 s2 p01} H_{qt0 qcs1 p00} \\phi_{6} + CX_{I qt1 qc0 s2 p11} CX_{I qt2 qc0 s2 p01} H_{qt0 qcs1 p01} \\phi_{7}\\\\CX_{X qt1 qc0 s2 p10} CX_{X qt2 qc0 s2 p00} H_{qt0 qcs1 p10} \\phi_{0} + CX_{X qt1 qc0 s2 p10} CX_{X qt2 qc0 s2 p00} H_{qt0 qcs1 p11} \\phi_{1} + CX_{X qt1 qc0 s2 p10} CX_{X qt2 qc0 s2 p01} H_{qt0 qcs1 p10} \\phi_{4} + CX_{X qt1 qc0 s2 p10} CX_{X qt2 qc0 s2 p01} H_{qt0 qcs1 p11} \\phi_{5} + CX_{X qt1 qc0 s2 p11} CX_{X qt2 qc0 s2 p00} H_{qt0 qcs1 p10} \\phi_{2} + CX_{X qt1 qc0 s2 p11} CX_{X qt2 qc0 s2 p00} H_{qt0 qcs1 p11} \\phi_{3} + CX_{X qt1 qc0 s2 p11} CX_{X qt2 qc0 s2 p01} H_{qt0 qcs1 p10} \\phi_{6} + CX_{X qt1 qc0 s2 p11} CX_{X qt2 qc0 s2 p01} H_{qt0 qcs1 p11} \\phi_{7}\\\\CX_{I qt1 qc0 s2 p00} CX_{I qt2 qc0 s2 p10} H_{qt0 qcs1 p00} \\phi_{0} + CX_{I qt1 qc0 s2 p00} CX_{I qt2 qc0 s2 p10} H_{qt0 qcs1 p01} \\phi_{1} + CX_{I qt1 qc0 s2 p00} CX_{I qt2 qc0 s2 p11} H_{qt0 qcs1 p00} \\phi_{4} + CX_{I qt1 qc0 s2 p00} CX_{I qt2 qc0 s2 p11} H_{qt0 qcs1 p01} \\phi_{5} + CX_{I qt1 qc0 s2 p01} CX_{I qt2 qc0 s2 p10} H_{qt0 qcs1 p00} \\phi_{2} + CX_{I qt1 qc0 s2 p01} CX_{I qt2 qc0 s2 p10} H_{qt0 qcs1 p01} \\phi_{3} + CX_{I qt1 qc0 s2 p01} CX_{I qt2 qc0 s2 p11} H_{qt0 qcs1 p00} \\phi_{6} + CX_{I qt1 qc0 s2 p01} CX_{I qt2 qc0 s2 p11} H_{qt0 qcs1 p01} \\phi_{7}\\\\CX_{X qt1 qc0 s2 p00} CX_{X qt2 qc0 s2 p10} H_{qt0 qcs1 p10} \\phi_{0} + CX_{X qt1 qc0 s2 p00} CX_{X qt2 qc0 s2 p10} H_{qt0 qcs1 p11} \\phi_{1} + CX_{X qt1 qc0 s2 p00} CX_{X qt2 qc0 s2 p11} H_{qt0 qcs1 p10} \\phi_{4} + CX_{X qt1 qc0 s2 p00} CX_{X qt2 qc0 s2 p11} H_{qt0 qcs1 p11} \\phi_{5} + CX_{X qt1 qc0 s2 p01} CX_{X qt2 qc0 s2 p10} H_{qt0 qcs1 p10} \\phi_{2} + CX_{X qt1 qc0 s2 p01} CX_{X qt2 qc0 s2 p10} H_{qt0 qcs1 p11} \\phi_{3} + CX_{X qt1 qc0 s2 p01} CX_{X qt2 qc0 s2 p11} H_{qt0 qcs1 p10} \\phi_{6} + CX_{X qt1 qc0 s2 p01} CX_{X qt2 qc0 s2 p11} H_{qt0 qcs1 p11} \\phi_{7}\\\\CX_{I qt1 qc0 s2 p10} CX_{I qt2 qc0 s2 p10} H_{qt0 qcs1 p00} \\phi_{0} + CX_{I qt1 qc0 s2 p10} CX_{I qt2 qc0 s2 p10} H_{qt0 qcs1 p01} \\phi_{1} + CX_{I qt1 qc0 s2 p10} CX_{I qt2 qc0 s2 p11} H_{qt0 qcs1 p00} \\phi_{4} + CX_{I qt1 qc0 s2 p10} CX_{I qt2 qc0 s2 p11} H_{qt0 qcs1 p01} \\phi_{5} + CX_{I qt1 qc0 s2 p11} CX_{I qt2 qc0 s2 p10} H_{qt0 qcs1 p00} \\phi_{2} + CX_{I qt1 qc0 s2 p11} CX_{I qt2 qc0 s2 p10} H_{qt0 qcs1 p01} \\phi_{3} + CX_{I qt1 qc0 s2 p11} CX_{I qt2 qc0 s2 p11} H_{qt0 qcs1 p00} \\phi_{6} + CX_{I qt1 qc0 s2 p11} CX_{I qt2 qc0 s2 p11} H_{qt0 qcs1 p01} \\phi_{7}\\\\CX_{X qt1 qc0 s2 p10} CX_{X qt2 qc0 s2 p10} H_{qt0 qcs1 p10} \\phi_{0} + CX_{X qt1 qc0 s2 p10} CX_{X qt2 qc0 s2 p10} H_{qt0 qcs1 p11} \\phi_{1} + CX_{X qt1 qc0 s2 p10} CX_{X qt2 qc0 s2 p11} H_{qt0 qcs1 p10} \\phi_{4} + CX_{X qt1 qc0 s2 p10} CX_{X qt2 qc0 s2 p11} H_{qt0 qcs1 p11} \\phi_{5} + CX_{X qt1 qc0 s2 p11} CX_{X qt2 qc0 s2 p10} H_{qt0 qcs1 p10} \\phi_{2} + CX_{X qt1 qc0 s2 p11} CX_{X qt2 qc0 s2 p10} H_{qt0 qcs1 p11} \\phi_{3} + CX_{X qt1 qc0 s2 p11} CX_{X qt2 qc0 s2 p11} H_{qt0 qcs1 p10} \\phi_{6} + CX_{X qt1 qc0 s2 p11} CX_{X qt2 qc0 s2 p11} H_{qt0 qcs1 p11} \\phi_{7}\\end{matrix}\\right]$"
      ],
      "text/plain": [
       "Matrix([\n",
       "[CX_I_qt1_qc0_s2_p00*CX_I_qt2_qc0_s2_p00*H_qt0_qcs1_p00*phi0 + CX_I_qt1_qc0_s2_p00*CX_I_qt2_qc0_s2_p00*H_qt0_qcs1_p01*phi1 + CX_I_qt1_qc0_s2_p00*CX_I_qt2_qc0_s2_p01*H_qt0_qcs1_p00*phi4 + CX_I_qt1_qc0_s2_p00*CX_I_qt2_qc0_s2_p01*H_qt0_qcs1_p01*phi5 + CX_I_qt1_qc0_s2_p01*CX_I_qt2_qc0_s2_p00*H_qt0_qcs1_p00*phi2 + CX_I_qt1_qc0_s2_p01*CX_I_qt2_qc0_s2_p00*H_qt0_qcs1_p01*phi3 + CX_I_qt1_qc0_s2_p01*CX_I_qt2_qc0_s2_p01*H_qt0_qcs1_p00*phi6 + CX_I_qt1_qc0_s2_p01*CX_I_qt2_qc0_s2_p01*H_qt0_qcs1_p01*phi7],\n",
       "[CX_X_qt1_qc0_s2_p00*CX_X_qt2_qc0_s2_p00*H_qt0_qcs1_p10*phi0 + CX_X_qt1_qc0_s2_p00*CX_X_qt2_qc0_s2_p00*H_qt0_qcs1_p11*phi1 + CX_X_qt1_qc0_s2_p00*CX_X_qt2_qc0_s2_p01*H_qt0_qcs1_p10*phi4 + CX_X_qt1_qc0_s2_p00*CX_X_qt2_qc0_s2_p01*H_qt0_qcs1_p11*phi5 + CX_X_qt1_qc0_s2_p01*CX_X_qt2_qc0_s2_p00*H_qt0_qcs1_p10*phi2 + CX_X_qt1_qc0_s2_p01*CX_X_qt2_qc0_s2_p00*H_qt0_qcs1_p11*phi3 + CX_X_qt1_qc0_s2_p01*CX_X_qt2_qc0_s2_p01*H_qt0_qcs1_p10*phi6 + CX_X_qt1_qc0_s2_p01*CX_X_qt2_qc0_s2_p01*H_qt0_qcs1_p11*phi7],\n",
       "[CX_I_qt1_qc0_s2_p10*CX_I_qt2_qc0_s2_p00*H_qt0_qcs1_p00*phi0 + CX_I_qt1_qc0_s2_p10*CX_I_qt2_qc0_s2_p00*H_qt0_qcs1_p01*phi1 + CX_I_qt1_qc0_s2_p10*CX_I_qt2_qc0_s2_p01*H_qt0_qcs1_p00*phi4 + CX_I_qt1_qc0_s2_p10*CX_I_qt2_qc0_s2_p01*H_qt0_qcs1_p01*phi5 + CX_I_qt1_qc0_s2_p11*CX_I_qt2_qc0_s2_p00*H_qt0_qcs1_p00*phi2 + CX_I_qt1_qc0_s2_p11*CX_I_qt2_qc0_s2_p00*H_qt0_qcs1_p01*phi3 + CX_I_qt1_qc0_s2_p11*CX_I_qt2_qc0_s2_p01*H_qt0_qcs1_p00*phi6 + CX_I_qt1_qc0_s2_p11*CX_I_qt2_qc0_s2_p01*H_qt0_qcs1_p01*phi7],\n",
       "[CX_X_qt1_qc0_s2_p10*CX_X_qt2_qc0_s2_p00*H_qt0_qcs1_p10*phi0 + CX_X_qt1_qc0_s2_p10*CX_X_qt2_qc0_s2_p00*H_qt0_qcs1_p11*phi1 + CX_X_qt1_qc0_s2_p10*CX_X_qt2_qc0_s2_p01*H_qt0_qcs1_p10*phi4 + CX_X_qt1_qc0_s2_p10*CX_X_qt2_qc0_s2_p01*H_qt0_qcs1_p11*phi5 + CX_X_qt1_qc0_s2_p11*CX_X_qt2_qc0_s2_p00*H_qt0_qcs1_p10*phi2 + CX_X_qt1_qc0_s2_p11*CX_X_qt2_qc0_s2_p00*H_qt0_qcs1_p11*phi3 + CX_X_qt1_qc0_s2_p11*CX_X_qt2_qc0_s2_p01*H_qt0_qcs1_p10*phi6 + CX_X_qt1_qc0_s2_p11*CX_X_qt2_qc0_s2_p01*H_qt0_qcs1_p11*phi7],\n",
       "[CX_I_qt1_qc0_s2_p00*CX_I_qt2_qc0_s2_p10*H_qt0_qcs1_p00*phi0 + CX_I_qt1_qc0_s2_p00*CX_I_qt2_qc0_s2_p10*H_qt0_qcs1_p01*phi1 + CX_I_qt1_qc0_s2_p00*CX_I_qt2_qc0_s2_p11*H_qt0_qcs1_p00*phi4 + CX_I_qt1_qc0_s2_p00*CX_I_qt2_qc0_s2_p11*H_qt0_qcs1_p01*phi5 + CX_I_qt1_qc0_s2_p01*CX_I_qt2_qc0_s2_p10*H_qt0_qcs1_p00*phi2 + CX_I_qt1_qc0_s2_p01*CX_I_qt2_qc0_s2_p10*H_qt0_qcs1_p01*phi3 + CX_I_qt1_qc0_s2_p01*CX_I_qt2_qc0_s2_p11*H_qt0_qcs1_p00*phi6 + CX_I_qt1_qc0_s2_p01*CX_I_qt2_qc0_s2_p11*H_qt0_qcs1_p01*phi7],\n",
       "[CX_X_qt1_qc0_s2_p00*CX_X_qt2_qc0_s2_p10*H_qt0_qcs1_p10*phi0 + CX_X_qt1_qc0_s2_p00*CX_X_qt2_qc0_s2_p10*H_qt0_qcs1_p11*phi1 + CX_X_qt1_qc0_s2_p00*CX_X_qt2_qc0_s2_p11*H_qt0_qcs1_p10*phi4 + CX_X_qt1_qc0_s2_p00*CX_X_qt2_qc0_s2_p11*H_qt0_qcs1_p11*phi5 + CX_X_qt1_qc0_s2_p01*CX_X_qt2_qc0_s2_p10*H_qt0_qcs1_p10*phi2 + CX_X_qt1_qc0_s2_p01*CX_X_qt2_qc0_s2_p10*H_qt0_qcs1_p11*phi3 + CX_X_qt1_qc0_s2_p01*CX_X_qt2_qc0_s2_p11*H_qt0_qcs1_p10*phi6 + CX_X_qt1_qc0_s2_p01*CX_X_qt2_qc0_s2_p11*H_qt0_qcs1_p11*phi7],\n",
       "[CX_I_qt1_qc0_s2_p10*CX_I_qt2_qc0_s2_p10*H_qt0_qcs1_p00*phi0 + CX_I_qt1_qc0_s2_p10*CX_I_qt2_qc0_s2_p10*H_qt0_qcs1_p01*phi1 + CX_I_qt1_qc0_s2_p10*CX_I_qt2_qc0_s2_p11*H_qt0_qcs1_p00*phi4 + CX_I_qt1_qc0_s2_p10*CX_I_qt2_qc0_s2_p11*H_qt0_qcs1_p01*phi5 + CX_I_qt1_qc0_s2_p11*CX_I_qt2_qc0_s2_p10*H_qt0_qcs1_p00*phi2 + CX_I_qt1_qc0_s2_p11*CX_I_qt2_qc0_s2_p10*H_qt0_qcs1_p01*phi3 + CX_I_qt1_qc0_s2_p11*CX_I_qt2_qc0_s2_p11*H_qt0_qcs1_p00*phi6 + CX_I_qt1_qc0_s2_p11*CX_I_qt2_qc0_s2_p11*H_qt0_qcs1_p01*phi7],\n",
       "[CX_X_qt1_qc0_s2_p10*CX_X_qt2_qc0_s2_p10*H_qt0_qcs1_p10*phi0 + CX_X_qt1_qc0_s2_p10*CX_X_qt2_qc0_s2_p10*H_qt0_qcs1_p11*phi1 + CX_X_qt1_qc0_s2_p10*CX_X_qt2_qc0_s2_p11*H_qt0_qcs1_p10*phi4 + CX_X_qt1_qc0_s2_p10*CX_X_qt2_qc0_s2_p11*H_qt0_qcs1_p11*phi5 + CX_X_qt1_qc0_s2_p11*CX_X_qt2_qc0_s2_p10*H_qt0_qcs1_p10*phi2 + CX_X_qt1_qc0_s2_p11*CX_X_qt2_qc0_s2_p10*H_qt0_qcs1_p11*phi3 + CX_X_qt1_qc0_s2_p11*CX_X_qt2_qc0_s2_p11*H_qt0_qcs1_p10*phi6 + CX_X_qt1_qc0_s2_p11*CX_X_qt2_qc0_s2_p11*H_qt0_qcs1_p11*phi7]])"
      ]
     },
     "metadata": {},
     "output_type": "display_data"
    },
    {
     "data": {
      "text/latex": [
       "$\\displaystyle \\left[\\begin{matrix}0\\\\CX_{X qt2 qc0 s2 p00} H_{qt0 qcs1 p10} \\phi_{0} + CX_{X qt2 qc0 s2 p00} H_{qt0 qcs1 p11} \\phi_{1} + CX_{X qt2 qc0 s2 p01} H_{qt0 qcs1 p10} \\phi_{4} + CX_{X qt2 qc0 s2 p01} H_{qt0 qcs1 p11} \\phi_{5}\\\\0\\\\0\\\\0\\\\CX_{X qt2 qc0 s2 p10} H_{qt0 qcs1 p10} \\phi_{0} + CX_{X qt2 qc0 s2 p10} H_{qt0 qcs1 p11} \\phi_{1} + CX_{X qt2 qc0 s2 p11} H_{qt0 qcs1 p10} \\phi_{4} + CX_{X qt2 qc0 s2 p11} H_{qt0 qcs1 p11} \\phi_{5}\\\\0\\\\0\\end{matrix}\\right]$"
      ],
      "text/plain": [
       "Matrix([\n",
       "[                                                                                                                                                                    0],\n",
       "[CX_X_qt2_qc0_s2_p00*H_qt0_qcs1_p10*phi0 + CX_X_qt2_qc0_s2_p00*H_qt0_qcs1_p11*phi1 + CX_X_qt2_qc0_s2_p01*H_qt0_qcs1_p10*phi4 + CX_X_qt2_qc0_s2_p01*H_qt0_qcs1_p11*phi5],\n",
       "[                                                                                                                                                                    0],\n",
       "[                                                                                                                                                                    0],\n",
       "[                                                                                                                                                                    0],\n",
       "[CX_X_qt2_qc0_s2_p10*H_qt0_qcs1_p10*phi0 + CX_X_qt2_qc0_s2_p10*H_qt0_qcs1_p11*phi1 + CX_X_qt2_qc0_s2_p11*H_qt0_qcs1_p10*phi4 + CX_X_qt2_qc0_s2_p11*H_qt0_qcs1_p11*phi5],\n",
       "[                                                                                                                                                                    0],\n",
       "[                                                                                                                                                                    0]])"
      ]
     },
     "metadata": {},
     "output_type": "display_data"
    }
   ],
   "source": [
    "import QSymPy as qp\n",
    "import sympy as sp\n",
    "\n",
    "qc = qp.QuantumCircuit(num_qubits=3)\n",
    "qc.add_gate(name='H', qubits_t=[0], step=1)\n",
    "qc.add_gate(name='CX', qubits_t=[1], qubits_c=[0], step=2)\n",
    "qc.add_gate(name='CX', qubits_t=[2], qubits_c=[0], step=2)\n",
    "\n",
    "qc.assemble_symbolic_unitary()\n",
    "\n",
    "qs = qp.QuantumState(num_qubits=3)\n",
    "\n",
    "qs2 = qc.unitary @ qs.state\n",
    "\n",
    "display(qs2)\n",
    "\n",
    "display(sp.diff(qs2, qc.gate_collection.collections['CX'][0].matrix[1, 1]))"
   ]
  },
  {
   "cell_type": "code",
   "execution_count": null,
   "id": "da596c2b",
   "metadata": {},
   "outputs": [],
   "source": []
  }
 ],
 "metadata": {
  "kernelspec": {
   "display_name": "Python 3",
   "language": "python",
   "name": "python3"
  },
  "language_info": {
   "codemirror_mode": {
    "name": "ipython",
    "version": 3
   },
   "file_extension": ".py",
   "mimetype": "text/x-python",
   "name": "python",
   "nbconvert_exporter": "python",
   "pygments_lexer": "ipython3",
   "version": "3.13.2"
  }
 },
 "nbformat": 4,
 "nbformat_minor": 5
}
